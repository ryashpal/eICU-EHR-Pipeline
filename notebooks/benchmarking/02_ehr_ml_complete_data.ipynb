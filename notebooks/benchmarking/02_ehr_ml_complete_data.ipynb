{
 "cells": [
  {
   "cell_type": "markdown",
   "metadata": {},
   "source": [
    "# EHR-ML with complete data"
   ]
  },
  {
   "cell_type": "markdown",
   "metadata": {},
   "source": [
    "## Read data"
   ]
  },
  {
   "cell_type": "code",
   "execution_count": 2,
   "metadata": {},
   "outputs": [
    {
     "data": {
      "text/plain": [
       "(56237, 125)"
      ]
     },
     "execution_count": 2,
     "metadata": {},
     "output_type": "execute_result"
    }
   ],
   "source": [
    "import os\n",
    "import pandas as pd\n",
    "\n",
    "\n",
    "datamatrixDf = pd.read_csv(os.environ['EICU_EHR_PIPELINE_BASE'] + '/data/final/data_matrix.csv')\n",
    "\n",
    "datamatrixDf.shape"
   ]
  },
  {
   "cell_type": "markdown",
   "metadata": {},
   "source": [
    "## Create train and test splits"
   ]
  },
  {
   "cell_type": "code",
   "execution_count": 3,
   "metadata": {},
   "outputs": [
    {
     "data": {
      "text/plain": [
       "((8916, 2), (2230, 2))"
      ]
     },
     "execution_count": 3,
     "metadata": {},
     "output_type": "execute_result"
    }
   ],
   "source": [
    "from sklearn.model_selection import train_test_split\n",
    "\n",
    "\n",
    "trainDf, testDf = train_test_split(datamatrixDf[['person_id', 'visit_occurrence_id']].drop_duplicates(), test_size=0.2, random_state=42)\n",
    "\n",
    "trainDf.shape, testDf.shape"
   ]
  },
  {
   "cell_type": "code",
   "execution_count": 4,
   "metadata": {},
   "outputs": [
    {
     "data": {
      "text/plain": [
       "((45058, 125), (11179, 125))"
      ]
     },
     "execution_count": 4,
     "metadata": {},
     "output_type": "execute_result"
    }
   ],
   "source": [
    "datamatrix_train_df = datamatrixDf.merge(trainDf, how='inner', on=['person_id', 'visit_occurrence_id'])\n",
    "datamatrix_test_df = datamatrixDf.merge(testDf, how='inner', on=['person_id', 'visit_occurrence_id'])\n",
    "\n",
    "datamatrix_train_df.shape, datamatrix_test_df.shape"
   ]
  },
  {
   "cell_type": "code",
   "execution_count": 8,
   "metadata": {},
   "outputs": [],
   "source": [
    "datamatrix_train_df.to_csv(os.environ['EICU_EHR_PIPELINE_BASE'] + '/data/saps_ii/datamatrix_train.csv')\n",
    "datamatrix_test_df.to_csv(os.environ['EICU_EHR_PIPELINE_BASE'] + '/data/saps_ii/datamatrix_test.csv')"
   ]
  },
  {
   "cell_type": "markdown",
   "metadata": {},
   "source": [
    "## Build a model"
   ]
  },
  {
   "cell_type": "code",
   "execution_count": 5,
   "metadata": {},
   "outputs": [
    {
     "name": "stdout",
     "output_type": "stream",
     "text": [
      "2023-12-05 16:39:08,597 - EHR-ML - INFO - Parsing command line arguments\n",
      "2023-12-05 16:39:08,598 - EHR-ML - INFO - args.data_file: /home/yram0006/phd/chapter_2/workspace/eICU-EHR-Pipeline/data/saps_ii/datamatrix_train.csv\n",
      "2023-12-05 16:39:08,598 - EHR-ML - INFO - args.id_columns: ['person_id', 'visit_occurrence_id']\n",
      "2023-12-05 16:39:08,598 - EHR-ML - INFO - args.target_column: death_adm\n",
      "2023-12-05 16:39:08,598 - EHR-ML - INFO - args.measurement_date_column: measurement_date\n",
      "2023-12-05 16:39:08,598 - EHR-ML - INFO - args.window_before: 0\n",
      "2023-12-05 16:39:08,598 - EHR-ML - INFO - args.window_after: 6\n",
      "2023-12-05 16:39:08,598 - EHR-ML - INFO - args.save_path: /home/yram0006/phd/chapter_2/workspace/eICU-EHR-Pipeline/data/saps_ii/model.pkl\n",
      "2023-12-05 16:39:09,254 - EHR-ML - INFO - Split data to test and train sets\n",
      "2023-12-05 16:39:09,594 - EHR-ML - INFO - Building standalone models\n",
      "2023-12-05 16:39:09,594 - EHR-ML - INFO - Models for the label: Full\n",
      "2023-12-05 16:39:09,629 - EHR-ML - INFO - Performing Hyperparameter optimisation for XGBoost\n",
      "2023-12-05 16:39:09,629 - EHR-ML - INFO - Hyperparameter optimisation for: {'max_depth': range(1, 10), 'scale_pos_weight': [0.1, 0.15, 0.2, 0.25, 0.3, 0.35, 0.4]}\n",
      "2023-12-05 16:41:07,077 - EHR-ML - INFO - Hyperparameter optimisation for: {'n_estimators': range(50, 250, 10)}\n",
      "2023-12-05 16:41:32,025 - EHR-ML - INFO - Hyperparameter optimisation for: {'min_child_weight': range(1, 10)}\n",
      "2023-12-05 16:41:43,666 - EHR-ML - INFO - Hyperparameter optimisation for: {'gamma': [0.0, 0.1, 0.2, 0.3, 0.4]}\n",
      "2023-12-05 16:41:50,206 - EHR-ML - INFO - Hyperparameter optimisation for: {'subsample': [0.1, 0.2, 0.3, 0.4, 0.5, 0.6, 0.7, 0.8, 0.9], 'colsample_bytree': [0.1, 0.2, 0.3, 0.4, 0.5, 0.6, 0.7, 0.8, 0.9]}\n",
      "2023-12-05 16:43:29,239 - EHR-ML - INFO - Hyperparameter optimisation for: {'reg_alpha': [0, 1e-05, 0.001, 0.1, 10]}\n",
      "2023-12-05 16:43:35,288 - EHR-ML - INFO - params: {'max_depth': 2, 'scale_pos_weight': 0.2, 'n_estimators': 150, 'min_child_weight': 1, 'gamma': 0.0, 'colsample_bytree': 0.4, 'subsample': 0.9, 'reg_alpha': 0}\n",
      "2023-12-05 16:43:35,289 - EHR-ML - INFO - Building XGB model\n",
      "2023-12-05 16:43:35,508 - EHR-ML - INFO - Performing Hyperparameter optimisation for Logistic Regression\n",
      "2023-12-05 16:43:35,508 - EHR-ML - INFO - Hyperparameter optimisation for: {'solver': ['newton-cg', 'liblinear'], 'C': [100, 10, 1.0, 0.1, 0.01]}\n",
      "2023-12-05 16:44:41,875 - EHR-ML - INFO - params: {'C': 0.01, 'solver': 'liblinear'}\n",
      "2023-12-05 16:44:41,875 - EHR-ML - INFO - Building LR Model\n",
      "2023-12-05 16:44:42,855 - EHR-ML - INFO - Building LGBM Model\n",
      "2023-12-05 16:44:43,205 - EHR-ML - INFO - Building MLP Model\n",
      "2023-12-05 16:44:47,296 - EHR-ML - INFO - Models for the label: VitalsMax\n",
      "2023-12-05 16:44:47,296 - EHR-ML - INFO - Performing Hyperparameter optimisation for XGBoost\n",
      "2023-12-05 16:44:47,296 - EHR-ML - INFO - Hyperparameter optimisation for: {'max_depth': range(1, 10), 'scale_pos_weight': [0.1, 0.15, 0.2, 0.25, 0.3, 0.35, 0.4]}\n",
      "2023-12-05 16:45:13,310 - EHR-ML - INFO - Hyperparameter optimisation for: {'n_estimators': range(50, 250, 10)}\n",
      "2023-12-05 16:45:22,811 - EHR-ML - INFO - Hyperparameter optimisation for: {'min_child_weight': range(1, 10)}\n",
      "2023-12-05 16:45:25,980 - EHR-ML - INFO - Hyperparameter optimisation for: {'gamma': [0.0, 0.1, 0.2, 0.3, 0.4]}\n",
      "2023-12-05 16:45:27,280 - EHR-ML - INFO - Hyperparameter optimisation for: {'subsample': [0.1, 0.2, 0.3, 0.4, 0.5, 0.6, 0.7, 0.8, 0.9], 'colsample_bytree': [0.1, 0.2, 0.3, 0.4, 0.5, 0.6, 0.7, 0.8, 0.9]}\n",
      "2023-12-05 16:45:54,058 - EHR-ML - INFO - Hyperparameter optimisation for: {'reg_alpha': [0, 1e-05, 0.001, 0.1, 10]}\n",
      "2023-12-05 16:45:55,684 - EHR-ML - INFO - params: {'max_depth': 4, 'scale_pos_weight': 0.25, 'n_estimators': 100, 'min_child_weight': 1, 'gamma': 0.0, 'colsample_bytree': 0.5, 'subsample': 0.7, 'reg_alpha': 0}\n",
      "2023-12-05 16:45:55,685 - EHR-ML - INFO - Building XGB model\n",
      "2023-12-05 16:45:55,743 - EHR-ML - INFO - Performing Hyperparameter optimisation for Logistic Regression\n",
      "2023-12-05 16:45:55,743 - EHR-ML - INFO - Hyperparameter optimisation for: {'solver': ['newton-cg', 'liblinear'], 'C': [100, 10, 1.0, 0.1, 0.01]}\n",
      "2023-12-05 16:45:58,325 - EHR-ML - INFO - params: {'C': 100, 'solver': 'newton-cg'}\n",
      "2023-12-05 16:45:58,326 - EHR-ML - INFO - Building LR Model\n",
      "2023-12-05 16:45:58,448 - EHR-ML - INFO - Building LGBM Model\n",
      "2023-12-05 16:45:58,692 - EHR-ML - INFO - Building MLP Model\n",
      "2023-12-05 16:46:00,580 - EHR-ML - INFO - Models for the label: VitalsMin\n",
      "2023-12-05 16:46:00,580 - EHR-ML - INFO - Performing Hyperparameter optimisation for XGBoost\n",
      "2023-12-05 16:46:00,580 - EHR-ML - INFO - Hyperparameter optimisation for: {'max_depth': range(1, 10), 'scale_pos_weight': [0.1, 0.15, 0.2, 0.25, 0.3, 0.35, 0.4]}\n",
      "2023-12-05 16:46:26,124 - EHR-ML - INFO - Hyperparameter optimisation for: {'n_estimators': range(50, 250, 10)}\n",
      "2023-12-05 16:46:30,833 - EHR-ML - INFO - Hyperparameter optimisation for: {'min_child_weight': range(1, 10)}\n",
      "2023-12-05 16:46:31,857 - EHR-ML - INFO - Hyperparameter optimisation for: {'gamma': [0.0, 0.1, 0.2, 0.3, 0.4]}\n",
      "2023-12-05 16:46:32,419 - EHR-ML - INFO - Hyperparameter optimisation for: {'subsample': [0.1, 0.2, 0.3, 0.4, 0.5, 0.6, 0.7, 0.8, 0.9], 'colsample_bytree': [0.1, 0.2, 0.3, 0.4, 0.5, 0.6, 0.7, 0.8, 0.9]}\n",
      "2023-12-05 16:46:41,462 - EHR-ML - INFO - Hyperparameter optimisation for: {'reg_alpha': [0, 1e-05, 0.001, 0.1, 10]}\n",
      "2023-12-05 16:46:42,053 - EHR-ML - INFO - params: {'max_depth': 1, 'scale_pos_weight': 0.1, 'n_estimators': 50, 'min_child_weight': 1, 'gamma': 0.0, 'colsample_bytree': 0.1, 'subsample': 0.1, 'reg_alpha': 0}\n",
      "2023-12-05 16:46:42,053 - EHR-ML - INFO - Building XGB model\n",
      "2023-12-05 16:46:42,072 - EHR-ML - INFO - Performing Hyperparameter optimisation for Logistic Regression\n",
      "2023-12-05 16:46:42,072 - EHR-ML - INFO - Hyperparameter optimisation for: {'solver': ['newton-cg', 'liblinear'], 'C': [100, 10, 1.0, 0.1, 0.01]}\n",
      "2023-12-05 16:46:43,168 - EHR-ML - INFO - params: {'C': 0.1, 'solver': 'liblinear'}\n",
      "2023-12-05 16:46:43,169 - EHR-ML - INFO - Building LR Model\n",
      "2023-12-05 16:46:43,178 - EHR-ML - INFO - Building LGBM Model\n",
      "2023-12-05 16:46:43,351 - EHR-ML - INFO - Building MLP Model\n",
      "2023-12-05 16:46:44,779 - EHR-ML - INFO - Models for the label: VitalsAvg\n",
      "2023-12-05 16:46:44,779 - EHR-ML - INFO - Performing Hyperparameter optimisation for XGBoost\n",
      "2023-12-05 16:46:44,779 - EHR-ML - INFO - Hyperparameter optimisation for: {'max_depth': range(1, 10), 'scale_pos_weight': [0.1, 0.15, 0.2, 0.25, 0.3, 0.35, 0.4]}\n",
      "2023-12-05 16:47:11,456 - EHR-ML - INFO - Hyperparameter optimisation for: {'n_estimators': range(50, 250, 10)}\n",
      "2023-12-05 16:47:19,507 - EHR-ML - INFO - Hyperparameter optimisation for: {'min_child_weight': range(1, 10)}\n",
      "2023-12-05 16:47:21,971 - EHR-ML - INFO - Hyperparameter optimisation for: {'gamma': [0.0, 0.1, 0.2, 0.3, 0.4]}\n",
      "2023-12-05 16:47:23,097 - EHR-ML - INFO - Hyperparameter optimisation for: {'subsample': [0.1, 0.2, 0.3, 0.4, 0.5, 0.6, 0.7, 0.8, 0.9], 'colsample_bytree': [0.1, 0.2, 0.3, 0.4, 0.5, 0.6, 0.7, 0.8, 0.9]}\n",
      "2023-12-05 16:47:45,444 - EHR-ML - INFO - Hyperparameter optimisation for: {'reg_alpha': [0, 1e-05, 0.001, 0.1, 10]}\n",
      "2023-12-05 16:47:46,734 - EHR-ML - INFO - params: {'max_depth': 3, 'scale_pos_weight': 0.2, 'n_estimators': 90, 'min_child_weight': 1, 'gamma': 0.0, 'colsample_bytree': 0.7, 'subsample': 0.9, 'reg_alpha': 0.001}\n",
      "2023-12-05 16:47:46,734 - EHR-ML - INFO - Building XGB model\n",
      "2023-12-05 16:47:46,783 - EHR-ML - INFO - Performing Hyperparameter optimisation for Logistic Regression\n",
      "2023-12-05 16:47:46,783 - EHR-ML - INFO - Hyperparameter optimisation for: {'solver': ['newton-cg', 'liblinear'], 'C': [100, 10, 1.0, 0.1, 0.01]}\n",
      "2023-12-05 16:47:48,777 - EHR-ML - INFO - params: {'C': 0.01, 'solver': 'newton-cg'}\n",
      "2023-12-05 16:47:48,777 - EHR-ML - INFO - Building LR Model\n",
      "2023-12-05 16:47:48,871 - EHR-ML - INFO - Building LGBM Model\n",
      "2023-12-05 16:47:49,146 - EHR-ML - INFO - Building MLP Model\n",
      "2023-12-05 16:47:50,444 - EHR-ML - INFO - Models for the label: VitalsFirst\n",
      "2023-12-05 16:47:50,444 - EHR-ML - INFO - Performing Hyperparameter optimisation for XGBoost\n",
      "2023-12-05 16:47:50,444 - EHR-ML - INFO - Hyperparameter optimisation for: {'max_depth': range(1, 10), 'scale_pos_weight': [0.1, 0.15, 0.2, 0.25, 0.3, 0.35, 0.4]}\n",
      "2023-12-05 16:48:15,798 - EHR-ML - INFO - Hyperparameter optimisation for: {'n_estimators': range(50, 250, 10)}\n",
      "2023-12-05 16:48:21,982 - EHR-ML - INFO - Hyperparameter optimisation for: {'min_child_weight': range(1, 10)}\n",
      "2023-12-05 16:48:24,063 - EHR-ML - INFO - Hyperparameter optimisation for: {'gamma': [0.0, 0.1, 0.2, 0.3, 0.4]}\n",
      "2023-12-05 16:48:25,109 - EHR-ML - INFO - Hyperparameter optimisation for: {'subsample': [0.1, 0.2, 0.3, 0.4, 0.5, 0.6, 0.7, 0.8, 0.9], 'colsample_bytree': [0.1, 0.2, 0.3, 0.4, 0.5, 0.6, 0.7, 0.8, 0.9]}\n",
      "2023-12-05 16:48:43,702 - EHR-ML - INFO - Hyperparameter optimisation for: {'reg_alpha': [0, 1e-05, 0.001, 0.1, 10]}\n",
      "2023-12-05 16:48:44,834 - EHR-ML - INFO - params: {'max_depth': 2, 'scale_pos_weight': 0.35, 'n_estimators': 100, 'min_child_weight': 1, 'gamma': 0.0, 'colsample_bytree': 0.4, 'subsample': 0.9, 'reg_alpha': 0}\n",
      "2023-12-05 16:48:44,834 - EHR-ML - INFO - Building XGB model\n",
      "2023-12-05 16:48:44,873 - EHR-ML - INFO - Performing Hyperparameter optimisation for Logistic Regression\n",
      "2023-12-05 16:48:44,873 - EHR-ML - INFO - Hyperparameter optimisation for: {'solver': ['newton-cg', 'liblinear'], 'C': [100, 10, 1.0, 0.1, 0.01]}\n",
      "2023-12-05 16:48:46,200 - EHR-ML - INFO - params: {'C': 100, 'solver': 'newton-cg'}\n",
      "2023-12-05 16:48:46,200 - EHR-ML - INFO - Building LR Model\n",
      "2023-12-05 16:48:46,247 - EHR-ML - INFO - Building LGBM Model\n",
      "2023-12-05 16:48:46,525 - EHR-ML - INFO - Building MLP Model\n",
      "2023-12-05 16:48:47,909 - EHR-ML - INFO - Models for the label: VitalsLast\n",
      "2023-12-05 16:48:47,910 - EHR-ML - INFO - Performing Hyperparameter optimisation for XGBoost\n",
      "2023-12-05 16:48:47,910 - EHR-ML - INFO - Hyperparameter optimisation for: {'max_depth': range(1, 10), 'scale_pos_weight': [0.1, 0.15, 0.2, 0.25, 0.3, 0.35, 0.4]}\n",
      "2023-12-05 16:49:14,206 - EHR-ML - INFO - Hyperparameter optimisation for: {'n_estimators': range(50, 250, 10)}\n",
      "2023-12-05 16:49:20,566 - EHR-ML - INFO - Hyperparameter optimisation for: {'min_child_weight': range(1, 10)}\n",
      "2023-12-05 16:49:23,352 - EHR-ML - INFO - Hyperparameter optimisation for: {'gamma': [0.0, 0.1, 0.2, 0.3, 0.4]}\n",
      "2023-12-05 16:49:24,763 - EHR-ML - INFO - Hyperparameter optimisation for: {'subsample': [0.1, 0.2, 0.3, 0.4, 0.5, 0.6, 0.7, 0.8, 0.9], 'colsample_bytree': [0.1, 0.2, 0.3, 0.4, 0.5, 0.6, 0.7, 0.8, 0.9]}\n",
      "2023-12-05 16:49:49,339 - EHR-ML - INFO - Hyperparameter optimisation for: {'reg_alpha': [0, 1e-05, 0.001, 0.1, 10]}\n",
      "2023-12-05 16:49:50,844 - EHR-ML - INFO - params: {'max_depth': 2, 'scale_pos_weight': 0.35, 'n_estimators': 140, 'min_child_weight': 1, 'gamma': 0.0, 'colsample_bytree': 0.4, 'subsample': 0.8, 'reg_alpha': 0}\n",
      "2023-12-05 16:49:50,844 - EHR-ML - INFO - Building XGB model\n",
      "2023-12-05 16:49:50,902 - EHR-ML - INFO - Performing Hyperparameter optimisation for Logistic Regression\n",
      "2023-12-05 16:49:50,902 - EHR-ML - INFO - Hyperparameter optimisation for: {'solver': ['newton-cg', 'liblinear'], 'C': [100, 10, 1.0, 0.1, 0.01]}\n",
      "2023-12-05 16:49:52,609 - EHR-ML - INFO - params: {'C': 100, 'solver': 'liblinear'}\n",
      "2023-12-05 16:49:52,609 - EHR-ML - INFO - Building LR Model\n",
      "2023-12-05 16:49:52,626 - EHR-ML - INFO - Building LGBM Model\n",
      "2023-12-05 16:49:52,822 - EHR-ML - INFO - Building MLP Model\n",
      "2023-12-05 16:49:54,460 - EHR-ML - INFO - Models for the label: LabsMax\n",
      "2023-12-05 16:49:54,460 - EHR-ML - INFO - Performing Hyperparameter optimisation for XGBoost\n",
      "2023-12-05 16:49:54,460 - EHR-ML - INFO - Hyperparameter optimisation for: {'max_depth': range(1, 10), 'scale_pos_weight': [0.1, 0.15, 0.2, 0.25, 0.3, 0.35, 0.4]}\n",
      "2023-12-05 16:50:31,528 - EHR-ML - INFO - Hyperparameter optimisation for: {'n_estimators': range(50, 250, 10)}\n",
      "2023-12-05 16:50:44,647 - EHR-ML - INFO - Hyperparameter optimisation for: {'min_child_weight': range(1, 10)}\n",
      "2023-12-05 16:50:47,712 - EHR-ML - INFO - Hyperparameter optimisation for: {'gamma': [0.0, 0.1, 0.2, 0.3, 0.4]}\n",
      "2023-12-05 16:50:49,291 - EHR-ML - INFO - Hyperparameter optimisation for: {'subsample': [0.1, 0.2, 0.3, 0.4, 0.5, 0.6, 0.7, 0.8, 0.9], 'colsample_bytree': [0.1, 0.2, 0.3, 0.4, 0.5, 0.6, 0.7, 0.8, 0.9]}\n",
      "2023-12-05 16:51:16,260 - EHR-ML - INFO - Hyperparameter optimisation for: {'reg_alpha': [0, 1e-05, 0.001, 0.1, 10]}\n",
      "2023-12-05 16:51:17,906 - EHR-ML - INFO - params: {'max_depth': 4, 'scale_pos_weight': 0.2, 'n_estimators': 70, 'min_child_weight': 1, 'gamma': 0.0, 'colsample_bytree': 0.6, 'subsample': 0.7, 'reg_alpha': 0}\n",
      "2023-12-05 16:51:17,906 - EHR-ML - INFO - Building XGB model\n",
      "2023-12-05 16:51:17,970 - EHR-ML - INFO - Performing Hyperparameter optimisation for Logistic Regression\n",
      "2023-12-05 16:51:17,971 - EHR-ML - INFO - Hyperparameter optimisation for: {'solver': ['newton-cg', 'liblinear'], 'C': [100, 10, 1.0, 0.1, 0.01]}\n",
      "2023-12-05 16:51:23,016 - EHR-ML - INFO - params: {'C': 10, 'solver': 'liblinear'}\n",
      "2023-12-05 16:51:23,016 - EHR-ML - INFO - Building LR Model\n",
      "2023-12-05 16:51:23,049 - EHR-ML - INFO - Building LGBM Model\n",
      "2023-12-05 16:51:23,269 - EHR-ML - INFO - Building MLP Model\n",
      "2023-12-05 16:51:26,901 - EHR-ML - INFO - Models for the label: LabsMin\n",
      "2023-12-05 16:51:26,901 - EHR-ML - INFO - Performing Hyperparameter optimisation for XGBoost\n",
      "2023-12-05 16:51:26,901 - EHR-ML - INFO - Hyperparameter optimisation for: {'max_depth': range(1, 10), 'scale_pos_weight': [0.1, 0.15, 0.2, 0.25, 0.3, 0.35, 0.4]}\n",
      "2023-12-05 16:52:02,328 - EHR-ML - INFO - Hyperparameter optimisation for: {'n_estimators': range(50, 250, 10)}\n",
      "2023-12-05 16:52:12,479 - EHR-ML - INFO - Hyperparameter optimisation for: {'min_child_weight': range(1, 10)}\n",
      "2023-12-05 16:52:15,001 - EHR-ML - INFO - Hyperparameter optimisation for: {'gamma': [0.0, 0.1, 0.2, 0.3, 0.4]}\n",
      "2023-12-05 16:52:16,429 - EHR-ML - INFO - Hyperparameter optimisation for: {'subsample': [0.1, 0.2, 0.3, 0.4, 0.5, 0.6, 0.7, 0.8, 0.9], 'colsample_bytree': [0.1, 0.2, 0.3, 0.4, 0.5, 0.6, 0.7, 0.8, 0.9]}\n",
      "2023-12-05 16:52:38,690 - EHR-ML - INFO - Hyperparameter optimisation for: {'reg_alpha': [0, 1e-05, 0.001, 0.1, 10]}\n",
      "2023-12-05 16:52:40,430 - EHR-ML - INFO - params: {'max_depth': 3, 'scale_pos_weight': 0.3, 'n_estimators': 70, 'min_child_weight': 1, 'gamma': 0.0, 'colsample_bytree': 0.5, 'subsample': 0.9, 'reg_alpha': 0}\n",
      "2023-12-05 16:52:40,431 - EHR-ML - INFO - Building XGB model\n",
      "2023-12-05 16:52:40,512 - EHR-ML - INFO - Performing Hyperparameter optimisation for Logistic Regression\n",
      "2023-12-05 16:52:40,512 - EHR-ML - INFO - Hyperparameter optimisation for: {'solver': ['newton-cg', 'liblinear'], 'C': [100, 10, 1.0, 0.1, 0.01]}\n",
      "2023-12-05 16:52:45,300 - EHR-ML - INFO - params: {'C': 0.01, 'solver': 'newton-cg'}\n",
      "2023-12-05 16:52:45,301 - EHR-ML - INFO - Building LR Model\n",
      "2023-12-05 16:52:45,420 - EHR-ML - INFO - Building LGBM Model\n",
      "2023-12-05 16:52:45,724 - EHR-ML - INFO - Building MLP Model\n",
      "2023-12-05 16:52:48,313 - EHR-ML - INFO - Models for the label: LabsAvg\n",
      "2023-12-05 16:52:48,313 - EHR-ML - INFO - Performing Hyperparameter optimisation for XGBoost\n",
      "2023-12-05 16:52:48,314 - EHR-ML - INFO - Hyperparameter optimisation for: {'max_depth': range(1, 10), 'scale_pos_weight': [0.1, 0.15, 0.2, 0.25, 0.3, 0.35, 0.4]}\n",
      "2023-12-05 16:53:28,884 - EHR-ML - INFO - Hyperparameter optimisation for: {'n_estimators': range(50, 250, 10)}\n",
      "2023-12-05 16:53:37,395 - EHR-ML - INFO - Hyperparameter optimisation for: {'min_child_weight': range(1, 10)}\n",
      "2023-12-05 16:53:41,481 - EHR-ML - INFO - Hyperparameter optimisation for: {'gamma': [0.0, 0.1, 0.2, 0.3, 0.4]}\n",
      "2023-12-05 16:53:43,649 - EHR-ML - INFO - Hyperparameter optimisation for: {'subsample': [0.1, 0.2, 0.3, 0.4, 0.5, 0.6, 0.7, 0.8, 0.9], 'colsample_bytree': [0.1, 0.2, 0.3, 0.4, 0.5, 0.6, 0.7, 0.8, 0.9]}\n",
      "2023-12-05 16:54:18,846 - EHR-ML - INFO - Hyperparameter optimisation for: {'reg_alpha': [0, 1e-05, 0.001, 0.1, 10]}\n",
      "2023-12-05 16:54:21,076 - EHR-ML - INFO - params: {'max_depth': 2, 'scale_pos_weight': 0.3, 'n_estimators': 150, 'min_child_weight': 1, 'gamma': 0.0, 'colsample_bytree': 0.4, 'subsample': 0.8, 'reg_alpha': 0}\n",
      "2023-12-05 16:54:21,076 - EHR-ML - INFO - Building XGB model\n",
      "2023-12-05 16:54:21,154 - EHR-ML - INFO - Performing Hyperparameter optimisation for Logistic Regression\n",
      "2023-12-05 16:54:21,154 - EHR-ML - INFO - Hyperparameter optimisation for: {'solver': ['newton-cg', 'liblinear'], 'C': [100, 10, 1.0, 0.1, 0.01]}\n",
      "2023-12-05 16:54:26,074 - EHR-ML - INFO - params: {'C': 0.01, 'solver': 'newton-cg'}\n",
      "2023-12-05 16:54:26,075 - EHR-ML - INFO - Building LR Model\n",
      "2023-12-05 16:54:26,194 - EHR-ML - INFO - Building LGBM Model\n",
      "2023-12-05 16:54:26,492 - EHR-ML - INFO - Building MLP Model\n",
      "2023-12-05 16:54:27,896 - EHR-ML - INFO - Models for the label: LabsFirst\n",
      "2023-12-05 16:54:27,896 - EHR-ML - INFO - Performing Hyperparameter optimisation for XGBoost\n",
      "2023-12-05 16:54:27,896 - EHR-ML - INFO - Hyperparameter optimisation for: {'max_depth': range(1, 10), 'scale_pos_weight': [0.1, 0.15, 0.2, 0.25, 0.3, 0.35, 0.4]}\n",
      "2023-12-05 16:55:04,229 - EHR-ML - INFO - Hyperparameter optimisation for: {'n_estimators': range(50, 250, 10)}\n",
      "2023-12-05 16:55:12,505 - EHR-ML - INFO - Hyperparameter optimisation for: {'min_child_weight': range(1, 10)}\n",
      "2023-12-05 16:55:15,092 - EHR-ML - INFO - Hyperparameter optimisation for: {'gamma': [0.0, 0.1, 0.2, 0.3, 0.4]}\n",
      "2023-12-05 16:55:16,442 - EHR-ML - INFO - Hyperparameter optimisation for: {'subsample': [0.1, 0.2, 0.3, 0.4, 0.5, 0.6, 0.7, 0.8, 0.9], 'colsample_bytree': [0.1, 0.2, 0.3, 0.4, 0.5, 0.6, 0.7, 0.8, 0.9]}\n",
      "2023-12-05 16:55:38,852 - EHR-ML - INFO - Hyperparameter optimisation for: {'reg_alpha': [0, 1e-05, 0.001, 0.1, 10]}\n",
      "2023-12-05 16:55:40,265 - EHR-ML - INFO - params: {'max_depth': 2, 'scale_pos_weight': 0.1, 'n_estimators': 90, 'min_child_weight': 1, 'gamma': 0.0, 'colsample_bytree': 0.5, 'subsample': 0.5, 'reg_alpha': 0}\n",
      "2023-12-05 16:55:40,265 - EHR-ML - INFO - Building XGB model\n",
      "2023-12-05 16:55:40,316 - EHR-ML - INFO - Performing Hyperparameter optimisation for Logistic Regression\n",
      "2023-12-05 16:55:40,316 - EHR-ML - INFO - Hyperparameter optimisation for: {'solver': ['newton-cg', 'liblinear'], 'C': [100, 10, 1.0, 0.1, 0.01]}\n",
      "2023-12-05 16:55:44,728 - EHR-ML - INFO - params: {'C': 10, 'solver': 'liblinear'}\n",
      "2023-12-05 16:55:44,728 - EHR-ML - INFO - Building LR Model\n",
      "2023-12-05 16:55:44,756 - EHR-ML - INFO - Building LGBM Model\n",
      "2023-12-05 16:55:44,997 - EHR-ML - INFO - Building MLP Model\n",
      "2023-12-05 16:55:47,169 - EHR-ML - INFO - Models for the label: LabsLast\n",
      "2023-12-05 16:55:47,169 - EHR-ML - INFO - Performing Hyperparameter optimisation for XGBoost\n",
      "2023-12-05 16:55:47,169 - EHR-ML - INFO - Hyperparameter optimisation for: {'max_depth': range(1, 10), 'scale_pos_weight': [0.1, 0.15, 0.2, 0.25, 0.3, 0.35, 0.4]}\n",
      "2023-12-05 16:56:23,199 - EHR-ML - INFO - Hyperparameter optimisation for: {'n_estimators': range(50, 250, 10)}\n",
      "2023-12-05 16:56:45,549 - EHR-ML - INFO - Hyperparameter optimisation for: {'min_child_weight': range(1, 10)}\n",
      "2023-12-05 16:56:49,739 - EHR-ML - INFO - Hyperparameter optimisation for: {'gamma': [0.0, 0.1, 0.2, 0.3, 0.4]}\n",
      "2023-12-05 16:56:51,992 - EHR-ML - INFO - Hyperparameter optimisation for: {'subsample': [0.1, 0.2, 0.3, 0.4, 0.5, 0.6, 0.7, 0.8, 0.9], 'colsample_bytree': [0.1, 0.2, 0.3, 0.4, 0.5, 0.6, 0.7, 0.8, 0.9]}\n",
      "2023-12-05 16:57:31,355 - EHR-ML - INFO - Hyperparameter optimisation for: {'reg_alpha': [0, 1e-05, 0.001, 0.1, 10]}\n",
      "2023-12-05 16:57:33,849 - EHR-ML - INFO - params: {'max_depth': 9, 'scale_pos_weight': 0.1, 'n_estimators': 80, 'min_child_weight': 1, 'gamma': 0.0, 'colsample_bytree': 0.8, 'subsample': 0.5, 'reg_alpha': 0}\n",
      "2023-12-05 16:57:33,849 - EHR-ML - INFO - Building XGB model\n",
      "2023-12-05 16:57:33,964 - EHR-ML - INFO - Performing Hyperparameter optimisation for Logistic Regression\n",
      "2023-12-05 16:57:33,964 - EHR-ML - INFO - Hyperparameter optimisation for: {'solver': ['newton-cg', 'liblinear'], 'C': [100, 10, 1.0, 0.1, 0.01]}\n",
      "2023-12-05 16:57:39,311 - EHR-ML - INFO - params: {'C': 0.1, 'solver': 'liblinear'}\n",
      "2023-12-05 16:57:39,311 - EHR-ML - INFO - Building LR Model\n",
      "2023-12-05 16:57:39,358 - EHR-ML - INFO - Building LGBM Model\n",
      "2023-12-05 16:57:39,582 - EHR-ML - INFO - Building MLP Model\n",
      "2023-12-05 16:57:42,297 - EHR-ML - INFO - Performing prediction for the label: Full, model_name: xgb\n",
      "2023-12-05 16:57:42,356 - EHR-ML - INFO - label: Full, model: xgb - Model (Testing) AUROC score: 0.8362398265567733\n",
      "2023-12-05 16:57:42,358 - EHR-ML - INFO - Performing prediction for the label: Full, model_name: lr\n",
      "2023-12-05 16:57:42,387 - EHR-ML - INFO - label: Full, model: lr - Model (Testing) AUROC score: 0.8163288423926448\n",
      "2023-12-05 16:57:42,388 - EHR-ML - INFO - Performing prediction for the label: Full, model_name: lgbm\n",
      "2023-12-05 16:57:42,434 - EHR-ML - INFO - label: Full, model: lgbm - Model (Testing) AUROC score: 0.8326923849017213\n",
      "2023-12-05 16:57:42,435 - EHR-ML - INFO - Performing prediction for the label: Full, model_name: mlp\n",
      "2023-12-05 16:57:42,469 - EHR-ML - INFO - label: Full, model: mlp - Model (Testing) AUROC score: 0.7453257604869871\n",
      "2023-12-05 16:57:42,471 - EHR-ML - INFO - Performing prediction for the label: VitalsMax, model_name: xgb\n",
      "2023-12-05 16:57:42,516 - EHR-ML - INFO - label: VitalsMax, model: xgb - Model (Testing) AUROC score: 0.6375778362804534\n",
      "2023-12-05 16:57:42,518 - EHR-ML - INFO - Performing prediction for the label: VitalsMax, model_name: lr\n",
      "2023-12-05 16:57:42,537 - EHR-ML - INFO - label: VitalsMax, model: lr - Model (Testing) AUROC score: 0.6527156425830652\n",
      "2023-12-05 16:57:42,538 - EHR-ML - INFO - Performing prediction for the label: VitalsMax, model_name: lgbm\n",
      "2023-12-05 16:57:42,587 - EHR-ML - INFO - label: VitalsMax, model: lgbm - Model (Testing) AUROC score: 0.6358736590747018\n",
      "2023-12-05 16:57:42,588 - EHR-ML - INFO - Performing prediction for the label: VitalsMax, model_name: mlp\n",
      "2023-12-05 16:57:42,620 - EHR-ML - INFO - label: VitalsMax, model: mlp - Model (Testing) AUROC score: 0.6406430132319287\n",
      "2023-12-05 16:57:42,621 - EHR-ML - INFO - Performing prediction for the label: VitalsMin, model_name: xgb\n",
      "2023-12-05 16:57:42,666 - EHR-ML - INFO - label: VitalsMin, model: xgb - Model (Testing) AUROC score: 0.6581718296233843\n",
      "2023-12-05 16:57:42,667 - EHR-ML - INFO - Performing prediction for the label: VitalsMin, model_name: lr\n",
      "2023-12-05 16:57:42,687 - EHR-ML - INFO - label: VitalsMin, model: lr - Model (Testing) AUROC score: 0.6383803362183182\n",
      "2023-12-05 16:57:42,688 - EHR-ML - INFO - Performing prediction for the label: VitalsMin, model_name: lgbm\n",
      "2023-12-05 16:57:42,729 - EHR-ML - INFO - label: VitalsMin, model: lgbm - Model (Testing) AUROC score: 0.6582874966781569\n",
      "2023-12-05 16:57:42,730 - EHR-ML - INFO - Performing prediction for the label: VitalsMin, model_name: mlp\n",
      "2023-12-05 16:57:42,766 - EHR-ML - INFO - label: VitalsMin, model: mlp - Model (Testing) AUROC score: 0.6605272314660273\n",
      "2023-12-05 16:57:42,767 - EHR-ML - INFO - Performing prediction for the label: VitalsAvg, model_name: xgb\n",
      "2023-12-05 16:57:42,825 - EHR-ML - INFO - label: VitalsAvg, model: xgb - Model (Testing) AUROC score: 0.6804035633100278\n",
      "2023-12-05 16:57:42,827 - EHR-ML - INFO - Performing prediction for the label: VitalsAvg, model_name: lr\n",
      "2023-12-05 16:57:42,845 - EHR-ML - INFO - label: VitalsAvg, model: lr - Model (Testing) AUROC score: 0.6914017317556729\n",
      "2023-12-05 16:57:42,846 - EHR-ML - INFO - Performing prediction for the label: VitalsAvg, model_name: lgbm\n",
      "2023-12-05 16:57:42,884 - EHR-ML - INFO - label: VitalsAvg, model: lgbm - Model (Testing) AUROC score: 0.6614551967009079\n",
      "2023-12-05 16:57:42,885 - EHR-ML - INFO - Performing prediction for the label: VitalsAvg, model_name: mlp\n",
      "2023-12-05 16:57:42,926 - EHR-ML - INFO - label: VitalsAvg, model: mlp - Model (Testing) AUROC score: 0.6866961856637855\n",
      "2023-12-05 16:57:42,927 - EHR-ML - INFO - Performing prediction for the label: VitalsFirst, model_name: xgb\n",
      "2023-12-05 16:57:42,999 - EHR-ML - INFO - label: VitalsFirst, model: xgb - Model (Testing) AUROC score: 0.6015248454745504\n",
      "2023-12-05 16:57:43,000 - EHR-ML - INFO - Performing prediction for the label: VitalsFirst, model_name: lr\n",
      "2023-12-05 16:57:43,014 - EHR-ML - INFO - label: VitalsFirst, model: lr - Model (Testing) AUROC score: 0.5677835228934736\n",
      "2023-12-05 16:57:43,015 - EHR-ML - INFO - Performing prediction for the label: VitalsFirst, model_name: lgbm\n",
      "2023-12-05 16:57:43,063 - EHR-ML - INFO - label: VitalsFirst, model: lgbm - Model (Testing) AUROC score: 0.5803802387138588\n",
      "2023-12-05 16:57:43,064 - EHR-ML - INFO - Performing prediction for the label: VitalsFirst, model_name: mlp\n",
      "2023-12-05 16:57:43,101 - EHR-ML - INFO - label: VitalsFirst, model: mlp - Model (Testing) AUROC score: 0.5766210594337476\n",
      "2023-12-05 16:57:43,102 - EHR-ML - INFO - Performing prediction for the label: VitalsLast, model_name: xgb\n",
      "2023-12-05 16:57:43,147 - EHR-ML - INFO - label: VitalsLast, model: xgb - Model (Testing) AUROC score: 0.7241919078946111\n",
      "2023-12-05 16:57:43,148 - EHR-ML - INFO - Performing prediction for the label: VitalsLast, model_name: lr\n",
      "2023-12-05 16:57:43,168 - EHR-ML - INFO - label: VitalsLast, model: lr - Model (Testing) AUROC score: 0.6310667848191293\n",
      "2023-12-05 16:57:43,169 - EHR-ML - INFO - Performing prediction for the label: VitalsLast, model_name: lgbm\n",
      "2023-12-05 16:57:43,230 - EHR-ML - INFO - label: VitalsLast, model: lgbm - Model (Testing) AUROC score: 0.7090851691893556\n",
      "2023-12-05 16:57:43,231 - EHR-ML - INFO - Performing prediction for the label: VitalsLast, model_name: mlp\n",
      "2023-12-05 16:57:43,254 - EHR-ML - INFO - label: VitalsLast, model: mlp - Model (Testing) AUROC score: 0.6946982428166935\n",
      "2023-12-05 16:57:43,255 - EHR-ML - INFO - Performing prediction for the label: LabsMax, model_name: xgb\n",
      "2023-12-05 16:57:43,302 - EHR-ML - INFO - label: LabsMax, model: xgb - Model (Testing) AUROC score: 0.6998188998055647\n",
      "2023-12-05 16:57:43,303 - EHR-ML - INFO - Performing prediction for the label: LabsMax, model_name: lr\n",
      "2023-12-05 16:57:43,323 - EHR-ML - INFO - label: LabsMax, model: lr - Model (Testing) AUROC score: 0.6939803423362451\n",
      "2023-12-05 16:57:43,324 - EHR-ML - INFO - Performing prediction for the label: LabsMax, model_name: lgbm\n",
      "2023-12-05 16:57:43,372 - EHR-ML - INFO - label: LabsMax, model: lgbm - Model (Testing) AUROC score: 0.7108641476102804\n",
      "2023-12-05 16:57:43,373 - EHR-ML - INFO - Performing prediction for the label: LabsMax, model_name: mlp\n",
      "2023-12-05 16:57:43,410 - EHR-ML - INFO - label: LabsMax, model: mlp - Model (Testing) AUROC score: 0.6791104343154517\n",
      "2023-12-05 16:57:43,412 - EHR-ML - INFO - Performing prediction for the label: LabsMin, model_name: xgb\n",
      "2023-12-05 16:57:43,459 - EHR-ML - INFO - label: LabsMin, model: xgb - Model (Testing) AUROC score: 0.7165050673641103\n",
      "2023-12-05 16:57:43,460 - EHR-ML - INFO - Performing prediction for the label: LabsMin, model_name: lr\n",
      "2023-12-05 16:57:43,480 - EHR-ML - INFO - label: LabsMin, model: lr - Model (Testing) AUROC score: 0.6955198612760083\n",
      "2023-12-05 16:57:43,481 - EHR-ML - INFO - Performing prediction for the label: LabsMin, model_name: lgbm\n",
      "2023-12-05 16:57:43,529 - EHR-ML - INFO - label: LabsMin, model: lgbm - Model (Testing) AUROC score: 0.7058068207237125\n",
      "2023-12-05 16:57:43,530 - EHR-ML - INFO - Performing prediction for the label: LabsMin, model_name: mlp\n",
      "2023-12-05 16:57:43,561 - EHR-ML - INFO - label: LabsMin, model: mlp - Model (Testing) AUROC score: 0.6894193800628234\n",
      "2023-12-05 16:57:43,562 - EHR-ML - INFO - Performing prediction for the label: LabsAvg, model_name: xgb\n",
      "2023-12-05 16:57:43,636 - EHR-ML - INFO - label: LabsAvg, model: xgb - Model (Testing) AUROC score: 0.7060682665045416\n",
      "2023-12-05 16:57:43,638 - EHR-ML - INFO - Performing prediction for the label: LabsAvg, model_name: lr\n",
      "2023-12-05 16:57:43,658 - EHR-ML - INFO - label: LabsAvg, model: lr - Model (Testing) AUROC score: 0.7058491204524207\n",
      "2023-12-05 16:57:43,659 - EHR-ML - INFO - Performing prediction for the label: LabsAvg, model_name: lgbm\n",
      "2023-12-05 16:57:43,708 - EHR-ML - INFO - label: LabsAvg, model: lgbm - Model (Testing) AUROC score: 0.6884199593540234\n",
      "2023-12-05 16:57:43,709 - EHR-ML - INFO - Performing prediction for the label: LabsAvg, model_name: mlp\n",
      "2023-12-05 16:57:43,749 - EHR-ML - INFO - label: LabsAvg, model: mlp - Model (Testing) AUROC score: 0.6702642944405252\n",
      "2023-12-05 16:57:43,750 - EHR-ML - INFO - Performing prediction for the label: LabsFirst, model_name: xgb\n",
      "2023-12-05 16:57:43,855 - EHR-ML - INFO - label: LabsFirst, model: xgb - Model (Testing) AUROC score: 0.6270045769740351\n",
      "2023-12-05 16:57:43,856 - EHR-ML - INFO - Performing prediction for the label: LabsFirst, model_name: lr\n",
      "2023-12-05 16:57:43,864 - EHR-ML - INFO - label: LabsFirst, model: lr - Model (Testing) AUROC score: 0.6434493731992743\n",
      "2023-12-05 16:57:43,865 - EHR-ML - INFO - Performing prediction for the label: LabsFirst, model_name: lgbm\n",
      "2023-12-05 16:57:43,912 - EHR-ML - INFO - label: LabsFirst, model: lgbm - Model (Testing) AUROC score: 0.6310388239815086\n",
      "2023-12-05 16:57:43,913 - EHR-ML - INFO - Performing prediction for the label: LabsFirst, model_name: mlp\n",
      "2023-12-05 16:57:43,951 - EHR-ML - INFO - label: LabsFirst, model: mlp - Model (Testing) AUROC score: 0.6108680669071775\n",
      "2023-12-05 16:57:43,952 - EHR-ML - INFO - Performing prediction for the label: LabsLast, model_name: xgb\n",
      "2023-12-05 16:57:44,027 - EHR-ML - INFO - label: LabsLast, model: xgb - Model (Testing) AUROC score: 0.7464346347310885\n",
      "2023-12-05 16:57:44,028 - EHR-ML - INFO - Performing prediction for the label: LabsLast, model_name: lr\n",
      "2023-12-05 16:57:44,037 - EHR-ML - INFO - label: LabsLast, model: lr - Model (Testing) AUROC score: 0.7375935134680425\n",
      "2023-12-05 16:57:44,038 - EHR-ML - INFO - Performing prediction for the label: LabsLast, model_name: lgbm\n",
      "2023-12-05 16:57:44,084 - EHR-ML - INFO - label: LabsLast, model: lgbm - Model (Testing) AUROC score: 0.7466019217937763\n",
      "2023-12-05 16:57:44,086 - EHR-ML - INFO - Performing prediction for the label: LabsLast, model_name: mlp\n",
      "2023-12-05 16:57:44,116 - EHR-ML - INFO - label: LabsLast, model: mlp - Model (Testing) AUROC score: 0.6996284315356188\n",
      "2023-12-05 16:57:44,118 - EHR-ML - INFO - Performing Hyperparameter optimisation for XGBoost Ensemble model\n",
      "2023-12-05 16:57:44,118 - EHR-ML - INFO - Hyperparameter optimisation for: {'max_depth': range(1, 10), 'scale_pos_weight': [0.1, 0.15, 0.2, 0.25, 0.3, 0.35, 0.4]}\n",
      "2023-12-05 16:58:49,369 - EHR-ML - INFO - Hyperparameter optimisation for: {'n_estimators': range(50, 250, 10)}\n",
      "2023-12-05 16:59:28,587 - EHR-ML - INFO - Hyperparameter optimisation for: {'min_child_weight': range(1, 10)}\n",
      "2023-12-05 16:59:42,627 - EHR-ML - INFO - Hyperparameter optimisation for: {'gamma': [0.0, 0.1, 0.2, 0.3, 0.4]}\n",
      "2023-12-05 16:59:49,435 - EHR-ML - INFO - Hyperparameter optimisation for: {'subsample': [0.1, 0.2, 0.3, 0.4, 0.5, 0.6, 0.7, 0.8, 0.9], 'colsample_bytree': [0.1, 0.2, 0.3, 0.4, 0.5, 0.6, 0.7, 0.8, 0.9]}\n",
      "2023-12-05 17:02:06,700 - EHR-ML - INFO - Hyperparameter optimisation for: {'reg_alpha': [0, 1e-05, 0.001, 0.1, 10]}\n",
      "2023-12-05 17:02:16,602 - EHR-ML - INFO - params: {'max_depth': 9, 'scale_pos_weight': 0.1, 'n_estimators': 180, 'min_child_weight': 1, 'gamma': 0.0, 'colsample_bytree': 0.8, 'subsample': 0.9, 'reg_alpha': 0}\n",
      "2023-12-05 17:02:16,602 - EHR-ML - INFO - Building XGB Ensemble model\n",
      "2023-12-05 17:02:17,082 - EHR-ML - INFO - XGB Ensemble Model (Training) AUROC score: 1.0\n",
      "2023-12-05 17:02:17,083 - EHR-ML - INFO - Saving the model!!\n",
      "2023-12-05 17:02:17,083 - EHR-ML - INFO - Save path:/home/yram0006/phd/chapter_2/workspace/eICU-EHR-Pipeline/data/saps_ii/model.pkl\n"
     ]
    },
    {
     "data": {
      "text/plain": [
       "0"
      ]
     },
     "execution_count": 5,
     "metadata": {},
     "output_type": "execute_result"
    }
   ],
   "source": [
    "import os\n",
    "\n",
    "\n",
    "os.system(\n",
    "    'cd ' + os.environ['EHR_ML_BASE'] + ';'\n",
    "    +\n",
    "    '''.venv/bin/python -m ehrml.ensemble.Build ''' + os.environ['EICU_EHR_PIPELINE_BASE'] + '/data/saps_ii/datamatrix_train.csv -tc \"death_adm\" -ic \"person_id\" \"visit_occurrence_id\" -mdc \"measurement_date\" -wb ''' + str(0) + ''' -wa ''' + str(6) + ''' -sp ''' + os.environ['EICU_EHR_PIPELINE_BASE'] + '''/data/saps_ii/model.pkl;'''\n",
    "    )\n"
   ]
  },
  {
   "cell_type": "markdown",
   "metadata": {},
   "source": [
    "## Obtain predictions from the model"
   ]
  },
  {
   "cell_type": "code",
   "execution_count": 6,
   "metadata": {},
   "outputs": [
    {
     "name": "stdout",
     "output_type": "stream",
     "text": [
      "2023-12-05 17:02:18,000 - EHR-ML - INFO - Parsing command line arguments\n",
      "2023-12-05 17:02:18,001 - EHR-ML - INFO - args.data_file: /home/yram0006/phd/chapter_2/workspace/eICU-EHR-Pipeline/data/saps_ii/datamatrix_test.csv\n",
      "2023-12-05 17:02:18,001 - EHR-ML - INFO - args.id_columns: ['person_id', 'visit_occurrence_id']\n",
      "2023-12-05 17:02:18,001 - EHR-ML - INFO - args.target_column: death_adm\n",
      "2023-12-05 17:02:18,001 - EHR-ML - INFO - args.measurement_date_column: measurement_date\n",
      "2023-12-05 17:02:18,001 - EHR-ML - INFO - args.window_before: 0\n",
      "2023-12-05 17:02:18,001 - EHR-ML - INFO - args.window_after: 3\n",
      "2023-12-05 17:02:18,001 - EHR-ML - INFO - args.model_path: /home/yram0006/phd/chapter_2/workspace/eICU-EHR-Pipeline/data/saps_ii/model.pkl\n",
      "2023-12-05 17:02:18,001 - EHR-ML - INFO - args.save_path: /home/yram0006/phd/chapter_2/workspace/eICU-EHR-Pipeline/data/saps_ii/preds.csv\n",
      "2023-12-05 17:02:18,217 - EHR-ML - INFO - Split data to test and train sets\n",
      "2023-12-05 17:02:18,898 - EHR-ML - INFO - Performing prediction for the label: Full, model_name: xgb\n",
      "2023-12-05 17:02:18,929 - EHR-ML - INFO - Performing prediction for the label: Full, model_name: lr\n",
      "2023-12-05 17:02:18,940 - EHR-ML - INFO - Performing prediction for the label: Full, model_name: lgbm\n",
      "2023-12-05 17:02:19,001 - EHR-ML - INFO - Performing prediction for the label: Full, model_name: mlp\n",
      "2023-12-05 17:02:19,021 - EHR-ML - INFO - Performing prediction for the label: VitalsMax, model_name: xgb\n",
      "2023-12-05 17:02:19,063 - EHR-ML - INFO - Performing prediction for the label: VitalsMax, model_name: lr\n",
      "2023-12-05 17:02:19,080 - EHR-ML - INFO - Performing prediction for the label: VitalsMax, model_name: lgbm\n",
      "2023-12-05 17:02:19,105 - EHR-ML - INFO - Performing prediction for the label: VitalsMax, model_name: mlp\n",
      "2023-12-05 17:02:19,132 - EHR-ML - INFO - Performing prediction for the label: VitalsMin, model_name: xgb\n",
      "2023-12-05 17:02:19,215 - EHR-ML - INFO - Performing prediction for the label: VitalsMin, model_name: lr\n",
      "2023-12-05 17:02:19,219 - EHR-ML - INFO - Performing prediction for the label: VitalsMin, model_name: lgbm\n",
      "2023-12-05 17:02:19,256 - EHR-ML - INFO - Performing prediction for the label: VitalsMin, model_name: mlp\n",
      "2023-12-05 17:02:19,286 - EHR-ML - INFO - Performing prediction for the label: VitalsAvg, model_name: xgb\n",
      "2023-12-05 17:02:19,375 - EHR-ML - INFO - Performing prediction for the label: VitalsAvg, model_name: lr\n",
      "2023-12-05 17:02:19,388 - EHR-ML - INFO - Performing prediction for the label: VitalsAvg, model_name: lgbm\n",
      "2023-12-05 17:02:19,420 - EHR-ML - INFO - Performing prediction for the label: VitalsAvg, model_name: mlp\n",
      "2023-12-05 17:02:19,451 - EHR-ML - INFO - Performing prediction for the label: VitalsFirst, model_name: xgb\n",
      "2023-12-05 17:02:19,535 - EHR-ML - INFO - Performing prediction for the label: VitalsFirst, model_name: lr\n",
      "2023-12-05 17:02:19,544 - EHR-ML - INFO - Performing prediction for the label: VitalsFirst, model_name: lgbm\n",
      "2023-12-05 17:02:19,596 - EHR-ML - INFO - Performing prediction for the label: VitalsFirst, model_name: mlp\n",
      "2023-12-05 17:02:19,615 - EHR-ML - INFO - Performing prediction for the label: VitalsLast, model_name: xgb\n",
      "2023-12-05 17:02:19,683 - EHR-ML - INFO - Performing prediction for the label: VitalsLast, model_name: lr\n",
      "2023-12-05 17:02:19,695 - EHR-ML - INFO - Performing prediction for the label: VitalsLast, model_name: lgbm\n",
      "2023-12-05 17:02:19,744 - EHR-ML - INFO - Performing prediction for the label: VitalsLast, model_name: mlp\n",
      "2023-12-05 17:02:19,779 - EHR-ML - INFO - Performing prediction for the label: LabsMax, model_name: xgb\n",
      "2023-12-05 17:02:19,835 - EHR-ML - INFO - Performing prediction for the label: LabsMax, model_name: lr\n",
      "2023-12-05 17:02:19,843 - EHR-ML - INFO - Performing prediction for the label: LabsMax, model_name: lgbm\n",
      "2023-12-05 17:02:19,918 - EHR-ML - INFO - Performing prediction for the label: LabsMax, model_name: mlp\n",
      "2023-12-05 17:02:19,940 - EHR-ML - INFO - Performing prediction for the label: LabsMin, model_name: xgb\n",
      "2023-12-05 17:02:20,012 - EHR-ML - INFO - Performing prediction for the label: LabsMin, model_name: lr\n",
      "2023-12-05 17:02:20,021 - EHR-ML - INFO - Performing prediction for the label: LabsMin, model_name: lgbm\n",
      "2023-12-05 17:02:20,084 - EHR-ML - INFO - Performing prediction for the label: LabsMin, model_name: mlp\n",
      "2023-12-05 17:02:20,117 - EHR-ML - INFO - Performing prediction for the label: LabsAvg, model_name: xgb\n",
      "2023-12-05 17:02:20,191 - EHR-ML - INFO - Performing prediction for the label: LabsAvg, model_name: lr\n",
      "2023-12-05 17:02:20,207 - EHR-ML - INFO - Performing prediction for the label: LabsAvg, model_name: lgbm\n",
      "2023-12-05 17:02:20,303 - EHR-ML - INFO - Performing prediction for the label: LabsAvg, model_name: mlp\n",
      "2023-12-05 17:02:20,332 - EHR-ML - INFO - Performing prediction for the label: LabsFirst, model_name: xgb\n",
      "2023-12-05 17:02:20,404 - EHR-ML - INFO - Performing prediction for the label: LabsFirst, model_name: lr\n",
      "2023-12-05 17:02:20,419 - EHR-ML - INFO - Performing prediction for the label: LabsFirst, model_name: lgbm\n",
      "2023-12-05 17:02:20,513 - EHR-ML - INFO - Performing prediction for the label: LabsFirst, model_name: mlp\n",
      "2023-12-05 17:02:20,530 - EHR-ML - INFO - Performing prediction for the label: LabsLast, model_name: xgb\n",
      "2023-12-05 17:02:20,591 - EHR-ML - INFO - Performing prediction for the label: LabsLast, model_name: lr\n",
      "2023-12-05 17:02:20,599 - EHR-ML - INFO - Performing prediction for the label: LabsLast, model_name: lgbm\n",
      "2023-12-05 17:02:20,640 - EHR-ML - INFO - Performing prediction for the label: LabsLast, model_name: mlp\n",
      "2023-12-05 17:02:20,744 - EHR-ML - INFO - saving the predictions\n"
     ]
    },
    {
     "data": {
      "text/plain": [
       "0"
      ]
     },
     "execution_count": 6,
     "metadata": {},
     "output_type": "execute_result"
    }
   ],
   "source": [
    "import os\n",
    "\n",
    "\n",
    "os.system(\n",
    "    'cd ' + os.environ['EHR_ML_BASE'] + ';'\n",
    "    +\n",
    "    '''.venv/bin/python -m ehrml.ensemble.Predict ''' + os.environ['EICU_EHR_PIPELINE_BASE'] + '/data/saps_ii/datamatrix_test.csv -tc \"death_adm\" -ic \"person_id\" \"visit_occurrence_id\" -mdc \"measurement_date\" -wb ''' + str(0) + ''' -wa ''' + str(3) + ''' -mp ''' + os.environ['EICU_EHR_PIPELINE_BASE'] + '''/data/saps_ii/model.pkl -sp ''' + os.environ['EICU_EHR_PIPELINE_BASE'] + '''/data/saps_ii/preds.csv;'''\n",
    "    )\n"
   ]
  },
  {
   "cell_type": "markdown",
   "metadata": {},
   "source": [
    "## Read predictions"
   ]
  },
  {
   "cell_type": "code",
   "execution_count": 5,
   "metadata": {},
   "outputs": [
    {
     "data": {
      "text/html": [
       "<div>\n",
       "<style scoped>\n",
       "    .dataframe tbody tr th:only-of-type {\n",
       "        vertical-align: middle;\n",
       "    }\n",
       "\n",
       "    .dataframe tbody tr th {\n",
       "        vertical-align: top;\n",
       "    }\n",
       "\n",
       "    .dataframe thead th {\n",
       "        text-align: right;\n",
       "    }\n",
       "</style>\n",
       "<table border=\"1\" class=\"dataframe\">\n",
       "  <thead>\n",
       "    <tr style=\"text-align: right;\">\n",
       "      <th></th>\n",
       "      <th>person_id</th>\n",
       "      <th>visit_occurrence_id</th>\n",
       "      <th>preds</th>\n",
       "    </tr>\n",
       "  </thead>\n",
       "  <tbody>\n",
       "    <tr>\n",
       "      <th>0</th>\n",
       "      <td>2473</td>\n",
       "      <td>237159</td>\n",
       "      <td>0.000307</td>\n",
       "    </tr>\n",
       "    <tr>\n",
       "      <th>1</th>\n",
       "      <td>2839</td>\n",
       "      <td>163173</td>\n",
       "      <td>0.017230</td>\n",
       "    </tr>\n",
       "    <tr>\n",
       "      <th>2</th>\n",
       "      <td>3071</td>\n",
       "      <td>3103539</td>\n",
       "      <td>0.035608</td>\n",
       "    </tr>\n",
       "    <tr>\n",
       "      <th>3</th>\n",
       "      <td>3111</td>\n",
       "      <td>3160037</td>\n",
       "      <td>0.012547</td>\n",
       "    </tr>\n",
       "    <tr>\n",
       "      <th>4</th>\n",
       "      <td>3570</td>\n",
       "      <td>3342265</td>\n",
       "      <td>0.001519</td>\n",
       "    </tr>\n",
       "    <tr>\n",
       "      <th>...</th>\n",
       "      <td>...</td>\n",
       "      <td>...</td>\n",
       "      <td>...</td>\n",
       "    </tr>\n",
       "    <tr>\n",
       "      <th>2211</th>\n",
       "      <td>27213578</td>\n",
       "      <td>2769226</td>\n",
       "      <td>0.000340</td>\n",
       "    </tr>\n",
       "    <tr>\n",
       "      <th>2212</th>\n",
       "      <td>27214288</td>\n",
       "      <td>2825787</td>\n",
       "      <td>0.000720</td>\n",
       "    </tr>\n",
       "    <tr>\n",
       "      <th>2213</th>\n",
       "      <td>27214462</td>\n",
       "      <td>2841565</td>\n",
       "      <td>0.010673</td>\n",
       "    </tr>\n",
       "    <tr>\n",
       "      <th>2214</th>\n",
       "      <td>27214485</td>\n",
       "      <td>2709648</td>\n",
       "      <td>0.002803</td>\n",
       "    </tr>\n",
       "    <tr>\n",
       "      <th>2215</th>\n",
       "      <td>27214786</td>\n",
       "      <td>2740185</td>\n",
       "      <td>0.000484</td>\n",
       "    </tr>\n",
       "  </tbody>\n",
       "</table>\n",
       "<p>2216 rows × 3 columns</p>\n",
       "</div>"
      ],
      "text/plain": [
       "      person_id  visit_occurrence_id     preds\n",
       "0          2473               237159  0.000307\n",
       "1          2839               163173  0.017230\n",
       "2          3071              3103539  0.035608\n",
       "3          3111              3160037  0.012547\n",
       "4          3570              3342265  0.001519\n",
       "...         ...                  ...       ...\n",
       "2211   27213578              2769226  0.000340\n",
       "2212   27214288              2825787  0.000720\n",
       "2213   27214462              2841565  0.010673\n",
       "2214   27214485              2709648  0.002803\n",
       "2215   27214786              2740185  0.000484\n",
       "\n",
       "[2216 rows x 3 columns]"
      ]
     },
     "execution_count": 5,
     "metadata": {},
     "output_type": "execute_result"
    }
   ],
   "source": [
    "import os\n",
    "import pandas as pd\n",
    "\n",
    "\n",
    "predsDf = pd.read_csv(os.environ['EICU_EHR_PIPELINE_BASE'] + '/data/saps_ii/preds.csv')\n",
    "predsDf"
   ]
  },
  {
   "cell_type": "code",
   "execution_count": 6,
   "metadata": {},
   "outputs": [
    {
     "data": {
      "text/html": [
       "<div>\n",
       "<style scoped>\n",
       "    .dataframe tbody tr th:only-of-type {\n",
       "        vertical-align: middle;\n",
       "    }\n",
       "\n",
       "    .dataframe tbody tr th {\n",
       "        vertical-align: top;\n",
       "    }\n",
       "\n",
       "    .dataframe thead th {\n",
       "        text-align: right;\n",
       "    }\n",
       "</style>\n",
       "<table border=\"1\" class=\"dataframe\">\n",
       "  <thead>\n",
       "    <tr style=\"text-align: right;\">\n",
       "      <th></th>\n",
       "      <th>person_id</th>\n",
       "      <th>visit_occurrence_id</th>\n",
       "      <th>preds</th>\n",
       "      <th>death_adm</th>\n",
       "    </tr>\n",
       "  </thead>\n",
       "  <tbody>\n",
       "    <tr>\n",
       "      <th>0</th>\n",
       "      <td>2473</td>\n",
       "      <td>237159</td>\n",
       "      <td>0.000307</td>\n",
       "      <td>0</td>\n",
       "    </tr>\n",
       "    <tr>\n",
       "      <th>1</th>\n",
       "      <td>2839</td>\n",
       "      <td>163173</td>\n",
       "      <td>0.017230</td>\n",
       "      <td>1</td>\n",
       "    </tr>\n",
       "    <tr>\n",
       "      <th>2</th>\n",
       "      <td>3071</td>\n",
       "      <td>3103539</td>\n",
       "      <td>0.035608</td>\n",
       "      <td>0</td>\n",
       "    </tr>\n",
       "    <tr>\n",
       "      <th>3</th>\n",
       "      <td>3111</td>\n",
       "      <td>3160037</td>\n",
       "      <td>0.012547</td>\n",
       "      <td>0</td>\n",
       "    </tr>\n",
       "    <tr>\n",
       "      <th>4</th>\n",
       "      <td>3570</td>\n",
       "      <td>3342265</td>\n",
       "      <td>0.001519</td>\n",
       "      <td>0</td>\n",
       "    </tr>\n",
       "    <tr>\n",
       "      <th>...</th>\n",
       "      <td>...</td>\n",
       "      <td>...</td>\n",
       "      <td>...</td>\n",
       "      <td>...</td>\n",
       "    </tr>\n",
       "    <tr>\n",
       "      <th>2211</th>\n",
       "      <td>27213578</td>\n",
       "      <td>2769226</td>\n",
       "      <td>0.000340</td>\n",
       "      <td>0</td>\n",
       "    </tr>\n",
       "    <tr>\n",
       "      <th>2212</th>\n",
       "      <td>27214288</td>\n",
       "      <td>2825787</td>\n",
       "      <td>0.000720</td>\n",
       "      <td>0</td>\n",
       "    </tr>\n",
       "    <tr>\n",
       "      <th>2213</th>\n",
       "      <td>27214462</td>\n",
       "      <td>2841565</td>\n",
       "      <td>0.010673</td>\n",
       "      <td>1</td>\n",
       "    </tr>\n",
       "    <tr>\n",
       "      <th>2214</th>\n",
       "      <td>27214485</td>\n",
       "      <td>2709648</td>\n",
       "      <td>0.002803</td>\n",
       "      <td>1</td>\n",
       "    </tr>\n",
       "    <tr>\n",
       "      <th>2215</th>\n",
       "      <td>27214786</td>\n",
       "      <td>2740185</td>\n",
       "      <td>0.000484</td>\n",
       "      <td>0</td>\n",
       "    </tr>\n",
       "  </tbody>\n",
       "</table>\n",
       "<p>2216 rows × 4 columns</p>\n",
       "</div>"
      ],
      "text/plain": [
       "      person_id  visit_occurrence_id     preds  death_adm\n",
       "0          2473               237159  0.000307          0\n",
       "1          2839               163173  0.017230          1\n",
       "2          3071              3103539  0.035608          0\n",
       "3          3111              3160037  0.012547          0\n",
       "4          3570              3342265  0.001519          0\n",
       "...         ...                  ...       ...        ...\n",
       "2211   27213578              2769226  0.000340          0\n",
       "2212   27214288              2825787  0.000720          0\n",
       "2213   27214462              2841565  0.010673          1\n",
       "2214   27214485              2709648  0.002803          1\n",
       "2215   27214786              2740185  0.000484          0\n",
       "\n",
       "[2216 rows x 4 columns]"
      ]
     },
     "execution_count": 6,
     "metadata": {},
     "output_type": "execute_result"
    }
   ],
   "source": [
    "resultsDf = predsDf.merge(datamatrix_test_df[['person_id', 'visit_occurrence_id', 'death_adm']].drop_duplicates(), on=['person_id', 'visit_occurrence_id'])\n",
    "resultsDf"
   ]
  },
  {
   "cell_type": "markdown",
   "metadata": {},
   "source": [
    "## XGB Ensemble performance"
   ]
  },
  {
   "cell_type": "code",
   "execution_count": 7,
   "metadata": {},
   "outputs": [
    {
     "name": "stderr",
     "output_type": "stream",
     "text": [
      "/tmp/ipykernel_514057/4126068900.py:5: UserWarning: \n",
      "\n",
      "`distplot` is a deprecated function and will be removed in seaborn v0.14.0.\n",
      "\n",
      "Please adapt your code to use either `displot` (a figure-level function with\n",
      "similar flexibility) or `kdeplot` (an axes-level function for kernel density plots).\n",
      "\n",
      "For a guide to updating your code to use the new functions, please see\n",
      "https://gist.github.com/mwaskom/de44147ed2974457ad6372750bbe5751\n",
      "\n",
      "  sns.distplot(resultsDf.preds, hist=False, rug=False)\n"
     ]
    },
    {
     "data": {
      "image/png": "[encoded data removed]",
      "text/plain": [
       "<Figure size 640x480 with 1 Axes>"
      ]
     },
     "metadata": {},
     "output_type": "display_data"
    }
   ],
   "source": [
    "import seaborn as sns\n",
    "import matplotlib.pyplot as plt\n",
    "\n",
    "\n",
    "sns.distplot(resultsDf.preds, hist=False, rug=False)\n",
    "plt.title('Prediction Probability')\n",
    "plt.show()"
   ]
  },
  {
   "cell_type": "code",
   "execution_count": 8,
   "metadata": {},
   "outputs": [
    {
     "name": "stdout",
     "output_type": "stream",
     "text": [
      "Discharge mortality accuracy:  0.8885379061371841\n"
     ]
    }
   ],
   "source": [
    "from sklearn.metrics import accuracy_score\n",
    "\n",
    "\n",
    "print('Discharge mortality accuracy: ', str(accuracy_score([ 0 if pred < 0.09 else 1 for pred in resultsDf.preds], resultsDf.death_adm)))"
   ]
  },
  {
   "cell_type": "code",
   "execution_count": 9,
   "metadata": {},
   "outputs": [
    {
     "name": "stdout",
     "output_type": "stream",
     "text": [
      "Discharge mortality balanced accuracy:  0.7217480415376207\n"
     ]
    }
   ],
   "source": [
    "from sklearn.metrics import balanced_accuracy_score\n",
    "\n",
    "\n",
    "print('Discharge mortality balanced accuracy: ', str(balanced_accuracy_score([ 0 if pred < 0.09 else 1 for pred in resultsDf.preds], resultsDf.death_adm)))"
   ]
  },
  {
   "cell_type": "code",
   "execution_count": 11,
   "metadata": {},
   "outputs": [
    {
     "name": "stdout",
     "output_type": "stream",
     "text": [
      "Discharge mortality average precision:  0.44664031620553357\n"
     ]
    }
   ],
   "source": [
    "from sklearn.metrics import precision_score\n",
    "\n",
    "\n",
    "print('Discharge mortality average precision: ', str(precision_score([ 0 if pred < 0.09 else 1 for pred in resultsDf.preds], resultsDf.death_adm)))"
   ]
  },
  {
   "cell_type": "code",
   "execution_count": 25,
   "metadata": {},
   "outputs": [
    {
     "name": "stdout",
     "output_type": "stream",
     "text": [
      "Discharge mortality F1:  0.4778012684989429\n"
     ]
    }
   ],
   "source": [
    "from sklearn.metrics import f1_score\n",
    "\n",
    "\n",
    "print('Discharge mortality F1: ', str(f1_score([ 0 if pred < 0.09 else 1 for pred in resultsDf.preds], resultsDf.death_adm)))"
   ]
  },
  {
   "cell_type": "code",
   "execution_count": 26,
   "metadata": {},
   "outputs": [
    {
     "name": "stdout",
     "output_type": "stream",
     "text": [
      "Discharge mortality AUROC:  0.7217480415376207\n"
     ]
    }
   ],
   "source": [
    "from sklearn.metrics import roc_auc_score\n",
    "\n",
    "\n",
    "print('Discharge mortality AUROC: ', str(roc_auc_score([ 0 if pred < 0.09 else 1 for pred in resultsDf.preds], resultsDf.death_adm)))"
   ]
  },
  {
   "cell_type": "code",
   "execution_count": 27,
   "metadata": {},
   "outputs": [
    {
     "name": "stdout",
     "output_type": "stream",
     "text": [
      "Discharge mortality MCC-F1:  0.577118937025392\n"
     ]
    }
   ],
   "source": [
    "import os\n",
    "import sys\n",
    "\n",
    "sys.path.append(os.environ['EICU_EHR_PIPELINE_BASE'] + \"/EHR-ML\")\n",
    "\n",
    "\n",
    "from ehrml.utils import MlUtils\n",
    "\n",
    "print('Discharge mortality MCC-F1: ', str(MlUtils.calculateMccF1([ 0 if pred < 0.09 else 1 for pred in resultsDf.preds], resultsDf.death_adm)))"
   ]
  },
  {
   "cell_type": "code",
   "execution_count": 14,
   "metadata": {},
   "outputs": [],
   "source": [
    "import numpy as np\n",
    "import pandas as pd\n",
    "import matplotlib.pyplot as plt\n",
    "import seaborn as sns\n",
    "from sklearn.metrics import confusion_matrix\n",
    "\n",
    "def cm_analysis(y_true, y_pred, labels, ymap=None, figsize=(10,10), title='Confusion Matrix for the classifier'):\n",
    "    \"\"\"\n",
    "    Generate matrix plot of confusion matrix with pretty annotations.\n",
    "    The plot image is saved to disk.\n",
    "    args: \n",
    "      y_true:    true label of the data, with shape (nsamples,)\n",
    "      y_pred:    prediction of the data, with shape (nsamples,)\n",
    "      filename:  filename of figure file to save\n",
    "      labels:    string array, name the order of class labels in the confusion matrix.\n",
    "                 use `clf.classes_` if using scikit-learn models.\n",
    "                 with shape (nclass,).\n",
    "      ymap:      dict: any -> string, length == nclass.\n",
    "                 if not None, map the labels & ys to more understandable strings.\n",
    "                 Caution: original y_true, y_pred and labels must align.\n",
    "      figsize:   the size of the figure plotted.\n",
    "    \"\"\"\n",
    "    if ymap is not None:\n",
    "        y_pred = [ymap[yi] for yi in y_pred]\n",
    "        y_true = [ymap[yi] for yi in y_true]\n",
    "        labels = [ymap[yi] for yi in labels]\n",
    "    cm = confusion_matrix(y_true, y_pred, labels=labels)\n",
    "    cm_sum = np.sum(cm, axis=1, keepdims=True)\n",
    "    cm_perc = cm / cm_sum.astype(float) * 100\n",
    "    annot = np.empty_like(cm).astype(str)\n",
    "    nrows, ncols = cm.shape\n",
    "    for i in range(nrows):\n",
    "        for j in range(ncols):\n",
    "            c = cm[i, j]\n",
    "            p = cm_perc[i, j]\n",
    "            if i == j:\n",
    "                s = cm_sum[i]\n",
    "                annot[i, j] = '%.1f%%\\n%d/%d' % (p, c, s)\n",
    "            elif c == 0:\n",
    "                annot[i, j] = ''\n",
    "            else:\n",
    "                annot[i, j] = '%.1f%%\\n%d' % (p, c)\n",
    "    cm = pd.DataFrame(cm, index=labels, columns=labels)\n",
    "    cm.index.name = 'Actual'\n",
    "    cm.columns.name = 'Predicted'\n",
    "    fig, ax = plt.subplots(figsize=figsize)\n",
    "    sns.heatmap(cm_perc, annot=annot, fmt='', ax=ax, cmap='RdPu', annot_kws={\"size\":16})\n",
    "    #plt.savefig(filename)\n",
    "    plt.title(title)\n",
    "    plt.show()\n"
   ]
  },
  {
   "cell_type": "code",
   "execution_count": 22,
   "metadata": {},
   "outputs": [
    {
     "data": {
      "image/png": "[encoded data removed]",
      "text/plain": [
       "<Figure size 500x500 with 2 Axes>"
      ]
     },
     "metadata": {},
     "output_type": "display_data"
    }
   ],
   "source": [
    "cm_analysis([ 0 if pred < 0.09 else 1 for pred in resultsDf.preds], resultsDf.death_adm, [0, 1], ymap=None, figsize=(5, 5), title='XGB ensemble')"
   ]
  },
  {
   "cell_type": "code",
   "execution_count": 16,
   "metadata": {},
   "outputs": [
    {
     "data": {
      "image/png": "[encoded data removed]",
      "text/plain": [
       "<Figure size 800x600 with 1 Axes>"
      ]
     },
     "metadata": {},
     "output_type": "display_data"
    }
   ],
   "source": [
    "from sklearn.metrics import roc_curve\n",
    "\n",
    "\n",
    "plt.figure(figsize=(8, 6))\n",
    "\n",
    "fpr, tpr, _  = roc_curve(resultsDf.death_adm, resultsDf.preds)\n",
    "plt.plot(fpr, tpr, marker='.', label='Discharge mortality')\n",
    "\n",
    "# axis labels\n",
    "plt.xlabel('False Positive Rate')\n",
    "plt.ylabel('True Positive Rate')\n",
    "# show the legend\n",
    "plt.legend()\n",
    "# show the plot\n",
    "plt.show()\n"
   ]
  }
 ],
 "metadata": {
  "kernelspec": {
   "display_name": ".venv",
   "language": "python",
   "name": "python3"
  },
  "language_info": {
   "codemirror_mode": {
    "name": "ipython",
    "version": 3
   },
   "file_extension": ".py",
   "mimetype": "text/x-python",
   "name": "python",
   "nbconvert_exporter": "python",
   "pygments_lexer": "ipython3",
   "version": "3.8.10"
  }
 },
 "nbformat": 4,
 "nbformat_minor": 2
}
