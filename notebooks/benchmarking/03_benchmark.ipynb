{
 "cells": [
  {
   "cell_type": "markdown",
   "metadata": {},
   "source": [
    "# Benchmark"
   ]
  },
  {
   "cell_type": "markdown",
   "metadata": {},
   "source": [
    "## Read the data"
   ]
  },
  {
   "cell_type": "code",
   "execution_count": 4,
   "metadata": {},
   "outputs": [
    {
     "data": {
      "text/plain": [
       "((9012, 4), (2216, 3))"
      ]
     },
     "execution_count": 4,
     "metadata": {},
     "output_type": "execute_result"
    }
   ],
   "source": [
    "import os\n",
    "import pandas as pd\n",
    "\n",
    "\n",
    "sapsDf = pd.read_csv(os.environ['EICU_EHR_PIPELINE_BASE'] + '/data/saps_ii/saps_ii.csv')\n",
    "predsDf = pd.read_csv(os.environ['EICU_EHR_PIPELINE_BASE'] + '/data/saps_ii/preds.csv')\n",
    "datamatrixDf = pd.read_csv(os.environ['EICU_EHR_PIPELINE_BASE'] + '/data/final/data_matrix.csv')\n",
    "sapsDf.shape, predsDf.shape"
   ]
  },
  {
   "cell_type": "markdown",
   "metadata": {},
   "source": [
    "## Combine the data"
   ]
  },
  {
   "cell_type": "code",
   "execution_count": 16,
   "metadata": {},
   "outputs": [
    {
     "data": {
      "text/html": [
       "<div>\n",
       "<style scoped>\n",
       "    .dataframe tbody tr th:only-of-type {\n",
       "        vertical-align: middle;\n",
       "    }\n",
       "\n",
       "    .dataframe tbody tr th {\n",
       "        vertical-align: top;\n",
       "    }\n",
       "\n",
       "    .dataframe thead th {\n",
       "        text-align: right;\n",
       "    }\n",
       "</style>\n",
       "<table border=\"1\" class=\"dataframe\">\n",
       "  <thead>\n",
       "    <tr style=\"text-align: right;\">\n",
       "      <th></th>\n",
       "      <th>person_id</th>\n",
       "      <th>visit_occurrence_id</th>\n",
       "      <th>death_adm</th>\n",
       "      <th>saps_ii</th>\n",
       "      <th>saps_ii_pred</th>\n",
       "      <th>preds</th>\n",
       "    </tr>\n",
       "  </thead>\n",
       "  <tbody>\n",
       "    <tr>\n",
       "      <th>0</th>\n",
       "      <td>248364</td>\n",
       "      <td>141515</td>\n",
       "      <td>0</td>\n",
       "      <td>49</td>\n",
       "      <td>0.437547</td>\n",
       "      <td>0.055872</td>\n",
       "    </tr>\n",
       "    <tr>\n",
       "      <th>7</th>\n",
       "      <td>238079</td>\n",
       "      <td>142483</td>\n",
       "      <td>0</td>\n",
       "      <td>47</td>\n",
       "      <td>0.391926</td>\n",
       "      <td>0.000161</td>\n",
       "    </tr>\n",
       "    <tr>\n",
       "      <th>37</th>\n",
       "      <td>22143</td>\n",
       "      <td>146788</td>\n",
       "      <td>0</td>\n",
       "      <td>23</td>\n",
       "      <td>0.052195</td>\n",
       "      <td>0.001853</td>\n",
       "    </tr>\n",
       "    <tr>\n",
       "      <th>38</th>\n",
       "      <td>210052</td>\n",
       "      <td>151900</td>\n",
       "      <td>0</td>\n",
       "      <td>21</td>\n",
       "      <td>0.041754</td>\n",
       "      <td>0.004518</td>\n",
       "    </tr>\n",
       "    <tr>\n",
       "      <th>41</th>\n",
       "      <td>26227</td>\n",
       "      <td>155503</td>\n",
       "      <td>0</td>\n",
       "      <td>60</td>\n",
       "      <td>0.680887</td>\n",
       "      <td>0.021447</td>\n",
       "    </tr>\n",
       "    <tr>\n",
       "      <th>...</th>\n",
       "      <td>...</td>\n",
       "      <td>...</td>\n",
       "      <td>...</td>\n",
       "      <td>...</td>\n",
       "      <td>...</td>\n",
       "      <td>...</td>\n",
       "    </tr>\n",
       "    <tr>\n",
       "      <th>8906</th>\n",
       "      <td>3511532</td>\n",
       "      <td>3348836</td>\n",
       "      <td>0</td>\n",
       "      <td>40</td>\n",
       "      <td>0.247443</td>\n",
       "      <td>0.017030</td>\n",
       "    </tr>\n",
       "    <tr>\n",
       "      <th>8910</th>\n",
       "      <td>3519950</td>\n",
       "      <td>3351084</td>\n",
       "      <td>0</td>\n",
       "      <td>23</td>\n",
       "      <td>0.052195</td>\n",
       "      <td>0.000006</td>\n",
       "    </tr>\n",
       "    <tr>\n",
       "      <th>8911</th>\n",
       "      <td>355785</td>\n",
       "      <td>3351708</td>\n",
       "      <td>1</td>\n",
       "      <td>63</td>\n",
       "      <td>0.736299</td>\n",
       "      <td>0.006140</td>\n",
       "    </tr>\n",
       "    <tr>\n",
       "      <th>8914</th>\n",
       "      <td>351704</td>\n",
       "      <td>3352358</td>\n",
       "      <td>0</td>\n",
       "      <td>51</td>\n",
       "      <td>0.483852</td>\n",
       "      <td>0.002894</td>\n",
       "    </tr>\n",
       "    <tr>\n",
       "      <th>8916</th>\n",
       "      <td>3521842</td>\n",
       "      <td>3352884</td>\n",
       "      <td>0</td>\n",
       "      <td>47</td>\n",
       "      <td>0.391926</td>\n",
       "      <td>0.000154</td>\n",
       "    </tr>\n",
       "  </tbody>\n",
       "</table>\n",
       "<p>1732 rows × 6 columns</p>\n",
       "</div>"
      ],
      "text/plain": [
       "      person_id  visit_occurrence_id  death_adm  saps_ii  saps_ii_pred  \\\n",
       "0        248364               141515          0       49      0.437547   \n",
       "7        238079               142483          0       47      0.391926   \n",
       "37        22143               146788          0       23      0.052195   \n",
       "38       210052               151900          0       21      0.041754   \n",
       "41        26227               155503          0       60      0.680887   \n",
       "...         ...                  ...        ...      ...           ...   \n",
       "8906    3511532              3348836          0       40      0.247443   \n",
       "8910    3519950              3351084          0       23      0.052195   \n",
       "8911     355785              3351708          1       63      0.736299   \n",
       "8914     351704              3352358          0       51      0.483852   \n",
       "8916    3521842              3352884          0       47      0.391926   \n",
       "\n",
       "         preds  \n",
       "0     0.055872  \n",
       "7     0.000161  \n",
       "37    0.001853  \n",
       "38    0.004518  \n",
       "41    0.021447  \n",
       "...        ...  \n",
       "8906  0.017030  \n",
       "8910  0.000006  \n",
       "8911  0.006140  \n",
       "8914  0.002894  \n",
       "8916  0.000154  \n",
       "\n",
       "[1732 rows x 6 columns]"
      ]
     },
     "execution_count": 16,
     "metadata": {},
     "output_type": "execute_result"
    }
   ],
   "source": [
    "combinedDf = datamatrixDf[['person_id', 'visit_occurrence_id', 'death_adm']]\\\n",
    "    .merge(sapsDf, how='inner', on=['person_id', 'visit_occurrence_id'])\\\n",
    "        .merge(predsDf, how='inner', on=['person_id', 'visit_occurrence_id'])\\\n",
    "            .drop_duplicates()\n",
    "                # .sample(n=1000)\n",
    "combinedDf"
   ]
  },
  {
   "cell_type": "markdown",
   "metadata": {},
   "source": [
    "## Plot"
   ]
  },
  {
   "cell_type": "code",
   "execution_count": 30,
   "metadata": {},
   "outputs": [
    {
     "data": {
      "image/png": "[encoded data removed]",
      "text/plain": [
       "<Figure size 500x500 with 1 Axes>"
      ]
     },
     "metadata": {},
     "output_type": "display_data"
    }
   ],
   "source": [
    "from sklearn.metrics import auc\n",
    "from sklearn.metrics import roc_curve\n",
    "from sklearn.metrics import RocCurveDisplay\n",
    "from matplotlib import pyplot as plt\n",
    "\n",
    "\n",
    "fig, ax = plt.subplots(figsize=(5, 5))\n",
    "\n",
    "fpr, tpr, _  = roc_curve(combinedDf.death_adm, combinedDf.saps_ii_pred)\n",
    "roc_auc = auc(fpr, tpr)\n",
    "display = RocCurveDisplay.from_predictions(combinedDf.death_adm, combinedDf.saps_ii_pred, name='SAPS II', ax=ax, color='#ffa69e')\n",
    "\n",
    "fpr, tpr, _  = roc_curve(combinedDf.death_adm, combinedDf.preds)\n",
    "roc_auc = auc(fpr, tpr)\n",
    "display = RocCurveDisplay.from_predictions(combinedDf.death_adm, combinedDf.preds, name='XGB Ensemble', ax=ax, color='#84dcc6')\n",
    "\n",
    "plt.show()"
   ]
  }
 ],
 "metadata": {
  "kernelspec": {
   "display_name": ".venv",
   "language": "python",
   "name": "python3"
  },
  "language_info": {
   "codemirror_mode": {
    "name": "ipython",
    "version": 3
   },
   "file_extension": ".py",
   "mimetype": "text/x-python",
   "name": "python",
   "nbconvert_exporter": "python",
   "pygments_lexer": "ipython3",
   "version": "3.8.10"
  }
 },
 "nbformat": 4,
 "nbformat_minor": 2
}
