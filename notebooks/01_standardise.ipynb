{
 "cells": [
  {
   "cell_type": "markdown",
   "metadata": {},
   "source": [
    "# Pipeline for OMOP-CDM migration\n",
    "\n",
    "Set the appropriate configurations in the file: `EHR-QC-Standardise/ehrqc/standardize/Config.py`"
   ]
  },
  {
   "cell_type": "markdown",
   "metadata": {},
   "source": [
    "## Establish DB connection"
   ]
  },
  {
   "cell_type": "code",
   "execution_count": 9,
   "metadata": {},
   "outputs": [],
   "source": [
    "import os\n",
    "import psycopg2\n",
    "\n",
    "def getConnection():\n",
    "\n",
    "    # Connect to postgres with a copy of the MIMIC-III database\n",
    "    con = psycopg2.connect(\n",
    "        dbname=os.environ['POSTGRES_DB_NAME'],\n",
    "        user=os.environ['POSTGRES_USER_NAME'],\n",
    "        host=os.environ['POSTGRES_HOSTNAME'],\n",
    "        port=os.environ['POSTGRES_PORT_NUMBER'],\n",
    "        password=os.environ['POSTGRES_PASSWORD']\n",
    "        )\n",
    "\n",
    "    return con"
   ]
  },
  {
   "cell_type": "markdown",
   "metadata": {},
   "source": [
    "## Import Standard Vocabulary"
   ]
  },
  {
   "cell_type": "code",
   "execution_count": 5,
   "metadata": {},
   "outputs": [
    {
     "name": "stdout",
     "output_type": "stream",
     "text": [
      "2023-11-06 12:18:19,177 - EHR-QC - INFO - Parsing command line arguments\n",
      "2023-11-06 12:18:19,180 - EHR-QC - INFO - Start!!\n",
      "2023-11-06 12:18:19,190 - EHR-QC - INFO - Creating schema: eicu_etl_20231106\n",
      "2023-11-06 12:18:19,190 - EHR-QC - INFO - Creating schema: eicu_etl_20231106\n",
      "2023-11-06 12:18:19,190 - EHR-QC - INFO - Importing Standard Vocabulary (Athena) from CSV files\n",
      "2023-11-06 12:18:19,190 - EHR-QC - INFO - Creating schema: eicu_etl_20231106\n",
      "2023-11-06 12:18:19,191 - EHR-QC - INFO - Creating table: eicu_etl_20231106.voc_concept\n"
     ]
    },
    {
     "name": "stderr",
     "output_type": "stream",
     "text": [
      "/home/yram0006/phd/chapter_2/workspace/EHR-QC-Standardise/ehrqc/standardize/Lookup.py:33: DtypeWarning: Columns (5,6,9) have mixed types. Specify dtype option on import or set low_memory=False.\n",
      "  df = pd.read_csv(filePath, sep='\\t')\n"
     ]
    },
    {
     "name": "stdout",
     "output_type": "stream",
     "text": [
      "2023-11-06 12:18:36,040 - EHR-QC - INFO - Importing data to table: eicu_etl_20231106.voc_concept\n",
      "2023-11-06 12:27:14,774 - EHR-QC - INFO - Creating table: eicu_etl_20231106.voc_vocabulary\n",
      "2023-11-06 12:27:14,809 - EHR-QC - INFO - Importing data to table: eicu_etl_20231106.voc_vocabulary\n",
      "2023-11-06 12:27:14,815 - EHR-QC - INFO - Creating table: eicu_etl_20231106.voc_domain\n",
      "2023-11-06 12:27:14,830 - EHR-QC - INFO - Importing data to table: eicu_etl_20231106.voc_domain\n",
      "2023-11-06 12:27:14,832 - EHR-QC - INFO - Creating table: eicu_etl_20231106.voc_concept_class\n",
      "2023-11-06 12:27:14,852 - EHR-QC - INFO - Importing data to table: eicu_etl_20231106.voc_concept_class\n",
      "2023-11-06 12:27:14,862 - EHR-QC - INFO - Creating table: eicu_etl_20231106.voc_concept_relationship\n",
      "2023-11-06 12:28:24,363 - EHR-QC - INFO - Importing data to table: eicu_etl_20231106.voc_concept_relationship\n",
      "2023-11-06 13:12:20,817 - EHR-QC - INFO - Creating table: eicu_etl_20231106.voc_relationship\n",
      "2023-11-06 13:12:20,973 - EHR-QC - INFO - Importing data to table: eicu_etl_20231106.voc_relationship\n",
      "2023-11-06 13:12:20,997 - EHR-QC - INFO - Creating table: eicu_etl_20231106.voc_concept_synonym\n",
      "2023-11-06 13:12:28,128 - EHR-QC - INFO - Importing data to table: eicu_etl_20231106.voc_concept_synonym\n",
      "2023-11-06 13:13:28,585 - EHR-QC - INFO - Creating table: eicu_etl_20231106.voc_concept_ancestor\n",
      "2023-11-06 13:14:07,356 - EHR-QC - INFO - Importing data to table: eicu_etl_20231106.voc_concept_ancestor\n",
      "2023-11-06 13:43:16,561 - EHR-QC - INFO - Creating schema: eicu_etl_20231106\n",
      "2023-11-06 13:43:16,562 - EHR-QC - INFO - Creating table: eicu_etl_20231106.concept\n"
     ]
    }
   ],
   "source": [
    "import os\n",
    "\n",
    "\n",
    "os.system(\n",
    "    'cd ' + os.environ['EHR_QC_STANDARDISE_BASE'] + ';'\n",
    "    +\n",
    "    '''.venv/bin/python -m ehrqc.standardise.Run -l'''\n",
    ")\n"
   ]
  },
  {
   "cell_type": "markdown",
   "metadata": {},
   "source": [
    "## Import EHR"
   ]
  },
  {
   "cell_type": "code",
   "execution_count": 11,
   "metadata": {},
   "outputs": [
    {
     "name": "stdout",
     "output_type": "stream",
     "text": [
      "2023-11-07 19:22:59,681 - EHR-QC - INFO - Parsing command line arguments\n",
      "2023-11-07 19:22:59,685 - EHR-QC - INFO - Start!!\n",
      "2023-11-07 19:22:59,695 - EHR-QC - INFO - Creating schema: eicu_etl_20231106\n",
      "2023-11-07 19:22:59,695 - EHR-QC - INFO - Creating schema: eicu_etl_20231106\n",
      "2023-11-07 19:22:59,696 - EHR-QC - INFO - Importing EHR data from CSV files\n",
      "2023-11-07 19:22:59,696 - EHR-QC - INFO - Creating table: eicu_etl_20231106.admissions\n",
      "2023-11-07 19:23:01,164 - EHR-QC - INFO - Importing data to table: eicu_etl_20231106.admissions\n",
      "2023-11-07 19:23:12,144 - EHR-QC - INFO - End!!\n"
     ]
    },
    {
     "data": {
      "text/plain": [
       "0"
      ]
     },
     "execution_count": 11,
     "metadata": {},
     "output_type": "execute_result"
    }
   ],
   "source": [
    "import os\n",
    "\n",
    "\n",
    "os.system(\n",
    "    'cd ' + os.environ['EHR_QC_STANDARDISE_BASE'] + ';'\n",
    "    +\n",
    "    '''.venv/bin/python -m ehrqc.standardise.Run -f'''\n",
    ")"
   ]
  },
  {
   "cell_type": "markdown",
   "metadata": {},
   "source": [
    "## Create a Cohort"
   ]
  },
  {
   "cell_type": "markdown",
   "metadata": {},
   "source": [
    "### Creating table episodes within the cohort"
   ]
  },
  {
   "cell_type": "code",
   "execution_count": 8,
   "metadata": {},
   "outputs": [
    {
     "ename": "NameError",
     "evalue": "name 'getConnection' is not defined",
     "output_type": "error",
     "traceback": [
      "\u001b[0;31m---------------------------------------------------------------------------\u001b[0m",
      "\u001b[0;31mNameError\u001b[0m                                 Traceback (most recent call last)",
      "\u001b[1;32m/home/yram0006/phd/chapter_2/workspace/eICU-EHR-Pipeline/notebooks/01_standardise.ipynb Cell 10\u001b[0m line \u001b[0;36m1\n\u001b[0;32m----> <a href='vscode-notebook-cell://ssh-remote%2Bsuperbugai.erc.monash.edu/home/yram0006/phd/chapter_2/workspace/eICU-EHR-Pipeline/notebooks/01_standardise.ipynb#X12sdnNjb2RlLXJlbW90ZQ%3D%3D?line=0'>1</a>\u001b[0m con \u001b[39m=\u001b[39m getConnection()\n\u001b[1;32m      <a href='vscode-notebook-cell://ssh-remote%2Bsuperbugai.erc.monash.edu/home/yram0006/phd/chapter_2/workspace/eICU-EHR-Pipeline/notebooks/01_standardise.ipynb#X12sdnNjb2RlLXJlbW90ZQ%3D%3D?line=2'>3</a>\u001b[0m cohortQuery \u001b[39m=\u001b[39m \u001b[39m'''\u001b[39m\n\u001b[1;32m      <a href='vscode-notebook-cell://ssh-remote%2Bsuperbugai.erc.monash.edu/home/yram0006/phd/chapter_2/workspace/eICU-EHR-Pipeline/notebooks/01_standardise.ipynb#X12sdnNjb2RlLXJlbW90ZQ%3D%3D?line=3'>4</a>\u001b[0m \u001b[39m    create table eicu_etl_20231106.cohort as\u001b[39m\n\u001b[1;32m      <a href='vscode-notebook-cell://ssh-remote%2Bsuperbugai.erc.monash.edu/home/yram0006/phd/chapter_2/workspace/eICU-EHR-Pipeline/notebooks/01_standardise.ipynb#X12sdnNjb2RlLXJlbW90ZQ%3D%3D?line=4'>5</a>\u001b[0m \u001b[39m    select\u001b[39m\n\u001b[0;32m   (...)\u001b[0m\n\u001b[1;32m     <a href='vscode-notebook-cell://ssh-remote%2Bsuperbugai.erc.monash.edu/home/yram0006/phd/chapter_2/workspace/eICU-EHR-Pipeline/notebooks/01_standardise.ipynb#X12sdnNjb2RlLXJlbW90ZQ%3D%3D?line=12'>13</a>\u001b[0m \u001b[39m    ;\u001b[39m\n\u001b[1;32m     <a href='vscode-notebook-cell://ssh-remote%2Bsuperbugai.erc.monash.edu/home/yram0006/phd/chapter_2/workspace/eICU-EHR-Pipeline/notebooks/01_standardise.ipynb#X12sdnNjb2RlLXJlbW90ZQ%3D%3D?line=13'>14</a>\u001b[0m \u001b[39m'''\u001b[39m\n\u001b[1;32m     <a href='vscode-notebook-cell://ssh-remote%2Bsuperbugai.erc.monash.edu/home/yram0006/phd/chapter_2/workspace/eICU-EHR-Pipeline/notebooks/01_standardise.ipynb#X12sdnNjb2RlLXJlbW90ZQ%3D%3D?line=14'>15</a>\u001b[0m \u001b[39mwith\u001b[39;00m con:\n",
      "\u001b[0;31mNameError\u001b[0m: name 'getConnection' is not defined"
     ]
    }
   ],
   "source": [
    "con = getConnection()\n",
    "\n",
    "cohortQuery = '''\n",
    "    create table eicu_etl_20231106.cohort as\n",
    "    select\n",
    "    distinct episode_id\n",
    "    from\n",
    "    eicu_etl_20231106.diagnosis\n",
    "    where\n",
    "    diagnosis like '%995.91%'\n",
    "    or diagnosis like '%995.92%'\n",
    "    or diagnosis like '%785.52%'\n",
    "    ;\n",
    "'''\n",
    "with con:\n",
    "    with con.cursor() as cursor:\n",
    "        cursor.execute(cohortQuery)\n"
   ]
  },
  {
   "cell_type": "markdown",
   "metadata": {},
   "source": [
    "## Stage imported EHR data"
   ]
  },
  {
   "cell_type": "code",
   "execution_count": 13,
   "metadata": {},
   "outputs": [
    {
     "name": "stdout",
     "output_type": "stream",
     "text": [
      "2023-11-07 21:56:10,681 - EHR-QC - INFO - Parsing command line arguments\n",
      "2023-11-07 21:56:10,685 - EHR-QC - INFO - Start!!\n",
      "2023-11-07 21:56:10,695 - EHR-QC - INFO - Creating schema: eicu_etl_20231106\n",
      "2023-11-07 21:56:10,696 - EHR-QC - INFO - Staging EHR data\n",
      "2023-11-07 21:56:10,696 - EHR-QC - INFO - Creating staging table: eicu_etl_20231106.src_labevents\n"
     ]
    }
   ],
   "source": [
    "import os\n",
    "\n",
    "\n",
    "os.system(\n",
    "    'cd ' + os.environ['EHR_QC_STANDARDISE_BASE'] + ';'\n",
    "    +\n",
    "    '''.venv/bin/python -m ehrqc.standardise.Run -s'''\n",
    ")\n"
   ]
  },
  {
   "cell_type": "markdown",
   "metadata": {},
   "source": [
    "## Perform concept mapping"
   ]
  },
  {
   "cell_type": "markdown",
   "metadata": {},
   "source": [
    "### Labs"
   ]
  },
  {
   "cell_type": "markdown",
   "metadata": {},
   "source": [
    "#### Get the concepts to map"
   ]
  },
  {
   "cell_type": "code",
   "execution_count": 31,
   "metadata": {},
   "outputs": [
    {
     "name": "stderr",
     "output_type": "stream",
     "text": [
      "/tmp/ipykernel_47886/2639788538.py:5: UserWarning: pandas only supports SQLAlchemy connectable (engine/connection) or database string URI or sqlite3 DBAPI2 connection. Other DBAPI2 objects are not tested. Please consider using SQLAlchemy.\n",
      "  labsConceptsDf = pd.read_sql_query(\"select distinct itemid as concept from eicu_etl_20231106.src_labevents\", con)\n"
     ]
    }
   ],
   "source": [
    "import pandas as pd\n",
    "\n",
    "\n",
    "con = getConnection()\n",
    "labsConceptsDf = pd.read_sql_query(\"select distinct itemid as concept from eicu_etl_20231106.src_labevents\", con)\n",
    "labsConceptsDf.to_csv(os.environ['EICU_EHR_PIPELINE_BASE'] + '/data/concept_mapping/concepts_labs.csv', index=False)\n"
   ]
  },
  {
   "cell_type": "markdown",
   "metadata": {},
   "source": [
    "#### Perform the concept mapping"
   ]
  },
  {
   "cell_type": "code",
   "execution_count": 1,
   "metadata": {},
   "outputs": [
    {
     "name": "stderr",
     "output_type": "stream",
     "text": [
      "/superbugai-data/yash/chapter_2/workspace/EHR-QC-Standardise/.venv/lib/python3.9/site-packages/fuzzywuzzy/fuzz.py:11: UserWarning: Using slow pure-python SequenceMatcher. Install python-Levenshtein to remove this warning\n",
      "  warnings.warn('Using slow pure-python SequenceMatcher. Install python-Levenshtein to remove this warning')\n"
     ]
    },
    {
     "name": "stdout",
     "output_type": "stream",
     "text": [
      "Parsing command line arguments\n",
      "2023-11-07 15:57:10,286 - EHR-QC - INFO - domain_id: Measurement\n",
      "2023-11-07 15:57:10,286 - EHR-QC - INFO - vocabulary_id: SNOMED\n",
      "2023-11-07 15:57:10,286 - EHR-QC - INFO - concept_class_id: Observable Entity\n",
      "2023-11-07 15:57:10,287 - EHR-QC - INFO - concepts_path: /home/yram0006/phd/chapter_2/workspace/eICU-EHR-Pipeline/data/concept_mapping/concepts_labs.csv\n",
      "2023-11-07 15:57:10,287 - EHR-QC - INFO - concept_name_row: concept\n",
      "2023-11-07 15:57:10,287 - EHR-QC - INFO - mapped_concepts_save_path: /home/yram0006/phd/chapter_2/workspace/eICU-EHR-Pipeline/data/concept_mapping/concepts_labs_to_review.csv\n",
      "2023-11-07 15:57:10,287 - EHR-QC - INFO - model_pack_path: /home/yram0006/phd/chapter_2/workspace/eICU-EHR-Pipeline/data/medcat/mc_modelpack_snomed_int_16_mar_2022_25be3857ba34bdd5.zip\n",
      "2023-11-07 15:57:10,640 - EHR-QC - INFO - Getting connection\n",
      "2023-11-07 15:57:10,651 - EHR-QC - INFO - Reading concepts\n"
     ]
    },
    {
     "name": "stderr",
     "output_type": "stream",
     "text": [
      "/superbugai-data/yash/chapter_2/workspace/EHR-QC-Standardise/ehrqc/standardise/MapConcepts.py:116: UserWarning: pandas only supports SQLAlchemy connectable (engine/connection) or database string URI or sqlite3 DBAPI2 connection. Other DBAPI2 objects are not tested. Please consider using SQLAlchemy.\n",
      "  standardConceptsDf = pd.read_sql_query(standardConceptsQuery, con)\n"
     ]
    },
    {
     "name": "stdout",
     "output_type": "stream",
     "text": [
      "2023-11-07 15:57:11,864 - EHR-QC - INFO - Creating reverse index\n",
      "2023-11-07 15:57:12,653 - EHR-QC - INFO - Initializing Medcat\n"
     ]
    },
    {
     "name": "stderr",
     "output_type": "stream",
     "text": [
      "/superbugai-data/yash/chapter_2/workspace/EHR-QC-Standardise/.venv/lib/python3.9/site-packages/torch/__init__.py:614: UserWarning: torch.set_default_tensor_type() is deprecated as of PyTorch 2.1, please use torch.set_default_dtype() and torch.set_default_device() as alternatives. (Triggered internally at ../torch/csrc/tensor/python_tensor.cpp:451.)\n",
      "  _C._set_default_tensor_type(t)\n",
      "100%|██████████| 155/155 [00:54<00:00,  2.84it/s]\n"
     ]
    },
    {
     "data": {
      "text/plain": [
       "0"
      ]
     },
     "execution_count": 1,
     "metadata": {},
     "output_type": "execute_result"
    }
   ],
   "source": [
    "import os\n",
    "\n",
    "\n",
    "os.system(\n",
    "    'cd ' + os.environ['EHR_QC_STANDARDISE_BASE'] + ';'\n",
    "    +\n",
    "    '''.venv/bin/python -m ehrqc.standardise.MapConcepts \"Measurement\" \"SNOMED\" \"Observable Entity\" \"''' + os.environ['EICU_EHR_PIPELINE_BASE'] + '''/data/concept_mapping/concepts_labs.csv\" \"concept\" \"''' + os.environ['EICU_EHR_PIPELINE_BASE'] + '''/data/concept_mapping/concepts_labs_to_review.csv\" --model_pack_path=\"''' + os.environ['EICU_EHR_PIPELINE_BASE'] + '''/data/medcat/mc_modelpack_snomed_int_16_mar_2022_25be3857ba34bdd5.zip\"'''\n",
    ")\n"
   ]
  },
  {
   "cell_type": "markdown",
   "metadata": {},
   "source": [
    "### Vitals\n",
    "\n",
    "`In this data the vitals are already standardised and aggregated, hence not performing concept mapping for them.`"
   ]
  },
  {
   "cell_type": "markdown",
   "metadata": {},
   "source": [
    "## Import Mapped Concepts"
   ]
  },
  {
   "cell_type": "code",
   "execution_count": 3,
   "metadata": {},
   "outputs": [
    {
     "name": "stdout",
     "output_type": "stream",
     "text": [
      "2023-11-07 19:02:25,551 - EHR-QC - INFO - Parsing command line arguments\n",
      "2023-11-07 19:02:25,554 - EHR-QC - INFO - Start!!\n",
      "2023-11-07 19:02:25,563 - EHR-QC - INFO - Creating schema: eicu_etl_20231106\n",
      "2023-11-07 19:02:25,564 - EHR-QC - INFO - Import Concept Mappings\n",
      "2023-11-07 19:02:25,564 - EHR-QC - INFO - Creating table: eicu_etl_20231106.concept_mapping\n",
      "2023-11-07 19:02:25,954 - EHR-QC - INFO - Importing data to table: eicu_etl_20231106.concept_mapping\n",
      "2023-11-07 19:02:25,960 - EHR-QC - INFO - End!!\n"
     ]
    },
    {
     "data": {
      "text/plain": [
       "0"
      ]
     },
     "execution_count": 3,
     "metadata": {},
     "output_type": "execute_result"
    }
   ],
   "source": [
    "import os\n",
    "\n",
    "\n",
    "os.system(\n",
    "    'cd ' + os.environ['EHR_QC_STANDARDISE_BASE'] + ';'\n",
    "    +\n",
    "    '''.venv/bin/python -m ehrqc.standardise.Run -c'''\n",
    ")\n"
   ]
  },
  {
   "cell_type": "markdown",
   "metadata": {},
   "source": [
    "## Perform ETL"
   ]
  },
  {
   "cell_type": "code",
   "execution_count": 12,
   "metadata": {},
   "outputs": [
    {
     "name": "stdout",
     "output_type": "stream",
     "text": [
      "2023-11-07 21:34:17,165 - EHR-QC - INFO - Parsing command line arguments\n",
      "2023-11-07 21:34:17,168 - EHR-QC - INFO - Start!!\n",
      "2023-11-07 21:34:17,177 - EHR-QC - INFO - Creating schema: eicu_etl_20231106\n",
      "2023-11-07 21:34:17,178 - EHR-QC - INFO - Performing ETL\n",
      "2023-11-07 21:34:17,178 - EHR-QC - INFO - ETL for the entity: Visit Occurrence\n",
      "2023-11-07 21:34:17,178 - EHR-QC - INFO - Creating table: eicu_etl_20231106.cdm_visit_occurrence\n",
      "2023-11-07 21:34:17,178 - EHR-QC - INFO - Dropping table if exists: eicu_etl_20231106.cdm_visit_occurrence\n",
      "2023-11-07 21:34:17,178 - EHR-QC - INFO - Creating table: eicu_etl_20231106.cdm_visit_occurrence\n",
      "2023-11-07 21:34:17,183 - EHR-QC - INFO - Loading table: eicu_etl_20231106.cdm_visit_occurrence\n",
      "2023-11-07 21:34:17,289 - EHR-QC - INFO - End!!\n"
     ]
    },
    {
     "data": {
      "text/plain": [
       "0"
      ]
     },
     "execution_count": 12,
     "metadata": {},
     "output_type": "execute_result"
    }
   ],
   "source": [
    "import os\n",
    "\n",
    "\n",
    "os.system(\n",
    "    'cd ' + os.environ['EHR_QC_STANDARDISE_BASE'] + ';'\n",
    "    +\n",
    "    '''.venv/bin/python -m ehrqc.standardise.Run -e'''\n",
    ")\n"
   ]
  }
 ],
 "metadata": {
  "kernelspec": {
   "display_name": ".venv",
   "language": "python",
   "name": "python3"
  },
  "language_info": {
   "codemirror_mode": {
    "name": "ipython",
    "version": 3
   },
   "file_extension": ".py",
   "mimetype": "text/x-python",
   "name": "python",
   "nbconvert_exporter": "python",
   "pygments_lexer": "ipython3",
   "version": "3.8.10"
  }
 },
 "nbformat": 4,
 "nbformat_minor": 2
}
