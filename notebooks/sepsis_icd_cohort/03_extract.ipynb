{
 "cells": [
  {
   "cell_type": "markdown",
   "metadata": {},
   "source": [
    "# Extract the data"
   ]
  },
  {
   "cell_type": "markdown",
   "metadata": {},
   "source": [
    "## Labs - from standard OMOP-CDM schema to csv files"
   ]
  },
  {
   "cell_type": "markdown",
   "metadata": {},
   "source": [
    "### Average per episode and date"
   ]
  },
  {
   "cell_type": "code",
   "execution_count": 1,
   "metadata": {},
   "outputs": [
    {
     "name": "stdout",
     "output_type": "stream",
     "text": [
      "2023-11-09 13:50:01,558 - EHR-QC - INFO - Parsing command line arguments\n",
      "2023-11-09 13:50:01,559 - EHR-QC - INFO - args.save_path: /home/yram0006/phd/chapter_2/workspace/eICU-EHR-Pipeline/data/extracts/labs_avg_episode_date.csv\n",
      "2023-11-09 13:50:01,559 - EHR-QC - INFO - args.schema_name: eicu_etl_20231106\n",
      "2023-11-09 13:50:01,559 - EHR-QC - INFO - args.sql_file_path: /home/yram0006/phd/chapter_2/workspace/EHR-QC-Preprocess/sql/eicu_icd_cohort/omop_labs_episode_date/avg.sql\n",
      "2023-11-09 13:50:01,902 - EHR-QC - INFO - extracting data\n"
     ]
    },
    {
     "name": "stderr",
     "output_type": "stream",
     "text": [
      "/superbugai-data/yash/chapter_2/workspace/EHR-QC-Preprocess/ehrqc/extract/ExtractData.py:11: UserWarning: pandas only supports SQLAlchemy connectable (engine/connection) or database string URI or sqlite3 DBAPI2 connection. Other DBAPI2 objects are not tested. Please consider using SQLAlchemy.\n",
      "  mimicOmopSepsisIcdDf = pd.read_sql_query(mimicOmopSepsisIcdQuery, con)\n"
     ]
    },
    {
     "name": "stdout",
     "output_type": "stream",
     "text": [
      "2023-11-09 13:50:07,309 - EHR-QC - INFO - Saving raw data to file\n"
     ]
    },
    {
     "data": {
      "text/plain": [
       "0"
      ]
     },
     "execution_count": 1,
     "metadata": {},
     "output_type": "execute_result"
    }
   ],
   "source": [
    "import os\n",
    "\n",
    "\n",
    "os.system(\n",
    "    'cd ' + os.environ['EHR_QC_PREPROCESS_BASE'] + ';'\n",
    "    +\n",
    "    '''.venv/bin/python -m ehrqc.extract.ExtractData ''' + os.environ['EICU_EHR_PIPELINE_BASE'] + '''/data/extracts/labs_avg_episode_date.csv eicu_etl_20231106 ''' + os.environ['EHR_QC_PREPROCESS_BASE'] + '''/sql/eicu_icd_cohort/omop_labs_episode_date/avg.sql;'''\n",
    "    )\n"
   ]
  },
  {
   "cell_type": "markdown",
   "metadata": {},
   "source": [
    "### Std per episode and date"
   ]
  },
  {
   "cell_type": "code",
   "execution_count": 2,
   "metadata": {},
   "outputs": [
    {
     "name": "stdout",
     "output_type": "stream",
     "text": [
      "2023-11-09 13:50:09,440 - EHR-QC - INFO - Parsing command line arguments\n",
      "2023-11-09 13:50:09,441 - EHR-QC - INFO - args.save_path: /home/yram0006/phd/chapter_2/workspace/eICU-EHR-Pipeline/data/extracts/labs_std_episode_date.csv\n",
      "2023-11-09 13:50:09,441 - EHR-QC - INFO - args.schema_name: eicu_etl_20231106\n",
      "2023-11-09 13:50:09,441 - EHR-QC - INFO - args.sql_file_path: /home/yram0006/phd/chapter_2/workspace/EHR-QC-Preprocess/sql/eicu_icd_cohort/omop_labs_episode_date/stddev.sql\n",
      "2023-11-09 13:50:09,464 - EHR-QC - INFO - extracting data\n"
     ]
    },
    {
     "name": "stderr",
     "output_type": "stream",
     "text": [
      "/superbugai-data/yash/chapter_2/workspace/EHR-QC-Preprocess/ehrqc/extract/ExtractData.py:11: UserWarning: pandas only supports SQLAlchemy connectable (engine/connection) or database string URI or sqlite3 DBAPI2 connection. Other DBAPI2 objects are not tested. Please consider using SQLAlchemy.\n",
      "  mimicOmopSepsisIcdDf = pd.read_sql_query(mimicOmopSepsisIcdQuery, con)\n"
     ]
    },
    {
     "name": "stdout",
     "output_type": "stream",
     "text": [
      "2023-11-09 13:50:14,047 - EHR-QC - INFO - Saving raw data to file\n"
     ]
    },
    {
     "data": {
      "text/plain": [
       "0"
      ]
     },
     "execution_count": 2,
     "metadata": {},
     "output_type": "execute_result"
    }
   ],
   "source": [
    "import os\n",
    "\n",
    "\n",
    "os.system(\n",
    "    'cd ' + os.environ['EHR_QC_PREPROCESS_BASE'] + ';'\n",
    "    +\n",
    "    '''.venv/bin/python -m ehrqc.extract.ExtractData ''' + os.environ['EICU_EHR_PIPELINE_BASE'] + '''/data/extracts/labs_std_episode_date.csv eicu_etl_20231106 ''' + os.environ['EHR_QC_PREPROCESS_BASE'] + '''/sql/eicu_icd_cohort/omop_labs_episode_date/stddev.sql;'''\n",
    "    )\n"
   ]
  },
  {
   "cell_type": "markdown",
   "metadata": {},
   "source": [
    "### Min per episode and date"
   ]
  },
  {
   "cell_type": "code",
   "execution_count": 3,
   "metadata": {},
   "outputs": [
    {
     "name": "stdout",
     "output_type": "stream",
     "text": [
      "2023-11-09 13:50:15,688 - EHR-QC - INFO - Parsing command line arguments\n",
      "2023-11-09 13:50:15,689 - EHR-QC - INFO - args.save_path: /home/yram0006/phd/chapter_2/workspace/eICU-EHR-Pipeline/data/extracts/labs_min_episode_date.csv\n",
      "2023-11-09 13:50:15,689 - EHR-QC - INFO - args.schema_name: eicu_etl_20231106\n",
      "2023-11-09 13:50:15,689 - EHR-QC - INFO - args.sql_file_path: /home/yram0006/phd/chapter_2/workspace/EHR-QC-Preprocess/sql/eicu_icd_cohort/omop_labs_episode_date/min.sql\n",
      "2023-11-09 13:50:15,712 - EHR-QC - INFO - extracting data\n"
     ]
    },
    {
     "name": "stderr",
     "output_type": "stream",
     "text": [
      "/superbugai-data/yash/chapter_2/workspace/EHR-QC-Preprocess/ehrqc/extract/ExtractData.py:11: UserWarning: pandas only supports SQLAlchemy connectable (engine/connection) or database string URI or sqlite3 DBAPI2 connection. Other DBAPI2 objects are not tested. Please consider using SQLAlchemy.\n",
      "  mimicOmopSepsisIcdDf = pd.read_sql_query(mimicOmopSepsisIcdQuery, con)\n"
     ]
    },
    {
     "name": "stdout",
     "output_type": "stream",
     "text": [
      "2023-11-09 13:50:19,861 - EHR-QC - INFO - Saving raw data to file\n"
     ]
    },
    {
     "data": {
      "text/plain": [
       "0"
      ]
     },
     "execution_count": 3,
     "metadata": {},
     "output_type": "execute_result"
    }
   ],
   "source": [
    "import os\n",
    "\n",
    "\n",
    "os.system(\n",
    "    'cd ' + os.environ['EHR_QC_PREPROCESS_BASE'] + ';'\n",
    "    +\n",
    "    '''.venv/bin/python -m ehrqc.extract.ExtractData ''' + os.environ['EICU_EHR_PIPELINE_BASE'] + '''/data/extracts/labs_min_episode_date.csv eicu_etl_20231106 ''' + os.environ['EHR_QC_PREPROCESS_BASE'] + '''/sql/eicu_icd_cohort/omop_labs_episode_date/min.sql;'''\n",
    "    )\n"
   ]
  },
  {
   "cell_type": "markdown",
   "metadata": {},
   "source": [
    "### Max per episode and date"
   ]
  },
  {
   "cell_type": "code",
   "execution_count": 4,
   "metadata": {},
   "outputs": [
    {
     "name": "stdout",
     "output_type": "stream",
     "text": [
      "2023-11-09 13:50:21,904 - EHR-QC - INFO - Parsing command line arguments\n",
      "2023-11-09 13:50:21,905 - EHR-QC - INFO - args.save_path: /home/yram0006/phd/chapter_2/workspace/eICU-EHR-Pipeline/data/extracts/labs_max_episode_date.csv\n",
      "2023-11-09 13:50:21,905 - EHR-QC - INFO - args.schema_name: eicu_etl_20231106\n",
      "2023-11-09 13:50:21,905 - EHR-QC - INFO - args.sql_file_path: /home/yram0006/phd/chapter_2/workspace/EHR-QC-Preprocess/sql/eicu_icd_cohort/omop_labs_episode_date/max.sql\n",
      "2023-11-09 13:50:21,929 - EHR-QC - INFO - extracting data\n"
     ]
    },
    {
     "name": "stderr",
     "output_type": "stream",
     "text": [
      "/superbugai-data/yash/chapter_2/workspace/EHR-QC-Preprocess/ehrqc/extract/ExtractData.py:11: UserWarning: pandas only supports SQLAlchemy connectable (engine/connection) or database string URI or sqlite3 DBAPI2 connection. Other DBAPI2 objects are not tested. Please consider using SQLAlchemy.\n",
      "  mimicOmopSepsisIcdDf = pd.read_sql_query(mimicOmopSepsisIcdQuery, con)\n"
     ]
    },
    {
     "name": "stdout",
     "output_type": "stream",
     "text": [
      "2023-11-09 13:50:26,300 - EHR-QC - INFO - Saving raw data to file\n"
     ]
    },
    {
     "data": {
      "text/plain": [
       "0"
      ]
     },
     "execution_count": 4,
     "metadata": {},
     "output_type": "execute_result"
    }
   ],
   "source": [
    "import os\n",
    "\n",
    "\n",
    "os.system(\n",
    "    'cd ' + os.environ['EHR_QC_PREPROCESS_BASE'] + ';'\n",
    "    +\n",
    "    '''.venv/bin/python -m ehrqc.extract.ExtractData ''' + os.environ['EICU_EHR_PIPELINE_BASE'] + '''/data/extracts/labs_max_episode_date.csv eicu_etl_20231106 ''' + os.environ['EHR_QC_PREPROCESS_BASE'] + '''/sql/eicu_icd_cohort/omop_labs_episode_date/max.sql;'''\n",
    "    )\n"
   ]
  },
  {
   "cell_type": "markdown",
   "metadata": {},
   "source": [
    "### First per episode and date"
   ]
  },
  {
   "cell_type": "code",
   "execution_count": 5,
   "metadata": {},
   "outputs": [
    {
     "name": "stdout",
     "output_type": "stream",
     "text": [
      "2023-11-09 13:50:28,493 - EHR-QC - INFO - Parsing command line arguments\n",
      "2023-11-09 13:50:28,494 - EHR-QC - INFO - args.save_path: /home/yram0006/phd/chapter_2/workspace/eICU-EHR-Pipeline/data/extracts/labs_first_episode_date.csv\n",
      "2023-11-09 13:50:28,494 - EHR-QC - INFO - args.schema_name: eicu_etl_20231106\n",
      "2023-11-09 13:50:28,494 - EHR-QC - INFO - args.sql_file_path: /home/yram0006/phd/chapter_2/workspace/EHR-QC-Preprocess/sql/eicu_icd_cohort/omop_labs_episode_date/first.sql\n",
      "2023-11-09 13:50:28,518 - EHR-QC - INFO - extracting data\n"
     ]
    },
    {
     "name": "stderr",
     "output_type": "stream",
     "text": [
      "/superbugai-data/yash/chapter_2/workspace/EHR-QC-Preprocess/ehrqc/extract/ExtractData.py:11: UserWarning: pandas only supports SQLAlchemy connectable (engine/connection) or database string URI or sqlite3 DBAPI2 connection. Other DBAPI2 objects are not tested. Please consider using SQLAlchemy.\n",
      "  mimicOmopSepsisIcdDf = pd.read_sql_query(mimicOmopSepsisIcdQuery, con)\n"
     ]
    },
    {
     "name": "stdout",
     "output_type": "stream",
     "text": [
      "2023-11-09 13:50:45,171 - EHR-QC - INFO - Saving raw data to file\n"
     ]
    },
    {
     "data": {
      "text/plain": [
       "0"
      ]
     },
     "execution_count": 5,
     "metadata": {},
     "output_type": "execute_result"
    }
   ],
   "source": [
    "import os\n",
    "\n",
    "\n",
    "os.system(\n",
    "    'cd ' + os.environ['EHR_QC_PREPROCESS_BASE'] + ';'\n",
    "    +\n",
    "    '''.venv/bin/python -m ehrqc.extract.ExtractData ''' + os.environ['EICU_EHR_PIPELINE_BASE'] + '''/data/extracts/labs_first_episode_date.csv eicu_etl_20231106 ''' + os.environ['EHR_QC_PREPROCESS_BASE'] + '''/sql/eicu_icd_cohort/omop_labs_episode_date/first.sql;'''\n",
    "    )\n"
   ]
  },
  {
   "cell_type": "markdown",
   "metadata": {},
   "source": [
    "### Last per episode and date"
   ]
  },
  {
   "cell_type": "code",
   "execution_count": 6,
   "metadata": {},
   "outputs": [
    {
     "name": "stdout",
     "output_type": "stream",
     "text": [
      "2023-11-09 13:50:47,213 - EHR-QC - INFO - Parsing command line arguments\n",
      "2023-11-09 13:50:47,214 - EHR-QC - INFO - args.save_path: /home/yram0006/phd/chapter_2/workspace/eICU-EHR-Pipeline/data/extracts/labs_last_episode_date.csv\n",
      "2023-11-09 13:50:47,214 - EHR-QC - INFO - args.schema_name: eicu_etl_20231106\n",
      "2023-11-09 13:50:47,214 - EHR-QC - INFO - args.sql_file_path: /home/yram0006/phd/chapter_2/workspace/EHR-QC-Preprocess/sql/eicu_icd_cohort/omop_labs_episode_date/last.sql\n",
      "2023-11-09 13:50:47,236 - EHR-QC - INFO - extracting data\n"
     ]
    },
    {
     "name": "stderr",
     "output_type": "stream",
     "text": [
      "/superbugai-data/yash/chapter_2/workspace/EHR-QC-Preprocess/ehrqc/extract/ExtractData.py:11: UserWarning: pandas only supports SQLAlchemy connectable (engine/connection) or database string URI or sqlite3 DBAPI2 connection. Other DBAPI2 objects are not tested. Please consider using SQLAlchemy.\n",
      "  mimicOmopSepsisIcdDf = pd.read_sql_query(mimicOmopSepsisIcdQuery, con)\n"
     ]
    },
    {
     "name": "stdout",
     "output_type": "stream",
     "text": [
      "2023-11-09 13:51:03,904 - EHR-QC - INFO - Saving raw data to file\n"
     ]
    },
    {
     "data": {
      "text/plain": [
       "0"
      ]
     },
     "execution_count": 6,
     "metadata": {},
     "output_type": "execute_result"
    }
   ],
   "source": [
    "import os\n",
    "\n",
    "\n",
    "os.system(\n",
    "    'cd ' + os.environ['EHR_QC_PREPROCESS_BASE'] + ';'\n",
    "    +\n",
    "    '''.venv/bin/python -m ehrqc.extract.ExtractData ''' + os.environ['EICU_EHR_PIPELINE_BASE'] + '''/data/extracts/labs_last_episode_date.csv eicu_etl_20231106 ''' + os.environ['EHR_QC_PREPROCESS_BASE'] + '''/sql/eicu_icd_cohort/omop_labs_episode_date/last.sql;'''\n",
    "    )\n"
   ]
  },
  {
   "cell_type": "markdown",
   "metadata": {},
   "source": [
    "## Admissions - from standard OMOP-CDM schema to csv files"
   ]
  },
  {
   "cell_type": "code",
   "execution_count": 3,
   "metadata": {},
   "outputs": [
    {
     "name": "stdout",
     "output_type": "stream",
     "text": [
      "2023-11-13 13:43:08,828 - EHR-QC - INFO - Parsing command line arguments\n",
      "2023-11-13 13:43:08,829 - EHR-QC - INFO - args.save_path: /home/yram0006/phd/chapter_2/workspace/eICU-EHR-Pipeline/data/extracts/admissions.csv\n",
      "2023-11-13 13:43:08,829 - EHR-QC - INFO - args.schema_name: eicu_etl_20231106\n",
      "2023-11-13 13:43:08,829 - EHR-QC - INFO - args.sql_file_path: /home/yram0006/phd/chapter_2/workspace/EHR-QC-Preprocess/sql/eicu_icd_cohort/admissions.sql\n",
      "2023-11-13 13:43:08,853 - EHR-QC - INFO - extracting data\n",
      "2023-11-13 13:43:08,885 - EHR-QC - INFO - Saving raw data to file\n",
      "2023-11-13 13:43:08,916 - EHR-QC - INFO - Done!\n"
     ]
    },
    {
     "name": "stderr",
     "output_type": "stream",
     "text": [
      "/superbugai-data/yash/chapter_2/workspace/EHR-QC-Preprocess/ehrqc/extract/ExtractData.py:11: UserWarning: pandas only supports SQLAlchemy connectable (engine/connection) or database string URI or sqlite3 DBAPI2 connection. Other DBAPI2 objects are not tested. Please consider using SQLAlchemy.\n",
      "  mimicOmopSepsisIcdDf = pd.read_sql_query(mimicOmopSepsisIcdQuery, con)\n"
     ]
    },
    {
     "data": {
      "text/plain": [
       "0"
      ]
     },
     "execution_count": 3,
     "metadata": {},
     "output_type": "execute_result"
    }
   ],
   "source": [
    "import os\n",
    "\n",
    "\n",
    "os.system(\n",
    "    'cd ' + os.environ['EHR_QC_PREPROCESS_BASE'] + ';'\n",
    "    +\n",
    "    '''.venv/bin/python -m ehrqc.extract.ExtractData ''' + os.environ['EICU_EHR_PIPELINE_BASE'] + '''/data/extracts/admissions.csv eicu_etl_20231106 ''' + os.environ['EHR_QC_PREPROCESS_BASE'] + '''/sql/eicu_icd_cohort/admissions.sql;'''\n",
    "    )\n"
   ]
  }
 ],
 "metadata": {
  "kernelspec": {
   "display_name": ".venv",
   "language": "python",
   "name": "python3"
  },
  "language_info": {
   "codemirror_mode": {
    "name": "ipython",
    "version": 3
   },
   "file_extension": ".py",
   "mimetype": "text/x-python",
   "name": "python",
   "nbconvert_exporter": "python",
   "pygments_lexer": "ipython3",
   "version": "3.8.10"
  }
 },
 "nbformat": 4,
 "nbformat_minor": 2
}
