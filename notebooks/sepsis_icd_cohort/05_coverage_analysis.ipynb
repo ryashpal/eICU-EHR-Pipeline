{
 "cells": [
  {
   "cell_type": "markdown",
   "metadata": {},
   "source": [
    "# Coverage Analysis"
   ]
  },
  {
   "cell_type": "markdown",
   "metadata": {},
   "source": [
    "## Vitals"
   ]
  },
  {
   "cell_type": "markdown",
   "metadata": {},
   "source": [
    "### avg"
   ]
  },
  {
   "cell_type": "code",
   "execution_count": 2,
   "metadata": {},
   "outputs": [
    {
     "name": "stdout",
     "output_type": "stream",
     "text": [
      "2023-11-15 10:20:53,748 - EHR-QC - INFO - Parsing command line arguments\n",
      "2023-11-15 10:20:53,749 - EHR-QC - INFO - Start!!\n",
      "2023-11-15 10:20:53,749 - EHR-QC - INFO - args.source_file: /home/yram0006/phd/chapter_2/workspace/eICU-EHR-Pipeline/data/extracts/vitals_avg_episode_date.csv\n",
      "2023-11-15 10:20:53,749 - EHR-QC - INFO - args.chunksize: 100\n",
      "2023-11-15 10:20:53,749 - EHR-QC - INFO - args.id_columns: ['patientunitstayid', 'observationday']\n",
      "2023-11-15 10:20:53,749 - EHR-QC - INFO - args.drop: True\n",
      "2023-11-15 10:20:53,749 - EHR-QC - INFO - args.percentage: 25.0\n",
      "2023-11-15 10:20:53,749 - EHR-QC - INFO - args.save_path: /home/yram0006/phd/chapter_2/workspace/eICU-EHR-Pipeline/data/dropped/vitals_avg_episode_date.csv\n",
      "2023-11-15 10:20:53,749 - EHR-QC - INFO - Calculating Missingnes\n",
      "2023-11-15 10:20:59,158 - EHR-QC - INFO - Missingness Report\n",
      "2023-11-15 10:20:59,161 - EHR-QC - INFO - \n",
      "\n",
      "          column_name  missing_count  total_count  percentage_missing\n",
      "0           heartrate             22       161624                0.01\n",
      "1         respiration          10870       161624                6.73\n",
      "2                sao2           1329       161624                0.82\n",
      "3  systemic_diastolic          32540       161624               20.13\n",
      "4       systemic_mean          31987       161624               19.79\n",
      "5   systemic_systolic          32533       161624               20.13\n",
      "6         temperature         102268       161624               63.28\n",
      "\n",
      "2023-11-15 10:20:59,161 - EHR-QC - INFO - Dropping columns with above 25.0 % missingness\n",
      "2023-11-15 10:21:01,287 - EHR-QC - INFO - Saving data to /home/yram0006/phd/chapter_2/workspace/eICU-EHR-Pipeline/data/dropped/vitals_avg_episode_date.csv\n",
      "2023-11-15 10:21:02,400 - EHR-QC - INFO - Done!!\n"
     ]
    },
    {
     "data": {
      "text/plain": [
       "0"
      ]
     },
     "execution_count": 2,
     "metadata": {},
     "output_type": "execute_result"
    }
   ],
   "source": [
    "import os\n",
    "\n",
    "\n",
    "os.system(\n",
    "    'cd ' + os.environ['EHR_QC_PREPROCESS_BASE'] + ';'\n",
    "    +\n",
    "    '''.venv/bin/python -m ehrqc.coverage.Coverage ''' + os.environ['EICU_EHR_PIPELINE_BASE'] + '''/data/extracts/vitals_avg_episode_date.csv 100 -i \"patientunitstayid\" \"observationday\" -d -p 25 -sp ''' + os.environ['EICU_EHR_PIPELINE_BASE'] + '''/data/dropped/vitals_avg_episode_date.csv'''\n",
    "    )\n"
   ]
  },
  {
   "cell_type": "markdown",
   "metadata": {},
   "source": [
    "### min"
   ]
  },
  {
   "cell_type": "code",
   "execution_count": 3,
   "metadata": {},
   "outputs": [
    {
     "name": "stdout",
     "output_type": "stream",
     "text": [
      "2023-11-15 10:21:02,854 - EHR-QC - INFO - Parsing command line arguments\n",
      "2023-11-15 10:21:02,855 - EHR-QC - INFO - Start!!\n",
      "2023-11-15 10:21:02,855 - EHR-QC - INFO - args.source_file: /home/yram0006/phd/chapter_2/workspace/eICU-EHR-Pipeline/data/extracts/vitals_min_episode_date.csv\n",
      "2023-11-15 10:21:02,855 - EHR-QC - INFO - args.chunksize: 100\n",
      "2023-11-15 10:21:02,855 - EHR-QC - INFO - args.id_columns: ['patientunitstayid', 'observationday']\n",
      "2023-11-15 10:21:02,855 - EHR-QC - INFO - args.drop: True\n",
      "2023-11-15 10:21:02,855 - EHR-QC - INFO - args.percentage: 25.0\n",
      "2023-11-15 10:21:02,855 - EHR-QC - INFO - args.save_path: /home/yram0006/phd/chapter_2/workspace/eICU-EHR-Pipeline/data/dropped/vitals_min_episode_date.csv\n",
      "2023-11-15 10:21:02,855 - EHR-QC - INFO - Calculating Missingnes\n",
      "2023-11-15 10:21:08,350 - EHR-QC - INFO - Missingness Report\n",
      "2023-11-15 10:21:08,354 - EHR-QC - INFO - \n",
      "\n",
      "          column_name  missing_count  total_count  percentage_missing\n",
      "0           heartrate             22       161624                0.01\n",
      "1         respiration          10870       161624                6.73\n",
      "2                sao2           1329       161624                0.82\n",
      "3  systemic_diastolic          32540       161624               20.13\n",
      "4       systemic_mean          31987       161624               19.79\n",
      "5   systemic_systolic          32533       161624               20.13\n",
      "6         temperature         102268       161624               63.28\n",
      "\n",
      "2023-11-15 10:21:08,354 - EHR-QC - INFO - Dropping columns with above 25.0 % missingness\n",
      "2023-11-15 10:21:10,420 - EHR-QC - INFO - Saving data to /home/yram0006/phd/chapter_2/workspace/eICU-EHR-Pipeline/data/dropped/vitals_min_episode_date.csv\n",
      "2023-11-15 10:21:11,108 - EHR-QC - INFO - Done!!\n"
     ]
    },
    {
     "data": {
      "text/plain": [
       "0"
      ]
     },
     "execution_count": 3,
     "metadata": {},
     "output_type": "execute_result"
    }
   ],
   "source": [
    "import os\n",
    "\n",
    "\n",
    "os.system(\n",
    "    'cd ' + os.environ['EHR_QC_PREPROCESS_BASE'] + ';'\n",
    "    +\n",
    "    '''.venv/bin/python -m ehrqc.coverage.Coverage ''' + os.environ['EICU_EHR_PIPELINE_BASE'] + '''/data/extracts/vitals_min_episode_date.csv 100 -i \"patientunitstayid\" \"observationday\" -d -p 25 -sp ''' + os.environ['EICU_EHR_PIPELINE_BASE'] + '''/data/dropped/vitals_min_episode_date.csv'''\n",
    "    )\n"
   ]
  },
  {
   "cell_type": "markdown",
   "metadata": {},
   "source": [
    "### max"
   ]
  },
  {
   "cell_type": "code",
   "execution_count": 4,
   "metadata": {},
   "outputs": [
    {
     "name": "stdout",
     "output_type": "stream",
     "text": [
      "2023-11-15 10:21:12,244 - EHR-QC - INFO - Parsing command line arguments\n",
      "2023-11-15 10:21:12,245 - EHR-QC - INFO - Start!!\n",
      "2023-11-15 10:21:12,245 - EHR-QC - INFO - args.source_file: /home/yram0006/phd/chapter_2/workspace/eICU-EHR-Pipeline/data/extracts/vitals_max_episode_date.csv\n",
      "2023-11-15 10:21:12,245 - EHR-QC - INFO - args.chunksize: 100\n",
      "2023-11-15 10:21:12,245 - EHR-QC - INFO - args.id_columns: ['patientunitstayid', 'observationday']\n",
      "2023-11-15 10:21:12,245 - EHR-QC - INFO - args.drop: True\n",
      "2023-11-15 10:21:12,245 - EHR-QC - INFO - args.percentage: 25.0\n",
      "2023-11-15 10:21:12,245 - EHR-QC - INFO - args.save_path: /home/yram0006/phd/chapter_2/workspace/eICU-EHR-Pipeline/data/dropped/vitals_max_episode_date.csv\n",
      "2023-11-15 10:21:12,245 - EHR-QC - INFO - Calculating Missingnes\n",
      "2023-11-15 10:21:17,654 - EHR-QC - INFO - Missingness Report\n",
      "2023-11-15 10:21:17,658 - EHR-QC - INFO - \n",
      "\n",
      "          column_name  missing_count  total_count  percentage_missing\n",
      "0           heartrate             22       161624                0.01\n",
      "1         respiration          10870       161624                6.73\n",
      "2                sao2           1329       161624                0.82\n",
      "3  systemic_diastolic          32540       161624               20.13\n",
      "4       systemic_mean          31987       161624               19.79\n",
      "5   systemic_systolic          32533       161624               20.13\n",
      "6         temperature         102268       161624               63.28\n",
      "\n",
      "2023-11-15 10:21:17,658 - EHR-QC - INFO - Dropping columns with above 25.0 % missingness\n",
      "2023-11-15 10:21:19,771 - EHR-QC - INFO - Saving data to /home/yram0006/phd/chapter_2/workspace/eICU-EHR-Pipeline/data/dropped/vitals_max_episode_date.csv\n",
      "2023-11-15 10:21:20,436 - EHR-QC - INFO - Done!!\n"
     ]
    },
    {
     "data": {
      "text/plain": [
       "0"
      ]
     },
     "execution_count": 4,
     "metadata": {},
     "output_type": "execute_result"
    }
   ],
   "source": [
    "import os\n",
    "\n",
    "\n",
    "os.system(\n",
    "    'cd ' + os.environ['EHR_QC_PREPROCESS_BASE'] + ';'\n",
    "    +\n",
    "    '''.venv/bin/python -m ehrqc.coverage.Coverage ''' + os.environ['EICU_EHR_PIPELINE_BASE'] + '''/data/extracts/vitals_max_episode_date.csv 100 -i \"patientunitstayid\" \"observationday\" -d -p 25 -sp ''' + os.environ['EICU_EHR_PIPELINE_BASE'] + '''/data/dropped/vitals_max_episode_date.csv'''\n",
    "    )\n"
   ]
  },
  {
   "cell_type": "markdown",
   "metadata": {},
   "source": [
    "### first"
   ]
  },
  {
   "cell_type": "code",
   "execution_count": 5,
   "metadata": {},
   "outputs": [
    {
     "name": "stdout",
     "output_type": "stream",
     "text": [
      "2023-11-15 10:21:20,858 - EHR-QC - INFO - Parsing command line arguments\n",
      "2023-11-15 10:21:20,859 - EHR-QC - INFO - Start!!\n",
      "2023-11-15 10:21:20,859 - EHR-QC - INFO - args.source_file: /home/yram0006/phd/chapter_2/workspace/eICU-EHR-Pipeline/data/extracts/vitals_first_episode_date.csv\n",
      "2023-11-15 10:21:20,859 - EHR-QC - INFO - args.chunksize: 100\n",
      "2023-11-15 10:21:20,859 - EHR-QC - INFO - args.id_columns: ['patientunitstayid', 'observationday']\n",
      "2023-11-15 10:21:20,859 - EHR-QC - INFO - args.drop: True\n",
      "2023-11-15 10:21:20,860 - EHR-QC - INFO - args.percentage: 25.0\n",
      "2023-11-15 10:21:20,860 - EHR-QC - INFO - args.save_path: /home/yram0006/phd/chapter_2/workspace/eICU-EHR-Pipeline/data/dropped/vitals_first_episode_date.csv\n",
      "2023-11-15 10:21:20,860 - EHR-QC - INFO - Calculating Missingnes\n",
      "2023-11-15 10:21:26,079 - EHR-QC - INFO - Missingness Report\n",
      "2023-11-15 10:21:26,082 - EHR-QC - INFO - \n",
      "\n",
      "          column_name  missing_count  total_count  percentage_missing\n",
      "0           heartrate             22       161624                0.01\n",
      "1         respiration          10870       161624                6.73\n",
      "2                sao2           1329       161624                0.82\n",
      "3  systemic_diastolic          32540       161624               20.13\n",
      "4       systemic_mean          31987       161624               19.79\n",
      "5   systemic_systolic          32533       161624               20.13\n",
      "6         temperature         102268       161624               63.28\n",
      "\n",
      "2023-11-15 10:21:26,082 - EHR-QC - INFO - Dropping columns with above 25.0 % missingness\n",
      "2023-11-15 10:21:28,122 - EHR-QC - INFO - Saving data to /home/yram0006/phd/chapter_2/workspace/eICU-EHR-Pipeline/data/dropped/vitals_first_episode_date.csv\n",
      "2023-11-15 10:21:28,773 - EHR-QC - INFO - Done!!\n"
     ]
    },
    {
     "data": {
      "text/plain": [
       "0"
      ]
     },
     "execution_count": 5,
     "metadata": {},
     "output_type": "execute_result"
    }
   ],
   "source": [
    "import os\n",
    "\n",
    "\n",
    "os.system(\n",
    "    'cd ' + os.environ['EHR_QC_PREPROCESS_BASE'] + ';'\n",
    "    +\n",
    "    '''.venv/bin/python -m ehrqc.coverage.Coverage ''' + os.environ['EICU_EHR_PIPELINE_BASE'] + '''/data/extracts/vitals_first_episode_date.csv 100 -i \"patientunitstayid\" \"observationday\" -d -p 25 -sp ''' + os.environ['EICU_EHR_PIPELINE_BASE'] + '''/data/dropped/vitals_first_episode_date.csv'''\n",
    "    )\n"
   ]
  },
  {
   "cell_type": "markdown",
   "metadata": {},
   "source": [
    "### last"
   ]
  },
  {
   "cell_type": "code",
   "execution_count": 6,
   "metadata": {},
   "outputs": [
    {
     "name": "stdout",
     "output_type": "stream",
     "text": [
      "2023-11-15 10:21:29,191 - EHR-QC - INFO - Parsing command line arguments\n",
      "2023-11-15 10:21:29,192 - EHR-QC - INFO - Start!!\n",
      "2023-11-15 10:21:29,192 - EHR-QC - INFO - args.source_file: /home/yram0006/phd/chapter_2/workspace/eICU-EHR-Pipeline/data/extracts/vitals_last_episode_date.csv\n",
      "2023-11-15 10:21:29,192 - EHR-QC - INFO - args.chunksize: 100\n",
      "2023-11-15 10:21:29,192 - EHR-QC - INFO - args.id_columns: ['patientunitstayid', 'observationday']\n",
      "2023-11-15 10:21:29,193 - EHR-QC - INFO - args.drop: True\n",
      "2023-11-15 10:21:29,193 - EHR-QC - INFO - args.percentage: 25.0\n",
      "2023-11-15 10:21:29,193 - EHR-QC - INFO - args.save_path: /home/yram0006/phd/chapter_2/workspace/eICU-EHR-Pipeline/data/dropped/vitals_last_episode_date.csv\n",
      "2023-11-15 10:21:29,193 - EHR-QC - INFO - Calculating Missingnes\n",
      "2023-11-15 10:21:34,428 - EHR-QC - INFO - Missingness Report\n",
      "2023-11-15 10:21:34,432 - EHR-QC - INFO - \n",
      "\n",
      "          column_name  missing_count  total_count  percentage_missing\n",
      "0           heartrate             22       161624                0.01\n",
      "1         respiration          10870       161624                6.73\n",
      "2                sao2           1329       161624                0.82\n",
      "3  systemic_diastolic          32540       161624               20.13\n",
      "4       systemic_mean          31987       161624               19.79\n",
      "5   systemic_systolic          32533       161624               20.13\n",
      "6         temperature         102268       161624               63.28\n",
      "\n",
      "2023-11-15 10:21:34,432 - EHR-QC - INFO - Dropping columns with above 25.0 % missingness\n",
      "2023-11-15 10:21:36,478 - EHR-QC - INFO - Saving data to /home/yram0006/phd/chapter_2/workspace/eICU-EHR-Pipeline/data/dropped/vitals_last_episode_date.csv\n",
      "2023-11-15 10:21:37,141 - EHR-QC - INFO - Done!!\n"
     ]
    },
    {
     "data": {
      "text/plain": [
       "0"
      ]
     },
     "execution_count": 6,
     "metadata": {},
     "output_type": "execute_result"
    }
   ],
   "source": [
    "import os\n",
    "\n",
    "\n",
    "os.system(\n",
    "    'cd ' + os.environ['EHR_QC_PREPROCESS_BASE'] + ';'\n",
    "    +\n",
    "    '''.venv/bin/python -m ehrqc.coverage.Coverage ''' + os.environ['EICU_EHR_PIPELINE_BASE'] + '''/data/extracts/vitals_last_episode_date.csv 100 -i \"patientunitstayid\" \"observationday\" -d -p 25 -sp ''' + os.environ['EICU_EHR_PIPELINE_BASE'] + '''/data/dropped/vitals_last_episode_date.csv'''\n",
    "    )\n"
   ]
  },
  {
   "cell_type": "markdown",
   "metadata": {},
   "source": [
    "## Labs"
   ]
  },
  {
   "cell_type": "markdown",
   "metadata": {},
   "source": [
    "### avg"
   ]
  },
  {
   "cell_type": "code",
   "execution_count": 7,
   "metadata": {},
   "outputs": [
    {
     "name": "stdout",
     "output_type": "stream",
     "text": [
      "2023-11-15 10:21:37,525 - EHR-QC - INFO - Parsing command line arguments\n",
      "2023-11-15 10:21:37,526 - EHR-QC - INFO - Start!!\n",
      "2023-11-15 10:21:37,526 - EHR-QC - INFO - args.source_file: /home/yram0006/phd/chapter_2/workspace/eICU-EHR-Pipeline/data/extracts/labs_avg_episode_date.csv\n",
      "2023-11-15 10:21:37,527 - EHR-QC - INFO - args.chunksize: 100\n",
      "2023-11-15 10:21:37,527 - EHR-QC - INFO - args.id_columns: ['person_id', 'visit_occurrence_id', 'measurement_date']\n",
      "2023-11-15 10:21:37,527 - EHR-QC - INFO - args.drop: True\n",
      "2023-11-15 10:21:37,527 - EHR-QC - INFO - args.percentage: 25.0\n",
      "2023-11-15 10:21:37,527 - EHR-QC - INFO - args.save_path: /home/yram0006/phd/chapter_2/workspace/eICU-EHR-Pipeline/data/dropped/labs_avg_episode_date.csv\n",
      "2023-11-15 10:21:37,527 - EHR-QC - INFO - Calculating Missingnes\n",
      "2023-11-15 10:21:42,446 - EHR-QC - INFO - Missingness Report\n",
      "2023-11-15 10:21:42,451 - EHR-QC - INFO - \n",
      "\n",
      "                                          column_name  missing_count  \\\n",
      "0                            Alanine aminotransferase          63304   \n",
      "1                                             Albumin          55876   \n",
      "2                                           Anion gap          26701   \n",
      "3              Aspartate aminotransferase measurement          62794   \n",
      "4                                   Bicarbonate level          20194   \n",
      "5                                 Blood urea nitrogen          10420   \n",
      "6                                       Calcium level          12047   \n",
      "7                                            Chloride          10317   \n",
      "8                                    Creatinine level          10256   \n",
      "9                                       Glucose level          20370   \n",
      "10                             Haemoglobin estimation          13388   \n",
      "11                                         Hematocrit          13462   \n",
      "12                      Infectious mononucleosis test          54398   \n",
      "13                                            Lactate          93383   \n",
      "14                                              Lymph          54088   \n",
      "15                 MCH - Mean corpuscular haemoglobin          18151   \n",
      "16  MCHC - Mean corpuscular haemoglobin concentration          14448   \n",
      "17                      MCV - Mean corpuscular volume          14441   \n",
      "18                                     Platelet count          14064   \n",
      "19                                    Potassium level           9302   \n",
      "20                               Red blood cell count          14067   \n",
      "21                  Red blood cell distribution width          21370   \n",
      "22                   Serum alkaline phosphatase level          62764   \n",
      "23                                       Sodium level          10170   \n",
      "24                              Total bilirubin level          63132   \n",
      "25                          Total protein measurement          63806   \n",
      "26                             White blood cell count          22915   \n",
      "\n",
      "    total_count  percentage_missing  \n",
      "0        116166               54.49  \n",
      "1        116166               48.10  \n",
      "2        116166               22.99  \n",
      "3        116166               54.06  \n",
      "4        116166               17.38  \n",
      "5        116166                8.97  \n",
      "6        116166               10.37  \n",
      "7        116166                8.88  \n",
      "8        116166                8.83  \n",
      "9        116166               17.54  \n",
      "10       116166               11.52  \n",
      "11       116166               11.59  \n",
      "12       116166               46.83  \n",
      "13       116166               80.39  \n",
      "14       116166               46.56  \n",
      "15       116166               15.63  \n",
      "16       116166               12.44  \n",
      "17       116166               12.43  \n",
      "18       116166               12.11  \n",
      "19       116166                8.01  \n",
      "20       116166               12.11  \n",
      "21       116166               18.40  \n",
      "22       116166               54.03  \n",
      "23       116166                8.75  \n",
      "24       116166               54.35  \n",
      "25       116166               54.93  \n",
      "26       116166               19.73  \n",
      "\n",
      "2023-11-15 10:21:42,451 - EHR-QC - INFO - Dropping columns with above 25.0 % missingness\n",
      "2023-11-15 10:21:44,181 - EHR-QC - INFO - Saving data to /home/yram0006/phd/chapter_2/workspace/eICU-EHR-Pipeline/data/dropped/labs_avg_episode_date.csv\n",
      "2023-11-15 10:21:45,540 - EHR-QC - INFO - Done!!\n"
     ]
    },
    {
     "data": {
      "text/plain": [
       "0"
      ]
     },
     "execution_count": 7,
     "metadata": {},
     "output_type": "execute_result"
    }
   ],
   "source": [
    "import os\n",
    "\n",
    "\n",
    "os.system(\n",
    "    'cd ' + os.environ['EHR_QC_PREPROCESS_BASE'] + ';'\n",
    "    +\n",
    "    '''.venv/bin/python -m ehrqc.coverage.Coverage ''' + os.environ['EICU_EHR_PIPELINE_BASE'] + '''/data/extracts/labs_avg_episode_date.csv 100 -i \"person_id\" \"visit_occurrence_id\" \"measurement_date\" -d -p 25 -sp ''' + os.environ['EICU_EHR_PIPELINE_BASE'] + '''/data/dropped/labs_avg_episode_date.csv'''\n",
    "    )\n"
   ]
  },
  {
   "cell_type": "markdown",
   "metadata": {},
   "source": [
    "### min"
   ]
  },
  {
   "cell_type": "code",
   "execution_count": 8,
   "metadata": {},
   "outputs": [
    {
     "name": "stdout",
     "output_type": "stream",
     "text": [
      "2023-11-15 10:23:51,922 - EHR-QC - INFO - Parsing command line arguments\n",
      "2023-11-15 10:23:51,923 - EHR-QC - INFO - Start!!\n",
      "2023-11-15 10:23:51,923 - EHR-QC - INFO - args.source_file: /home/yram0006/phd/chapter_2/workspace/eICU-EHR-Pipeline/data/extracts/labs_min_episode_date.csv\n",
      "2023-11-15 10:23:51,923 - EHR-QC - INFO - args.chunksize: 100\n",
      "2023-11-15 10:23:51,923 - EHR-QC - INFO - args.id_columns: ['person_id', 'visit_occurrence_id', 'measurement_date']\n",
      "2023-11-15 10:23:51,923 - EHR-QC - INFO - args.drop: True\n",
      "2023-11-15 10:23:51,923 - EHR-QC - INFO - args.percentage: 25.0\n",
      "2023-11-15 10:23:51,923 - EHR-QC - INFO - args.save_path: /home/yram0006/phd/chapter_2/workspace/eICU-EHR-Pipeline/data/dropped/labs_min_episode_date.csv\n",
      "2023-11-15 10:23:51,923 - EHR-QC - INFO - Calculating Missingnes\n",
      "2023-11-15 10:23:56,912 - EHR-QC - INFO - Missingness Report\n",
      "2023-11-15 10:23:56,917 - EHR-QC - INFO - \n",
      "\n",
      "                                          column_name  missing_count  \\\n",
      "0                            Alanine aminotransferase          63304   \n",
      "1                                             Albumin          55873   \n",
      "2                                           Anion gap          26698   \n",
      "3              Aspartate aminotransferase measurement          62794   \n",
      "4                                   Bicarbonate level          20193   \n",
      "5                                 Blood urea nitrogen          10418   \n",
      "6                                       Calcium level          12045   \n",
      "7                                            Chloride          10315   \n",
      "8                                    Creatinine level          10254   \n",
      "9                                       Glucose level          20368   \n",
      "10                             Haemoglobin estimation          13386   \n",
      "11                                         Hematocrit          13450   \n",
      "12                      Infectious mononucleosis test          54398   \n",
      "13                                            Lactate          93376   \n",
      "14                                              Lymph          54088   \n",
      "15                 MCH - Mean corpuscular haemoglobin          18149   \n",
      "16  MCHC - Mean corpuscular haemoglobin concentration          14446   \n",
      "17                      MCV - Mean corpuscular volume          14439   \n",
      "18                                     Platelet count          14061   \n",
      "19                                    Potassium level           9300   \n",
      "20                               Red blood cell count          14065   \n",
      "21                  Red blood cell distribution width          21368   \n",
      "22                   Serum alkaline phosphatase level          62764   \n",
      "23                                       Sodium level          10166   \n",
      "24                              Total bilirubin level          63132   \n",
      "25                          Total protein measurement          63806   \n",
      "26                             White blood cell count          22851   \n",
      "\n",
      "    total_count  percentage_missing  \n",
      "0        116166               54.49  \n",
      "1        116166               48.10  \n",
      "2        116166               22.98  \n",
      "3        116166               54.06  \n",
      "4        116166               17.38  \n",
      "5        116166                8.97  \n",
      "6        116166               10.37  \n",
      "7        116166                8.88  \n",
      "8        116166                8.83  \n",
      "9        116166               17.53  \n",
      "10       116166               11.52  \n",
      "11       116166               11.58  \n",
      "12       116166               46.83  \n",
      "13       116166               80.38  \n",
      "14       116166               46.56  \n",
      "15       116166               15.62  \n",
      "16       116166               12.44  \n",
      "17       116166               12.43  \n",
      "18       116166               12.10  \n",
      "19       116166                8.01  \n",
      "20       116166               12.11  \n",
      "21       116166               18.39  \n",
      "22       116166               54.03  \n",
      "23       116166                8.75  \n",
      "24       116166               54.35  \n",
      "25       116166               54.93  \n",
      "26       116166               19.67  \n",
      "\n",
      "2023-11-15 10:23:56,917 - EHR-QC - INFO - Dropping columns with above 25.0 % missingness\n",
      "2023-11-15 10:23:58,658 - EHR-QC - INFO - Saving data to /home/yram0006/phd/chapter_2/workspace/eICU-EHR-Pipeline/data/dropped/labs_min_episode_date.csv\n",
      "2023-11-15 10:23:59,842 - EHR-QC - INFO - Done!!\n"
     ]
    },
    {
     "data": {
      "text/plain": [
       "0"
      ]
     },
     "execution_count": 8,
     "metadata": {},
     "output_type": "execute_result"
    }
   ],
   "source": [
    "import os\n",
    "\n",
    "\n",
    "os.system(\n",
    "    'cd ' + os.environ['EHR_QC_PREPROCESS_BASE'] + ';'\n",
    "    +\n",
    "    '''.venv/bin/python -m ehrqc.coverage.Coverage ''' + os.environ['EICU_EHR_PIPELINE_BASE'] + '''/data/extracts/labs_min_episode_date.csv 100 -i \"person_id\" \"visit_occurrence_id\" \"measurement_date\" -d -p 25 -sp ''' + os.environ['EICU_EHR_PIPELINE_BASE'] + '''/data/dropped/labs_min_episode_date.csv'''\n",
    "    )\n"
   ]
  },
  {
   "cell_type": "markdown",
   "metadata": {},
   "source": [
    "### max"
   ]
  },
  {
   "cell_type": "code",
   "execution_count": 9,
   "metadata": {},
   "outputs": [
    {
     "name": "stdout",
     "output_type": "stream",
     "text": [
      "2023-11-15 10:24:00,227 - EHR-QC - INFO - Parsing command line arguments\n",
      "2023-11-15 10:24:00,228 - EHR-QC - INFO - Start!!\n",
      "2023-11-15 10:24:00,228 - EHR-QC - INFO - args.source_file: /home/yram0006/phd/chapter_2/workspace/eICU-EHR-Pipeline/data/extracts/labs_max_episode_date.csv\n",
      "2023-11-15 10:24:00,228 - EHR-QC - INFO - args.chunksize: 100\n",
      "2023-11-15 10:24:00,228 - EHR-QC - INFO - args.id_columns: ['person_id', 'visit_occurrence_id', 'measurement_date']\n",
      "2023-11-15 10:24:00,228 - EHR-QC - INFO - args.drop: True\n",
      "2023-11-15 10:24:00,228 - EHR-QC - INFO - args.percentage: 25.0\n",
      "2023-11-15 10:24:00,228 - EHR-QC - INFO - args.save_path: /home/yram0006/phd/chapter_2/workspace/eICU-EHR-Pipeline/data/dropped/labs_max_episode_date.csv\n",
      "2023-11-15 10:24:00,228 - EHR-QC - INFO - Calculating Missingnes\n"
     ]
    },
    {
     "name": "stdout",
     "output_type": "stream",
     "text": [
      "2023-11-15 10:24:05,113 - EHR-QC - INFO - Missingness Report\n",
      "2023-11-15 10:24:05,117 - EHR-QC - INFO - \n",
      "\n",
      "                                          column_name  missing_count  \\\n",
      "0                            Alanine aminotransferase          63304   \n",
      "1                                             Albumin          55876   \n",
      "2                                           Anion gap          26701   \n",
      "3              Aspartate aminotransferase measurement          62794   \n",
      "4                                   Bicarbonate level          20194   \n",
      "5                                 Blood urea nitrogen          10420   \n",
      "6                                       Calcium level          12047   \n",
      "7                                            Chloride          10317   \n",
      "8                                    Creatinine level          10256   \n",
      "9                                       Glucose level          20370   \n",
      "10                             Haemoglobin estimation          13388   \n",
      "11                                         Hematocrit          13462   \n",
      "12                      Infectious mononucleosis test          54398   \n",
      "13                                            Lactate          93383   \n",
      "14                                              Lymph          54088   \n",
      "15                 MCH - Mean corpuscular haemoglobin          18151   \n",
      "16  MCHC - Mean corpuscular haemoglobin concentration          14448   \n",
      "17                      MCV - Mean corpuscular volume          14441   \n",
      "18                                     Platelet count          14064   \n",
      "19                                    Potassium level           9302   \n",
      "20                               Red blood cell count          14067   \n",
      "21                  Red blood cell distribution width          21370   \n",
      "22                   Serum alkaline phosphatase level          62764   \n",
      "23                                       Sodium level          10170   \n",
      "24                              Total bilirubin level          63132   \n",
      "25                          Total protein measurement          63806   \n",
      "26                             White blood cell count          22915   \n",
      "\n",
      "    total_count  percentage_missing  \n",
      "0        116166               54.49  \n",
      "1        116166               48.10  \n",
      "2        116166               22.99  \n",
      "3        116166               54.06  \n",
      "4        116166               17.38  \n",
      "5        116166                8.97  \n",
      "6        116166               10.37  \n",
      "7        116166                8.88  \n",
      "8        116166                8.83  \n",
      "9        116166               17.54  \n",
      "10       116166               11.52  \n",
      "11       116166               11.59  \n",
      "12       116166               46.83  \n",
      "13       116166               80.39  \n",
      "14       116166               46.56  \n",
      "15       116166               15.63  \n",
      "16       116166               12.44  \n",
      "17       116166               12.43  \n",
      "18       116166               12.11  \n",
      "19       116166                8.01  \n",
      "20       116166               12.11  \n",
      "21       116166               18.40  \n",
      "22       116166               54.03  \n",
      "23       116166                8.75  \n",
      "24       116166               54.35  \n",
      "25       116166               54.93  \n",
      "26       116166               19.73  \n",
      "\n",
      "2023-11-15 10:24:05,117 - EHR-QC - INFO - Dropping columns with above 25.0 % missingness\n",
      "2023-11-15 10:24:06,833 - EHR-QC - INFO - Saving data to /home/yram0006/phd/chapter_2/workspace/eICU-EHR-Pipeline/data/dropped/labs_max_episode_date.csv\n",
      "2023-11-15 10:24:08,076 - EHR-QC - INFO - Done!!\n"
     ]
    },
    {
     "data": {
      "text/plain": [
       "0"
      ]
     },
     "execution_count": 9,
     "metadata": {},
     "output_type": "execute_result"
    }
   ],
   "source": [
    "import os\n",
    "\n",
    "\n",
    "os.system(\n",
    "    'cd ' + os.environ['EHR_QC_PREPROCESS_BASE'] + ';'\n",
    "    +\n",
    "    '''.venv/bin/python -m ehrqc.coverage.Coverage ''' + os.environ['EICU_EHR_PIPELINE_BASE'] + '''/data/extracts/labs_max_episode_date.csv 100 -i \"person_id\" \"visit_occurrence_id\" \"measurement_date\" -d -p 25 -sp ''' + os.environ['EICU_EHR_PIPELINE_BASE'] + '''/data/dropped/labs_max_episode_date.csv'''\n",
    "    )\n"
   ]
  },
  {
   "cell_type": "markdown",
   "metadata": {},
   "source": [
    "### first"
   ]
  },
  {
   "cell_type": "code",
   "execution_count": 1,
   "metadata": {},
   "outputs": [
    {
     "name": "stdout",
     "output_type": "stream",
     "text": [
      "2023-11-28 15:33:34,922 - EHR-QC - INFO - Parsing command line arguments\n",
      "2023-11-28 15:33:34,924 - EHR-QC - INFO - Start!!\n",
      "2023-11-28 15:33:34,924 - EHR-QC - INFO - args.source_file: /home/yram0006/phd/chapter_2/workspace/eICU-EHR-Pipeline/data/extracts/labs_first_episode_date.csv\n",
      "2023-11-28 15:33:34,924 - EHR-QC - INFO - args.chunksize: 100\n",
      "2023-11-28 15:33:34,924 - EHR-QC - INFO - args.id_columns: ['person_id', 'visit_occurrence_id', 'measurement_date']\n",
      "2023-11-28 15:33:34,924 - EHR-QC - INFO - args.drop: True\n",
      "2023-11-28 15:33:34,924 - EHR-QC - INFO - args.percentage: 25.0\n",
      "2023-11-28 15:33:34,924 - EHR-QC - INFO - args.save_path: /home/yram0006/phd/chapter_2/workspace/eICU-EHR-Pipeline/data/dropped/labs_first_episode_date.csv\n",
      "2023-11-28 15:33:34,924 - EHR-QC - INFO - Calculating Missingnes\n",
      "2023-11-28 15:33:39,635 - EHR-QC - INFO - Missingness Report\n",
      "2023-11-28 15:33:39,646 - EHR-QC - INFO - \n",
      "\n",
      "                                          column_name  missing_count  \\\n",
      "0                            Alanine aminotransferase          63304   \n",
      "1                                             Albumin          55875   \n",
      "2                                           Anion gap          26699   \n",
      "3              Aspartate aminotransferase measurement          62794   \n",
      "4                                   Bicarbonate level          20194   \n",
      "5                                 Blood urea nitrogen          10419   \n",
      "6                                       Calcium level          12046   \n",
      "7                                            Chloride          10316   \n",
      "8                                    Creatinine level          10255   \n",
      "9                                       Glucose level          20369   \n",
      "10                             Haemoglobin estimation          13387   \n",
      "11                                         Hematocrit          13454   \n",
      "12                      Infectious mononucleosis test          54398   \n",
      "13                                            Lactate          93380   \n",
      "14                                              Lymph          54088   \n",
      "15                 MCH - Mean corpuscular haemoglobin          18150   \n",
      "16  MCHC - Mean corpuscular haemoglobin concentration          14447   \n",
      "17                      MCV - Mean corpuscular volume          14440   \n",
      "18                                     Platelet count          14062   \n",
      "19                                    Potassium level           9302   \n",
      "20                               Red blood cell count          14066   \n",
      "21                  Red blood cell distribution width          21369   \n",
      "22                   Serum alkaline phosphatase level          62764   \n",
      "23                                       Sodium level          10168   \n",
      "24                              Total bilirubin level          63132   \n",
      "25                          Total protein measurement          63806   \n",
      "26                             White blood cell count          22866   \n",
      "\n",
      "    total_count  percentage_missing  \n",
      "0        116166               54.49  \n",
      "1        116166               48.10  \n",
      "2        116166               22.98  \n",
      "3        116166               54.06  \n",
      "4        116166               17.38  \n",
      "5        116166                8.97  \n",
      "6        116166               10.37  \n",
      "7        116166                8.88  \n",
      "8        116166                8.83  \n",
      "9        116166               17.53  \n",
      "10       116166               11.52  \n",
      "11       116166               11.58  \n",
      "12       116166               46.83  \n",
      "13       116166               80.38  \n",
      "14       116166               46.56  \n",
      "15       116166               15.62  \n",
      "16       116166               12.44  \n",
      "17       116166               12.43  \n",
      "18       116166               12.11  \n",
      "19       116166                8.01  \n",
      "20       116166               12.11  \n",
      "21       116166               18.40  \n",
      "22       116166               54.03  \n",
      "23       116166                8.75  \n",
      "24       116166               54.35  \n",
      "25       116166               54.93  \n",
      "26       116166               19.68  \n",
      "\n",
      "2023-11-28 15:33:39,646 - EHR-QC - INFO - Dropping columns with above 25.0 % missingness\n",
      "2023-11-28 15:33:41,213 - EHR-QC - INFO - Saving data to /home/yram0006/phd/chapter_2/workspace/eICU-EHR-Pipeline/data/dropped/labs_first_episode_date.csv\n",
      "2023-11-28 15:33:42,448 - EHR-QC - INFO - Done!!\n"
     ]
    },
    {
     "data": {
      "text/plain": [
       "0"
      ]
     },
     "execution_count": 1,
     "metadata": {},
     "output_type": "execute_result"
    }
   ],
   "source": [
    "import os\n",
    "\n",
    "\n",
    "os.system(\n",
    "    'cd ' + os.environ['EHR_QC_PREPROCESS_BASE'] + ';'\n",
    "    +\n",
    "    '''.venv/bin/python -m ehrqc.coverage.Coverage ''' + os.environ['EICU_EHR_PIPELINE_BASE'] + '''/data/extracts/labs_first_episode_date.csv 100 -i \"person_id\" \"visit_occurrence_id\" \"measurement_date\" -d -p 25 -sp ''' + os.environ['EICU_EHR_PIPELINE_BASE'] + '''/data/dropped/labs_first_episode_date.csv'''\n",
    "    )\n"
   ]
  },
  {
   "cell_type": "markdown",
   "metadata": {},
   "source": [
    "### last"
   ]
  },
  {
   "cell_type": "code",
   "execution_count": 11,
   "metadata": {},
   "outputs": [
    {
     "name": "stdout",
     "output_type": "stream",
     "text": [
      "2023-11-15 10:24:16,710 - EHR-QC - INFO - Parsing command line arguments\n",
      "2023-11-15 10:24:16,712 - EHR-QC - INFO - Start!!\n",
      "2023-11-15 10:24:16,712 - EHR-QC - INFO - args.source_file: /home/yram0006/phd/chapter_2/workspace/eICU-EHR-Pipeline/data/extracts/labs_last_episode_date.csv\n",
      "2023-11-15 10:24:16,712 - EHR-QC - INFO - args.chunksize: 100\n",
      "2023-11-15 10:24:16,712 - EHR-QC - INFO - args.id_columns: ['person_id', 'visit_occurrence_id', 'measurement_date']\n",
      "2023-11-15 10:24:16,712 - EHR-QC - INFO - args.drop: True\n",
      "2023-11-15 10:24:16,712 - EHR-QC - INFO - args.percentage: 25.0\n",
      "2023-11-15 10:24:16,712 - EHR-QC - INFO - args.save_path: /home/yram0006/phd/chapter_2/workspace/eICU-EHR-Pipeline/data/dropped/labs_last_episode_date.csv\n",
      "2023-11-15 10:24:16,712 - EHR-QC - INFO - Calculating Missingnes\n",
      "2023-11-15 10:24:21,560 - EHR-QC - INFO - Missingness Report\n",
      "2023-11-15 10:24:21,565 - EHR-QC - INFO - \n",
      "\n",
      "                                          column_name  missing_count  \\\n",
      "0                            Alanine aminotransferase          63304   \n",
      "1                                             Albumin          55874   \n",
      "2                                           Anion gap          26700   \n",
      "3              Aspartate aminotransferase measurement          62794   \n",
      "4                                   Bicarbonate level          20193   \n",
      "5                                 Blood urea nitrogen          10419   \n",
      "6                                       Calcium level          12046   \n",
      "7                                            Chloride          10316   \n",
      "8                                    Creatinine level          10255   \n",
      "9                                       Glucose level          20369   \n",
      "10                             Haemoglobin estimation          13386   \n",
      "11                                         Hematocrit          13456   \n",
      "12                      Infectious mononucleosis test          54398   \n",
      "13                                            Lactate          93376   \n",
      "14                                              Lymph          54088   \n",
      "15                 MCH - Mean corpuscular haemoglobin          18149   \n",
      "16  MCHC - Mean corpuscular haemoglobin concentration          14446   \n",
      "17                      MCV - Mean corpuscular volume          14439   \n",
      "18                                     Platelet count          14061   \n",
      "19                                    Potassium level           9300   \n",
      "20                               Red blood cell count          14065   \n",
      "21                  Red blood cell distribution width          21368   \n",
      "22                   Serum alkaline phosphatase level          62764   \n",
      "23                                       Sodium level          10167   \n",
      "24                              Total bilirubin level          63132   \n",
      "25                          Total protein measurement          63806   \n",
      "26                             White blood cell count          22892   \n",
      "\n",
      "    total_count  percentage_missing  \n",
      "0        116166               54.49  \n",
      "1        116166               48.10  \n",
      "2        116166               22.98  \n",
      "3        116166               54.06  \n",
      "4        116166               17.38  \n",
      "5        116166                8.97  \n",
      "6        116166               10.37  \n",
      "7        116166                8.88  \n",
      "8        116166                8.83  \n",
      "9        116166               17.53  \n",
      "10       116166               11.52  \n",
      "11       116166               11.58  \n",
      "12       116166               46.83  \n",
      "13       116166               80.38  \n",
      "14       116166               46.56  \n",
      "15       116166               15.62  \n",
      "16       116166               12.44  \n",
      "17       116166               12.43  \n",
      "18       116166               12.10  \n",
      "19       116166                8.01  \n",
      "20       116166               12.11  \n",
      "21       116166               18.39  \n",
      "22       116166               54.03  \n",
      "23       116166                8.75  \n",
      "24       116166               54.35  \n",
      "25       116166               54.93  \n",
      "26       116166               19.71  \n",
      "\n",
      "2023-11-15 10:24:21,565 - EHR-QC - INFO - Dropping columns with above 25.0 % missingness\n",
      "2023-11-15 10:24:23,268 - EHR-QC - INFO - Saving data to /home/yram0006/phd/chapter_2/workspace/eICU-EHR-Pipeline/data/dropped/labs_last_episode_date.csv\n",
      "2023-11-15 10:24:24,457 - EHR-QC - INFO - Done!!\n"
     ]
    },
    {
     "data": {
      "text/plain": [
       "0"
      ]
     },
     "execution_count": 11,
     "metadata": {},
     "output_type": "execute_result"
    }
   ],
   "source": [
    "import os\n",
    "\n",
    "\n",
    "os.system(\n",
    "    'cd ' + os.environ['EHR_QC_PREPROCESS_BASE'] + ';'\n",
    "    +\n",
    "    '''.venv/bin/python -m ehrqc.coverage.Coverage ''' + os.environ['EICU_EHR_PIPELINE_BASE'] + '''/data/extracts/labs_last_episode_date.csv 100 -i \"person_id\" \"visit_occurrence_id\" \"measurement_date\" -d -p 25 -sp ''' + os.environ['EICU_EHR_PIPELINE_BASE'] + '''/data/dropped/labs_last_episode_date.csv'''\n",
    "    )\n"
   ]
  }
 ],
 "metadata": {
  "kernelspec": {
   "display_name": ".venv",
   "language": "python",
   "name": "python3"
  },
  "language_info": {
   "codemirror_mode": {
    "name": "ipython",
    "version": 3
   },
   "file_extension": ".py",
   "mimetype": "text/x-python",
   "name": "python",
   "nbconvert_exporter": "python",
   "pygments_lexer": "ipython3",
   "version": "3.8.10"
  }
 },
 "nbformat": 4,
 "nbformat_minor": 2
}
