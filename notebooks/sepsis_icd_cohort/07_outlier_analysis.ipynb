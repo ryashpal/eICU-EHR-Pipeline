{
 "cells": [
  {
   "cell_type": "markdown",
   "metadata": {},
   "source": [
    "# Outlier Analysis"
   ]
  },
  {
   "cell_type": "markdown",
   "metadata": {},
   "source": [
    "## Vitals"
   ]
  },
  {
   "cell_type": "markdown",
   "metadata": {},
   "source": [
    "### avg"
   ]
  },
  {
   "cell_type": "code",
   "execution_count": 1,
   "metadata": {},
   "outputs": [
    {
     "name": "stdout",
     "output_type": "stream",
     "text": [
      "2023-11-14 23:48:43,093 - EHR-QC - INFO - Parsing command line arguments\n",
      "2023-11-14 23:48:43,095 - EHR-QC - INFO - args.source_file: /home/yram0006/phd/chapter_2/workspace/eICU-EHR-Pipeline/data/imputed/vitals_avg_episode_date.csv\n",
      "2023-11-14 23:48:43,095 - EHR-QC - INFO - args.save_file: /home/yram0006/phd/chapter_2/workspace/eICU-EHR-Pipeline/data/cleaned/vitals_avg_episode_date.csv\n",
      "2023-11-14 23:48:43,095 - EHR-QC - INFO - args.action: clean\n",
      "2023-11-14 23:48:43,095 - EHR-QC - INFO - args.columns: ['systemic_mean', 'systemic_diastolic', 'systemic_systolic', 'respiration', 'heartrate', 'sao2']\n",
      "2023-11-14 23:48:43,693 - EHR-QC - INFO - Validating the input arguments.\n",
      "2023-11-14 23:48:43,703 - EHR-QC - INFO - Validating complete!!\n",
      "2023-11-14 23:48:43,703 - EHR-QC - INFO - Removing outliers\n"
     ]
    },
    {
     "name": "stderr",
     "output_type": "stream",
     "text": [
      "/superbugai-data/yash/chapter_2/workspace/EHR-QC-Preprocess/.venv/lib/python3.9/site-packages/sklearn/utils/validation.py:757: FutureWarning: is_sparse is deprecated and will be removed in a future version. Check `isinstance(dtype, pd.SparseDtype)` instead.\n",
      "  if not hasattr(array, \"sparse\") and array.dtypes.apply(is_sparse).any():\n",
      "/superbugai-data/yash/chapter_2/workspace/EHR-QC-Preprocess/.venv/lib/python3.9/site-packages/sklearn/utils/validation.py:595: FutureWarning: is_sparse is deprecated and will be removed in a future version. Check `isinstance(dtype, pd.SparseDtype)` instead.\n",
      "  if is_sparse(pd_dtype):\n",
      "/superbugai-data/yash/chapter_2/workspace/EHR-QC-Preprocess/.venv/lib/python3.9/site-packages/sklearn/utils/validation.py:604: FutureWarning: is_sparse is deprecated and will be removed in a future version. Check `isinstance(dtype, pd.SparseDtype)` instead.\n",
      "  if is_sparse(pd_dtype) or not is_extension_array_dtype(pd_dtype):\n",
      "/superbugai-data/yash/chapter_2/workspace/EHR-QC-Preprocess/.venv/lib/python3.9/site-packages/sklearn/base.py:450: UserWarning: X does not have valid feature names, but IsolationForest was fitted with feature names\n",
      "  warnings.warn(\n",
      "/superbugai-data/yash/chapter_2/workspace/EHR-QC-Preprocess/.venv/lib/python3.9/site-packages/sklearn/utils/validation.py:757: FutureWarning: is_sparse is deprecated and will be removed in a future version. Check `isinstance(dtype, pd.SparseDtype)` instead.\n",
      "  if not hasattr(array, \"sparse\") and array.dtypes.apply(is_sparse).any():\n",
      "/superbugai-data/yash/chapter_2/workspace/EHR-QC-Preprocess/.venv/lib/python3.9/site-packages/sklearn/utils/validation.py:595: FutureWarning: is_sparse is deprecated and will be removed in a future version. Check `isinstance(dtype, pd.SparseDtype)` instead.\n",
      "  if is_sparse(pd_dtype):\n",
      "/superbugai-data/yash/chapter_2/workspace/EHR-QC-Preprocess/.venv/lib/python3.9/site-packages/sklearn/utils/validation.py:604: FutureWarning: is_sparse is deprecated and will be removed in a future version. Check `isinstance(dtype, pd.SparseDtype)` instead.\n",
      "  if is_sparse(pd_dtype) or not is_extension_array_dtype(pd_dtype):\n",
      "/superbugai-data/yash/chapter_2/workspace/EHR-QC-Preprocess/ehrqc/plot/OutlierIsolationForest.py:87: SettingWithCopyWarning: \n",
      "A value is trying to be set on a copy of a slice from a DataFrame\n",
      "\n",
      "See the caveats in the documentation: https://pandas.pydata.org/pandas-docs/stable/user_guide/indexing.html#returning-a-view-versus-a-copy\n",
      "  correctedDf.drop(columns=['outlier_scores'], inplace=True)\n"
     ]
    },
    {
     "name": "stdout",
     "output_type": "stream",
     "text": [
      "2023-11-14 23:49:09,707 - EHR-QC - INFO - Saving the corrected file\n",
      "2023-11-14 23:49:14,003 - EHR-QC - INFO - Done!!\n"
     ]
    },
    {
     "data": {
      "text/plain": [
       "0"
      ]
     },
     "execution_count": 1,
     "metadata": {},
     "output_type": "execute_result"
    }
   ],
   "source": [
    "import os\n",
    "\n",
    "\n",
    "os.system(\n",
    "    'cd ' + os.environ['EHR_QC_PREPROCESS_BASE'] + ';'\n",
    "    +\n",
    "    '''.venv/bin/python -m ehrqc.plot.OutlierIsolationForest ''' + os.environ['EICU_EHR_PIPELINE_BASE'] + '''/data/imputed/vitals_avg_episode_date.csv ''' + os.environ['EICU_EHR_PIPELINE_BASE'] + '''/data/cleaned/vitals_avg_episode_date.csv clean -c \"systemic_mean\" \"systemic_diastolic\" \"systemic_systolic\" \"respiration\" \"heartrate\" \"sao2\"'''\n",
    "    )\n"
   ]
  },
  {
   "cell_type": "markdown",
   "metadata": {},
   "source": [
    "### min"
   ]
  },
  {
   "cell_type": "code",
   "execution_count": 2,
   "metadata": {},
   "outputs": [
    {
     "name": "stdout",
     "output_type": "stream",
     "text": [
      "2023-11-14 23:49:14,933 - EHR-QC - INFO - Parsing command line arguments\n",
      "2023-11-14 23:49:14,935 - EHR-QC - INFO - args.source_file: /home/yram0006/phd/chapter_2/workspace/eICU-EHR-Pipeline/data/imputed/vitals_min_episode_date.csv\n",
      "2023-11-14 23:49:14,935 - EHR-QC - INFO - args.save_file: /home/yram0006/phd/chapter_2/workspace/eICU-EHR-Pipeline/data/cleaned/vitals_min_episode_date.csv\n",
      "2023-11-14 23:49:14,935 - EHR-QC - INFO - args.action: clean\n",
      "2023-11-14 23:49:14,935 - EHR-QC - INFO - args.columns: ['systemic_mean', 'systemic_diastolic', 'systemic_systolic', 'respiration', 'heartrate', 'sao2']\n",
      "2023-11-14 23:49:15,250 - EHR-QC - INFO - Validating the input arguments.\n",
      "2023-11-14 23:49:15,257 - EHR-QC - INFO - Validating complete!!\n",
      "2023-11-14 23:49:15,257 - EHR-QC - INFO - Removing outliers\n"
     ]
    },
    {
     "name": "stderr",
     "output_type": "stream",
     "text": [
      "/superbugai-data/yash/chapter_2/workspace/EHR-QC-Preprocess/.venv/lib/python3.9/site-packages/sklearn/utils/validation.py:757: FutureWarning: is_sparse is deprecated and will be removed in a future version. Check `isinstance(dtype, pd.SparseDtype)` instead.\n",
      "  if not hasattr(array, \"sparse\") and array.dtypes.apply(is_sparse).any():\n",
      "/superbugai-data/yash/chapter_2/workspace/EHR-QC-Preprocess/.venv/lib/python3.9/site-packages/sklearn/utils/validation.py:595: FutureWarning: is_sparse is deprecated and will be removed in a future version. Check `isinstance(dtype, pd.SparseDtype)` instead.\n",
      "  if is_sparse(pd_dtype):\n",
      "/superbugai-data/yash/chapter_2/workspace/EHR-QC-Preprocess/.venv/lib/python3.9/site-packages/sklearn/utils/validation.py:604: FutureWarning: is_sparse is deprecated and will be removed in a future version. Check `isinstance(dtype, pd.SparseDtype)` instead.\n",
      "  if is_sparse(pd_dtype) or not is_extension_array_dtype(pd_dtype):\n",
      "/superbugai-data/yash/chapter_2/workspace/EHR-QC-Preprocess/.venv/lib/python3.9/site-packages/sklearn/base.py:450: UserWarning: X does not have valid feature names, but IsolationForest was fitted with feature names\n",
      "  warnings.warn(\n",
      "/superbugai-data/yash/chapter_2/workspace/EHR-QC-Preprocess/.venv/lib/python3.9/site-packages/sklearn/utils/validation.py:757: FutureWarning: is_sparse is deprecated and will be removed in a future version. Check `isinstance(dtype, pd.SparseDtype)` instead.\n",
      "  if not hasattr(array, \"sparse\") and array.dtypes.apply(is_sparse).any():\n",
      "/superbugai-data/yash/chapter_2/workspace/EHR-QC-Preprocess/.venv/lib/python3.9/site-packages/sklearn/utils/validation.py:595: FutureWarning: is_sparse is deprecated and will be removed in a future version. Check `isinstance(dtype, pd.SparseDtype)` instead.\n",
      "  if is_sparse(pd_dtype):\n",
      "/superbugai-data/yash/chapter_2/workspace/EHR-QC-Preprocess/.venv/lib/python3.9/site-packages/sklearn/utils/validation.py:604: FutureWarning: is_sparse is deprecated and will be removed in a future version. Check `isinstance(dtype, pd.SparseDtype)` instead.\n",
      "  if is_sparse(pd_dtype) or not is_extension_array_dtype(pd_dtype):\n",
      "/superbugai-data/yash/chapter_2/workspace/EHR-QC-Preprocess/ehrqc/plot/OutlierIsolationForest.py:87: SettingWithCopyWarning: \n",
      "A value is trying to be set on a copy of a slice from a DataFrame\n",
      "\n",
      "See the caveats in the documentation: https://pandas.pydata.org/pandas-docs/stable/user_guide/indexing.html#returning-a-view-versus-a-copy\n",
      "  correctedDf.drop(columns=['outlier_scores'], inplace=True)\n"
     ]
    },
    {
     "name": "stdout",
     "output_type": "stream",
     "text": [
      "2023-11-14 23:49:40,426 - EHR-QC - INFO - Saving the corrected file\n",
      "2023-11-14 23:49:42,954 - EHR-QC - INFO - Done!!\n"
     ]
    },
    {
     "data": {
      "text/plain": [
       "0"
      ]
     },
     "execution_count": 2,
     "metadata": {},
     "output_type": "execute_result"
    }
   ],
   "source": [
    "import os\n",
    "\n",
    "\n",
    "os.system(\n",
    "    'cd ' + os.environ['EHR_QC_PREPROCESS_BASE'] + ';'\n",
    "    +\n",
    "    '''.venv/bin/python -m ehrqc.plot.OutlierIsolationForest ''' + os.environ['EICU_EHR_PIPELINE_BASE'] + '''/data/imputed/vitals_min_episode_date.csv ''' + os.environ['EICU_EHR_PIPELINE_BASE'] + '''/data/cleaned/vitals_min_episode_date.csv clean -c \"systemic_mean\" \"systemic_diastolic\" \"systemic_systolic\" \"respiration\" \"heartrate\" \"sao2\"'''\n",
    "    )\n"
   ]
  },
  {
   "cell_type": "markdown",
   "metadata": {},
   "source": [
    "### max"
   ]
  },
  {
   "cell_type": "code",
   "execution_count": 3,
   "metadata": {},
   "outputs": [
    {
     "name": "stdout",
     "output_type": "stream",
     "text": [
      "2023-11-14 23:49:43,909 - EHR-QC - INFO - Parsing command line arguments\n",
      "2023-11-14 23:49:43,910 - EHR-QC - INFO - args.source_file: /home/yram0006/phd/chapter_2/workspace/eICU-EHR-Pipeline/data/imputed/vitals_max_episode_date.csv\n",
      "2023-11-14 23:49:43,910 - EHR-QC - INFO - args.save_file: /home/yram0006/phd/chapter_2/workspace/eICU-EHR-Pipeline/data/cleaned/vitals_max_episode_date.csv\n",
      "2023-11-14 23:49:43,911 - EHR-QC - INFO - args.action: clean\n",
      "2023-11-14 23:49:43,911 - EHR-QC - INFO - args.columns: ['systemic_mean', 'systemic_diastolic', 'systemic_systolic', 'respiration', 'heartrate', 'sao2']\n",
      "2023-11-14 23:49:44,259 - EHR-QC - INFO - Validating the input arguments.\n",
      "2023-11-14 23:49:44,267 - EHR-QC - INFO - Validating complete!!\n",
      "2023-11-14 23:49:44,267 - EHR-QC - INFO - Removing outliers\n"
     ]
    },
    {
     "name": "stderr",
     "output_type": "stream",
     "text": [
      "/superbugai-data/yash/chapter_2/workspace/EHR-QC-Preprocess/.venv/lib/python3.9/site-packages/sklearn/utils/validation.py:757: FutureWarning: is_sparse is deprecated and will be removed in a future version. Check `isinstance(dtype, pd.SparseDtype)` instead.\n",
      "  if not hasattr(array, \"sparse\") and array.dtypes.apply(is_sparse).any():\n",
      "/superbugai-data/yash/chapter_2/workspace/EHR-QC-Preprocess/.venv/lib/python3.9/site-packages/sklearn/utils/validation.py:595: FutureWarning: is_sparse is deprecated and will be removed in a future version. Check `isinstance(dtype, pd.SparseDtype)` instead.\n",
      "  if is_sparse(pd_dtype):\n",
      "/superbugai-data/yash/chapter_2/workspace/EHR-QC-Preprocess/.venv/lib/python3.9/site-packages/sklearn/utils/validation.py:604: FutureWarning: is_sparse is deprecated and will be removed in a future version. Check `isinstance(dtype, pd.SparseDtype)` instead.\n",
      "  if is_sparse(pd_dtype) or not is_extension_array_dtype(pd_dtype):\n",
      "/superbugai-data/yash/chapter_2/workspace/EHR-QC-Preprocess/.venv/lib/python3.9/site-packages/sklearn/base.py:450: UserWarning: X does not have valid feature names, but IsolationForest was fitted with feature names\n",
      "  warnings.warn(\n",
      "/superbugai-data/yash/chapter_2/workspace/EHR-QC-Preprocess/.venv/lib/python3.9/site-packages/sklearn/utils/validation.py:757: FutureWarning: is_sparse is deprecated and will be removed in a future version. Check `isinstance(dtype, pd.SparseDtype)` instead.\n",
      "  if not hasattr(array, \"sparse\") and array.dtypes.apply(is_sparse).any():\n",
      "/superbugai-data/yash/chapter_2/workspace/EHR-QC-Preprocess/.venv/lib/python3.9/site-packages/sklearn/utils/validation.py:595: FutureWarning: is_sparse is deprecated and will be removed in a future version. Check `isinstance(dtype, pd.SparseDtype)` instead.\n",
      "  if is_sparse(pd_dtype):\n",
      "/superbugai-data/yash/chapter_2/workspace/EHR-QC-Preprocess/.venv/lib/python3.9/site-packages/sklearn/utils/validation.py:604: FutureWarning: is_sparse is deprecated and will be removed in a future version. Check `isinstance(dtype, pd.SparseDtype)` instead.\n",
      "  if is_sparse(pd_dtype) or not is_extension_array_dtype(pd_dtype):\n",
      "/superbugai-data/yash/chapter_2/workspace/EHR-QC-Preprocess/ehrqc/plot/OutlierIsolationForest.py:87: SettingWithCopyWarning: \n",
      "A value is trying to be set on a copy of a slice from a DataFrame\n",
      "\n",
      "See the caveats in the documentation: https://pandas.pydata.org/pandas-docs/stable/user_guide/indexing.html#returning-a-view-versus-a-copy\n",
      "  correctedDf.drop(columns=['outlier_scores'], inplace=True)\n"
     ]
    },
    {
     "name": "stdout",
     "output_type": "stream",
     "text": [
      "2023-11-14 23:50:08,399 - EHR-QC - INFO - Saving the corrected file\n",
      "2023-11-14 23:50:11,112 - EHR-QC - INFO - Done!!\n"
     ]
    },
    {
     "data": {
      "text/plain": [
       "0"
      ]
     },
     "execution_count": 3,
     "metadata": {},
     "output_type": "execute_result"
    }
   ],
   "source": [
    "import os\n",
    "\n",
    "\n",
    "os.system(\n",
    "    'cd ' + os.environ['EHR_QC_PREPROCESS_BASE'] + ';'\n",
    "    +\n",
    "    '''.venv/bin/python -m ehrqc.plot.OutlierIsolationForest ''' + os.environ['EICU_EHR_PIPELINE_BASE'] + '''/data/imputed/vitals_max_episode_date.csv ''' + os.environ['EICU_EHR_PIPELINE_BASE'] + '''/data/cleaned/vitals_max_episode_date.csv clean -c \"systemic_mean\" \"systemic_diastolic\" \"systemic_systolic\" \"respiration\" \"heartrate\" \"sao2\"'''\n",
    "    )\n"
   ]
  },
  {
   "cell_type": "markdown",
   "metadata": {},
   "source": [
    "### first"
   ]
  },
  {
   "cell_type": "code",
   "execution_count": 4,
   "metadata": {},
   "outputs": [
    {
     "name": "stdout",
     "output_type": "stream",
     "text": [
      "2023-11-14 23:50:12,040 - EHR-QC - INFO - Parsing command line arguments\n",
      "2023-11-14 23:50:12,041 - EHR-QC - INFO - args.source_file: /home/yram0006/phd/chapter_2/workspace/eICU-EHR-Pipeline/data/imputed/vitals_first_episode_date.csv\n",
      "2023-11-14 23:50:12,041 - EHR-QC - INFO - args.save_file: /home/yram0006/phd/chapter_2/workspace/eICU-EHR-Pipeline/data/cleaned/vitals_first_episode_date.csv\n",
      "2023-11-14 23:50:12,041 - EHR-QC - INFO - args.action: clean\n",
      "2023-11-14 23:50:12,042 - EHR-QC - INFO - args.columns: ['systemic_mean', 'systemic_diastolic', 'systemic_systolic', 'respiration', 'heartrate', 'sao2']\n",
      "2023-11-14 23:50:12,372 - EHR-QC - INFO - Validating the input arguments.\n",
      "2023-11-14 23:50:12,379 - EHR-QC - INFO - Validating complete!!\n",
      "2023-11-14 23:50:12,380 - EHR-QC - INFO - Removing outliers\n"
     ]
    },
    {
     "name": "stderr",
     "output_type": "stream",
     "text": [
      "/superbugai-data/yash/chapter_2/workspace/EHR-QC-Preprocess/.venv/lib/python3.9/site-packages/sklearn/utils/validation.py:757: FutureWarning: is_sparse is deprecated and will be removed in a future version. Check `isinstance(dtype, pd.SparseDtype)` instead.\n",
      "  if not hasattr(array, \"sparse\") and array.dtypes.apply(is_sparse).any():\n",
      "/superbugai-data/yash/chapter_2/workspace/EHR-QC-Preprocess/.venv/lib/python3.9/site-packages/sklearn/utils/validation.py:595: FutureWarning: is_sparse is deprecated and will be removed in a future version. Check `isinstance(dtype, pd.SparseDtype)` instead.\n",
      "  if is_sparse(pd_dtype):\n",
      "/superbugai-data/yash/chapter_2/workspace/EHR-QC-Preprocess/.venv/lib/python3.9/site-packages/sklearn/utils/validation.py:604: FutureWarning: is_sparse is deprecated and will be removed in a future version. Check `isinstance(dtype, pd.SparseDtype)` instead.\n",
      "  if is_sparse(pd_dtype) or not is_extension_array_dtype(pd_dtype):\n",
      "/superbugai-data/yash/chapter_2/workspace/EHR-QC-Preprocess/.venv/lib/python3.9/site-packages/sklearn/base.py:450: UserWarning: X does not have valid feature names, but IsolationForest was fitted with feature names\n",
      "  warnings.warn(\n",
      "/superbugai-data/yash/chapter_2/workspace/EHR-QC-Preprocess/.venv/lib/python3.9/site-packages/sklearn/utils/validation.py:757: FutureWarning: is_sparse is deprecated and will be removed in a future version. Check `isinstance(dtype, pd.SparseDtype)` instead.\n",
      "  if not hasattr(array, \"sparse\") and array.dtypes.apply(is_sparse).any():\n",
      "/superbugai-data/yash/chapter_2/workspace/EHR-QC-Preprocess/.venv/lib/python3.9/site-packages/sklearn/utils/validation.py:595: FutureWarning: is_sparse is deprecated and will be removed in a future version. Check `isinstance(dtype, pd.SparseDtype)` instead.\n",
      "  if is_sparse(pd_dtype):\n",
      "/superbugai-data/yash/chapter_2/workspace/EHR-QC-Preprocess/.venv/lib/python3.9/site-packages/sklearn/utils/validation.py:604: FutureWarning: is_sparse is deprecated and will be removed in a future version. Check `isinstance(dtype, pd.SparseDtype)` instead.\n",
      "  if is_sparse(pd_dtype) or not is_extension_array_dtype(pd_dtype):\n",
      "/superbugai-data/yash/chapter_2/workspace/EHR-QC-Preprocess/ehrqc/plot/OutlierIsolationForest.py:87: SettingWithCopyWarning: \n",
      "A value is trying to be set on a copy of a slice from a DataFrame\n",
      "\n",
      "See the caveats in the documentation: https://pandas.pydata.org/pandas-docs/stable/user_guide/indexing.html#returning-a-view-versus-a-copy\n",
      "  correctedDf.drop(columns=['outlier_scores'], inplace=True)\n"
     ]
    },
    {
     "name": "stdout",
     "output_type": "stream",
     "text": [
      "2023-11-14 23:50:37,059 - EHR-QC - INFO - Saving the corrected file\n",
      "2023-11-14 23:50:39,598 - EHR-QC - INFO - Done!!\n"
     ]
    },
    {
     "data": {
      "text/plain": [
       "0"
      ]
     },
     "execution_count": 4,
     "metadata": {},
     "output_type": "execute_result"
    }
   ],
   "source": [
    "import os\n",
    "\n",
    "\n",
    "os.system(\n",
    "    'cd ' + os.environ['EHR_QC_PREPROCESS_BASE'] + ';'\n",
    "    +\n",
    "    '''.venv/bin/python -m ehrqc.plot.OutlierIsolationForest ''' + os.environ['EICU_EHR_PIPELINE_BASE'] + '''/data/imputed/vitals_first_episode_date.csv ''' + os.environ['EICU_EHR_PIPELINE_BASE'] + '''/data/cleaned/vitals_first_episode_date.csv clean -c \"systemic_mean\" \"systemic_diastolic\" \"systemic_systolic\" \"respiration\" \"heartrate\" \"sao2\"'''\n",
    "    )\n"
   ]
  },
  {
   "cell_type": "markdown",
   "metadata": {},
   "source": [
    "### last"
   ]
  },
  {
   "cell_type": "code",
   "execution_count": 5,
   "metadata": {},
   "outputs": [
    {
     "name": "stdout",
     "output_type": "stream",
     "text": [
      "2023-11-14 23:50:40,508 - EHR-QC - INFO - Parsing command line arguments\n",
      "2023-11-14 23:50:40,510 - EHR-QC - INFO - args.source_file: /home/yram0006/phd/chapter_2/workspace/eICU-EHR-Pipeline/data/imputed/vitals_last_episode_date.csv\n",
      "2023-11-14 23:50:40,510 - EHR-QC - INFO - args.save_file: /home/yram0006/phd/chapter_2/workspace/eICU-EHR-Pipeline/data/cleaned/vitals_last_episode_date.csv\n",
      "2023-11-14 23:50:40,510 - EHR-QC - INFO - args.action: clean\n",
      "2023-11-14 23:50:40,510 - EHR-QC - INFO - args.columns: ['systemic_mean', 'systemic_diastolic', 'systemic_systolic', 'respiration', 'heartrate', 'sao2']\n",
      "2023-11-14 23:50:40,829 - EHR-QC - INFO - Validating the input arguments.\n",
      "2023-11-14 23:50:40,836 - EHR-QC - INFO - Validating complete!!\n",
      "2023-11-14 23:50:40,837 - EHR-QC - INFO - Removing outliers\n"
     ]
    },
    {
     "name": "stderr",
     "output_type": "stream",
     "text": [
      "/superbugai-data/yash/chapter_2/workspace/EHR-QC-Preprocess/.venv/lib/python3.9/site-packages/sklearn/utils/validation.py:757: FutureWarning: is_sparse is deprecated and will be removed in a future version. Check `isinstance(dtype, pd.SparseDtype)` instead.\n",
      "  if not hasattr(array, \"sparse\") and array.dtypes.apply(is_sparse).any():\n",
      "/superbugai-data/yash/chapter_2/workspace/EHR-QC-Preprocess/.venv/lib/python3.9/site-packages/sklearn/utils/validation.py:595: FutureWarning: is_sparse is deprecated and will be removed in a future version. Check `isinstance(dtype, pd.SparseDtype)` instead.\n",
      "  if is_sparse(pd_dtype):\n",
      "/superbugai-data/yash/chapter_2/workspace/EHR-QC-Preprocess/.venv/lib/python3.9/site-packages/sklearn/utils/validation.py:604: FutureWarning: is_sparse is deprecated and will be removed in a future version. Check `isinstance(dtype, pd.SparseDtype)` instead.\n",
      "  if is_sparse(pd_dtype) or not is_extension_array_dtype(pd_dtype):\n",
      "/superbugai-data/yash/chapter_2/workspace/EHR-QC-Preprocess/.venv/lib/python3.9/site-packages/sklearn/base.py:450: UserWarning: X does not have valid feature names, but IsolationForest was fitted with feature names\n",
      "  warnings.warn(\n",
      "/superbugai-data/yash/chapter_2/workspace/EHR-QC-Preprocess/.venv/lib/python3.9/site-packages/sklearn/utils/validation.py:757: FutureWarning: is_sparse is deprecated and will be removed in a future version. Check `isinstance(dtype, pd.SparseDtype)` instead.\n",
      "  if not hasattr(array, \"sparse\") and array.dtypes.apply(is_sparse).any():\n",
      "/superbugai-data/yash/chapter_2/workspace/EHR-QC-Preprocess/.venv/lib/python3.9/site-packages/sklearn/utils/validation.py:595: FutureWarning: is_sparse is deprecated and will be removed in a future version. Check `isinstance(dtype, pd.SparseDtype)` instead.\n",
      "  if is_sparse(pd_dtype):\n",
      "/superbugai-data/yash/chapter_2/workspace/EHR-QC-Preprocess/.venv/lib/python3.9/site-packages/sklearn/utils/validation.py:604: FutureWarning: is_sparse is deprecated and will be removed in a future version. Check `isinstance(dtype, pd.SparseDtype)` instead.\n",
      "  if is_sparse(pd_dtype) or not is_extension_array_dtype(pd_dtype):\n",
      "/superbugai-data/yash/chapter_2/workspace/EHR-QC-Preprocess/ehrqc/plot/OutlierIsolationForest.py:87: SettingWithCopyWarning: \n",
      "A value is trying to be set on a copy of a slice from a DataFrame\n",
      "\n",
      "See the caveats in the documentation: https://pandas.pydata.org/pandas-docs/stable/user_guide/indexing.html#returning-a-view-versus-a-copy\n",
      "  correctedDf.drop(columns=['outlier_scores'], inplace=True)\n"
     ]
    },
    {
     "name": "stdout",
     "output_type": "stream",
     "text": [
      "2023-11-14 23:51:04,359 - EHR-QC - INFO - Saving the corrected file\n",
      "2023-11-14 23:51:06,909 - EHR-QC - INFO - Done!!\n"
     ]
    },
    {
     "data": {
      "text/plain": [
       "0"
      ]
     },
     "execution_count": 5,
     "metadata": {},
     "output_type": "execute_result"
    }
   ],
   "source": [
    "import os\n",
    "\n",
    "\n",
    "os.system(\n",
    "    'cd ' + os.environ['EHR_QC_PREPROCESS_BASE'] + ';'\n",
    "    +\n",
    "    '''.venv/bin/python -m ehrqc.plot.OutlierIsolationForest ''' + os.environ['EICU_EHR_PIPELINE_BASE'] + '''/data/imputed/vitals_last_episode_date.csv ''' + os.environ['EICU_EHR_PIPELINE_BASE'] + '''/data/cleaned/vitals_last_episode_date.csv clean -c \"systemic_mean\" \"systemic_diastolic\" \"systemic_systolic\" \"respiration\" \"heartrate\" \"sao2\"'''\n",
    "    )\n"
   ]
  },
  {
   "cell_type": "markdown",
   "metadata": {},
   "source": [
    "## Labs"
   ]
  },
  {
   "cell_type": "markdown",
   "metadata": {},
   "source": [
    "### avg"
   ]
  },
  {
   "cell_type": "code",
   "execution_count": 6,
   "metadata": {},
   "outputs": [
    {
     "name": "stdout",
     "output_type": "stream",
     "text": [
      "2023-11-14 23:51:07,818 - EHR-QC - INFO - Parsing command line arguments\n",
      "2023-11-14 23:51:07,819 - EHR-QC - INFO - args.source_file: /home/yram0006/phd/chapter_2/workspace/eICU-EHR-Pipeline/data/imputed/labs_avg_episode_date.csv\n",
      "2023-11-14 23:51:07,819 - EHR-QC - INFO - args.save_file: /home/yram0006/phd/chapter_2/workspace/eICU-EHR-Pipeline/data/cleaned/labs_avg_episode_date.csv\n",
      "2023-11-14 23:51:07,819 - EHR-QC - INFO - args.action: clean\n",
      "2023-11-14 23:51:07,819 - EHR-QC - INFO - args.columns: ['Sodium level', 'Blood urea nitrogen', 'Creatinine level', 'Potassium level', 'Chloride', 'Hematocrit', 'Haemoglobin estimation', 'Platelet count', 'Red blood cell count', 'Calcium level', 'MCV - Mean corpuscular volume', 'MCHC - Mean corpuscular haemoglobin concentration', 'MCH - Mean corpuscular haemoglobin', 'White blood cell count', 'Red blood cell distribution width', 'Glucose level', 'Bicarbonate level', 'Anion gap']\n",
      "2023-11-14 23:51:08,016 - EHR-QC - INFO - Validating the input arguments.\n",
      "2023-11-14 23:51:08,020 - EHR-QC - INFO - Validating complete!!\n",
      "2023-11-14 23:51:08,020 - EHR-QC - INFO - Removing outliers\n"
     ]
    },
    {
     "name": "stderr",
     "output_type": "stream",
     "text": [
      "/superbugai-data/yash/chapter_2/workspace/EHR-QC-Preprocess/.venv/lib/python3.9/site-packages/sklearn/utils/validation.py:757: FutureWarning: is_sparse is deprecated and will be removed in a future version. Check `isinstance(dtype, pd.SparseDtype)` instead.\n",
      "  if not hasattr(array, \"sparse\") and array.dtypes.apply(is_sparse).any():\n",
      "/superbugai-data/yash/chapter_2/workspace/EHR-QC-Preprocess/.venv/lib/python3.9/site-packages/sklearn/utils/validation.py:595: FutureWarning: is_sparse is deprecated and will be removed in a future version. Check `isinstance(dtype, pd.SparseDtype)` instead.\n",
      "  if is_sparse(pd_dtype):\n",
      "/superbugai-data/yash/chapter_2/workspace/EHR-QC-Preprocess/.venv/lib/python3.9/site-packages/sklearn/utils/validation.py:604: FutureWarning: is_sparse is deprecated and will be removed in a future version. Check `isinstance(dtype, pd.SparseDtype)` instead.\n",
      "  if is_sparse(pd_dtype) or not is_extension_array_dtype(pd_dtype):\n",
      "/superbugai-data/yash/chapter_2/workspace/EHR-QC-Preprocess/.venv/lib/python3.9/site-packages/sklearn/base.py:450: UserWarning: X does not have valid feature names, but IsolationForest was fitted with feature names\n",
      "  warnings.warn(\n",
      "/superbugai-data/yash/chapter_2/workspace/EHR-QC-Preprocess/.venv/lib/python3.9/site-packages/sklearn/utils/validation.py:757: FutureWarning: is_sparse is deprecated and will be removed in a future version. Check `isinstance(dtype, pd.SparseDtype)` instead.\n",
      "  if not hasattr(array, \"sparse\") and array.dtypes.apply(is_sparse).any():\n",
      "/superbugai-data/yash/chapter_2/workspace/EHR-QC-Preprocess/.venv/lib/python3.9/site-packages/sklearn/utils/validation.py:595: FutureWarning: is_sparse is deprecated and will be removed in a future version. Check `isinstance(dtype, pd.SparseDtype)` instead.\n",
      "  if is_sparse(pd_dtype):\n",
      "/superbugai-data/yash/chapter_2/workspace/EHR-QC-Preprocess/.venv/lib/python3.9/site-packages/sklearn/utils/validation.py:604: FutureWarning: is_sparse is deprecated and will be removed in a future version. Check `isinstance(dtype, pd.SparseDtype)` instead.\n",
      "  if is_sparse(pd_dtype) or not is_extension_array_dtype(pd_dtype):\n",
      "/superbugai-data/yash/chapter_2/workspace/EHR-QC-Preprocess/ehrqc/plot/OutlierIsolationForest.py:87: SettingWithCopyWarning: \n",
      "A value is trying to be set on a copy of a slice from a DataFrame\n",
      "\n",
      "See the caveats in the documentation: https://pandas.pydata.org/pandas-docs/stable/user_guide/indexing.html#returning-a-view-versus-a-copy\n",
      "  correctedDf.drop(columns=['outlier_scores'], inplace=True)\n"
     ]
    },
    {
     "name": "stdout",
     "output_type": "stream",
     "text": [
      "2023-11-14 23:51:13,912 - EHR-QC - INFO - Saving the corrected file\n",
      "2023-11-14 23:51:15,337 - EHR-QC - INFO - Done!!\n"
     ]
    },
    {
     "data": {
      "text/plain": [
       "0"
      ]
     },
     "execution_count": 6,
     "metadata": {},
     "output_type": "execute_result"
    }
   ],
   "source": [
    "import os\n",
    "\n",
    "\n",
    "os.system(\n",
    "    'cd ' + os.environ['EHR_QC_PREPROCESS_BASE'] + ';'\n",
    "    +\n",
    "    '''.venv/bin/python -m ehrqc.plot.OutlierIsolationForest ''' + os.environ['EICU_EHR_PIPELINE_BASE'] + '''/data/imputed/labs_avg_episode_date.csv ''' + os.environ['EICU_EHR_PIPELINE_BASE'] + '''/data/cleaned/labs_avg_episode_date.csv clean -c \"Sodium level\" \"Blood urea nitrogen\" \"Creatinine level\" \"Potassium level\" \"Chloride\" \"Hematocrit\" \"Haemoglobin estimation\" \"Platelet count\" \"Red blood cell count\" \"Calcium level\" \"MCV - Mean corpuscular volume\" \"MCHC - Mean corpuscular haemoglobin concentration\" \"MCH - Mean corpuscular haemoglobin\" \"White blood cell count\" \"Red blood cell distribution width\" \"Glucose level\" \"Bicarbonate level\" \"Anion gap\"'''\n",
    "    )\n"
   ]
  },
  {
   "cell_type": "markdown",
   "metadata": {},
   "source": [
    "### min"
   ]
  },
  {
   "cell_type": "code",
   "execution_count": 7,
   "metadata": {},
   "outputs": [
    {
     "name": "stdout",
     "output_type": "stream",
     "text": [
      "2023-11-14 23:51:16,227 - EHR-QC - INFO - Parsing command line arguments\n",
      "2023-11-14 23:51:16,228 - EHR-QC - INFO - args.source_file: /home/yram0006/phd/chapter_2/workspace/eICU-EHR-Pipeline/data/imputed/labs_min_episode_date.csv\n",
      "2023-11-14 23:51:16,229 - EHR-QC - INFO - args.save_file: /home/yram0006/phd/chapter_2/workspace/eICU-EHR-Pipeline/data/cleaned/labs_min_episode_date.csv\n",
      "2023-11-14 23:51:16,229 - EHR-QC - INFO - args.action: clean\n",
      "2023-11-14 23:51:16,229 - EHR-QC - INFO - args.columns: ['Sodium level', 'Blood urea nitrogen', 'Creatinine level', 'Potassium level', 'Chloride', 'Hematocrit', 'Haemoglobin estimation', 'Platelet count', 'Red blood cell count', 'Calcium level', 'MCV - Mean corpuscular volume', 'MCHC - Mean corpuscular haemoglobin concentration', 'MCH - Mean corpuscular haemoglobin', 'White blood cell count', 'Red blood cell distribution width', 'Glucose level', 'Bicarbonate level', 'Anion gap']\n",
      "2023-11-14 23:51:16,427 - EHR-QC - INFO - Validating the input arguments.\n",
      "2023-11-14 23:51:16,431 - EHR-QC - INFO - Validating complete!!\n",
      "2023-11-14 23:51:16,431 - EHR-QC - INFO - Removing outliers\n"
     ]
    },
    {
     "name": "stderr",
     "output_type": "stream",
     "text": [
      "/superbugai-data/yash/chapter_2/workspace/EHR-QC-Preprocess/.venv/lib/python3.9/site-packages/sklearn/utils/validation.py:757: FutureWarning: is_sparse is deprecated and will be removed in a future version. Check `isinstance(dtype, pd.SparseDtype)` instead.\n",
      "  if not hasattr(array, \"sparse\") and array.dtypes.apply(is_sparse).any():\n",
      "/superbugai-data/yash/chapter_2/workspace/EHR-QC-Preprocess/.venv/lib/python3.9/site-packages/sklearn/utils/validation.py:595: FutureWarning: is_sparse is deprecated and will be removed in a future version. Check `isinstance(dtype, pd.SparseDtype)` instead.\n",
      "  if is_sparse(pd_dtype):\n",
      "/superbugai-data/yash/chapter_2/workspace/EHR-QC-Preprocess/.venv/lib/python3.9/site-packages/sklearn/utils/validation.py:604: FutureWarning: is_sparse is deprecated and will be removed in a future version. Check `isinstance(dtype, pd.SparseDtype)` instead.\n",
      "  if is_sparse(pd_dtype) or not is_extension_array_dtype(pd_dtype):\n",
      "/superbugai-data/yash/chapter_2/workspace/EHR-QC-Preprocess/.venv/lib/python3.9/site-packages/sklearn/base.py:450: UserWarning: X does not have valid feature names, but IsolationForest was fitted with feature names\n",
      "  warnings.warn(\n",
      "/superbugai-data/yash/chapter_2/workspace/EHR-QC-Preprocess/.venv/lib/python3.9/site-packages/sklearn/utils/validation.py:757: FutureWarning: is_sparse is deprecated and will be removed in a future version. Check `isinstance(dtype, pd.SparseDtype)` instead.\n",
      "  if not hasattr(array, \"sparse\") and array.dtypes.apply(is_sparse).any():\n",
      "/superbugai-data/yash/chapter_2/workspace/EHR-QC-Preprocess/.venv/lib/python3.9/site-packages/sklearn/utils/validation.py:595: FutureWarning: is_sparse is deprecated and will be removed in a future version. Check `isinstance(dtype, pd.SparseDtype)` instead.\n",
      "  if is_sparse(pd_dtype):\n",
      "/superbugai-data/yash/chapter_2/workspace/EHR-QC-Preprocess/.venv/lib/python3.9/site-packages/sklearn/utils/validation.py:604: FutureWarning: is_sparse is deprecated and will be removed in a future version. Check `isinstance(dtype, pd.SparseDtype)` instead.\n",
      "  if is_sparse(pd_dtype) or not is_extension_array_dtype(pd_dtype):\n",
      "/superbugai-data/yash/chapter_2/workspace/EHR-QC-Preprocess/ehrqc/plot/OutlierIsolationForest.py:87: SettingWithCopyWarning: \n",
      "A value is trying to be set on a copy of a slice from a DataFrame\n",
      "\n",
      "See the caveats in the documentation: https://pandas.pydata.org/pandas-docs/stable/user_guide/indexing.html#returning-a-view-versus-a-copy\n",
      "  correctedDf.drop(columns=['outlier_scores'], inplace=True)\n"
     ]
    },
    {
     "name": "stdout",
     "output_type": "stream",
     "text": [
      "2023-11-14 23:51:22,592 - EHR-QC - INFO - Saving the corrected file\n",
      "2023-11-14 23:51:23,977 - EHR-QC - INFO - Done!!\n"
     ]
    },
    {
     "data": {
      "text/plain": [
       "0"
      ]
     },
     "execution_count": 7,
     "metadata": {},
     "output_type": "execute_result"
    }
   ],
   "source": [
    "import os\n",
    "\n",
    "\n",
    "os.system(\n",
    "    'cd ' + os.environ['EHR_QC_PREPROCESS_BASE'] + ';'\n",
    "    +\n",
    "    '''.venv/bin/python -m ehrqc.plot.OutlierIsolationForest ''' + os.environ['EICU_EHR_PIPELINE_BASE'] + '''/data/imputed/labs_min_episode_date.csv ''' + os.environ['EICU_EHR_PIPELINE_BASE'] + '''/data/cleaned/labs_min_episode_date.csv clean -c \"Sodium level\" \"Blood urea nitrogen\" \"Creatinine level\" \"Potassium level\" \"Chloride\" \"Hematocrit\" \"Haemoglobin estimation\" \"Platelet count\" \"Red blood cell count\" \"Calcium level\" \"MCV - Mean corpuscular volume\" \"MCHC - Mean corpuscular haemoglobin concentration\" \"MCH - Mean corpuscular haemoglobin\" \"White blood cell count\" \"Red blood cell distribution width\" \"Glucose level\" \"Bicarbonate level\" \"Anion gap\"'''\n",
    "    )\n"
   ]
  },
  {
   "cell_type": "markdown",
   "metadata": {},
   "source": [
    "### max"
   ]
  },
  {
   "cell_type": "code",
   "execution_count": 8,
   "metadata": {},
   "outputs": [
    {
     "name": "stdout",
     "output_type": "stream",
     "text": [
      "2023-11-14 23:51:24,941 - EHR-QC - INFO - Parsing command line arguments\n",
      "2023-11-14 23:51:24,942 - EHR-QC - INFO - args.source_file: /home/yram0006/phd/chapter_2/workspace/eICU-EHR-Pipeline/data/imputed/labs_max_episode_date.csv\n",
      "2023-11-14 23:51:24,942 - EHR-QC - INFO - args.save_file: /home/yram0006/phd/chapter_2/workspace/eICU-EHR-Pipeline/data/cleaned/labs_max_episode_date.csv\n",
      "2023-11-14 23:51:24,942 - EHR-QC - INFO - args.action: clean\n",
      "2023-11-14 23:51:24,942 - EHR-QC - INFO - args.columns: ['Sodium level', 'Blood urea nitrogen', 'Creatinine level', 'Potassium level', 'Chloride', 'Hematocrit', 'Haemoglobin estimation', 'Platelet count', 'Red blood cell count', 'Calcium level', 'MCV - Mean corpuscular volume', 'MCHC - Mean corpuscular haemoglobin concentration', 'MCH - Mean corpuscular haemoglobin', 'White blood cell count', 'Red blood cell distribution width', 'Glucose level', 'Bicarbonate level', 'Anion gap']\n",
      "2023-11-14 23:51:25,144 - EHR-QC - INFO - Validating the input arguments.\n",
      "2023-11-14 23:51:25,148 - EHR-QC - INFO - Validating complete!!\n",
      "2023-11-14 23:51:25,148 - EHR-QC - INFO - Removing outliers\n"
     ]
    },
    {
     "name": "stderr",
     "output_type": "stream",
     "text": [
      "/superbugai-data/yash/chapter_2/workspace/EHR-QC-Preprocess/.venv/lib/python3.9/site-packages/sklearn/utils/validation.py:757: FutureWarning: is_sparse is deprecated and will be removed in a future version. Check `isinstance(dtype, pd.SparseDtype)` instead.\n",
      "  if not hasattr(array, \"sparse\") and array.dtypes.apply(is_sparse).any():\n",
      "/superbugai-data/yash/chapter_2/workspace/EHR-QC-Preprocess/.venv/lib/python3.9/site-packages/sklearn/utils/validation.py:595: FutureWarning: is_sparse is deprecated and will be removed in a future version. Check `isinstance(dtype, pd.SparseDtype)` instead.\n",
      "  if is_sparse(pd_dtype):\n",
      "/superbugai-data/yash/chapter_2/workspace/EHR-QC-Preprocess/.venv/lib/python3.9/site-packages/sklearn/utils/validation.py:604: FutureWarning: is_sparse is deprecated and will be removed in a future version. Check `isinstance(dtype, pd.SparseDtype)` instead.\n",
      "  if is_sparse(pd_dtype) or not is_extension_array_dtype(pd_dtype):\n",
      "/superbugai-data/yash/chapter_2/workspace/EHR-QC-Preprocess/.venv/lib/python3.9/site-packages/sklearn/base.py:450: UserWarning: X does not have valid feature names, but IsolationForest was fitted with feature names\n",
      "  warnings.warn(\n",
      "/superbugai-data/yash/chapter_2/workspace/EHR-QC-Preprocess/.venv/lib/python3.9/site-packages/sklearn/utils/validation.py:757: FutureWarning: is_sparse is deprecated and will be removed in a future version. Check `isinstance(dtype, pd.SparseDtype)` instead.\n",
      "  if not hasattr(array, \"sparse\") and array.dtypes.apply(is_sparse).any():\n",
      "/superbugai-data/yash/chapter_2/workspace/EHR-QC-Preprocess/.venv/lib/python3.9/site-packages/sklearn/utils/validation.py:595: FutureWarning: is_sparse is deprecated and will be removed in a future version. Check `isinstance(dtype, pd.SparseDtype)` instead.\n",
      "  if is_sparse(pd_dtype):\n",
      "/superbugai-data/yash/chapter_2/workspace/EHR-QC-Preprocess/.venv/lib/python3.9/site-packages/sklearn/utils/validation.py:604: FutureWarning: is_sparse is deprecated and will be removed in a future version. Check `isinstance(dtype, pd.SparseDtype)` instead.\n",
      "  if is_sparse(pd_dtype) or not is_extension_array_dtype(pd_dtype):\n",
      "/superbugai-data/yash/chapter_2/workspace/EHR-QC-Preprocess/ehrqc/plot/OutlierIsolationForest.py:87: SettingWithCopyWarning: \n",
      "A value is trying to be set on a copy of a slice from a DataFrame\n",
      "\n",
      "See the caveats in the documentation: https://pandas.pydata.org/pandas-docs/stable/user_guide/indexing.html#returning-a-view-versus-a-copy\n",
      "  correctedDf.drop(columns=['outlier_scores'], inplace=True)\n"
     ]
    },
    {
     "name": "stdout",
     "output_type": "stream",
     "text": [
      "2023-11-14 23:51:31,679 - EHR-QC - INFO - Saving the corrected file\n",
      "2023-11-14 23:51:33,027 - EHR-QC - INFO - Done!!\n"
     ]
    },
    {
     "data": {
      "text/plain": [
       "0"
      ]
     },
     "execution_count": 8,
     "metadata": {},
     "output_type": "execute_result"
    }
   ],
   "source": [
    "import os\n",
    "\n",
    "\n",
    "os.system(\n",
    "    'cd ' + os.environ['EHR_QC_PREPROCESS_BASE'] + ';'\n",
    "    +\n",
    "    '''.venv/bin/python -m ehrqc.plot.OutlierIsolationForest ''' + os.environ['EICU_EHR_PIPELINE_BASE'] + '''/data/imputed/labs_max_episode_date.csv ''' + os.environ['EICU_EHR_PIPELINE_BASE'] + '''/data/cleaned/labs_max_episode_date.csv clean -c \"Sodium level\" \"Blood urea nitrogen\" \"Creatinine level\" \"Potassium level\" \"Chloride\" \"Hematocrit\" \"Haemoglobin estimation\" \"Platelet count\" \"Red blood cell count\" \"Calcium level\" \"MCV - Mean corpuscular volume\" \"MCHC - Mean corpuscular haemoglobin concentration\" \"MCH - Mean corpuscular haemoglobin\" \"White blood cell count\" \"Red blood cell distribution width\" \"Glucose level\" \"Bicarbonate level\" \"Anion gap\"'''\n",
    "    )\n"
   ]
  },
  {
   "cell_type": "markdown",
   "metadata": {},
   "source": [
    "### first"
   ]
  },
  {
   "cell_type": "code",
   "execution_count": 9,
   "metadata": {},
   "outputs": [
    {
     "name": "stdout",
     "output_type": "stream",
     "text": [
      "2023-11-14 23:51:33,934 - EHR-QC - INFO - Parsing command line arguments\n",
      "2023-11-14 23:51:33,936 - EHR-QC - INFO - args.source_file: /home/yram0006/phd/chapter_2/workspace/eICU-EHR-Pipeline/data/imputed/labs_first_episode_date.csv\n",
      "2023-11-14 23:51:33,936 - EHR-QC - INFO - args.save_file: /home/yram0006/phd/chapter_2/workspace/eICU-EHR-Pipeline/data/cleaned/labs_first_episode_date.csv\n",
      "2023-11-14 23:51:33,936 - EHR-QC - INFO - args.action: clean\n",
      "2023-11-14 23:51:33,936 - EHR-QC - INFO - args.columns: ['Sodium level', 'Blood urea nitrogen', 'Creatinine level', 'Potassium level', 'Chloride', 'Hematocrit', 'Haemoglobin estimation', 'Platelet count', 'Red blood cell count', 'Calcium level', 'MCV - Mean corpuscular volume', 'MCHC - Mean corpuscular haemoglobin concentration', 'MCH - Mean corpuscular haemoglobin', 'White blood cell count', 'Red blood cell distribution width', 'Glucose level', 'Bicarbonate level', 'Anion gap']\n",
      "2023-11-14 23:51:34,130 - EHR-QC - INFO - Validating the input arguments.\n",
      "2023-11-14 23:51:34,136 - EHR-QC - INFO - Validating complete!!\n",
      "2023-11-14 23:51:34,136 - EHR-QC - INFO - Removing outliers\n"
     ]
    },
    {
     "name": "stderr",
     "output_type": "stream",
     "text": [
      "/superbugai-data/yash/chapter_2/workspace/EHR-QC-Preprocess/.venv/lib/python3.9/site-packages/sklearn/utils/validation.py:757: FutureWarning: is_sparse is deprecated and will be removed in a future version. Check `isinstance(dtype, pd.SparseDtype)` instead.\n",
      "  if not hasattr(array, \"sparse\") and array.dtypes.apply(is_sparse).any():\n",
      "/superbugai-data/yash/chapter_2/workspace/EHR-QC-Preprocess/.venv/lib/python3.9/site-packages/sklearn/utils/validation.py:595: FutureWarning: is_sparse is deprecated and will be removed in a future version. Check `isinstance(dtype, pd.SparseDtype)` instead.\n",
      "  if is_sparse(pd_dtype):\n",
      "/superbugai-data/yash/chapter_2/workspace/EHR-QC-Preprocess/.venv/lib/python3.9/site-packages/sklearn/utils/validation.py:604: FutureWarning: is_sparse is deprecated and will be removed in a future version. Check `isinstance(dtype, pd.SparseDtype)` instead.\n",
      "  if is_sparse(pd_dtype) or not is_extension_array_dtype(pd_dtype):\n",
      "/superbugai-data/yash/chapter_2/workspace/EHR-QC-Preprocess/.venv/lib/python3.9/site-packages/sklearn/base.py:450: UserWarning: X does not have valid feature names, but IsolationForest was fitted with feature names\n",
      "  warnings.warn(\n",
      "/superbugai-data/yash/chapter_2/workspace/EHR-QC-Preprocess/.venv/lib/python3.9/site-packages/sklearn/utils/validation.py:757: FutureWarning: is_sparse is deprecated and will be removed in a future version. Check `isinstance(dtype, pd.SparseDtype)` instead.\n",
      "  if not hasattr(array, \"sparse\") and array.dtypes.apply(is_sparse).any():\n",
      "/superbugai-data/yash/chapter_2/workspace/EHR-QC-Preprocess/.venv/lib/python3.9/site-packages/sklearn/utils/validation.py:595: FutureWarning: is_sparse is deprecated and will be removed in a future version. Check `isinstance(dtype, pd.SparseDtype)` instead.\n",
      "  if is_sparse(pd_dtype):\n",
      "/superbugai-data/yash/chapter_2/workspace/EHR-QC-Preprocess/.venv/lib/python3.9/site-packages/sklearn/utils/validation.py:604: FutureWarning: is_sparse is deprecated and will be removed in a future version. Check `isinstance(dtype, pd.SparseDtype)` instead.\n",
      "  if is_sparse(pd_dtype) or not is_extension_array_dtype(pd_dtype):\n",
      "/superbugai-data/yash/chapter_2/workspace/EHR-QC-Preprocess/ehrqc/plot/OutlierIsolationForest.py:87: SettingWithCopyWarning: \n",
      "A value is trying to be set on a copy of a slice from a DataFrame\n",
      "\n",
      "See the caveats in the documentation: https://pandas.pydata.org/pandas-docs/stable/user_guide/indexing.html#returning-a-view-versus-a-copy\n",
      "  correctedDf.drop(columns=['outlier_scores'], inplace=True)\n"
     ]
    },
    {
     "name": "stdout",
     "output_type": "stream",
     "text": [
      "2023-11-14 23:51:40,589 - EHR-QC - INFO - Saving the corrected file\n",
      "2023-11-14 23:51:42,106 - EHR-QC - INFO - Done!!\n"
     ]
    },
    {
     "data": {
      "text/plain": [
       "0"
      ]
     },
     "execution_count": 9,
     "metadata": {},
     "output_type": "execute_result"
    }
   ],
   "source": [
    "import os\n",
    "\n",
    "\n",
    "os.system(\n",
    "    'cd ' + os.environ['EHR_QC_PREPROCESS_BASE'] + ';'\n",
    "    +\n",
    "    '''.venv/bin/python -m ehrqc.plot.OutlierIsolationForest ''' + os.environ['EICU_EHR_PIPELINE_BASE'] + '''/data/imputed/labs_first_episode_date.csv ''' + os.environ['EICU_EHR_PIPELINE_BASE'] + '''/data/cleaned/labs_first_episode_date.csv clean -c \"Sodium level\" \"Blood urea nitrogen\" \"Creatinine level\" \"Potassium level\" \"Chloride\" \"Hematocrit\" \"Haemoglobin estimation\" \"Platelet count\" \"Red blood cell count\" \"Calcium level\" \"MCV - Mean corpuscular volume\" \"MCHC - Mean corpuscular haemoglobin concentration\" \"MCH - Mean corpuscular haemoglobin\" \"White blood cell count\" \"Red blood cell distribution width\" \"Glucose level\" \"Bicarbonate level\" \"Anion gap\"'''\n",
    "    )\n"
   ]
  },
  {
   "cell_type": "markdown",
   "metadata": {},
   "source": [
    "### last"
   ]
  },
  {
   "cell_type": "code",
   "execution_count": 10,
   "metadata": {},
   "outputs": [
    {
     "name": "stdout",
     "output_type": "stream",
     "text": [
      "2023-11-14 23:51:43,049 - EHR-QC - INFO - Parsing command line arguments\n",
      "2023-11-14 23:51:43,050 - EHR-QC - INFO - args.source_file: /home/yram0006/phd/chapter_2/workspace/eICU-EHR-Pipeline/data/imputed/labs_last_episode_date.csv\n",
      "2023-11-14 23:51:43,050 - EHR-QC - INFO - args.save_file: /home/yram0006/phd/chapter_2/workspace/eICU-EHR-Pipeline/data/cleaned/labs_last_episode_date.csv\n",
      "2023-11-14 23:51:43,050 - EHR-QC - INFO - args.action: clean\n",
      "2023-11-14 23:51:43,050 - EHR-QC - INFO - args.columns: ['Sodium level', 'Blood urea nitrogen', 'Creatinine level', 'Potassium level', 'Chloride', 'Hematocrit', 'Haemoglobin estimation', 'Platelet count', 'Red blood cell count', 'Calcium level', 'MCV - Mean corpuscular volume', 'MCHC - Mean corpuscular haemoglobin concentration', 'MCH - Mean corpuscular haemoglobin', 'White blood cell count', 'Red blood cell distribution width', 'Glucose level', 'Bicarbonate level', 'Anion gap']\n",
      "2023-11-14 23:51:43,363 - EHR-QC - INFO - Validating the input arguments.\n",
      "2023-11-14 23:51:43,368 - EHR-QC - INFO - Validating complete!!\n",
      "2023-11-14 23:51:43,368 - EHR-QC - INFO - Removing outliers\n"
     ]
    },
    {
     "name": "stderr",
     "output_type": "stream",
     "text": [
      "/superbugai-data/yash/chapter_2/workspace/EHR-QC-Preprocess/.venv/lib/python3.9/site-packages/sklearn/utils/validation.py:757: FutureWarning: is_sparse is deprecated and will be removed in a future version. Check `isinstance(dtype, pd.SparseDtype)` instead.\n",
      "  if not hasattr(array, \"sparse\") and array.dtypes.apply(is_sparse).any():\n",
      "/superbugai-data/yash/chapter_2/workspace/EHR-QC-Preprocess/.venv/lib/python3.9/site-packages/sklearn/utils/validation.py:595: FutureWarning: is_sparse is deprecated and will be removed in a future version. Check `isinstance(dtype, pd.SparseDtype)` instead.\n",
      "  if is_sparse(pd_dtype):\n",
      "/superbugai-data/yash/chapter_2/workspace/EHR-QC-Preprocess/.venv/lib/python3.9/site-packages/sklearn/utils/validation.py:604: FutureWarning: is_sparse is deprecated and will be removed in a future version. Check `isinstance(dtype, pd.SparseDtype)` instead.\n",
      "  if is_sparse(pd_dtype) or not is_extension_array_dtype(pd_dtype):\n",
      "/superbugai-data/yash/chapter_2/workspace/EHR-QC-Preprocess/.venv/lib/python3.9/site-packages/sklearn/base.py:450: UserWarning: X does not have valid feature names, but IsolationForest was fitted with feature names\n",
      "  warnings.warn(\n",
      "/superbugai-data/yash/chapter_2/workspace/EHR-QC-Preprocess/.venv/lib/python3.9/site-packages/sklearn/utils/validation.py:757: FutureWarning: is_sparse is deprecated and will be removed in a future version. Check `isinstance(dtype, pd.SparseDtype)` instead.\n",
      "  if not hasattr(array, \"sparse\") and array.dtypes.apply(is_sparse).any():\n",
      "/superbugai-data/yash/chapter_2/workspace/EHR-QC-Preprocess/.venv/lib/python3.9/site-packages/sklearn/utils/validation.py:595: FutureWarning: is_sparse is deprecated and will be removed in a future version. Check `isinstance(dtype, pd.SparseDtype)` instead.\n",
      "  if is_sparse(pd_dtype):\n",
      "/superbugai-data/yash/chapter_2/workspace/EHR-QC-Preprocess/.venv/lib/python3.9/site-packages/sklearn/utils/validation.py:604: FutureWarning: is_sparse is deprecated and will be removed in a future version. Check `isinstance(dtype, pd.SparseDtype)` instead.\n",
      "  if is_sparse(pd_dtype) or not is_extension_array_dtype(pd_dtype):\n",
      "/superbugai-data/yash/chapter_2/workspace/EHR-QC-Preprocess/ehrqc/plot/OutlierIsolationForest.py:87: SettingWithCopyWarning: \n",
      "A value is trying to be set on a copy of a slice from a DataFrame\n",
      "\n",
      "See the caveats in the documentation: https://pandas.pydata.org/pandas-docs/stable/user_guide/indexing.html#returning-a-view-versus-a-copy\n",
      "  correctedDf.drop(columns=['outlier_scores'], inplace=True)\n"
     ]
    },
    {
     "name": "stdout",
     "output_type": "stream",
     "text": [
      "2023-11-14 23:51:50,081 - EHR-QC - INFO - Saving the corrected file\n",
      "2023-11-14 23:51:52,220 - EHR-QC - INFO - Done!!\n"
     ]
    },
    {
     "data": {
      "text/plain": [
       "0"
      ]
     },
     "execution_count": 10,
     "metadata": {},
     "output_type": "execute_result"
    }
   ],
   "source": [
    "import os\n",
    "\n",
    "\n",
    "os.system(\n",
    "    'cd ' + os.environ['EHR_QC_PREPROCESS_BASE'] + ';'\n",
    "    +\n",
    "    '''.venv/bin/python -m ehrqc.plot.OutlierIsolationForest ''' + os.environ['EICU_EHR_PIPELINE_BASE'] + '''/data/imputed/labs_last_episode_date.csv ''' + os.environ['EICU_EHR_PIPELINE_BASE'] + '''/data/cleaned/labs_last_episode_date.csv clean -c \"Sodium level\" \"Blood urea nitrogen\" \"Creatinine level\" \"Potassium level\" \"Chloride\" \"Hematocrit\" \"Haemoglobin estimation\" \"Platelet count\" \"Red blood cell count\" \"Calcium level\" \"MCV - Mean corpuscular volume\" \"MCHC - Mean corpuscular haemoglobin concentration\" \"MCH - Mean corpuscular haemoglobin\" \"White blood cell count\" \"Red blood cell distribution width\" \"Glucose level\" \"Bicarbonate level\" \"Anion gap\"'''\n",
    "    )\n"
   ]
  }
 ],
 "metadata": {
  "kernelspec": {
   "display_name": ".venv",
   "language": "python",
   "name": "python3"
  },
  "language_info": {
   "codemirror_mode": {
    "name": "ipython",
    "version": 3
   },
   "file_extension": ".py",
   "mimetype": "text/x-python",
   "name": "python",
   "nbconvert_exporter": "python",
   "pygments_lexer": "ipython3",
   "version": "3.8.10"
  }
 },
 "nbformat": 4,
 "nbformat_minor": 2
}
