{
 "cells": [
  {
   "cell_type": "markdown",
   "metadata": {},
   "source": [
    "# Outlier Analysis"
   ]
  },
  {
   "cell_type": "markdown",
   "metadata": {},
   "source": [
    "## Vitals"
   ]
  },
  {
   "cell_type": "markdown",
   "metadata": {},
   "source": [
    "### avg"
   ]
  },
  {
   "cell_type": "code",
   "execution_count": 5,
   "metadata": {},
   "outputs": [
    {
     "name": "stdout",
     "output_type": "stream",
     "text": [
      "2023-11-13 13:46:21,517 - EHR-QC - INFO - Parsing command line arguments\n",
      "2023-11-13 13:46:21,519 - EHR-QC - INFO - args.source_file: /home/yram0006/phd/chapter_2/workspace/eICU-EHR-Pipeline/data/imputed/vitals_avg_episode_date.csv\n",
      "2023-11-13 13:46:21,519 - EHR-QC - INFO - args.save_file: /home/yram0006/phd/chapter_2/workspace/eICU-EHR-Pipeline/data/cleaned/vitals_avg_episode_date.csv\n",
      "2023-11-13 13:46:21,519 - EHR-QC - INFO - args.action: clean\n",
      "2023-11-13 13:46:21,519 - EHR-QC - INFO - args.columns: ['systemic_mean', 'systemic_diastolic', 'systemic_systolic', 'respiration', 'heartrate', 'sao2']\n",
      "2023-11-13 13:46:22,079 - EHR-QC - INFO - Validating the input arguments.\n",
      "2023-11-13 13:46:22,088 - EHR-QC - INFO - Validating complete!!\n",
      "2023-11-13 13:46:22,088 - EHR-QC - INFO - Removing outliers\n"
     ]
    },
    {
     "name": "stderr",
     "output_type": "stream",
     "text": [
      "/superbugai-data/yash/chapter_2/workspace/EHR-QC-Preprocess/.venv/lib/python3.9/site-packages/sklearn/utils/validation.py:757: FutureWarning: is_sparse is deprecated and will be removed in a future version. Check `isinstance(dtype, pd.SparseDtype)` instead.\n",
      "  if not hasattr(array, \"sparse\") and array.dtypes.apply(is_sparse).any():\n",
      "/superbugai-data/yash/chapter_2/workspace/EHR-QC-Preprocess/.venv/lib/python3.9/site-packages/sklearn/utils/validation.py:595: FutureWarning: is_sparse is deprecated and will be removed in a future version. Check `isinstance(dtype, pd.SparseDtype)` instead.\n",
      "  if is_sparse(pd_dtype):\n",
      "/superbugai-data/yash/chapter_2/workspace/EHR-QC-Preprocess/.venv/lib/python3.9/site-packages/sklearn/utils/validation.py:604: FutureWarning: is_sparse is deprecated and will be removed in a future version. Check `isinstance(dtype, pd.SparseDtype)` instead.\n",
      "  if is_sparse(pd_dtype) or not is_extension_array_dtype(pd_dtype):\n",
      "/superbugai-data/yash/chapter_2/workspace/EHR-QC-Preprocess/.venv/lib/python3.9/site-packages/sklearn/base.py:450: UserWarning: X does not have valid feature names, but IsolationForest was fitted with feature names\n",
      "  warnings.warn(\n",
      "/superbugai-data/yash/chapter_2/workspace/EHR-QC-Preprocess/.venv/lib/python3.9/site-packages/sklearn/utils/validation.py:757: FutureWarning: is_sparse is deprecated and will be removed in a future version. Check `isinstance(dtype, pd.SparseDtype)` instead.\n",
      "  if not hasattr(array, \"sparse\") and array.dtypes.apply(is_sparse).any():\n",
      "/superbugai-data/yash/chapter_2/workspace/EHR-QC-Preprocess/.venv/lib/python3.9/site-packages/sklearn/utils/validation.py:595: FutureWarning: is_sparse is deprecated and will be removed in a future version. Check `isinstance(dtype, pd.SparseDtype)` instead.\n",
      "  if is_sparse(pd_dtype):\n",
      "/superbugai-data/yash/chapter_2/workspace/EHR-QC-Preprocess/.venv/lib/python3.9/site-packages/sklearn/utils/validation.py:604: FutureWarning: is_sparse is deprecated and will be removed in a future version. Check `isinstance(dtype, pd.SparseDtype)` instead.\n",
      "  if is_sparse(pd_dtype) or not is_extension_array_dtype(pd_dtype):\n",
      "/superbugai-data/yash/chapter_2/workspace/EHR-QC-Preprocess/ehrqc/plot/OutlierIsolationForest.py:87: SettingWithCopyWarning: \n",
      "A value is trying to be set on a copy of a slice from a DataFrame\n",
      "\n",
      "See the caveats in the documentation: https://pandas.pydata.org/pandas-docs/stable/user_guide/indexing.html#returning-a-view-versus-a-copy\n",
      "  correctedDf.drop(columns=['outlier_scores'], inplace=True)\n"
     ]
    },
    {
     "name": "stdout",
     "output_type": "stream",
     "text": [
      "2023-11-13 13:46:48,987 - EHR-QC - INFO - Saving the corrected file\n",
      "2023-11-13 13:46:52,273 - EHR-QC - INFO - Done!!\n"
     ]
    },
    {
     "data": {
      "text/plain": [
       "0"
      ]
     },
     "execution_count": 5,
     "metadata": {},
     "output_type": "execute_result"
    }
   ],
   "source": [
    "import os\n",
    "\n",
    "\n",
    "os.system(\n",
    "    'cd ' + os.environ['EHR_QC_PREPROCESS_BASE'] + ';'\n",
    "    +\n",
    "    '''.venv/bin/python -m ehrqc.plot.OutlierIsolationForest ''' + os.environ['EICU_EHR_PIPELINE_BASE'] + '''/data/imputed/vitals_avg_episode_date.csv ''' + os.environ['EICU_EHR_PIPELINE_BASE'] + '''/data/cleaned/vitals_avg_episode_date.csv clean -c \"systemic_mean\" \"systemic_diastolic\" \"systemic_systolic\" \"respiration\" \"heartrate\" \"sao2\"'''\n",
    "    )\n"
   ]
  },
  {
   "cell_type": "markdown",
   "metadata": {},
   "source": [
    "### min"
   ]
  },
  {
   "cell_type": "code",
   "execution_count": 6,
   "metadata": {},
   "outputs": [
    {
     "name": "stdout",
     "output_type": "stream",
     "text": [
      "2023-11-13 13:46:53,027 - EHR-QC - INFO - Parsing command line arguments\n",
      "2023-11-13 13:46:53,028 - EHR-QC - INFO - args.source_file: /home/yram0006/phd/chapter_2/workspace/eICU-EHR-Pipeline/data/imputed/vitals_min_episode_date.csv\n",
      "2023-11-13 13:46:53,028 - EHR-QC - INFO - args.save_file: /home/yram0006/phd/chapter_2/workspace/eICU-EHR-Pipeline/data/cleaned/vitals_min_episode_date.csv\n",
      "2023-11-13 13:46:53,028 - EHR-QC - INFO - args.action: clean\n",
      "2023-11-13 13:46:53,028 - EHR-QC - INFO - args.columns: ['systemic_mean', 'systemic_diastolic', 'systemic_systolic', 'respiration', 'heartrate', 'sao2']\n",
      "2023-11-13 13:46:53,347 - EHR-QC - INFO - Validating the input arguments.\n",
      "2023-11-13 13:46:53,355 - EHR-QC - INFO - Validating complete!!\n",
      "2023-11-13 13:46:53,356 - EHR-QC - INFO - Removing outliers\n"
     ]
    },
    {
     "name": "stderr",
     "output_type": "stream",
     "text": [
      "/superbugai-data/yash/chapter_2/workspace/EHR-QC-Preprocess/.venv/lib/python3.9/site-packages/sklearn/utils/validation.py:757: FutureWarning: is_sparse is deprecated and will be removed in a future version. Check `isinstance(dtype, pd.SparseDtype)` instead.\n",
      "  if not hasattr(array, \"sparse\") and array.dtypes.apply(is_sparse).any():\n",
      "/superbugai-data/yash/chapter_2/workspace/EHR-QC-Preprocess/.venv/lib/python3.9/site-packages/sklearn/utils/validation.py:595: FutureWarning: is_sparse is deprecated and will be removed in a future version. Check `isinstance(dtype, pd.SparseDtype)` instead.\n",
      "  if is_sparse(pd_dtype):\n",
      "/superbugai-data/yash/chapter_2/workspace/EHR-QC-Preprocess/.venv/lib/python3.9/site-packages/sklearn/utils/validation.py:604: FutureWarning: is_sparse is deprecated and will be removed in a future version. Check `isinstance(dtype, pd.SparseDtype)` instead.\n",
      "  if is_sparse(pd_dtype) or not is_extension_array_dtype(pd_dtype):\n",
      "/superbugai-data/yash/chapter_2/workspace/EHR-QC-Preprocess/.venv/lib/python3.9/site-packages/sklearn/base.py:450: UserWarning: X does not have valid feature names, but IsolationForest was fitted with feature names\n",
      "  warnings.warn(\n",
      "/superbugai-data/yash/chapter_2/workspace/EHR-QC-Preprocess/.venv/lib/python3.9/site-packages/sklearn/utils/validation.py:757: FutureWarning: is_sparse is deprecated and will be removed in a future version. Check `isinstance(dtype, pd.SparseDtype)` instead.\n",
      "  if not hasattr(array, \"sparse\") and array.dtypes.apply(is_sparse).any():\n",
      "/superbugai-data/yash/chapter_2/workspace/EHR-QC-Preprocess/.venv/lib/python3.9/site-packages/sklearn/utils/validation.py:595: FutureWarning: is_sparse is deprecated and will be removed in a future version. Check `isinstance(dtype, pd.SparseDtype)` instead.\n",
      "  if is_sparse(pd_dtype):\n",
      "/superbugai-data/yash/chapter_2/workspace/EHR-QC-Preprocess/.venv/lib/python3.9/site-packages/sklearn/utils/validation.py:604: FutureWarning: is_sparse is deprecated and will be removed in a future version. Check `isinstance(dtype, pd.SparseDtype)` instead.\n",
      "  if is_sparse(pd_dtype) or not is_extension_array_dtype(pd_dtype):\n",
      "/superbugai-data/yash/chapter_2/workspace/EHR-QC-Preprocess/ehrqc/plot/OutlierIsolationForest.py:87: SettingWithCopyWarning: \n",
      "A value is trying to be set on a copy of a slice from a DataFrame\n",
      "\n",
      "See the caveats in the documentation: https://pandas.pydata.org/pandas-docs/stable/user_guide/indexing.html#returning-a-view-versus-a-copy\n",
      "  correctedDf.drop(columns=['outlier_scores'], inplace=True)\n"
     ]
    },
    {
     "name": "stdout",
     "output_type": "stream",
     "text": [
      "2023-11-13 13:47:19,645 - EHR-QC - INFO - Saving the corrected file\n",
      "2023-11-13 13:47:21,563 - EHR-QC - INFO - Done!!\n"
     ]
    },
    {
     "data": {
      "text/plain": [
       "0"
      ]
     },
     "execution_count": 6,
     "metadata": {},
     "output_type": "execute_result"
    }
   ],
   "source": [
    "import os\n",
    "\n",
    "\n",
    "os.system(\n",
    "    'cd ' + os.environ['EHR_QC_PREPROCESS_BASE'] + ';'\n",
    "    +\n",
    "    '''.venv/bin/python -m ehrqc.plot.OutlierIsolationForest ''' + os.environ['EICU_EHR_PIPELINE_BASE'] + '''/data/imputed/vitals_min_episode_date.csv ''' + os.environ['EICU_EHR_PIPELINE_BASE'] + '''/data/cleaned/vitals_min_episode_date.csv clean -c \"systemic_mean\" \"systemic_diastolic\" \"systemic_systolic\" \"respiration\" \"heartrate\" \"sao2\"'''\n",
    "    )\n"
   ]
  },
  {
   "cell_type": "markdown",
   "metadata": {},
   "source": [
    "### max"
   ]
  },
  {
   "cell_type": "code",
   "execution_count": 7,
   "metadata": {},
   "outputs": [
    {
     "name": "stdout",
     "output_type": "stream",
     "text": [
      "2023-11-13 13:47:22,295 - EHR-QC - INFO - Parsing command line arguments\n",
      "2023-11-13 13:47:22,296 - EHR-QC - INFO - args.source_file: /home/yram0006/phd/chapter_2/workspace/eICU-EHR-Pipeline/data/imputed/vitals_max_episode_date.csv\n",
      "2023-11-13 13:47:22,296 - EHR-QC - INFO - args.save_file: /home/yram0006/phd/chapter_2/workspace/eICU-EHR-Pipeline/data/cleaned/vitals_max_episode_date.csv\n",
      "2023-11-13 13:47:22,296 - EHR-QC - INFO - args.action: clean\n",
      "2023-11-13 13:47:22,296 - EHR-QC - INFO - args.columns: ['systemic_mean', 'systemic_diastolic', 'systemic_systolic', 'respiration', 'heartrate', 'sao2']\n",
      "2023-11-13 13:47:22,630 - EHR-QC - INFO - Validating the input arguments.\n",
      "2023-11-13 13:47:22,638 - EHR-QC - INFO - Validating complete!!\n",
      "2023-11-13 13:47:22,638 - EHR-QC - INFO - Removing outliers\n"
     ]
    },
    {
     "name": "stderr",
     "output_type": "stream",
     "text": [
      "/superbugai-data/yash/chapter_2/workspace/EHR-QC-Preprocess/.venv/lib/python3.9/site-packages/sklearn/utils/validation.py:757: FutureWarning: is_sparse is deprecated and will be removed in a future version. Check `isinstance(dtype, pd.SparseDtype)` instead.\n",
      "  if not hasattr(array, \"sparse\") and array.dtypes.apply(is_sparse).any():\n",
      "/superbugai-data/yash/chapter_2/workspace/EHR-QC-Preprocess/.venv/lib/python3.9/site-packages/sklearn/utils/validation.py:595: FutureWarning: is_sparse is deprecated and will be removed in a future version. Check `isinstance(dtype, pd.SparseDtype)` instead.\n",
      "  if is_sparse(pd_dtype):\n",
      "/superbugai-data/yash/chapter_2/workspace/EHR-QC-Preprocess/.venv/lib/python3.9/site-packages/sklearn/utils/validation.py:604: FutureWarning: is_sparse is deprecated and will be removed in a future version. Check `isinstance(dtype, pd.SparseDtype)` instead.\n",
      "  if is_sparse(pd_dtype) or not is_extension_array_dtype(pd_dtype):\n",
      "/superbugai-data/yash/chapter_2/workspace/EHR-QC-Preprocess/.venv/lib/python3.9/site-packages/sklearn/base.py:450: UserWarning: X does not have valid feature names, but IsolationForest was fitted with feature names\n",
      "  warnings.warn(\n",
      "/superbugai-data/yash/chapter_2/workspace/EHR-QC-Preprocess/.venv/lib/python3.9/site-packages/sklearn/utils/validation.py:757: FutureWarning: is_sparse is deprecated and will be removed in a future version. Check `isinstance(dtype, pd.SparseDtype)` instead.\n",
      "  if not hasattr(array, \"sparse\") and array.dtypes.apply(is_sparse).any():\n",
      "/superbugai-data/yash/chapter_2/workspace/EHR-QC-Preprocess/.venv/lib/python3.9/site-packages/sklearn/utils/validation.py:595: FutureWarning: is_sparse is deprecated and will be removed in a future version. Check `isinstance(dtype, pd.SparseDtype)` instead.\n",
      "  if is_sparse(pd_dtype):\n",
      "/superbugai-data/yash/chapter_2/workspace/EHR-QC-Preprocess/.venv/lib/python3.9/site-packages/sklearn/utils/validation.py:604: FutureWarning: is_sparse is deprecated and will be removed in a future version. Check `isinstance(dtype, pd.SparseDtype)` instead.\n",
      "  if is_sparse(pd_dtype) or not is_extension_array_dtype(pd_dtype):\n",
      "/superbugai-data/yash/chapter_2/workspace/EHR-QC-Preprocess/ehrqc/plot/OutlierIsolationForest.py:87: SettingWithCopyWarning: \n",
      "A value is trying to be set on a copy of a slice from a DataFrame\n",
      "\n",
      "See the caveats in the documentation: https://pandas.pydata.org/pandas-docs/stable/user_guide/indexing.html#returning-a-view-versus-a-copy\n",
      "  correctedDf.drop(columns=['outlier_scores'], inplace=True)\n"
     ]
    },
    {
     "name": "stdout",
     "output_type": "stream",
     "text": [
      "2023-11-13 13:47:48,218 - EHR-QC - INFO - Saving the corrected file\n",
      "2023-11-13 13:47:50,216 - EHR-QC - INFO - Done!!\n"
     ]
    },
    {
     "data": {
      "text/plain": [
       "0"
      ]
     },
     "execution_count": 7,
     "metadata": {},
     "output_type": "execute_result"
    }
   ],
   "source": [
    "import os\n",
    "\n",
    "\n",
    "os.system(\n",
    "    'cd ' + os.environ['EHR_QC_PREPROCESS_BASE'] + ';'\n",
    "    +\n",
    "    '''.venv/bin/python -m ehrqc.plot.OutlierIsolationForest ''' + os.environ['EICU_EHR_PIPELINE_BASE'] + '''/data/imputed/vitals_max_episode_date.csv ''' + os.environ['EICU_EHR_PIPELINE_BASE'] + '''/data/cleaned/vitals_max_episode_date.csv clean -c \"systemic_mean\" \"systemic_diastolic\" \"systemic_systolic\" \"respiration\" \"heartrate\" \"sao2\"'''\n",
    "    )\n"
   ]
  },
  {
   "cell_type": "markdown",
   "metadata": {},
   "source": [
    "### first"
   ]
  },
  {
   "cell_type": "code",
   "execution_count": 8,
   "metadata": {},
   "outputs": [
    {
     "name": "stdout",
     "output_type": "stream",
     "text": [
      "2023-11-13 13:47:51,170 - EHR-QC - INFO - Parsing command line arguments\n",
      "2023-11-13 13:47:51,171 - EHR-QC - INFO - args.source_file: /home/yram0006/phd/chapter_2/workspace/eICU-EHR-Pipeline/data/imputed/vitals_first_episode_date.csv\n",
      "2023-11-13 13:47:51,171 - EHR-QC - INFO - args.save_file: /home/yram0006/phd/chapter_2/workspace/eICU-EHR-Pipeline/data/cleaned/vitals_first_episode_date.csv\n",
      "2023-11-13 13:47:51,171 - EHR-QC - INFO - args.action: clean\n",
      "2023-11-13 13:47:51,171 - EHR-QC - INFO - args.columns: ['systemic_mean', 'systemic_diastolic', 'systemic_systolic', 'respiration', 'heartrate', 'sao2']\n",
      "2023-11-13 13:47:51,498 - EHR-QC - INFO - Validating the input arguments.\n",
      "2023-11-13 13:47:51,505 - EHR-QC - INFO - Validating complete!!\n",
      "2023-11-13 13:47:51,506 - EHR-QC - INFO - Removing outliers\n"
     ]
    },
    {
     "name": "stderr",
     "output_type": "stream",
     "text": [
      "/superbugai-data/yash/chapter_2/workspace/EHR-QC-Preprocess/.venv/lib/python3.9/site-packages/sklearn/utils/validation.py:757: FutureWarning: is_sparse is deprecated and will be removed in a future version. Check `isinstance(dtype, pd.SparseDtype)` instead.\n",
      "  if not hasattr(array, \"sparse\") and array.dtypes.apply(is_sparse).any():\n",
      "/superbugai-data/yash/chapter_2/workspace/EHR-QC-Preprocess/.venv/lib/python3.9/site-packages/sklearn/utils/validation.py:595: FutureWarning: is_sparse is deprecated and will be removed in a future version. Check `isinstance(dtype, pd.SparseDtype)` instead.\n",
      "  if is_sparse(pd_dtype):\n",
      "/superbugai-data/yash/chapter_2/workspace/EHR-QC-Preprocess/.venv/lib/python3.9/site-packages/sklearn/utils/validation.py:604: FutureWarning: is_sparse is deprecated and will be removed in a future version. Check `isinstance(dtype, pd.SparseDtype)` instead.\n",
      "  if is_sparse(pd_dtype) or not is_extension_array_dtype(pd_dtype):\n",
      "/superbugai-data/yash/chapter_2/workspace/EHR-QC-Preprocess/.venv/lib/python3.9/site-packages/sklearn/base.py:450: UserWarning: X does not have valid feature names, but IsolationForest was fitted with feature names\n",
      "  warnings.warn(\n",
      "/superbugai-data/yash/chapter_2/workspace/EHR-QC-Preprocess/.venv/lib/python3.9/site-packages/sklearn/utils/validation.py:757: FutureWarning: is_sparse is deprecated and will be removed in a future version. Check `isinstance(dtype, pd.SparseDtype)` instead.\n",
      "  if not hasattr(array, \"sparse\") and array.dtypes.apply(is_sparse).any():\n",
      "/superbugai-data/yash/chapter_2/workspace/EHR-QC-Preprocess/.venv/lib/python3.9/site-packages/sklearn/utils/validation.py:595: FutureWarning: is_sparse is deprecated and will be removed in a future version. Check `isinstance(dtype, pd.SparseDtype)` instead.\n",
      "  if is_sparse(pd_dtype):\n",
      "/superbugai-data/yash/chapter_2/workspace/EHR-QC-Preprocess/.venv/lib/python3.9/site-packages/sklearn/utils/validation.py:604: FutureWarning: is_sparse is deprecated and will be removed in a future version. Check `isinstance(dtype, pd.SparseDtype)` instead.\n",
      "  if is_sparse(pd_dtype) or not is_extension_array_dtype(pd_dtype):\n",
      "/superbugai-data/yash/chapter_2/workspace/EHR-QC-Preprocess/ehrqc/plot/OutlierIsolationForest.py:87: SettingWithCopyWarning: \n",
      "A value is trying to be set on a copy of a slice from a DataFrame\n",
      "\n",
      "See the caveats in the documentation: https://pandas.pydata.org/pandas-docs/stable/user_guide/indexing.html#returning-a-view-versus-a-copy\n",
      "  correctedDf.drop(columns=['outlier_scores'], inplace=True)\n"
     ]
    },
    {
     "name": "stdout",
     "output_type": "stream",
     "text": [
      "2023-11-13 13:48:17,312 - EHR-QC - INFO - Saving the corrected file\n",
      "2023-11-13 13:48:19,295 - EHR-QC - INFO - Done!!\n"
     ]
    },
    {
     "data": {
      "text/plain": [
       "0"
      ]
     },
     "execution_count": 8,
     "metadata": {},
     "output_type": "execute_result"
    }
   ],
   "source": [
    "import os\n",
    "\n",
    "\n",
    "os.system(\n",
    "    'cd ' + os.environ['EHR_QC_PREPROCESS_BASE'] + ';'\n",
    "    +\n",
    "    '''.venv/bin/python -m ehrqc.plot.OutlierIsolationForest ''' + os.environ['EICU_EHR_PIPELINE_BASE'] + '''/data/imputed/vitals_first_episode_date.csv ''' + os.environ['EICU_EHR_PIPELINE_BASE'] + '''/data/cleaned/vitals_first_episode_date.csv clean -c \"systemic_mean\" \"systemic_diastolic\" \"systemic_systolic\" \"respiration\" \"heartrate\" \"sao2\"'''\n",
    "    )\n"
   ]
  },
  {
   "cell_type": "markdown",
   "metadata": {},
   "source": [
    "### last"
   ]
  },
  {
   "cell_type": "code",
   "execution_count": 9,
   "metadata": {},
   "outputs": [
    {
     "name": "stdout",
     "output_type": "stream",
     "text": [
      "2023-11-13 13:48:20,175 - EHR-QC - INFO - Parsing command line arguments\n",
      "2023-11-13 13:48:20,176 - EHR-QC - INFO - args.source_file: /home/yram0006/phd/chapter_2/workspace/eICU-EHR-Pipeline/data/imputed/vitals_last_episode_date.csv\n",
      "2023-11-13 13:48:20,176 - EHR-QC - INFO - args.save_file: /home/yram0006/phd/chapter_2/workspace/eICU-EHR-Pipeline/data/cleaned/vitals_last_episode_date.csv\n",
      "2023-11-13 13:48:20,176 - EHR-QC - INFO - args.action: clean\n",
      "2023-11-13 13:48:20,176 - EHR-QC - INFO - args.columns: ['systemic_mean', 'systemic_diastolic', 'systemic_systolic', 'respiration', 'heartrate', 'sao2']\n",
      "2023-11-13 13:48:20,496 - EHR-QC - INFO - Validating the input arguments.\n",
      "2023-11-13 13:48:20,503 - EHR-QC - INFO - Validating complete!!\n",
      "2023-11-13 13:48:20,503 - EHR-QC - INFO - Removing outliers\n"
     ]
    },
    {
     "name": "stderr",
     "output_type": "stream",
     "text": [
      "/superbugai-data/yash/chapter_2/workspace/EHR-QC-Preprocess/.venv/lib/python3.9/site-packages/sklearn/utils/validation.py:757: FutureWarning: is_sparse is deprecated and will be removed in a future version. Check `isinstance(dtype, pd.SparseDtype)` instead.\n",
      "  if not hasattr(array, \"sparse\") and array.dtypes.apply(is_sparse).any():\n",
      "/superbugai-data/yash/chapter_2/workspace/EHR-QC-Preprocess/.venv/lib/python3.9/site-packages/sklearn/utils/validation.py:595: FutureWarning: is_sparse is deprecated and will be removed in a future version. Check `isinstance(dtype, pd.SparseDtype)` instead.\n",
      "  if is_sparse(pd_dtype):\n",
      "/superbugai-data/yash/chapter_2/workspace/EHR-QC-Preprocess/.venv/lib/python3.9/site-packages/sklearn/utils/validation.py:604: FutureWarning: is_sparse is deprecated and will be removed in a future version. Check `isinstance(dtype, pd.SparseDtype)` instead.\n",
      "  if is_sparse(pd_dtype) or not is_extension_array_dtype(pd_dtype):\n",
      "/superbugai-data/yash/chapter_2/workspace/EHR-QC-Preprocess/.venv/lib/python3.9/site-packages/sklearn/base.py:450: UserWarning: X does not have valid feature names, but IsolationForest was fitted with feature names\n",
      "  warnings.warn(\n",
      "/superbugai-data/yash/chapter_2/workspace/EHR-QC-Preprocess/.venv/lib/python3.9/site-packages/sklearn/utils/validation.py:757: FutureWarning: is_sparse is deprecated and will be removed in a future version. Check `isinstance(dtype, pd.SparseDtype)` instead.\n",
      "  if not hasattr(array, \"sparse\") and array.dtypes.apply(is_sparse).any():\n",
      "/superbugai-data/yash/chapter_2/workspace/EHR-QC-Preprocess/.venv/lib/python3.9/site-packages/sklearn/utils/validation.py:595: FutureWarning: is_sparse is deprecated and will be removed in a future version. Check `isinstance(dtype, pd.SparseDtype)` instead.\n",
      "  if is_sparse(pd_dtype):\n",
      "/superbugai-data/yash/chapter_2/workspace/EHR-QC-Preprocess/.venv/lib/python3.9/site-packages/sklearn/utils/validation.py:604: FutureWarning: is_sparse is deprecated and will be removed in a future version. Check `isinstance(dtype, pd.SparseDtype)` instead.\n",
      "  if is_sparse(pd_dtype) or not is_extension_array_dtype(pd_dtype):\n",
      "/superbugai-data/yash/chapter_2/workspace/EHR-QC-Preprocess/ehrqc/plot/OutlierIsolationForest.py:87: SettingWithCopyWarning: \n",
      "A value is trying to be set on a copy of a slice from a DataFrame\n",
      "\n",
      "See the caveats in the documentation: https://pandas.pydata.org/pandas-docs/stable/user_guide/indexing.html#returning-a-view-versus-a-copy\n",
      "  correctedDf.drop(columns=['outlier_scores'], inplace=True)\n"
     ]
    },
    {
     "name": "stdout",
     "output_type": "stream",
     "text": [
      "2023-11-13 13:48:45,406 - EHR-QC - INFO - Saving the corrected file\n",
      "2023-11-13 13:48:47,354 - EHR-QC - INFO - Done!!\n"
     ]
    },
    {
     "data": {
      "text/plain": [
       "0"
      ]
     },
     "execution_count": 9,
     "metadata": {},
     "output_type": "execute_result"
    }
   ],
   "source": [
    "import os\n",
    "\n",
    "\n",
    "os.system(\n",
    "    'cd ' + os.environ['EHR_QC_PREPROCESS_BASE'] + ';'\n",
    "    +\n",
    "    '''.venv/bin/python -m ehrqc.plot.OutlierIsolationForest ''' + os.environ['EICU_EHR_PIPELINE_BASE'] + '''/data/imputed/vitals_last_episode_date.csv ''' + os.environ['EICU_EHR_PIPELINE_BASE'] + '''/data/cleaned/vitals_last_episode_date.csv clean -c \"systemic_mean\" \"systemic_diastolic\" \"systemic_systolic\" \"respiration\" \"heartrate\" \"sao2\"'''\n",
    "    )\n"
   ]
  },
  {
   "cell_type": "markdown",
   "metadata": {},
   "source": [
    "## Labs"
   ]
  },
  {
   "cell_type": "markdown",
   "metadata": {},
   "source": [
    "### avg"
   ]
  },
  {
   "cell_type": "code",
   "execution_count": 18,
   "metadata": {},
   "outputs": [
    {
     "name": "stdout",
     "output_type": "stream",
     "text": [
      "2023-11-09 21:24:59,393 - EHR-QC - INFO - Parsing command line arguments\n",
      "2023-11-09 21:24:59,394 - EHR-QC - INFO - args.source_file: /home/yram0006/phd/chapter_2/workspace/eICU-EHR-Pipeline/data/imputed/labs_avg_episode_date.csv\n",
      "2023-11-09 21:24:59,394 - EHR-QC - INFO - args.save_file: /home/yram0006/phd/chapter_2/workspace/eICU-EHR-Pipeline/data/cleaned/labs_avg_episode_date.csv\n",
      "2023-11-09 21:24:59,394 - EHR-QC - INFO - args.action: clean\n",
      "2023-11-09 21:24:59,394 - EHR-QC - INFO - args.columns: ['Sodium level', 'Blood urea nitrogen', 'Creatinine level', 'Potassium level', 'Chloride', 'Hematocrit', 'Haemoglobin estimation', 'Platelet count', 'Red blood cell count', 'Calcium level', 'MCV - Mean corpuscular volume', 'MCHC - Mean corpuscular haemoglobin concentration', 'MCH - Mean corpuscular haemoglobin', 'White blood cell count', 'Red blood cell distribution width', 'Glucose level', 'Bicarbonate level', 'Anion gap']\n",
      "2023-11-09 21:24:59,584 - EHR-QC - INFO - Validating the input arguments.\n",
      "2023-11-09 21:24:59,590 - EHR-QC - INFO - Validating complete!!\n",
      "2023-11-09 21:24:59,590 - EHR-QC - INFO - Removing outliers\n"
     ]
    },
    {
     "name": "stderr",
     "output_type": "stream",
     "text": [
      "/superbugai-data/yash/chapter_2/workspace/EHR-QC-Preprocess/.venv/lib/python3.9/site-packages/sklearn/utils/validation.py:757: FutureWarning: is_sparse is deprecated and will be removed in a future version. Check `isinstance(dtype, pd.SparseDtype)` instead.\n",
      "  if not hasattr(array, \"sparse\") and array.dtypes.apply(is_sparse).any():\n",
      "/superbugai-data/yash/chapter_2/workspace/EHR-QC-Preprocess/.venv/lib/python3.9/site-packages/sklearn/utils/validation.py:595: FutureWarning: is_sparse is deprecated and will be removed in a future version. Check `isinstance(dtype, pd.SparseDtype)` instead.\n",
      "  if is_sparse(pd_dtype):\n",
      "/superbugai-data/yash/chapter_2/workspace/EHR-QC-Preprocess/.venv/lib/python3.9/site-packages/sklearn/utils/validation.py:604: FutureWarning: is_sparse is deprecated and will be removed in a future version. Check `isinstance(dtype, pd.SparseDtype)` instead.\n",
      "  if is_sparse(pd_dtype) or not is_extension_array_dtype(pd_dtype):\n",
      "/superbugai-data/yash/chapter_2/workspace/EHR-QC-Preprocess/.venv/lib/python3.9/site-packages/sklearn/base.py:450: UserWarning: X does not have valid feature names, but IsolationForest was fitted with feature names\n",
      "  warnings.warn(\n",
      "/superbugai-data/yash/chapter_2/workspace/EHR-QC-Preprocess/.venv/lib/python3.9/site-packages/sklearn/utils/validation.py:757: FutureWarning: is_sparse is deprecated and will be removed in a future version. Check `isinstance(dtype, pd.SparseDtype)` instead.\n",
      "  if not hasattr(array, \"sparse\") and array.dtypes.apply(is_sparse).any():\n",
      "/superbugai-data/yash/chapter_2/workspace/EHR-QC-Preprocess/.venv/lib/python3.9/site-packages/sklearn/utils/validation.py:595: FutureWarning: is_sparse is deprecated and will be removed in a future version. Check `isinstance(dtype, pd.SparseDtype)` instead.\n",
      "  if is_sparse(pd_dtype):\n",
      "/superbugai-data/yash/chapter_2/workspace/EHR-QC-Preprocess/.venv/lib/python3.9/site-packages/sklearn/utils/validation.py:604: FutureWarning: is_sparse is deprecated and will be removed in a future version. Check `isinstance(dtype, pd.SparseDtype)` instead.\n",
      "  if is_sparse(pd_dtype) or not is_extension_array_dtype(pd_dtype):\n",
      "/superbugai-data/yash/chapter_2/workspace/EHR-QC-Preprocess/ehrqc/plot/OutlierIsolationForest.py:87: SettingWithCopyWarning: \n",
      "A value is trying to be set on a copy of a slice from a DataFrame\n",
      "\n",
      "See the caveats in the documentation: https://pandas.pydata.org/pandas-docs/stable/user_guide/indexing.html#returning-a-view-versus-a-copy\n",
      "  correctedDf.drop(columns=['outlier_scores'], inplace=True)\n"
     ]
    },
    {
     "name": "stdout",
     "output_type": "stream",
     "text": [
      "2023-11-09 21:25:05,455 - EHR-QC - INFO - Saving the corrected file\n",
      "2023-11-09 21:25:06,546 - EHR-QC - INFO - Done!!\n"
     ]
    },
    {
     "data": {
      "text/plain": [
       "0"
      ]
     },
     "execution_count": 18,
     "metadata": {},
     "output_type": "execute_result"
    }
   ],
   "source": [
    "import os\n",
    "\n",
    "\n",
    "os.system(\n",
    "    'cd ' + os.environ['EHR_QC_PREPROCESS_BASE'] + ';'\n",
    "    +\n",
    "    '''.venv/bin/python -m ehrqc.plot.OutlierIsolationForest ''' + os.environ['EICU_EHR_PIPELINE_BASE'] + '''/data/imputed/labs_avg_episode_date.csv ''' + os.environ['EICU_EHR_PIPELINE_BASE'] + '''/data/cleaned/labs_avg_episode_date.csv clean -c \"Sodium level\" \"Blood urea nitrogen\" \"Creatinine level\" \"Potassium level\" \"Chloride\" \"Hematocrit\" \"Haemoglobin estimation\" \"Platelet count\" \"Red blood cell count\" \"Calcium level\" \"MCV - Mean corpuscular volume\" \"MCHC - Mean corpuscular haemoglobin concentration\" \"MCH - Mean corpuscular haemoglobin\" \"White blood cell count\" \"Red blood cell distribution width\" \"Glucose level\" \"Bicarbonate level\" \"Anion gap\"'''\n",
    "    )\n"
   ]
  },
  {
   "cell_type": "markdown",
   "metadata": {},
   "source": [
    "### min"
   ]
  },
  {
   "cell_type": "code",
   "execution_count": 19,
   "metadata": {},
   "outputs": [
    {
     "name": "stdout",
     "output_type": "stream",
     "text": [
      "2023-11-09 21:25:24,572 - EHR-QC - INFO - Parsing command line arguments\n",
      "2023-11-09 21:25:24,573 - EHR-QC - INFO - args.source_file: /home/yram0006/phd/chapter_2/workspace/eICU-EHR-Pipeline/data/imputed/labs_min_episode_date.csv\n",
      "2023-11-09 21:25:24,573 - EHR-QC - INFO - args.save_file: /home/yram0006/phd/chapter_2/workspace/eICU-EHR-Pipeline/data/cleaned/labs_min_episode_date.csv\n",
      "2023-11-09 21:25:24,573 - EHR-QC - INFO - args.action: clean\n",
      "2023-11-09 21:25:24,573 - EHR-QC - INFO - args.columns: ['Sodium level', 'Blood urea nitrogen', 'Creatinine level', 'Potassium level', 'Chloride', 'Hematocrit', 'Haemoglobin estimation', 'Platelet count', 'Red blood cell count', 'Calcium level', 'MCV - Mean corpuscular volume', 'MCHC - Mean corpuscular haemoglobin concentration', 'MCH - Mean corpuscular haemoglobin', 'White blood cell count', 'Red blood cell distribution width', 'Glucose level', 'Bicarbonate level', 'Anion gap']\n",
      "2023-11-09 21:25:24,751 - EHR-QC - INFO - Validating the input arguments.\n",
      "2023-11-09 21:25:24,754 - EHR-QC - INFO - Validating complete!!\n",
      "2023-11-09 21:25:24,754 - EHR-QC - INFO - Removing outliers\n"
     ]
    },
    {
     "name": "stderr",
     "output_type": "stream",
     "text": [
      "/superbugai-data/yash/chapter_2/workspace/EHR-QC-Preprocess/.venv/lib/python3.9/site-packages/sklearn/utils/validation.py:757: FutureWarning: is_sparse is deprecated and will be removed in a future version. Check `isinstance(dtype, pd.SparseDtype)` instead.\n",
      "  if not hasattr(array, \"sparse\") and array.dtypes.apply(is_sparse).any():\n",
      "/superbugai-data/yash/chapter_2/workspace/EHR-QC-Preprocess/.venv/lib/python3.9/site-packages/sklearn/utils/validation.py:595: FutureWarning: is_sparse is deprecated and will be removed in a future version. Check `isinstance(dtype, pd.SparseDtype)` instead.\n",
      "  if is_sparse(pd_dtype):\n",
      "/superbugai-data/yash/chapter_2/workspace/EHR-QC-Preprocess/.venv/lib/python3.9/site-packages/sklearn/utils/validation.py:604: FutureWarning: is_sparse is deprecated and will be removed in a future version. Check `isinstance(dtype, pd.SparseDtype)` instead.\n",
      "  if is_sparse(pd_dtype) or not is_extension_array_dtype(pd_dtype):\n",
      "/superbugai-data/yash/chapter_2/workspace/EHR-QC-Preprocess/.venv/lib/python3.9/site-packages/sklearn/base.py:450: UserWarning: X does not have valid feature names, but IsolationForest was fitted with feature names\n",
      "  warnings.warn(\n",
      "/superbugai-data/yash/chapter_2/workspace/EHR-QC-Preprocess/.venv/lib/python3.9/site-packages/sklearn/utils/validation.py:757: FutureWarning: is_sparse is deprecated and will be removed in a future version. Check `isinstance(dtype, pd.SparseDtype)` instead.\n",
      "  if not hasattr(array, \"sparse\") and array.dtypes.apply(is_sparse).any():\n",
      "/superbugai-data/yash/chapter_2/workspace/EHR-QC-Preprocess/.venv/lib/python3.9/site-packages/sklearn/utils/validation.py:595: FutureWarning: is_sparse is deprecated and will be removed in a future version. Check `isinstance(dtype, pd.SparseDtype)` instead.\n",
      "  if is_sparse(pd_dtype):\n",
      "/superbugai-data/yash/chapter_2/workspace/EHR-QC-Preprocess/.venv/lib/python3.9/site-packages/sklearn/utils/validation.py:604: FutureWarning: is_sparse is deprecated and will be removed in a future version. Check `isinstance(dtype, pd.SparseDtype)` instead.\n",
      "  if is_sparse(pd_dtype) or not is_extension_array_dtype(pd_dtype):\n",
      "/superbugai-data/yash/chapter_2/workspace/EHR-QC-Preprocess/ehrqc/plot/OutlierIsolationForest.py:87: SettingWithCopyWarning: \n",
      "A value is trying to be set on a copy of a slice from a DataFrame\n",
      "\n",
      "See the caveats in the documentation: https://pandas.pydata.org/pandas-docs/stable/user_guide/indexing.html#returning-a-view-versus-a-copy\n",
      "  correctedDf.drop(columns=['outlier_scores'], inplace=True)\n"
     ]
    },
    {
     "name": "stdout",
     "output_type": "stream",
     "text": [
      "2023-11-09 21:25:30,864 - EHR-QC - INFO - Saving the corrected file\n",
      "2023-11-09 21:25:31,896 - EHR-QC - INFO - Done!!\n"
     ]
    },
    {
     "data": {
      "text/plain": [
       "0"
      ]
     },
     "execution_count": 19,
     "metadata": {},
     "output_type": "execute_result"
    }
   ],
   "source": [
    "import os\n",
    "\n",
    "\n",
    "os.system(\n",
    "    'cd ' + os.environ['EHR_QC_PREPROCESS_BASE'] + ';'\n",
    "    +\n",
    "    '''.venv/bin/python -m ehrqc.plot.OutlierIsolationForest ''' + os.environ['EICU_EHR_PIPELINE_BASE'] + '''/data/imputed/labs_min_episode_date.csv ''' + os.environ['EICU_EHR_PIPELINE_BASE'] + '''/data/cleaned/labs_min_episode_date.csv clean -c \"Sodium level\" \"Blood urea nitrogen\" \"Creatinine level\" \"Potassium level\" \"Chloride\" \"Hematocrit\" \"Haemoglobin estimation\" \"Platelet count\" \"Red blood cell count\" \"Calcium level\" \"MCV - Mean corpuscular volume\" \"MCHC - Mean corpuscular haemoglobin concentration\" \"MCH - Mean corpuscular haemoglobin\" \"White blood cell count\" \"Red blood cell distribution width\" \"Glucose level\" \"Bicarbonate level\" \"Anion gap\"'''\n",
    "    )\n"
   ]
  },
  {
   "cell_type": "markdown",
   "metadata": {},
   "source": [
    "### max"
   ]
  },
  {
   "cell_type": "code",
   "execution_count": 20,
   "metadata": {},
   "outputs": [
    {
     "name": "stdout",
     "output_type": "stream",
     "text": [
      "2023-11-09 21:25:44,382 - EHR-QC - INFO - Parsing command line arguments\n",
      "2023-11-09 21:25:44,383 - EHR-QC - INFO - args.source_file: /home/yram0006/phd/chapter_2/workspace/eICU-EHR-Pipeline/data/imputed/labs_max_episode_date.csv\n",
      "2023-11-09 21:25:44,383 - EHR-QC - INFO - args.save_file: /home/yram0006/phd/chapter_2/workspace/eICU-EHR-Pipeline/data/cleaned/labs_max_episode_date.csv\n",
      "2023-11-09 21:25:44,383 - EHR-QC - INFO - args.action: clean\n",
      "2023-11-09 21:25:44,383 - EHR-QC - INFO - args.columns: ['Sodium level', 'Blood urea nitrogen', 'Creatinine level', 'Potassium level', 'Chloride', 'Hematocrit', 'Haemoglobin estimation', 'Platelet count', 'Red blood cell count', 'Calcium level', 'MCV - Mean corpuscular volume', 'MCHC - Mean corpuscular haemoglobin concentration', 'MCH - Mean corpuscular haemoglobin', 'White blood cell count', 'Red blood cell distribution width', 'Glucose level', 'Bicarbonate level', 'Anion gap']\n",
      "2023-11-09 21:25:44,563 - EHR-QC - INFO - Validating the input arguments.\n",
      "2023-11-09 21:25:44,567 - EHR-QC - INFO - Validating complete!!\n",
      "2023-11-09 21:25:44,567 - EHR-QC - INFO - Removing outliers\n"
     ]
    },
    {
     "name": "stderr",
     "output_type": "stream",
     "text": [
      "/superbugai-data/yash/chapter_2/workspace/EHR-QC-Preprocess/.venv/lib/python3.9/site-packages/sklearn/utils/validation.py:757: FutureWarning: is_sparse is deprecated and will be removed in a future version. Check `isinstance(dtype, pd.SparseDtype)` instead.\n",
      "  if not hasattr(array, \"sparse\") and array.dtypes.apply(is_sparse).any():\n",
      "/superbugai-data/yash/chapter_2/workspace/EHR-QC-Preprocess/.venv/lib/python3.9/site-packages/sklearn/utils/validation.py:595: FutureWarning: is_sparse is deprecated and will be removed in a future version. Check `isinstance(dtype, pd.SparseDtype)` instead.\n",
      "  if is_sparse(pd_dtype):\n",
      "/superbugai-data/yash/chapter_2/workspace/EHR-QC-Preprocess/.venv/lib/python3.9/site-packages/sklearn/utils/validation.py:604: FutureWarning: is_sparse is deprecated and will be removed in a future version. Check `isinstance(dtype, pd.SparseDtype)` instead.\n",
      "  if is_sparse(pd_dtype) or not is_extension_array_dtype(pd_dtype):\n",
      "/superbugai-data/yash/chapter_2/workspace/EHR-QC-Preprocess/.venv/lib/python3.9/site-packages/sklearn/base.py:450: UserWarning: X does not have valid feature names, but IsolationForest was fitted with feature names\n",
      "  warnings.warn(\n",
      "/superbugai-data/yash/chapter_2/workspace/EHR-QC-Preprocess/.venv/lib/python3.9/site-packages/sklearn/utils/validation.py:757: FutureWarning: is_sparse is deprecated and will be removed in a future version. Check `isinstance(dtype, pd.SparseDtype)` instead.\n",
      "  if not hasattr(array, \"sparse\") and array.dtypes.apply(is_sparse).any():\n",
      "/superbugai-data/yash/chapter_2/workspace/EHR-QC-Preprocess/.venv/lib/python3.9/site-packages/sklearn/utils/validation.py:595: FutureWarning: is_sparse is deprecated and will be removed in a future version. Check `isinstance(dtype, pd.SparseDtype)` instead.\n",
      "  if is_sparse(pd_dtype):\n",
      "/superbugai-data/yash/chapter_2/workspace/EHR-QC-Preprocess/.venv/lib/python3.9/site-packages/sklearn/utils/validation.py:604: FutureWarning: is_sparse is deprecated and will be removed in a future version. Check `isinstance(dtype, pd.SparseDtype)` instead.\n",
      "  if is_sparse(pd_dtype) or not is_extension_array_dtype(pd_dtype):\n",
      "/superbugai-data/yash/chapter_2/workspace/EHR-QC-Preprocess/ehrqc/plot/OutlierIsolationForest.py:87: SettingWithCopyWarning: \n",
      "A value is trying to be set on a copy of a slice from a DataFrame\n",
      "\n",
      "See the caveats in the documentation: https://pandas.pydata.org/pandas-docs/stable/user_guide/indexing.html#returning-a-view-versus-a-copy\n",
      "  correctedDf.drop(columns=['outlier_scores'], inplace=True)\n"
     ]
    },
    {
     "name": "stdout",
     "output_type": "stream",
     "text": [
      "2023-11-09 21:25:50,450 - EHR-QC - INFO - Saving the corrected file\n",
      "2023-11-09 21:25:51,507 - EHR-QC - INFO - Done!!\n"
     ]
    },
    {
     "data": {
      "text/plain": [
       "0"
      ]
     },
     "execution_count": 20,
     "metadata": {},
     "output_type": "execute_result"
    }
   ],
   "source": [
    "import os\n",
    "\n",
    "\n",
    "os.system(\n",
    "    'cd ' + os.environ['EHR_QC_PREPROCESS_BASE'] + ';'\n",
    "    +\n",
    "    '''.venv/bin/python -m ehrqc.plot.OutlierIsolationForest ''' + os.environ['EICU_EHR_PIPELINE_BASE'] + '''/data/imputed/labs_max_episode_date.csv ''' + os.environ['EICU_EHR_PIPELINE_BASE'] + '''/data/cleaned/labs_max_episode_date.csv clean -c \"Sodium level\" \"Blood urea nitrogen\" \"Creatinine level\" \"Potassium level\" \"Chloride\" \"Hematocrit\" \"Haemoglobin estimation\" \"Platelet count\" \"Red blood cell count\" \"Calcium level\" \"MCV - Mean corpuscular volume\" \"MCHC - Mean corpuscular haemoglobin concentration\" \"MCH - Mean corpuscular haemoglobin\" \"White blood cell count\" \"Red blood cell distribution width\" \"Glucose level\" \"Bicarbonate level\" \"Anion gap\"'''\n",
    "    )\n"
   ]
  },
  {
   "cell_type": "markdown",
   "metadata": {},
   "source": [
    "### first"
   ]
  },
  {
   "cell_type": "code",
   "execution_count": 21,
   "metadata": {},
   "outputs": [
    {
     "name": "stdout",
     "output_type": "stream",
     "text": [
      "2023-11-09 21:26:04,449 - EHR-QC - INFO - Parsing command line arguments\n",
      "2023-11-09 21:26:04,450 - EHR-QC - INFO - args.source_file: /home/yram0006/phd/chapter_2/workspace/eICU-EHR-Pipeline/data/imputed/labs_first_episode_date.csv\n",
      "2023-11-09 21:26:04,450 - EHR-QC - INFO - args.save_file: /home/yram0006/phd/chapter_2/workspace/eICU-EHR-Pipeline/data/cleaned/labs_first_episode_date.csv\n",
      "2023-11-09 21:26:04,450 - EHR-QC - INFO - args.action: clean\n",
      "2023-11-09 21:26:04,450 - EHR-QC - INFO - args.columns: ['Sodium level', 'Blood urea nitrogen', 'Creatinine level', 'Potassium level', 'Chloride', 'Hematocrit', 'Haemoglobin estimation', 'Platelet count', 'Red blood cell count', 'Calcium level', 'MCV - Mean corpuscular volume', 'MCHC - Mean corpuscular haemoglobin concentration', 'MCH - Mean corpuscular haemoglobin', 'White blood cell count', 'Red blood cell distribution width', 'Glucose level', 'Bicarbonate level', 'Anion gap']\n",
      "2023-11-09 21:26:04,625 - EHR-QC - INFO - Validating the input arguments.\n",
      "2023-11-09 21:26:04,630 - EHR-QC - INFO - Validating complete!!\n",
      "2023-11-09 21:26:04,630 - EHR-QC - INFO - Removing outliers\n"
     ]
    },
    {
     "name": "stderr",
     "output_type": "stream",
     "text": [
      "/superbugai-data/yash/chapter_2/workspace/EHR-QC-Preprocess/.venv/lib/python3.9/site-packages/sklearn/utils/validation.py:757: FutureWarning: is_sparse is deprecated and will be removed in a future version. Check `isinstance(dtype, pd.SparseDtype)` instead.\n",
      "  if not hasattr(array, \"sparse\") and array.dtypes.apply(is_sparse).any():\n",
      "/superbugai-data/yash/chapter_2/workspace/EHR-QC-Preprocess/.venv/lib/python3.9/site-packages/sklearn/utils/validation.py:595: FutureWarning: is_sparse is deprecated and will be removed in a future version. Check `isinstance(dtype, pd.SparseDtype)` instead.\n",
      "  if is_sparse(pd_dtype):\n",
      "/superbugai-data/yash/chapter_2/workspace/EHR-QC-Preprocess/.venv/lib/python3.9/site-packages/sklearn/utils/validation.py:604: FutureWarning: is_sparse is deprecated and will be removed in a future version. Check `isinstance(dtype, pd.SparseDtype)` instead.\n",
      "  if is_sparse(pd_dtype) or not is_extension_array_dtype(pd_dtype):\n",
      "/superbugai-data/yash/chapter_2/workspace/EHR-QC-Preprocess/.venv/lib/python3.9/site-packages/sklearn/base.py:450: UserWarning: X does not have valid feature names, but IsolationForest was fitted with feature names\n",
      "  warnings.warn(\n",
      "/superbugai-data/yash/chapter_2/workspace/EHR-QC-Preprocess/.venv/lib/python3.9/site-packages/sklearn/utils/validation.py:757: FutureWarning: is_sparse is deprecated and will be removed in a future version. Check `isinstance(dtype, pd.SparseDtype)` instead.\n",
      "  if not hasattr(array, \"sparse\") and array.dtypes.apply(is_sparse).any():\n",
      "/superbugai-data/yash/chapter_2/workspace/EHR-QC-Preprocess/.venv/lib/python3.9/site-packages/sklearn/utils/validation.py:595: FutureWarning: is_sparse is deprecated and will be removed in a future version. Check `isinstance(dtype, pd.SparseDtype)` instead.\n",
      "  if is_sparse(pd_dtype):\n",
      "/superbugai-data/yash/chapter_2/workspace/EHR-QC-Preprocess/.venv/lib/python3.9/site-packages/sklearn/utils/validation.py:604: FutureWarning: is_sparse is deprecated and will be removed in a future version. Check `isinstance(dtype, pd.SparseDtype)` instead.\n",
      "  if is_sparse(pd_dtype) or not is_extension_array_dtype(pd_dtype):\n",
      "/superbugai-data/yash/chapter_2/workspace/EHR-QC-Preprocess/ehrqc/plot/OutlierIsolationForest.py:87: SettingWithCopyWarning: \n",
      "A value is trying to be set on a copy of a slice from a DataFrame\n",
      "\n",
      "See the caveats in the documentation: https://pandas.pydata.org/pandas-docs/stable/user_guide/indexing.html#returning-a-view-versus-a-copy\n",
      "  correctedDf.drop(columns=['outlier_scores'], inplace=True)\n"
     ]
    },
    {
     "name": "stdout",
     "output_type": "stream",
     "text": [
      "2023-11-09 21:26:10,448 - EHR-QC - INFO - Saving the corrected file\n",
      "2023-11-09 21:26:11,457 - EHR-QC - INFO - Done!!\n"
     ]
    },
    {
     "data": {
      "text/plain": [
       "0"
      ]
     },
     "execution_count": 21,
     "metadata": {},
     "output_type": "execute_result"
    }
   ],
   "source": [
    "import os\n",
    "\n",
    "\n",
    "os.system(\n",
    "    'cd ' + os.environ['EHR_QC_PREPROCESS_BASE'] + ';'\n",
    "    +\n",
    "    '''.venv/bin/python -m ehrqc.plot.OutlierIsolationForest ''' + os.environ['EICU_EHR_PIPELINE_BASE'] + '''/data/imputed/labs_first_episode_date.csv ''' + os.environ['EICU_EHR_PIPELINE_BASE'] + '''/data/cleaned/labs_first_episode_date.csv clean -c \"Sodium level\" \"Blood urea nitrogen\" \"Creatinine level\" \"Potassium level\" \"Chloride\" \"Hematocrit\" \"Haemoglobin estimation\" \"Platelet count\" \"Red blood cell count\" \"Calcium level\" \"MCV - Mean corpuscular volume\" \"MCHC - Mean corpuscular haemoglobin concentration\" \"MCH - Mean corpuscular haemoglobin\" \"White blood cell count\" \"Red blood cell distribution width\" \"Glucose level\" \"Bicarbonate level\" \"Anion gap\"'''\n",
    "    )\n"
   ]
  },
  {
   "cell_type": "markdown",
   "metadata": {},
   "source": [
    "### last"
   ]
  },
  {
   "cell_type": "code",
   "execution_count": 22,
   "metadata": {},
   "outputs": [
    {
     "name": "stdout",
     "output_type": "stream",
     "text": [
      "2023-11-09 21:26:20,498 - EHR-QC - INFO - Parsing command line arguments\n",
      "2023-11-09 21:26:20,499 - EHR-QC - INFO - args.source_file: /home/yram0006/phd/chapter_2/workspace/eICU-EHR-Pipeline/data/imputed/labs_last_episode_date.csv\n",
      "2023-11-09 21:26:20,500 - EHR-QC - INFO - args.save_file: /home/yram0006/phd/chapter_2/workspace/eICU-EHR-Pipeline/data/cleaned/labs_last_episode_date.csv\n",
      "2023-11-09 21:26:20,500 - EHR-QC - INFO - args.action: clean\n",
      "2023-11-09 21:26:20,500 - EHR-QC - INFO - args.columns: ['Sodium level', 'Blood urea nitrogen', 'Creatinine level', 'Potassium level', 'Chloride', 'Hematocrit', 'Haemoglobin estimation', 'Platelet count', 'Red blood cell count', 'Calcium level', 'MCV - Mean corpuscular volume', 'MCHC - Mean corpuscular haemoglobin concentration', 'MCH - Mean corpuscular haemoglobin', 'White blood cell count', 'Red blood cell distribution width', 'Glucose level', 'Bicarbonate level', 'Anion gap']\n",
      "2023-11-09 21:26:20,784 - EHR-QC - INFO - Validating the input arguments.\n",
      "2023-11-09 21:26:20,788 - EHR-QC - INFO - Validating complete!!\n",
      "2023-11-09 21:26:20,788 - EHR-QC - INFO - Removing outliers\n"
     ]
    },
    {
     "name": "stderr",
     "output_type": "stream",
     "text": [
      "/superbugai-data/yash/chapter_2/workspace/EHR-QC-Preprocess/.venv/lib/python3.9/site-packages/sklearn/utils/validation.py:757: FutureWarning: is_sparse is deprecated and will be removed in a future version. Check `isinstance(dtype, pd.SparseDtype)` instead.\n",
      "  if not hasattr(array, \"sparse\") and array.dtypes.apply(is_sparse).any():\n",
      "/superbugai-data/yash/chapter_2/workspace/EHR-QC-Preprocess/.venv/lib/python3.9/site-packages/sklearn/utils/validation.py:595: FutureWarning: is_sparse is deprecated and will be removed in a future version. Check `isinstance(dtype, pd.SparseDtype)` instead.\n",
      "  if is_sparse(pd_dtype):\n",
      "/superbugai-data/yash/chapter_2/workspace/EHR-QC-Preprocess/.venv/lib/python3.9/site-packages/sklearn/utils/validation.py:604: FutureWarning: is_sparse is deprecated and will be removed in a future version. Check `isinstance(dtype, pd.SparseDtype)` instead.\n",
      "  if is_sparse(pd_dtype) or not is_extension_array_dtype(pd_dtype):\n",
      "/superbugai-data/yash/chapter_2/workspace/EHR-QC-Preprocess/.venv/lib/python3.9/site-packages/sklearn/base.py:450: UserWarning: X does not have valid feature names, but IsolationForest was fitted with feature names\n",
      "  warnings.warn(\n",
      "/superbugai-data/yash/chapter_2/workspace/EHR-QC-Preprocess/.venv/lib/python3.9/site-packages/sklearn/utils/validation.py:757: FutureWarning: is_sparse is deprecated and will be removed in a future version. Check `isinstance(dtype, pd.SparseDtype)` instead.\n",
      "  if not hasattr(array, \"sparse\") and array.dtypes.apply(is_sparse).any():\n",
      "/superbugai-data/yash/chapter_2/workspace/EHR-QC-Preprocess/.venv/lib/python3.9/site-packages/sklearn/utils/validation.py:595: FutureWarning: is_sparse is deprecated and will be removed in a future version. Check `isinstance(dtype, pd.SparseDtype)` instead.\n",
      "  if is_sparse(pd_dtype):\n",
      "/superbugai-data/yash/chapter_2/workspace/EHR-QC-Preprocess/.venv/lib/python3.9/site-packages/sklearn/utils/validation.py:604: FutureWarning: is_sparse is deprecated and will be removed in a future version. Check `isinstance(dtype, pd.SparseDtype)` instead.\n",
      "  if is_sparse(pd_dtype) or not is_extension_array_dtype(pd_dtype):\n",
      "/superbugai-data/yash/chapter_2/workspace/EHR-QC-Preprocess/ehrqc/plot/OutlierIsolationForest.py:87: SettingWithCopyWarning: \n",
      "A value is trying to be set on a copy of a slice from a DataFrame\n",
      "\n",
      "See the caveats in the documentation: https://pandas.pydata.org/pandas-docs/stable/user_guide/indexing.html#returning-a-view-versus-a-copy\n",
      "  correctedDf.drop(columns=['outlier_scores'], inplace=True)\n"
     ]
    },
    {
     "name": "stdout",
     "output_type": "stream",
     "text": [
      "2023-11-09 21:26:26,634 - EHR-QC - INFO - Saving the corrected file\n",
      "2023-11-09 21:26:28,190 - EHR-QC - INFO - Done!!\n"
     ]
    },
    {
     "data": {
      "text/plain": [
       "0"
      ]
     },
     "execution_count": 22,
     "metadata": {},
     "output_type": "execute_result"
    }
   ],
   "source": [
    "import os\n",
    "\n",
    "\n",
    "os.system(\n",
    "    'cd ' + os.environ['EHR_QC_PREPROCESS_BASE'] + ';'\n",
    "    +\n",
    "    '''.venv/bin/python -m ehrqc.plot.OutlierIsolationForest ''' + os.environ['EICU_EHR_PIPELINE_BASE'] + '''/data/imputed/labs_last_episode_date.csv ''' + os.environ['EICU_EHR_PIPELINE_BASE'] + '''/data/cleaned/labs_last_episode_date.csv clean -c \"Sodium level\" \"Blood urea nitrogen\" \"Creatinine level\" \"Potassium level\" \"Chloride\" \"Hematocrit\" \"Haemoglobin estimation\" \"Platelet count\" \"Red blood cell count\" \"Calcium level\" \"MCV - Mean corpuscular volume\" \"MCHC - Mean corpuscular haemoglobin concentration\" \"MCH - Mean corpuscular haemoglobin\" \"White blood cell count\" \"Red blood cell distribution width\" \"Glucose level\" \"Bicarbonate level\" \"Anion gap\"'''\n",
    "    )\n"
   ]
  }
 ],
 "metadata": {
  "kernelspec": {
   "display_name": ".venv",
   "language": "python",
   "name": "python3"
  },
  "language_info": {
   "codemirror_mode": {
    "name": "ipython",
    "version": 3
   },
   "file_extension": ".py",
   "mimetype": "text/x-python",
   "name": "python",
   "nbconvert_exporter": "python",
   "pygments_lexer": "ipython3",
   "version": "3.8.10"
  }
 },
 "nbformat": 4,
 "nbformat_minor": 2
}
