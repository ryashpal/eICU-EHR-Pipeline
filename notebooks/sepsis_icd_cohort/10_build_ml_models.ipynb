{
 "cells": [
  {
   "cell_type": "markdown",
   "metadata": {},
   "source": [
    "# Build ML Models"
   ]
  },
  {
   "cell_type": "markdown",
   "metadata": {},
   "source": [
    "## Initialise logger"
   ]
  },
  {
   "cell_type": "code",
   "execution_count": 4,
   "metadata": {},
   "outputs": [],
   "source": [
    "import logging\n",
    "import sys\n",
    "\n",
    "log = logging.getLogger(\"EHR-ML\")\n",
    "log.setLevel(logging.INFO)\n",
    "format = logging.Formatter(\"%(asctime)s - %(name)s - %(levelname)s - %(message)s\")\n",
    "\n",
    "ch = logging.StreamHandler(sys.stdout)\n",
    "ch.setFormatter(format)\n",
    "log.addHandler(ch)\n",
    "import warnings\n",
    "warnings.simplefilter(action='ignore', category=Warning)"
   ]
  },
  {
   "cell_type": "code",
   "execution_count": 5,
   "metadata": {},
   "outputs": [],
   "source": [
    "import os\n",
    "import sys\n",
    "\n",
    "sys.path.append(os.environ['EICU_EHR_PIPELINE_BASE'] + \"/EHR-ML\")\n",
    "\n",
    "\n",
    "from ehrml.utils import DataUtils\n",
    "\n",
    "X, XVitalsAvg, XVitalsMin, XVitalsMax, XVitalsFirst, XVitalsLast, XLabsAvg, XLabsMin, XLabsMax, XLabsFirst, XLabsLast, y = DataUtils.readEicuData(dirPath=os.environ['EICU_EHR_PIPELINE_BASE'] + '/data/final/data_matrix.csv')"
   ]
  },
  {
   "cell_type": "code",
   "execution_count": 6,
   "metadata": {},
   "outputs": [
    {
     "data": {
      "text/plain": [
       "(11097, 6)"
      ]
     },
     "execution_count": 6,
     "metadata": {},
     "output_type": "execute_result"
    }
   ],
   "source": [
    "XVitalsAvg.shape"
   ]
  },
  {
   "cell_type": "code",
   "execution_count": 3,
   "metadata": {},
   "outputs": [
    {
     "name": "stdout",
     "output_type": "stream",
     "text": [
      "2023-11-15 11:07:49,689 - EHR-ML - INFO - Performing Hyperparameter optimisation\n",
      "2023-11-15 11:08:01,069 - EHR-ML - INFO - Building the model\n",
      "2023-11-15 11:08:01,071 - EHR-ML - INFO - Performing cross-validation\n"
     ]
    },
    {
     "data": {
      "text/plain": [
       "{'fit_time': array([0.08584809, 0.07926106, 0.08050442, 0.083534  , 0.09469962]),\n",
       " 'score_time': array([0.01054335, 0.01011515, 0.01016164, 0.00991106, 0.01022744]),\n",
       " 'test_accuracy': array([0.88423423, 0.88378378, 0.88328076, 0.8819288 , 0.8828301 ]),\n",
       " 'test_balanced_accuracy': array([0.51634379, 0.53419042, 0.5108956 , 0.51671079, 0.51393101]),\n",
       " 'test_average_precision': array([0.24540675, 0.26052408, 0.30309769, 0.28186759, 0.28013946]),\n",
       " 'test_f1': array([0.06545455, 0.13422819, 0.04428044, 0.07092199, 0.05797101]),\n",
       " 'test_roc_auc': array([0.66013006, 0.70151411, 0.70950842, 0.71569782, 0.69648036]),\n",
       " 'test_mccf1_score': array([0.27318147, 0.32223549, 0.25565682, 0.2726764 , 0.26450785])}"
      ]
     },
     "execution_count": 3,
     "metadata": {},
     "output_type": "execute_result"
    }
   ],
   "source": [
    "from ehrml.utils import MlUtils\n",
    "\n",
    "lrScores = MlUtils.buildLRModel(XLabsAvg, y)\n",
    "lrScores"
   ]
  },
  {
   "cell_type": "code",
   "execution_count": 3,
   "metadata": {},
   "outputs": [
    {
     "name": "stdout",
     "output_type": "stream",
     "text": [
      "2023-11-15 09:33:11,416 - EHR-ML - INFO - Performing Hyperparameter optimisation\n",
      "2023-11-15 09:33:16,354 - EHR-ML - INFO - Building the model\n",
      "2023-11-15 09:33:16,355 - EHR-ML - INFO - Performing cross-validation\n"
     ]
    },
    {
     "data": {
      "text/plain": [
       "{'fit_time': array([0.13916707, 0.11742806, 0.1088655 , 0.12665391, 0.12547636]),\n",
       " 'score_time': array([0.02637315, 0.02582145, 0.02622485, 0.02617121, 0.0252161 ]),\n",
       " 'test_accuracy': array([0.88153153, 0.88153153, 0.8828301 , 0.8819288 , 0.8819288 ]),\n",
       " 'test_balanced_accuracy': array([0.51151953, 0.50493694, 0.50899446, 0.50519217, 0.50354666]),\n",
       " 'test_average_precision': array([0.27119531, 0.27119152, 0.26529958, 0.25180596, 0.27646488]),\n",
       " 'test_f1': array([0.05054152, 0.02230483, 0.03703704, 0.02238806, 0.01503759]),\n",
       " 'test_roc_auc': array([0.68180909, 0.6920735 , 0.67646396, 0.68151034, 0.6532265 ]),\n",
       " 'test_mccf1_score': array([nan, nan, nan, nan, nan])}"
      ]
     },
     "execution_count": 3,
     "metadata": {},
     "output_type": "execute_result"
    }
   ],
   "source": [
    "from ehrml.utils import MlUtils\n",
    "\n",
    "lrScores = MlUtils.buildLRModel(XVitalsAvg, y)\n",
    "lrScores"
   ]
  },
  {
   "cell_type": "code",
   "execution_count": 5,
   "metadata": {},
   "outputs": [
    {
     "name": "stdout",
     "output_type": "stream",
     "text": [
      "2023-11-15 11:16:12,093 - EHR-ML - INFO - Performing Hyperparameter optimisation\n",
      "2023-11-15 11:18:36,173 - EHR-ML - INFO - Building the model\n",
      "2023-11-15 11:18:36,175 - EHR-ML - INFO - Performing cross-validation\n"
     ]
    },
    {
     "data": {
      "text/plain": [
       "{'fit_time': array([3.0500493 , 3.14974451, 2.6080153 , 3.10153484, 3.75684047]),\n",
       " 'score_time': array([0.01347136, 0.01285028, 0.01343441, 0.01270795, 0.01310468]),\n",
       " 'test_accuracy': array([0.88693694, 0.88783784, 0.89184317, 0.88733664, 0.89274448]),\n",
       " 'test_balanced_accuracy': array([0.59686783, 0.60560705, 0.58321864, 0.59053551, 0.57879334]),\n",
       " 'test_average_precision': array([0.40106576, 0.39260343, 0.42619618, 0.40643092, 0.44219159]),\n",
       " 'test_f1': array([0.31232877, 0.33243968, 0.28143713, 0.29775281, 0.26993865]),\n",
       " 'test_roc_auc': array([0.77682726, 0.80451378, 0.81244411, 0.80200728, 0.79120693]),\n",
       " 'test_mccf1_score': array([0.45422979, 0.46938483, 0.43570718, 0.44392354, 0.4285272 ])}"
      ]
     },
     "execution_count": 5,
     "metadata": {},
     "output_type": "execute_result"
    }
   ],
   "source": [
    "from ehrml.utils import MlUtils\n",
    "\n",
    "\n",
    "lrScores = MlUtils.buildLRModel(X, y)\n",
    "lrScores"
   ]
  },
  {
   "cell_type": "code",
   "execution_count": 4,
   "metadata": {},
   "outputs": [
    {
     "name": "stdout",
     "output_type": "stream",
     "text": [
      "2023-11-15 11:37:27,738 - EHR-ML - INFO - Split data to test and train sets\n",
      "2023-11-15 11:37:28,244 - EHR-ML - INFO - Performing Hyperparameter optimisation for XGBoost smaller models\n",
      "2023-11-15 11:37:28,245 - EHR-ML - INFO - Hyperparameter optimisation for: {'max_depth': range(1, 10), 'scale_pos_weight': [0.1, 0.15, 0.2, 0.25, 0.3, 0.35, 0.4]}\n",
      "2023-11-15 11:38:01,140 - EHR-ML - INFO - Hyperparameter optimisation for: {'n_estimators': range(50, 250, 10)}\n",
      "2023-11-15 11:38:09,612 - EHR-ML - INFO - Hyperparameter optimisation for: {'min_child_weight': range(1, 10)}\n",
      "2023-11-15 11:38:14,722 - EHR-ML - INFO - Hyperparameter optimisation for: {'gamma': [0.0, 0.1, 0.2, 0.3, 0.4]}\n",
      "2023-11-15 11:38:16,747 - EHR-ML - INFO - Hyperparameter optimisation for: {'subsample': [0.1, 0.2, 0.3, 0.4, 0.5, 0.6, 0.7, 0.8, 0.9], 'colsample_bytree': [0.1, 0.2, 0.3, 0.4, 0.5, 0.6, 0.7, 0.8, 0.9]}\n",
      "2023-11-15 11:39:00,473 - EHR-ML - INFO - Hyperparameter optimisation for: {'reg_alpha': [0, 1e-05, 0.001, 0.1, 10]}\n",
      "2023-11-15 11:39:03,162 - EHR-ML - INFO - params: {'max_depth': 3, 'scale_pos_weight': 0.25, 'n_estimators': 200, 'min_child_weight': 4, 'gamma': 0.0, 'colsample_bytree': 0.5, 'subsample': 0.7, 'reg_alpha': 0.001}\n",
      "2023-11-15 11:39:03,163 - EHR-ML - INFO - Performing Hyperparameter optimisation for Logistic Regression smaller models\n",
      "2023-11-15 11:39:05,496 - EHR-ML - INFO - Performing Hyperparameter optimisation for XGBoost full model\n",
      "2023-11-15 11:39:05,498 - EHR-ML - INFO - Hyperparameter optimisation for: {'max_depth': range(1, 10), 'scale_pos_weight': [0.1, 0.15, 0.2, 0.25, 0.3, 0.35, 0.4]}\n",
      "2023-11-15 11:41:12,199 - EHR-ML - INFO - Hyperparameter optimisation for: {'n_estimators': range(50, 250, 10)}\n",
      "2023-11-15 11:41:38,338 - EHR-ML - INFO - Hyperparameter optimisation for: {'min_child_weight': range(1, 10)}\n",
      "2023-11-15 11:41:52,120 - EHR-ML - INFO - Hyperparameter optimisation for: {'gamma': [0.0, 0.1, 0.2, 0.3, 0.4]}\n",
      "2023-11-15 11:42:00,024 - EHR-ML - INFO - Hyperparameter optimisation for: {'subsample': [0.1, 0.2, 0.3, 0.4, 0.5, 0.6, 0.7, 0.8, 0.9], 'colsample_bytree': [0.1, 0.2, 0.3, 0.4, 0.5, 0.6, 0.7, 0.8, 0.9]}\n",
      "2023-11-15 11:44:04,615 - EHR-ML - INFO - Hyperparameter optimisation for: {'reg_alpha': [0, 1e-05, 0.001, 0.1, 10]}\n",
      "2023-11-15 11:44:12,833 - EHR-ML - INFO - params: {'max_depth': 2, 'scale_pos_weight': 0.3, 'n_estimators': 180, 'min_child_weight': 1, 'gamma': 0.0, 'colsample_bytree': 0.7, 'subsample': 0.9, 'reg_alpha': 0}\n",
      "2023-11-15 11:44:12,836 - EHR-ML - INFO - Performing Hyperparameter optimisation for Logistic Regression full model\n",
      "2023-11-15 11:45:30,699 - EHR-ML - INFO - Building individual models\n",
      "2023-11-15 11:45:59,881 - EHR-ML - INFO - Building ensemble model\n",
      "2023-11-15 11:45:59,943 - EHR-ML - INFO - Performing Hyperparameter optimisation\n",
      "2023-11-15 11:45:59,944 - EHR-ML - INFO - Building the model\n",
      "2023-11-15 11:45:59,945 - EHR-ML - INFO - Hyperparameter optimisation for: {'max_depth': range(1, 10), 'scale_pos_weight': [0.1, 0.15, 0.2, 0.25, 0.3, 0.35, 0.4]}\n",
      "2023-11-15 11:47:15,419 - EHR-ML - INFO - Hyperparameter optimisation for: {'n_estimators': range(50, 250, 10)}\n",
      "2023-11-15 11:47:52,415 - EHR-ML - INFO - Hyperparameter optimisation for: {'min_child_weight': range(1, 10)}\n",
      "2023-11-15 11:48:14,006 - EHR-ML - INFO - Hyperparameter optimisation for: {'gamma': [0.0, 0.1, 0.2, 0.3, 0.4]}\n",
      "2023-11-15 11:48:22,308 - EHR-ML - INFO - Hyperparameter optimisation for: {'subsample': [0.1, 0.2, 0.3, 0.4, 0.5, 0.6, 0.7, 0.8, 0.9], 'colsample_bytree': [0.1, 0.2, 0.3, 0.4, 0.5, 0.6, 0.7, 0.8, 0.9]}\n",
      "2023-11-15 11:51:28,661 - EHR-ML - INFO - Hyperparameter optimisation for: {'reg_alpha': [0, 1e-05, 0.001, 0.1, 10]}\n",
      "2023-11-15 11:51:39,554 - EHR-ML - INFO - params: {'max_depth': 6, 'scale_pos_weight': 0.4, 'n_estimators': 220, 'min_child_weight': 1, 'gamma': 0.0, 'colsample_bytree': 0.4, 'subsample': 0.9, 'reg_alpha': 0}\n",
      "2023-11-15 11:51:39,555 - EHR-ML - INFO - Performing cross-validation\n"
     ]
    },
    {
     "data": {
      "text/plain": [
       "{'fit_time': array([0.45201397, 0.45436692, 0.45428658, 0.44965506, 0.44824982]),\n",
       " 'score_time': array([0.02246952, 0.02125525, 0.02094316, 0.02063608, 0.02125502]),\n",
       " 'test_accuracy': array([0.89459459, 0.88918919, 0.88108108, 0.88468468, 0.88548242]),\n",
       " 'test_balanced_accuracy': array([0.61252091, 0.6061768 , 0.56546433, 0.56426378, 0.58773766]),\n",
       " 'test_average_precision': array([0.41081057, 0.37638874, 0.3662031 , 0.3752453 , 0.34244457]),\n",
       " 'test_f1': array([0.35359116, 0.33513514, 0.23255814, 0.22891566, 0.29050279]),\n",
       " 'test_roc_auc': array([0.73860538, 0.78283603, 0.78801918, 0.77135777, 0.7434788 ]),\n",
       " 'test_mccf1_score': array([0.4891316 , 0.47234271, 0.39302632, 0.39304367, 0.4377517 ])}"
      ]
     },
     "execution_count": 4,
     "metadata": {},
     "output_type": "execute_result"
    }
   ],
   "source": [
    "from ehrml.utils import MlUtils\n",
    "\n",
    "\n",
    "xgbEnsembleScores = MlUtils.buildEnsembleXGBoostModel(X, XVitalsAvg, XVitalsMin, XVitalsMax, XVitalsFirst, XVitalsLast, XLabsAvg, XLabsMin, XLabsMax, XLabsFirst, XLabsLast, y)\n",
    "xgbEnsembleScores"
   ]
  },
  {
   "cell_type": "code",
   "execution_count": 1,
   "metadata": {},
   "outputs": [],
   "source": [
    "xgbEnsembleScores = {'fit_time': list([0.45201397, 0.45436692, 0.45428658, 0.44965506, 0.44824982]),\n",
    " 'score_time': list([0.02246952, 0.02125525, 0.02094316, 0.02063608, 0.02125502]),\n",
    " 'test_accuracy': list([0.89459459, 0.88918919, 0.88108108, 0.88468468, 0.88548242]),\n",
    " 'test_balanced_accuracy': list([0.61252091, 0.6061768 , 0.56546433, 0.56426378, 0.58773766]),\n",
    " 'test_average_precision': list([0.41081057, 0.37638874, 0.3662031 , 0.3752453 , 0.34244457]),\n",
    " 'test_f1': list([0.35359116, 0.33513514, 0.23255814, 0.22891566, 0.29050279]),\n",
    " 'test_roc_auc': list([0.73860538, 0.78283603, 0.78801918, 0.77135777, 0.7434788 ]),\n",
    " 'test_mccf1_score': list([0.4891316 , 0.47234271, 0.39302632, 0.39304367, 0.4377517 ])}"
   ]
  },
  {
   "cell_type": "code",
   "execution_count": 2,
   "metadata": {},
   "outputs": [
    {
     "data": {
      "text/plain": [
       "{'fit_time': [0.45201397, 0.45436692, 0.45428658, 0.44965506, 0.44824982],\n",
       " 'score_time': [0.02246952, 0.02125525, 0.02094316, 0.02063608, 0.02125502],\n",
       " 'test_accuracy': [0.89459459, 0.88918919, 0.88108108, 0.88468468, 0.88548242],\n",
       " 'test_balanced_accuracy': [0.61252091,\n",
       "  0.6061768,\n",
       "  0.56546433,\n",
       "  0.56426378,\n",
       "  0.58773766],\n",
       " 'test_average_precision': [0.41081057,\n",
       "  0.37638874,\n",
       "  0.3662031,\n",
       "  0.3752453,\n",
       "  0.34244457],\n",
       " 'test_f1': [0.35359116, 0.33513514, 0.23255814, 0.22891566, 0.29050279],\n",
       " 'test_roc_auc': [0.73860538, 0.78283603, 0.78801918, 0.77135777, 0.7434788],\n",
       " 'test_mccf1_score': [0.4891316,\n",
       "  0.47234271,\n",
       "  0.39302632,\n",
       "  0.39304367,\n",
       "  0.4377517]}"
      ]
     },
     "execution_count": 2,
     "metadata": {},
     "output_type": "execute_result"
    }
   ],
   "source": [
    "xgbEnsembleScores"
   ]
  },
  {
   "cell_type": "code",
   "execution_count": 7,
   "metadata": {},
   "outputs": [],
   "source": [
    "from ehrml.utils import DataUtils\n",
    "\n",
    "\n",
    "DataUtils.saveCvScores(\n",
    "    scores_dict=xgbEnsembleScores,\n",
    "    dirPath=os.environ['EICU_EHR_PIPELINE_BASE'] + '/data/experiments/01_time_window_analysis',\n",
    "    fileName='wb_' + str(0) + '_wa_' + str(3) + '.json'\n",
    "    )"
   ]
  }
 ],
 "metadata": {
  "kernelspec": {
   "display_name": ".venv",
   "language": "python",
   "name": "python3"
  },
  "language_info": {
   "codemirror_mode": {
    "name": "ipython",
    "version": 3
   },
   "file_extension": ".py",
   "mimetype": "text/x-python",
   "name": "python",
   "nbconvert_exporter": "python",
   "pygments_lexer": "ipython3",
   "version": "3.8.10"
  }
 },
 "nbformat": 4,
 "nbformat_minor": 2
}
