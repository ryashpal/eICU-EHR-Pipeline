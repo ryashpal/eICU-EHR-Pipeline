{
 "cells": [
  {
   "cell_type": "markdown",
   "metadata": {},
   "source": [
    "# Build ML Models"
   ]
  },
  {
   "cell_type": "markdown",
   "metadata": {},
   "source": [
    "## Initialise logger"
   ]
  },
  {
   "cell_type": "code",
   "execution_count": 1,
   "metadata": {},
   "outputs": [],
   "source": [
    "\n",
    "import logging\n",
    "import sys\n",
    "\n",
    "log = logging.getLogger(\"EHR-ML\")\n",
    "log.setLevel(logging.INFO)\n",
    "format = logging.Formatter(\"%(asctime)s - %(name)s - %(levelname)s - %(message)s\")\n",
    "\n",
    "ch = logging.StreamHandler(sys.stdout)\n",
    "ch.setFormatter(format)\n",
    "log.addHandler(ch)\n",
    "import warnings\n",
    "warnings.simplefilter(action='ignore', category=Warning)"
   ]
  },
  {
   "cell_type": "code",
   "execution_count": 2,
   "metadata": {},
   "outputs": [],
   "source": [
    "import os\n",
    "import sys\n",
    "\n",
    "sys.path.append(os.environ['EICU_EHR_PIPELINE_BASE'] + \"/EHR-ML\")\n",
    "\n",
    "\n",
    "from ehrml.utils import DataUtils\n",
    "\n",
    "X, XVitalsAvg, XVitalsMin, XVitalsMax, XVitalsFirst, XVitalsLast, XLabsAvg, XLabsMin, XLabsMax, XLabsFirst, XLabsLast, y = DataUtils.readEicuData(dirPath=os.environ['EICU_EHR_PIPELINE_BASE'] + '/data/final/data_matrix.csv')"
   ]
  },
  {
   "cell_type": "code",
   "execution_count": 3,
   "metadata": {},
   "outputs": [
    {
     "name": "stdout",
     "output_type": "stream",
     "text": [
      "2023-11-14 16:11:52,144 - EHR-ML - INFO - Performing Hyperparameter optimisation\n",
      "2023-11-14 16:13:39,994 - EHR-ML - INFO - Building the model\n",
      "2023-11-14 16:13:39,996 - EHR-ML - INFO - Performing cross-validation\n"
     ]
    },
    {
     "data": {
      "text/plain": [
       "{'fit_time': array([1.44842362, 1.58930182, 1.52776456, 1.43548298, 1.60096693]),\n",
       " 'score_time': array([0.02950621, 0.02920747, 0.03007889, 0.02933598, 0.02961135]),\n",
       " 'test_accuracy': array([0.85147679, 0.86751055, 0.8649789 , 0.86582278, 0.85991561]),\n",
       " 'test_balanced_accuracy': array([0.50314502, 0.52027429, 0.51619213, 0.52744289, 0.50583795]),\n",
       " 'test_average_precision': array([0.19583174, 0.28268851, 0.28298281, 0.36013281, 0.25866975]),\n",
       " 'test_f1': array([0.04347826, 0.08187135, 0.06976744, 0.11173184, 0.03488372]),\n",
       " 'test_roc_auc': array([0.64038844, 0.70014679, 0.69622841, 0.76150393, 0.68208368]),\n",
       " 'test_mccf1_score': array([nan, nan, nan, nan, nan])}"
      ]
     },
     "execution_count": 3,
     "metadata": {},
     "output_type": "execute_result"
    }
   ],
   "source": [
    "from ehrml.utils import MlUtils\n",
    "\n",
    "\n",
    "lrScores = MlUtils.buildLRModel(X, y)\n",
    "lrScores"
   ]
  },
  {
   "cell_type": "code",
   "execution_count": 4,
   "metadata": {},
   "outputs": [
    {
     "name": "stdout",
     "output_type": "stream",
     "text": [
      "2023-11-14 16:28:05,078 - EHR-ML - INFO - Split data to test and train sets\n",
      "2023-11-14 16:28:05,368 - EHR-ML - INFO - Performing Hyperparameter optimisation for XGBoost\n",
      "2023-11-14 16:28:05,369 - EHR-ML - INFO - Hyperparameter optimisation for: {'max_depth': range(1, 10), 'scale_pos_weight': [0.1, 0.15, 0.2, 0.25, 0.3, 0.35, 0.4]}\n",
      "2023-11-14 16:28:39,196 - EHR-ML - INFO - Hyperparameter optimisation for: {'n_estimators': range(50, 250, 10)}\n",
      "2023-11-14 16:28:55,488 - EHR-ML - INFO - Hyperparameter optimisation for: {'min_child_weight': range(1, 10)}\n",
      "2023-11-14 16:28:59,596 - EHR-ML - INFO - Hyperparameter optimisation for: {'gamma': [0.0, 0.1, 0.2, 0.3, 0.4]}\n",
      "2023-11-14 16:29:01,090 - EHR-ML - INFO - Hyperparameter optimisation for: {'subsample': [0.1, 0.2, 0.3, 0.4, 0.5, 0.6, 0.7, 0.8, 0.9], 'colsample_bytree': [0.1, 0.2, 0.3, 0.4, 0.5, 0.6, 0.7, 0.8, 0.9]}\n",
      "2023-11-14 16:29:37,428 - EHR-ML - INFO - Hyperparameter optimisation for: {'reg_alpha': [0, 1e-05, 0.001, 0.1, 10]}\n",
      "2023-11-14 16:29:39,672 - EHR-ML - INFO - params: {'max_depth': 6, 'scale_pos_weight': 0.1, 'n_estimators': 90, 'min_child_weight': 1, 'gamma': 0.0, 'colsample_bytree': 0.7, 'subsample': 0.5, 'reg_alpha': 0}\n",
      "2023-11-14 16:29:39,672 - EHR-ML - INFO - Performing Hyperparameter optimisation for Logistic Regression\n",
      "2023-11-14 16:29:42,898 - EHR-ML - INFO - Building individual models\n",
      "2023-11-14 16:30:04,210 - EHR-ML - INFO - Performing Hyperparameter optimisation\n",
      "2023-11-14 16:30:04,212 - EHR-ML - INFO - Building the model\n",
      "2023-11-14 16:30:04,212 - EHR-ML - INFO - Hyperparameter optimisation for: {'max_depth': range(1, 10), 'scale_pos_weight': [0.1, 0.15, 0.2, 0.25, 0.3, 0.35, 0.4]}\n",
      "2023-11-14 16:31:10,569 - EHR-ML - INFO - Hyperparameter optimisation for: {'n_estimators': range(50, 250, 10)}\n",
      "2023-11-14 16:31:20,743 - EHR-ML - INFO - Hyperparameter optimisation for: {'min_child_weight': range(1, 10)}\n",
      "2023-11-14 16:31:23,059 - EHR-ML - INFO - Hyperparameter optimisation for: {'gamma': [0.0, 0.1, 0.2, 0.3, 0.4]}\n",
      "2023-11-14 16:31:24,404 - EHR-ML - INFO - Hyperparameter optimisation for: {'subsample': [0.1, 0.2, 0.3, 0.4, 0.5, 0.6, 0.7, 0.8, 0.9], 'colsample_bytree': [0.1, 0.2, 0.3, 0.4, 0.5, 0.6, 0.7, 0.8, 0.9]}\n",
      "2023-11-14 16:31:45,409 - EHR-ML - INFO - Hyperparameter optimisation for: {'reg_alpha': [0, 1e-05, 0.001, 0.1, 10]}\n",
      "2023-11-14 16:31:46,662 - EHR-ML - INFO - params: {'max_depth': 1, 'scale_pos_weight': 0.1, 'n_estimators': 50, 'min_child_weight': 1, 'gamma': 0.0, 'colsample_bytree': 0.1, 'subsample': 0.1, 'reg_alpha': 0}\n",
      "2023-11-14 16:31:46,663 - EHR-ML - INFO - Performing cross-validation\n"
     ]
    },
    {
     "data": {
      "text/plain": [
       "{'fit_time': array([0.04235792, 0.04047656, 0.04251337, 0.04025888, 0.04115963]),\n",
       " 'score_time': array([0.03345919, 0.03206754, 0.03253698, 0.03202438, 0.03243256]),\n",
       " 'test_accuracy': array([0.86846543, 0.87015177, 0.87015177, 0.86993243, 0.86993243]),\n",
       " 'test_balanced_accuracy': array([0.5, 0.5, 0.5, 0.5, 0.5]),\n",
       " 'test_average_precision': array([0.29098879, 0.32337649, 0.20941848, 0.25931348, 0.20447345]),\n",
       " 'test_f1': array([0., 0., 0., 0., 0.]),\n",
       " 'test_roc_auc': array([0.6976475 , 0.6794775 , 0.63054968, 0.68442819, 0.63008448]),\n",
       " 'test_mccf1_score': array([nan, nan, nan, nan, nan])}"
      ]
     },
     "execution_count": 4,
     "metadata": {},
     "output_type": "execute_result"
    }
   ],
   "source": [
    "from ehrml.utils import MlUtils\n",
    "\n",
    "\n",
    "xgbEnsembleScores = MlUtils.buildEnsembleXGBoostModel(XVitalsAvg, XVitalsMin, XVitalsMax, XVitalsFirst, XVitalsLast, XLabsAvg, XLabsMin, XLabsMax, XLabsFirst, XLabsLast, y)\n",
    "xgbEnsembleScores"
   ]
  }
 ],
 "metadata": {
  "kernelspec": {
   "display_name": ".venv",
   "language": "python",
   "name": "python3"
  },
  "language_info": {
   "codemirror_mode": {
    "name": "ipython",
    "version": 3
   },
   "file_extension": ".py",
   "mimetype": "text/x-python",
   "name": "python",
   "nbconvert_exporter": "python",
   "pygments_lexer": "ipython3",
   "version": "3.8.10"
  }
 },
 "nbformat": 4,
 "nbformat_minor": 2
}
