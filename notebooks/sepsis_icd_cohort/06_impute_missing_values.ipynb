{
 "cells": [
  {
   "cell_type": "markdown",
   "metadata": {},
   "source": [
    "# Impute Missing Values"
   ]
  },
  {
   "cell_type": "markdown",
   "metadata": {},
   "source": [
    "## Labs"
   ]
  },
  {
   "cell_type": "markdown",
   "metadata": {},
   "source": [
    "### avg"
   ]
  },
  {
   "cell_type": "code",
   "execution_count": 1,
   "metadata": {},
   "outputs": [
    {
     "name": "stdout",
     "output_type": "stream",
     "text": [
      "2023-11-09 20:02:36,547 - EHR-QC - INFO - Parsing command line arguments\n",
      "2023-11-09 20:02:36,549 - EHR-QC - INFO - args.action: impute\n",
      "2023-11-09 20:02:36,549 - EHR-QC - INFO - args.source_path: /home/yram0006/phd/chapter_2/workspace/eICU-EHR-Pipeline/data/dropped/labs_avg_episode_date.csv\n",
      "2023-11-09 20:02:36,549 - EHR-QC - INFO - args.percentage: None\n",
      "2023-11-09 20:02:36,549 - EHR-QC - INFO - args.save_path: /home/yram0006/phd/chapter_2/workspace/eICU-EHR-Pipeline/data/imputed/labs_avg_episode_date.csv\n",
      "2023-11-09 20:02:36,549 - EHR-QC - INFO - args.algorithm: miss_forest\n",
      "2023-11-09 20:02:36,549 - EHR-QC - INFO - args.columns: ['Sodium level', 'Blood urea nitrogen', 'Creatinine level', 'Potassium level', 'Chloride', 'Hematocrit', 'Haemoglobin estimation', 'Platelet count', 'Red blood cell count', 'Calcium level', 'MCV - Mean corpuscular volume', 'MCHC - Mean corpuscular haemoglobin concentration', 'MCH - Mean corpuscular haemoglobin', 'White blood cell count', 'Red blood cell distribution width', 'Glucose level', 'Bicarbonate level', 'Anion gap']\n",
      "Iteration: 0\n",
      "Iteration: 1\n",
      "Iteration: 2\n",
      "2023-11-09 20:10:35,543 - EHR-QC - INFO - Done!!\n"
     ]
    },
    {
     "data": {
      "text/plain": [
       "0"
      ]
     },
     "execution_count": 1,
     "metadata": {},
     "output_type": "execute_result"
    }
   ],
   "source": [
    "import os\n",
    "\n",
    "\n",
    "os.system(\n",
    "    'cd ' + os.environ['EHR_QC_PREPROCESS_BASE'] + ';'\n",
    "    +\n",
    "    '''.venv/bin/python -m ehrqc.impute.Impute 'impute' ''' + os.environ['EICU_EHR_PIPELINE_BASE'] + '''/data/dropped/labs_avg_episode_date.csv -sp ''' + os.environ['EICU_EHR_PIPELINE_BASE'] + '''/data/imputed/labs_avg_episode_date.csv -a miss_forest -c \"Sodium level\" \"Blood urea nitrogen\" \"Creatinine level\" \"Potassium level\" \"Chloride\" \"Hematocrit\" \"Haemoglobin estimation\" \"Platelet count\" \"Red blood cell count\" \"Calcium level\" \"MCV - Mean corpuscular volume\" \"MCHC - Mean corpuscular haemoglobin concentration\" \"MCH - Mean corpuscular haemoglobin\" \"White blood cell count\" \"Red blood cell distribution width\" \"Glucose level\" \"Bicarbonate level\" \"Anion gap\"'''\n",
    "    )\n"
   ]
  },
  {
   "cell_type": "markdown",
   "metadata": {},
   "source": [
    "### min"
   ]
  },
  {
   "cell_type": "code",
   "execution_count": 2,
   "metadata": {},
   "outputs": [
    {
     "name": "stdout",
     "output_type": "stream",
     "text": [
      "2023-11-09 20:10:36,517 - EHR-QC - INFO - Parsing command line arguments\n",
      "2023-11-09 20:10:36,518 - EHR-QC - INFO - args.action: impute\n",
      "2023-11-09 20:10:36,518 - EHR-QC - INFO - args.source_path: /home/yram0006/phd/chapter_2/workspace/eICU-EHR-Pipeline/data/dropped/labs_min_episode_date.csv\n",
      "2023-11-09 20:10:36,518 - EHR-QC - INFO - args.percentage: None\n",
      "2023-11-09 20:10:36,518 - EHR-QC - INFO - args.save_path: /home/yram0006/phd/chapter_2/workspace/eICU-EHR-Pipeline/data/imputed/labs_min_episode_date.csv\n",
      "2023-11-09 20:10:36,518 - EHR-QC - INFO - args.algorithm: miss_forest\n",
      "2023-11-09 20:10:36,518 - EHR-QC - INFO - args.columns: ['Sodium level', 'Blood urea nitrogen', 'Creatinine level', 'Potassium level', 'Chloride', 'Hematocrit', 'Haemoglobin estimation', 'Platelet count', 'Red blood cell count', 'Calcium level', 'MCV - Mean corpuscular volume', 'MCHC - Mean corpuscular haemoglobin concentration', 'MCH - Mean corpuscular haemoglobin', 'White blood cell count', 'Red blood cell distribution width', 'Glucose level', 'Bicarbonate level', 'Anion gap']\n",
      "Iteration: 0\n",
      "Iteration: 1\n",
      "Iteration: 2\n",
      "2023-11-09 20:18:15,137 - EHR-QC - INFO - Done!!\n"
     ]
    },
    {
     "data": {
      "text/plain": [
       "0"
      ]
     },
     "execution_count": 2,
     "metadata": {},
     "output_type": "execute_result"
    }
   ],
   "source": [
    "import os\n",
    "\n",
    "\n",
    "os.system(\n",
    "    'cd ' + os.environ['EHR_QC_PREPROCESS_BASE'] + ';'\n",
    "    +\n",
    "    '''.venv/bin/python -m ehrqc.impute.Impute 'impute' ''' + os.environ['EICU_EHR_PIPELINE_BASE'] + '''/data/dropped/labs_min_episode_date.csv -sp ''' + os.environ['EICU_EHR_PIPELINE_BASE'] + '''/data/imputed/labs_min_episode_date.csv -a miss_forest -c \"Sodium level\" \"Blood urea nitrogen\" \"Creatinine level\" \"Potassium level\" \"Chloride\" \"Hematocrit\" \"Haemoglobin estimation\" \"Platelet count\" \"Red blood cell count\" \"Calcium level\" \"MCV - Mean corpuscular volume\" \"MCHC - Mean corpuscular haemoglobin concentration\" \"MCH - Mean corpuscular haemoglobin\" \"White blood cell count\" \"Red blood cell distribution width\" \"Glucose level\" \"Bicarbonate level\" \"Anion gap\"'''\n",
    "    )\n"
   ]
  },
  {
   "cell_type": "markdown",
   "metadata": {},
   "source": [
    "### max"
   ]
  },
  {
   "cell_type": "code",
   "execution_count": 3,
   "metadata": {},
   "outputs": [
    {
     "name": "stdout",
     "output_type": "stream",
     "text": [
      "2023-11-09 20:18:16,153 - EHR-QC - INFO - Parsing command line arguments\n",
      "2023-11-09 20:18:16,154 - EHR-QC - INFO - args.action: impute\n",
      "2023-11-09 20:18:16,154 - EHR-QC - INFO - args.source_path: /home/yram0006/phd/chapter_2/workspace/eICU-EHR-Pipeline/data/dropped/labs_max_episode_date.csv\n",
      "2023-11-09 20:18:16,154 - EHR-QC - INFO - args.percentage: None\n",
      "2023-11-09 20:18:16,154 - EHR-QC - INFO - args.save_path: /home/yram0006/phd/chapter_2/workspace/eICU-EHR-Pipeline/data/imputed/labs_max_episode_date.csv\n",
      "2023-11-09 20:18:16,154 - EHR-QC - INFO - args.algorithm: miss_forest\n",
      "2023-11-09 20:18:16,154 - EHR-QC - INFO - args.columns: ['Sodium level', 'Blood urea nitrogen', 'Creatinine level', 'Potassium level', 'Chloride', 'Hematocrit', 'Haemoglobin estimation', 'Platelet count', 'Red blood cell count', 'Calcium level', 'MCV - Mean corpuscular volume', 'MCHC - Mean corpuscular haemoglobin concentration', 'MCH - Mean corpuscular haemoglobin', 'White blood cell count', 'Red blood cell distribution width', 'Glucose level', 'Bicarbonate level', 'Anion gap']\n",
      "Iteration: 0\n",
      "Iteration: 1\n",
      "Iteration: 2\n",
      "2023-11-09 20:25:57,538 - EHR-QC - INFO - Done!!\n"
     ]
    },
    {
     "data": {
      "text/plain": [
       "0"
      ]
     },
     "execution_count": 3,
     "metadata": {},
     "output_type": "execute_result"
    }
   ],
   "source": [
    "import os\n",
    "\n",
    "\n",
    "os.system(\n",
    "    'cd ' + os.environ['EHR_QC_PREPROCESS_BASE'] + ';'\n",
    "    +\n",
    "    '''.venv/bin/python -m ehrqc.impute.Impute 'impute' ''' + os.environ['EICU_EHR_PIPELINE_BASE'] + '''/data/dropped/labs_max_episode_date.csv -sp ''' + os.environ['EICU_EHR_PIPELINE_BASE'] + '''/data/imputed/labs_max_episode_date.csv -a miss_forest -c \"Sodium level\" \"Blood urea nitrogen\" \"Creatinine level\" \"Potassium level\" \"Chloride\" \"Hematocrit\" \"Haemoglobin estimation\" \"Platelet count\" \"Red blood cell count\" \"Calcium level\" \"MCV - Mean corpuscular volume\" \"MCHC - Mean corpuscular haemoglobin concentration\" \"MCH - Mean corpuscular haemoglobin\" \"White blood cell count\" \"Red blood cell distribution width\" \"Glucose level\" \"Bicarbonate level\" \"Anion gap\"'''\n",
    "    )\n"
   ]
  },
  {
   "cell_type": "markdown",
   "metadata": {},
   "source": [
    "### first"
   ]
  },
  {
   "cell_type": "code",
   "execution_count": 4,
   "metadata": {},
   "outputs": [
    {
     "name": "stdout",
     "output_type": "stream",
     "text": [
      "2023-11-09 20:25:58,614 - EHR-QC - INFO - Parsing command line arguments\n",
      "2023-11-09 20:25:58,615 - EHR-QC - INFO - args.action: impute\n",
      "2023-11-09 20:25:58,615 - EHR-QC - INFO - args.source_path: /home/yram0006/phd/chapter_2/workspace/eICU-EHR-Pipeline/data/dropped/labs_first_episode_date.csv\n",
      "2023-11-09 20:25:58,615 - EHR-QC - INFO - args.percentage: None\n",
      "2023-11-09 20:25:58,615 - EHR-QC - INFO - args.save_path: /home/yram0006/phd/chapter_2/workspace/eICU-EHR-Pipeline/data/imputed/labs_first_episode_date.csv\n",
      "2023-11-09 20:25:58,615 - EHR-QC - INFO - args.algorithm: miss_forest\n",
      "2023-11-09 20:25:58,615 - EHR-QC - INFO - args.columns: ['Sodium level', 'Blood urea nitrogen', 'Creatinine level', 'Potassium level', 'Chloride', 'Hematocrit', 'Haemoglobin estimation', 'Platelet count', 'Red blood cell count', 'Calcium level', 'MCV - Mean corpuscular volume', 'MCHC - Mean corpuscular haemoglobin concentration', 'MCH - Mean corpuscular haemoglobin', 'White blood cell count', 'Red blood cell distribution width', 'Glucose level', 'Bicarbonate level', 'Anion gap']\n",
      "Iteration: 0\n",
      "Iteration: 1\n",
      "Iteration: 2\n",
      "2023-11-09 20:33:27,167 - EHR-QC - INFO - Done!!\n"
     ]
    },
    {
     "data": {
      "text/plain": [
       "0"
      ]
     },
     "execution_count": 4,
     "metadata": {},
     "output_type": "execute_result"
    }
   ],
   "source": [
    "import os\n",
    "\n",
    "\n",
    "os.system(\n",
    "    'cd ' + os.environ['EHR_QC_PREPROCESS_BASE'] + ';'\n",
    "    +\n",
    "    '''.venv/bin/python -m ehrqc.impute.Impute 'impute' ''' + os.environ['EICU_EHR_PIPELINE_BASE'] + '''/data/dropped/labs_first_episode_date.csv -sp ''' + os.environ['EICU_EHR_PIPELINE_BASE'] + '''/data/imputed/labs_first_episode_date.csv -a miss_forest -c \"Sodium level\" \"Blood urea nitrogen\" \"Creatinine level\" \"Potassium level\" \"Chloride\" \"Hematocrit\" \"Haemoglobin estimation\" \"Platelet count\" \"Red blood cell count\" \"Calcium level\" \"MCV - Mean corpuscular volume\" \"MCHC - Mean corpuscular haemoglobin concentration\" \"MCH - Mean corpuscular haemoglobin\" \"White blood cell count\" \"Red blood cell distribution width\" \"Glucose level\" \"Bicarbonate level\" \"Anion gap\"'''\n",
    "    )\n"
   ]
  },
  {
   "cell_type": "markdown",
   "metadata": {},
   "source": [
    "### last"
   ]
  },
  {
   "cell_type": "code",
   "execution_count": 5,
   "metadata": {},
   "outputs": [
    {
     "name": "stdout",
     "output_type": "stream",
     "text": [
      "2023-11-09 20:33:28,075 - EHR-QC - INFO - Parsing command line arguments\n",
      "2023-11-09 20:33:28,077 - EHR-QC - INFO - args.action: impute\n",
      "2023-11-09 20:33:28,077 - EHR-QC - INFO - args.source_path: /home/yram0006/phd/chapter_2/workspace/eICU-EHR-Pipeline/data/extracts/labs_last_episode_date.csv\n",
      "2023-11-09 20:33:28,077 - EHR-QC - INFO - args.percentage: None\n",
      "2023-11-09 20:33:28,077 - EHR-QC - INFO - args.save_path: /home/yram0006/phd/chapter_2/workspace/eICU-EHR-Pipeline/data/imputed/labs_last_episode_date.csv\n",
      "2023-11-09 20:33:28,077 - EHR-QC - INFO - args.algorithm: miss_forest\n",
      "2023-11-09 20:33:28,077 - EHR-QC - INFO - args.columns: ['Sodium level', 'Blood urea nitrogen', 'Creatinine level', 'Potassium level', 'Chloride', 'Hematocrit', 'Haemoglobin estimation', 'Platelet count', 'Red blood cell count', 'Calcium level', 'MCV - Mean corpuscular volume', 'MCHC - Mean corpuscular haemoglobin concentration', 'Albumin', 'MCH - Mean corpuscular haemoglobin', 'Serum alkaline phosphatase level', 'Aspartate aminotransferase measurement', 'Alanine aminotransferase', 'Total bilirubin level', 'White blood cell count', 'Red blood cell distribution width', 'Total protein measurement', 'Glucose level', 'Bicarbonate level', 'Anion gap', 'Lactate', 'Lymph', 'Infectious mononucleosis test']\n",
      "Iteration: 0\n",
      "Iteration: 1\n",
      "Iteration: 2\n",
      "2023-11-09 20:49:03,939 - EHR-QC - INFO - Done!!\n"
     ]
    },
    {
     "data": {
      "text/plain": [
       "0"
      ]
     },
     "execution_count": 5,
     "metadata": {},
     "output_type": "execute_result"
    }
   ],
   "source": [
    "import os\n",
    "\n",
    "\n",
    "os.system(\n",
    "    'cd ' + os.environ['EHR_QC_PREPROCESS_BASE'] + ';'\n",
    "    +\n",
    "    '''.venv/bin/python -m ehrqc.impute.Impute 'impute' ''' + os.environ['EICU_EHR_PIPELINE_BASE'] + '''/data/extracts/labs_last_episode_date.csv -sp ''' + os.environ['EICU_EHR_PIPELINE_BASE'] + '''/data/imputed/labs_last_episode_date.csv -a miss_forest -c \"Sodium level\" \"Blood urea nitrogen\" \"Creatinine level\" \"Potassium level\" \"Chloride\" \"Hematocrit\" \"Haemoglobin estimation\" \"Platelet count\" \"Red blood cell count\" \"Calcium level\" \"MCV - Mean corpuscular volume\" \"MCHC - Mean corpuscular haemoglobin concentration\" \"Albumin\" \"MCH - Mean corpuscular haemoglobin\" \"Serum alkaline phosphatase level\" \"Aspartate aminotransferase measurement\" \"Alanine aminotransferase\" \"Total bilirubin level\" \"White blood cell count\" \"Red blood cell distribution width\" \"Total protein measurement\" \"Glucose level\" \"Bicarbonate level\" \"Anion gap\" \"Lactate\" \"Lymph\" \"Infectious mononucleosis test\"'''\n",
    "    )\n"
   ]
  },
  {
   "cell_type": "markdown",
   "metadata": {},
   "source": [
    "## Vitals"
   ]
  },
  {
   "cell_type": "markdown",
   "metadata": {},
   "source": [
    "### avg"
   ]
  },
  {
   "cell_type": "code",
   "execution_count": 6,
   "metadata": {},
   "outputs": [
    {
     "name": "stdout",
     "output_type": "stream",
     "text": [
      "2023-11-13 13:15:03,959 - EHR-QC - INFO - Parsing command line arguments\n",
      "2023-11-13 13:15:03,960 - EHR-QC - INFO - args.action: impute\n",
      "2023-11-13 13:15:03,960 - EHR-QC - INFO - args.source_path: /home/yram0006/phd/chapter_2/workspace/eICU-EHR-Pipeline/data/extracts/vitals_avg_episode_date.csv\n",
      "2023-11-13 13:15:03,960 - EHR-QC - INFO - args.percentage: None\n",
      "2023-11-13 13:15:03,960 - EHR-QC - INFO - args.save_path: /home/yram0006/phd/chapter_2/workspace/eICU-EHR-Pipeline/data/imputed/vitals_avg_episode_date.csv\n",
      "2023-11-13 13:15:03,960 - EHR-QC - INFO - args.algorithm: miss_forest\n",
      "2023-11-13 13:15:03,960 - EHR-QC - INFO - args.columns: ['systemic_mean', 'systemic_diastolic', 'systemic_systolic', 'respiration', 'heartrate', 'sao2']\n",
      "Iteration: 0\n",
      "Iteration: 1\n",
      "Iteration: 2\n",
      "Iteration: 3\n",
      "Iteration: 4\n",
      "Iteration: 5\n",
      "Iteration: 6\n",
      "Iteration: 7\n",
      "Iteration: 8\n",
      "Iteration: 9\n",
      "2023-11-13 13:37:09,386 - EHR-QC - INFO - Done!!\n"
     ]
    },
    {
     "data": {
      "text/plain": [
       "0"
      ]
     },
     "execution_count": 6,
     "metadata": {},
     "output_type": "execute_result"
    }
   ],
   "source": [
    "import os\n",
    "\n",
    "\n",
    "os.system(\n",
    "    'cd ' + os.environ['EHR_QC_PREPROCESS_BASE'] + ';'\n",
    "    +\n",
    "    '''.venv/bin/python -m ehrqc.impute.Impute -ac 'impute' ''' + os.environ['EICU_EHR_PIPELINE_BASE'] + '''/data/extracts/vitals_avg_episode_date.csv -sp ''' + os.environ['EICU_EHR_PIPELINE_BASE'] + '''/data/imputed/vitals_avg_episode_date.csv -al miss_forest -c \"systemic_mean\" \"systemic_diastolic\" \"systemic_systolic\" \"respiration\" \"heartrate\" \"sao2\"'''\n",
    "    )\n"
   ]
  },
  {
   "cell_type": "markdown",
   "metadata": {},
   "source": [
    "### min"
   ]
  },
  {
   "cell_type": "code",
   "execution_count": 7,
   "metadata": {},
   "outputs": [
    {
     "name": "stdout",
     "output_type": "stream",
     "text": [
      "2023-11-13 13:37:10,412 - EHR-QC - INFO - Parsing command line arguments\n",
      "2023-11-13 13:37:10,413 - EHR-QC - INFO - args.action: impute\n",
      "2023-11-13 13:37:10,413 - EHR-QC - INFO - args.source_path: /home/yram0006/phd/chapter_2/workspace/eICU-EHR-Pipeline/data/extracts/vitals_min_episode_date.csv\n",
      "2023-11-13 13:37:10,413 - EHR-QC - INFO - args.percentage: None\n",
      "2023-11-13 13:37:10,413 - EHR-QC - INFO - args.save_path: /home/yram0006/phd/chapter_2/workspace/eICU-EHR-Pipeline/data/imputed/vitals_min_episode_date.csv\n",
      "2023-11-13 13:37:10,413 - EHR-QC - INFO - args.algorithm: miss_forest\n",
      "2023-11-13 13:37:10,413 - EHR-QC - INFO - args.columns: ['systemic_mean', 'systemic_diastolic', 'systemic_systolic', 'respiration', 'heartrate', 'sao2']\n",
      "Iteration: 0\n",
      "Iteration: 1\n",
      "2023-11-13 13:38:46,028 - EHR-QC - INFO - Done!!\n"
     ]
    },
    {
     "data": {
      "text/plain": [
       "0"
      ]
     },
     "execution_count": 7,
     "metadata": {},
     "output_type": "execute_result"
    }
   ],
   "source": [
    "import os\n",
    "\n",
    "\n",
    "os.system(\n",
    "    'cd ' + os.environ['EHR_QC_PREPROCESS_BASE'] + ';'\n",
    "    +\n",
    "    '''.venv/bin/python -m ehrqc.impute.Impute -ac 'impute' ''' + os.environ['EICU_EHR_PIPELINE_BASE'] + '''/data/extracts/vitals_min_episode_date.csv -sp ''' + os.environ['EICU_EHR_PIPELINE_BASE'] + '''/data/imputed/vitals_min_episode_date.csv -al miss_forest -c \"systemic_mean\" \"systemic_diastolic\" \"systemic_systolic\" \"respiration\" \"heartrate\" \"sao2\"'''\n",
    "    )\n"
   ]
  },
  {
   "cell_type": "markdown",
   "metadata": {},
   "source": [
    "### max"
   ]
  },
  {
   "cell_type": "code",
   "execution_count": 8,
   "metadata": {},
   "outputs": [
    {
     "name": "stdout",
     "output_type": "stream",
     "text": [
      "2023-11-13 13:38:47,002 - EHR-QC - INFO - Parsing command line arguments\n",
      "2023-11-13 13:38:47,004 - EHR-QC - INFO - args.action: impute\n",
      "2023-11-13 13:38:47,004 - EHR-QC - INFO - args.source_path: /home/yram0006/phd/chapter_2/workspace/eICU-EHR-Pipeline/data/extracts/vitals_max_episode_date.csv\n",
      "2023-11-13 13:38:47,004 - EHR-QC - INFO - args.percentage: None\n",
      "2023-11-13 13:38:47,004 - EHR-QC - INFO - args.save_path: /home/yram0006/phd/chapter_2/workspace/eICU-EHR-Pipeline/data/imputed/vitals_max_episode_date.csv\n",
      "2023-11-13 13:38:47,004 - EHR-QC - INFO - args.algorithm: miss_forest\n",
      "2023-11-13 13:38:47,004 - EHR-QC - INFO - args.columns: ['systemic_mean', 'systemic_diastolic', 'systemic_systolic', 'respiration', 'heartrate', 'sao2']\n",
      "Iteration: 0\n",
      "Iteration: 1\n",
      "2023-11-13 13:40:16,839 - EHR-QC - INFO - Done!!\n"
     ]
    },
    {
     "data": {
      "text/plain": [
       "0"
      ]
     },
     "execution_count": 8,
     "metadata": {},
     "output_type": "execute_result"
    }
   ],
   "source": [
    "import os\n",
    "\n",
    "\n",
    "os.system(\n",
    "    'cd ' + os.environ['EHR_QC_PREPROCESS_BASE'] + ';'\n",
    "    +\n",
    "    '''.venv/bin/python -m ehrqc.impute.Impute -ac 'impute' ''' + os.environ['EICU_EHR_PIPELINE_BASE'] + '''/data/extracts/vitals_max_episode_date.csv -sp ''' + os.environ['EICU_EHR_PIPELINE_BASE'] + '''/data/imputed/vitals_max_episode_date.csv -al miss_forest -c \"systemic_mean\" \"systemic_diastolic\" \"systemic_systolic\" \"respiration\" \"heartrate\" \"sao2\"'''\n",
    "    )\n"
   ]
  },
  {
   "cell_type": "markdown",
   "metadata": {},
   "source": [
    "### first"
   ]
  },
  {
   "cell_type": "code",
   "execution_count": 9,
   "metadata": {},
   "outputs": [
    {
     "name": "stdout",
     "output_type": "stream",
     "text": [
      "2023-11-13 13:40:17,838 - EHR-QC - INFO - Parsing command line arguments\n",
      "2023-11-13 13:40:17,839 - EHR-QC - INFO - args.action: impute\n",
      "2023-11-13 13:40:17,839 - EHR-QC - INFO - args.source_path: /home/yram0006/phd/chapter_2/workspace/eICU-EHR-Pipeline/data/extracts/vitals_first_episode_date.csv\n",
      "2023-11-13 13:40:17,839 - EHR-QC - INFO - args.percentage: None\n",
      "2023-11-13 13:40:17,839 - EHR-QC - INFO - args.save_path: /home/yram0006/phd/chapter_2/workspace/eICU-EHR-Pipeline/data/imputed/vitals_first_episode_date.csv\n",
      "2023-11-13 13:40:17,839 - EHR-QC - INFO - args.algorithm: miss_forest\n",
      "2023-11-13 13:40:17,839 - EHR-QC - INFO - args.columns: ['systemic_mean', 'systemic_diastolic', 'systemic_systolic', 'respiration', 'heartrate', 'sao2']\n",
      "Iteration: 0\n",
      "Iteration: 1\n",
      "2023-11-13 13:41:47,038 - EHR-QC - INFO - Done!!\n"
     ]
    },
    {
     "data": {
      "text/plain": [
       "0"
      ]
     },
     "execution_count": 9,
     "metadata": {},
     "output_type": "execute_result"
    }
   ],
   "source": [
    "import os\n",
    "\n",
    "\n",
    "os.system(\n",
    "    'cd ' + os.environ['EHR_QC_PREPROCESS_BASE'] + ';'\n",
    "    +\n",
    "    '''.venv/bin/python -m ehrqc.impute.Impute -ac 'impute' ''' + os.environ['EICU_EHR_PIPELINE_BASE'] + '''/data/extracts/vitals_first_episode_date.csv -sp ''' + os.environ['EICU_EHR_PIPELINE_BASE'] + '''/data/imputed/vitals_first_episode_date.csv -al miss_forest -c \"systemic_mean\" \"systemic_diastolic\" \"systemic_systolic\" \"respiration\" \"heartrate\" \"sao2\"'''\n",
    "    )\n"
   ]
  },
  {
   "cell_type": "markdown",
   "metadata": {},
   "source": [
    "### last"
   ]
  },
  {
   "cell_type": "code",
   "execution_count": 10,
   "metadata": {},
   "outputs": [
    {
     "name": "stdout",
     "output_type": "stream",
     "text": [
      "2023-11-13 13:41:48,035 - EHR-QC - INFO - Parsing command line arguments\n",
      "2023-11-13 13:41:48,036 - EHR-QC - INFO - args.action: impute\n",
      "2023-11-13 13:41:48,036 - EHR-QC - INFO - args.source_path: /home/yram0006/phd/chapter_2/workspace/eICU-EHR-Pipeline/data/extracts/vitals_last_episode_date.csv\n",
      "2023-11-13 13:41:48,036 - EHR-QC - INFO - args.percentage: None\n",
      "2023-11-13 13:41:48,036 - EHR-QC - INFO - args.save_path: /home/yram0006/phd/chapter_2/workspace/eICU-EHR-Pipeline/data/imputed/vitals_last_episode_date.csv\n",
      "2023-11-13 13:41:48,036 - EHR-QC - INFO - args.algorithm: miss_forest\n",
      "2023-11-13 13:41:48,036 - EHR-QC - INFO - args.columns: ['systemic_mean', 'systemic_diastolic', 'systemic_systolic', 'respiration', 'heartrate', 'sao2']\n",
      "Iteration: 0\n",
      "Iteration: 1\n",
      "2023-11-13 13:43:23,893 - EHR-QC - INFO - Done!!\n"
     ]
    },
    {
     "data": {
      "text/plain": [
       "0"
      ]
     },
     "execution_count": 10,
     "metadata": {},
     "output_type": "execute_result"
    }
   ],
   "source": [
    "import os\n",
    "\n",
    "\n",
    "os.system(\n",
    "    'cd ' + os.environ['EHR_QC_PREPROCESS_BASE'] + ';'\n",
    "    +\n",
    "    '''.venv/bin/python -m ehrqc.impute.Impute -ac 'impute' ''' + os.environ['EICU_EHR_PIPELINE_BASE'] + '''/data/extracts/vitals_last_episode_date.csv -sp ''' + os.environ['EICU_EHR_PIPELINE_BASE'] + '''/data/imputed/vitals_last_episode_date.csv -al miss_forest -c \"systemic_mean\" \"systemic_diastolic\" \"systemic_systolic\" \"respiration\" \"heartrate\" \"sao2\"'''\n",
    "    )\n"
   ]
  }
 ],
 "metadata": {
  "kernelspec": {
   "display_name": ".venv",
   "language": "python",
   "name": "python3"
  },
  "language_info": {
   "codemirror_mode": {
    "name": "ipython",
    "version": 3
   },
   "file_extension": ".py",
   "mimetype": "text/x-python",
   "name": "python",
   "nbconvert_exporter": "python",
   "pygments_lexer": "ipython3",
   "version": "3.8.10"
  }
 },
 "nbformat": 4,
 "nbformat_minor": 2
}
