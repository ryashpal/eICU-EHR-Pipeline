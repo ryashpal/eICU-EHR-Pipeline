{
 "cells": [
  {
   "cell_type": "markdown",
   "metadata": {},
   "source": [
    "# Data preparation\n",
    "\n",
    "This notebook contains code that is used to prepare the eICU data before startign the standardisation process"
   ]
  },
  {
   "cell_type": "markdown",
   "metadata": {},
   "source": [
    "## Vitals"
   ]
  },
  {
   "cell_type": "markdown",
   "metadata": {},
   "source": [
    "### Temperature"
   ]
  },
  {
   "cell_type": "markdown",
   "metadata": {},
   "source": [
    "#### Breakdown vitals in to smaller pieces"
   ]
  },
  {
   "cell_type": "code",
   "execution_count": 1,
   "metadata": {},
   "outputs": [
    {
     "data": {
      "text/plain": [
       "0"
      ]
     },
     "execution_count": 1,
     "metadata": {},
     "output_type": "execute_result"
    }
   ],
   "source": [
    "import os\n",
    "\n",
    "\n",
    "os.system(\n",
    "    'cd ' + os.environ['EICU_EHR_PIPELINE_BASE'] + '''/data/eICU;'''\n",
    "    +\n",
    "    '''echo \"vitalperiodicid,patientunitstayid,observationoffset,vitalname,value\" > vitals_temperature.csv;'''\n",
    "    +\n",
    "    '''awk -F, 'NR>1 {print $1 \",\" $2 \",\" $3 \",temperature,\" $4}' vitalPeriodic.csv >> vitals_temperature.csv;'''\n",
    "    )\n"
   ]
  },
  {
   "cell_type": "markdown",
   "metadata": {},
   "source": [
    "#### Create daily aggregates"
   ]
  },
  {
   "cell_type": "code",
   "execution_count": 2,
   "metadata": {},
   "outputs": [
    {
     "data": {
      "text/html": [
       "<div>\n",
       "<style scoped>\n",
       "    .dataframe tbody tr th:only-of-type {\n",
       "        vertical-align: middle;\n",
       "    }\n",
       "\n",
       "    .dataframe tbody tr th {\n",
       "        vertical-align: top;\n",
       "    }\n",
       "\n",
       "    .dataframe thead th {\n",
       "        text-align: right;\n",
       "    }\n",
       "</style>\n",
       "<table border=\"1\" class=\"dataframe\">\n",
       "  <thead>\n",
       "    <tr style=\"text-align: right;\">\n",
       "      <th></th>\n",
       "      <th>vitalperiodicid</th>\n",
       "      <th>patientunitstayid</th>\n",
       "      <th>observationoffset</th>\n",
       "      <th>vitalname</th>\n",
       "      <th>value</th>\n",
       "    </tr>\n",
       "  </thead>\n",
       "  <tbody>\n",
       "    <tr>\n",
       "      <th>0</th>\n",
       "      <td>37376747</td>\n",
       "      <td>141168</td>\n",
       "      <td>2059</td>\n",
       "      <td>temperature</td>\n",
       "      <td>NaN</td>\n",
       "    </tr>\n",
       "    <tr>\n",
       "      <th>1</th>\n",
       "      <td>37404957</td>\n",
       "      <td>141168</td>\n",
       "      <td>1289</td>\n",
       "      <td>temperature</td>\n",
       "      <td>NaN</td>\n",
       "    </tr>\n",
       "    <tr>\n",
       "      <th>2</th>\n",
       "      <td>37385871</td>\n",
       "      <td>141168</td>\n",
       "      <td>1794</td>\n",
       "      <td>temperature</td>\n",
       "      <td>NaN</td>\n",
       "    </tr>\n",
       "    <tr>\n",
       "      <th>3</th>\n",
       "      <td>37401664</td>\n",
       "      <td>141168</td>\n",
       "      <td>1374</td>\n",
       "      <td>temperature</td>\n",
       "      <td>NaN</td>\n",
       "    </tr>\n",
       "    <tr>\n",
       "      <th>4</th>\n",
       "      <td>37377404</td>\n",
       "      <td>141168</td>\n",
       "      <td>2039</td>\n",
       "      <td>temperature</td>\n",
       "      <td>NaN</td>\n",
       "    </tr>\n",
       "    <tr>\n",
       "      <th>...</th>\n",
       "      <td>...</td>\n",
       "      <td>...</td>\n",
       "      <td>...</td>\n",
       "      <td>...</td>\n",
       "      <td>...</td>\n",
       "    </tr>\n",
       "    <tr>\n",
       "      <th>146671637</th>\n",
       "      <td>2169559983</td>\n",
       "      <td>3353263</td>\n",
       "      <td>504</td>\n",
       "      <td>temperature</td>\n",
       "      <td>NaN</td>\n",
       "    </tr>\n",
       "    <tr>\n",
       "      <th>146671638</th>\n",
       "      <td>2169559616</td>\n",
       "      <td>3353263</td>\n",
       "      <td>534</td>\n",
       "      <td>temperature</td>\n",
       "      <td>NaN</td>\n",
       "    </tr>\n",
       "    <tr>\n",
       "      <th>146671639</th>\n",
       "      <td>2169559436</td>\n",
       "      <td>3353263</td>\n",
       "      <td>549</td>\n",
       "      <td>temperature</td>\n",
       "      <td>NaN</td>\n",
       "    </tr>\n",
       "    <tr>\n",
       "      <th>146671640</th>\n",
       "      <td>2169559494</td>\n",
       "      <td>3353263</td>\n",
       "      <td>544</td>\n",
       "      <td>temperature</td>\n",
       "      <td>NaN</td>\n",
       "    </tr>\n",
       "    <tr>\n",
       "      <th>146671641</th>\n",
       "      <td>2169558831</td>\n",
       "      <td>3353263</td>\n",
       "      <td>599</td>\n",
       "      <td>temperature</td>\n",
       "      <td>NaN</td>\n",
       "    </tr>\n",
       "  </tbody>\n",
       "</table>\n",
       "<p>146671642 rows × 5 columns</p>\n",
       "</div>"
      ],
      "text/plain": [
       "           vitalperiodicid  patientunitstayid  observationoffset    vitalname  \\\n",
       "0                 37376747             141168               2059  temperature   \n",
       "1                 37404957             141168               1289  temperature   \n",
       "2                 37385871             141168               1794  temperature   \n",
       "3                 37401664             141168               1374  temperature   \n",
       "4                 37377404             141168               2039  temperature   \n",
       "...                    ...                ...                ...          ...   \n",
       "146671637       2169559983            3353263                504  temperature   \n",
       "146671638       2169559616            3353263                534  temperature   \n",
       "146671639       2169559436            3353263                549  temperature   \n",
       "146671640       2169559494            3353263                544  temperature   \n",
       "146671641       2169558831            3353263                599  temperature   \n",
       "\n",
       "           value  \n",
       "0            NaN  \n",
       "1            NaN  \n",
       "2            NaN  \n",
       "3            NaN  \n",
       "4            NaN  \n",
       "...          ...  \n",
       "146671637    NaN  \n",
       "146671638    NaN  \n",
       "146671639    NaN  \n",
       "146671640    NaN  \n",
       "146671641    NaN  \n",
       "\n",
       "[146671642 rows x 5 columns]"
      ]
     },
     "execution_count": 2,
     "metadata": {},
     "output_type": "execute_result"
    }
   ],
   "source": [
    "import os\n",
    "import pandas as pd\n",
    "\n",
    "vitalsDf = pd.read_csv(os.environ['EICU_EHR_PIPELINE_BASE'] + '''/data/eICU/vitals_temperature.csv''')\n",
    "vitalsDf"
   ]
  },
  {
   "cell_type": "code",
   "execution_count": 4,
   "metadata": {},
   "outputs": [
    {
     "data": {
      "text/plain": [
       "<Axes: xlabel='value', ylabel='Density'>"
      ]
     },
     "execution_count": 4,
     "metadata": {},
     "output_type": "execute_result"
    },
    {
     "data": {
      "image/png": "[encoded data removed]",
      "text/plain": [
       "<Figure size 640x480 with 1 Axes>"
      ]
     },
     "metadata": {},
     "output_type": "display_data"
    }
   ],
   "source": [
    "import seaborn as sns\n",
    "\n",
    "\n",
    "sns.kdeplot(vitalsDf[vitalsDf.value > 0], x=\"value\")"
   ]
  },
  {
   "cell_type": "code",
   "execution_count": 5,
   "metadata": {},
   "outputs": [],
   "source": [
    "vitalsDf['value'] = vitalsDf.value.apply(lambda x: ((x-32) * (5/9)) if(x>50) else x)"
   ]
  },
  {
   "cell_type": "code",
   "execution_count": 6,
   "metadata": {},
   "outputs": [
    {
     "data": {
      "text/plain": [
       "<Axes: xlabel='value', ylabel='Density'>"
      ]
     },
     "execution_count": 6,
     "metadata": {},
     "output_type": "execute_result"
    },
    {
     "data": {
      "image/png": "[encoded data removed]",
      "text/plain": [
       "<Figure size 640x480 with 1 Axes>"
      ]
     },
     "metadata": {},
     "output_type": "display_data"
    }
   ],
   "source": [
    "import seaborn as sns\n",
    "\n",
    "\n",
    "sns.kdeplot(vitalsDf[vitalsDf.value > 0], x=\"value\")"
   ]
  },
  {
   "cell_type": "code",
   "execution_count": 7,
   "metadata": {},
   "outputs": [],
   "source": [
    "import numpy as np\n",
    "\n",
    "\n",
    "vitalsDf['observationday'] = np.floor(vitalsDf.observationoffset/(60*24))"
   ]
  },
  {
   "cell_type": "code",
   "execution_count": 8,
   "metadata": {},
   "outputs": [],
   "source": [
    "vitalsAggDf = vitalsDf[['patientunitstayid', 'observationday', 'value']].groupby(['patientunitstayid', 'observationday'], as_index=False).agg(['mean', 'min', 'max', 'std'])"
   ]
  },
  {
   "cell_type": "code",
   "execution_count": 9,
   "metadata": {},
   "outputs": [],
   "source": [
    "vitalsFirstDf = vitalsDf.sort_values(['patientunitstayid', 'observationday', 'observationoffset'], ascending=True)[['patientunitstayid', 'observationday', 'value']].groupby(['patientunitstayid', 'observationday']).first()"
   ]
  },
  {
   "cell_type": "code",
   "execution_count": 10,
   "metadata": {},
   "outputs": [],
   "source": [
    "vitalsLastDf = vitalsDf.sort_values(['patientunitstayid', 'observationday', 'observationoffset'], ascending=False)[['patientunitstayid', 'observationday', 'value']].groupby(['patientunitstayid', 'observationday']).first()"
   ]
  },
  {
   "cell_type": "code",
   "execution_count": 11,
   "metadata": {},
   "outputs": [],
   "source": [
    "vitalsAggDf.columns = vitalsAggDf.columns.droplevel()"
   ]
  },
  {
   "cell_type": "code",
   "execution_count": 12,
   "metadata": {},
   "outputs": [],
   "source": [
    "vitalsAggDf = vitalsAggDf.reset_index()"
   ]
  },
  {
   "cell_type": "code",
   "execution_count": 13,
   "metadata": {},
   "outputs": [],
   "source": [
    "vitalsFirstDf = vitalsFirstDf.reset_index()\n",
    "vitalsFirstDf.columns = ['patientunitstayid', 'observationday', 'first']"
   ]
  },
  {
   "cell_type": "code",
   "execution_count": 14,
   "metadata": {},
   "outputs": [],
   "source": [
    "vitalsLastDf = vitalsLastDf.reset_index()\n",
    "vitalsLastDf.columns = ['patientunitstayid', 'observationday', 'last']"
   ]
  },
  {
   "cell_type": "code",
   "execution_count": 15,
   "metadata": {},
   "outputs": [],
   "source": [
    "vitalsFinalDf = vitalsAggDf.merge(vitalsFirstDf, on=['patientunitstayid', 'observationday']).merge(vitalsLastDf, on=['patientunitstayid', 'observationday'])"
   ]
  },
  {
   "cell_type": "code",
   "execution_count": 16,
   "metadata": {},
   "outputs": [],
   "source": [
    "vitalsFinalDf.to_csv(os.environ['EICU_EHR_PIPELINE_BASE'] + '''/data/eICU/vitals_temperature_agg.csv''', index=False)"
   ]
  },
  {
   "cell_type": "markdown",
   "metadata": {},
   "source": [
    "### sao2"
   ]
  },
  {
   "cell_type": "code",
   "execution_count": 13,
   "metadata": {},
   "outputs": [],
   "source": [
    "import os\n",
    "import numpy as np\n",
    "import pandas as pd\n",
    "\n",
    "\n",
    "os.system(\n",
    "    'cd ' + os.environ['EICU_EHR_PIPELINE_BASE'] + '''/data/eICU;'''\n",
    "    +\n",
    "    '''echo \"vitalperiodicid,patientunitstayid,observationoffset,vitalname,value\" > vitals_sao2.csv;'''\n",
    "    +\n",
    "    '''awk -F, 'NR>1 {print $1 \",\" $2 \",\" $3 \",sa02,\" $5}' vitalPeriodic.csv >> vitals_sao2.csv;'''\n",
    "    )\n",
    "\n",
    "vitalsDf = pd.read_csv(os.environ['EICU_EHR_PIPELINE_BASE'] + '''/data/eICU/vitals_sao2.csv''')\n",
    "\n",
    "vitalsDf['observationday'] = np.floor(vitalsDf.observationoffset/(60*24))\n",
    "\n",
    "vitalsAggDf = vitalsDf[['patientunitstayid', 'observationday', 'value']].groupby(['patientunitstayid', 'observationday'], as_index=False).agg(['mean', 'min', 'max', 'std'])\n",
    "\n",
    "vitalsFirstDf = vitalsDf.sort_values(['patientunitstayid', 'observationday', 'observationoffset'], ascending=True)[['patientunitstayid', 'observationday', 'value']].groupby(['patientunitstayid', 'observationday']).first()\n",
    "\n",
    "vitalsLastDf = vitalsDf.sort_values(['patientunitstayid', 'observationday', 'observationoffset'], ascending=False)[['patientunitstayid', 'observationday', 'value']].groupby(['patientunitstayid', 'observationday']).first()\n",
    "\n",
    "vitalsAggDf.columns = vitalsAggDf.columns.droplevel()\n",
    "\n",
    "vitalsAggDf = vitalsAggDf.reset_index()\n",
    "\n",
    "vitalsFirstDf = vitalsFirstDf.reset_index()\n",
    "vitalsFirstDf.columns = ['patientunitstayid', 'observationday', 'first']\n",
    "\n",
    "vitalsLastDf = vitalsLastDf.reset_index()\n",
    "vitalsLastDf.columns = ['patientunitstayid', 'observationday', 'last']\n",
    "\n",
    "vitalsFinalDf = vitalsAggDf.merge(vitalsFirstDf, on=['patientunitstayid', 'observationday']).merge(vitalsLastDf, on=['patientunitstayid', 'observationday'])\n",
    "\n",
    "vitalsFinalDf.to_csv(os.environ['EICU_EHR_PIPELINE_BASE'] + '''/data/eICU/vitals_sao2_agg.csv''', index=False)"
   ]
  },
  {
   "cell_type": "markdown",
   "metadata": {},
   "source": [
    "### Heartrate"
   ]
  },
  {
   "cell_type": "code",
   "execution_count": 1,
   "metadata": {},
   "outputs": [],
   "source": [
    "import os\n",
    "import numpy as np\n",
    "import pandas as pd\n",
    "\n",
    "\n",
    "os.system(\n",
    "    'cd ' + os.environ['EICU_EHR_PIPELINE_BASE'] + '''/data/eICU;'''\n",
    "    +\n",
    "    '''echo \"vitalperiodicid,patientunitstayid,observationoffset,vitalname,value\" > vitals_heartrate.csv;'''\n",
    "    +\n",
    "    '''awk -F, 'NR>1 {print $1 \",\" $2 \",\" $3 \",sa02,\" $6}' vitalPeriodic.csv >> vitals_heartrate.csv;'''\n",
    "    )\n",
    "\n",
    "vitalsDf = pd.read_csv(os.environ['EICU_EHR_PIPELINE_BASE'] + '''/data/eICU/vitals_heartrate.csv''')\n",
    "\n",
    "vitalsDf['observationday'] = np.floor(vitalsDf.observationoffset/(60*24))\n",
    "\n",
    "vitalsAggDf = vitalsDf[['patientunitstayid', 'observationday', 'value']].groupby(['patientunitstayid', 'observationday'], as_index=False).agg(['mean', 'min', 'max', 'std'])\n",
    "\n",
    "vitalsFirstDf = vitalsDf.sort_values(['patientunitstayid', 'observationday', 'observationoffset'], ascending=True)[['patientunitstayid', 'observationday', 'value']].groupby(['patientunitstayid', 'observationday']).first()\n",
    "\n",
    "vitalsLastDf = vitalsDf.sort_values(['patientunitstayid', 'observationday', 'observationoffset'], ascending=False)[['patientunitstayid', 'observationday', 'value']].groupby(['patientunitstayid', 'observationday']).first()\n",
    "\n",
    "vitalsAggDf.columns = vitalsAggDf.columns.droplevel()\n",
    "\n",
    "vitalsAggDf = vitalsAggDf.reset_index()\n",
    "\n",
    "vitalsFirstDf = vitalsFirstDf.reset_index()\n",
    "vitalsFirstDf.columns = ['patientunitstayid', 'observationday', 'first']\n",
    "\n",
    "vitalsLastDf = vitalsLastDf.reset_index()\n",
    "vitalsLastDf.columns = ['patientunitstayid', 'observationday', 'last']\n",
    "\n",
    "vitalsFinalDf = vitalsAggDf.merge(vitalsFirstDf, on=['patientunitstayid', 'observationday']).merge(vitalsLastDf, on=['patientunitstayid', 'observationday'])\n",
    "\n",
    "vitalsFinalDf.to_csv(os.environ['EICU_EHR_PIPELINE_BASE'] + '''/data/eICU/vitals_heartrate_agg.csv''', index=False)"
   ]
  },
  {
   "cell_type": "markdown",
   "metadata": {},
   "source": [
    "### Respiration"
   ]
  },
  {
   "cell_type": "code",
   "execution_count": null,
   "metadata": {},
   "outputs": [],
   "source": [
    "import os\n",
    "import numpy as np\n",
    "import pandas as pd\n",
    "\n",
    "\n",
    "os.system(\n",
    "    'cd ' + os.environ['EICU_EHR_PIPELINE_BASE'] + '''/data/eICU;'''\n",
    "    +\n",
    "    '''echo \"vitalperiodicid,patientunitstayid,observationoffset,vitalname,value\" > vitals_respiration.csv;'''\n",
    "    +\n",
    "    '''awk -F, 'NR>1 {print $1 \",\" $2 \",\" $3 \",sa02,\" $7}' vitalPeriodic.csv >> vitals_respiration.csv;'''\n",
    "    )\n",
    "\n",
    "vitalsDf = pd.read_csv(os.environ['EICU_EHR_PIPELINE_BASE'] + '''/data/eICU/vitals_respiration.csv''')\n",
    "\n",
    "vitalsDf['observationday'] = np.floor(vitalsDf.observationoffset/(60*24))\n",
    "\n",
    "vitalsAggDf = vitalsDf[['patientunitstayid', 'observationday', 'value']].groupby(['patientunitstayid', 'observationday'], as_index=False).agg(['mean', 'min', 'max', 'std'])\n",
    "\n",
    "vitalsFirstDf = vitalsDf.sort_values(['patientunitstayid', 'observationday', 'observationoffset'], ascending=True)[['patientunitstayid', 'observationday', 'value']].groupby(['patientunitstayid', 'observationday']).first()\n",
    "\n",
    "vitalsLastDf = vitalsDf.sort_values(['patientunitstayid', 'observationday', 'observationoffset'], ascending=False)[['patientunitstayid', 'observationday', 'value']].groupby(['patientunitstayid', 'observationday']).first()\n",
    "\n",
    "vitalsAggDf.columns = vitalsAggDf.columns.droplevel()\n",
    "\n",
    "vitalsAggDf = vitalsAggDf.reset_index()\n",
    "\n",
    "vitalsFirstDf = vitalsFirstDf.reset_index()\n",
    "vitalsFirstDf.columns = ['patientunitstayid', 'observationday', 'first']\n",
    "\n",
    "vitalsLastDf = vitalsLastDf.reset_index()\n",
    "vitalsLastDf.columns = ['patientunitstayid', 'observationday', 'last']\n",
    "\n",
    "vitalsFinalDf = vitalsAggDf.merge(vitalsFirstDf, on=['patientunitstayid', 'observationday']).merge(vitalsLastDf, on=['patientunitstayid', 'observationday'])\n",
    "\n",
    "vitalsFinalDf.to_csv(os.environ['EICU_EHR_PIPELINE_BASE'] + '''/data/eICU/vitals_respiration_agg.csv''', index=False)"
   ]
  },
  {
   "cell_type": "markdown",
   "metadata": {},
   "source": [
    "### SystemicSystolic"
   ]
  },
  {
   "cell_type": "code",
   "execution_count": null,
   "metadata": {},
   "outputs": [],
   "source": [
    "import os\n",
    "import numpy as np\n",
    "import pandas as pd\n",
    "\n",
    "\n",
    "os.system(\n",
    "    'cd ' + os.environ['EICU_EHR_PIPELINE_BASE'] + '''/data/eICU;'''\n",
    "    +\n",
    "    '''echo \"vitalperiodicid,patientunitstayid,observationoffset,vitalname,value\" > vitals_systemic_systolic.csv;'''\n",
    "    +\n",
    "    '''awk -F, 'NR>1 {print $1 \",\" $2 \",\" $3 \",sa02,\" $10}' vitalPeriodic.csv >> vitals_systemic_systolic.csv;'''\n",
    "    )\n",
    "\n",
    "vitalsDf = pd.read_csv(os.environ['EICU_EHR_PIPELINE_BASE'] + '''/data/eICU/vitals_systemic_systolic.csv''')\n",
    "\n",
    "vitalsDf['observationday'] = np.floor(vitalsDf.observationoffset/(60*24))\n",
    "\n",
    "vitalsAggDf = vitalsDf[['patientunitstayid', 'observationday', 'value']].groupby(['patientunitstayid', 'observationday'], as_index=False).agg(['mean', 'min', 'max', 'std'])\n",
    "\n",
    "vitalsFirstDf = vitalsDf.sort_values(['patientunitstayid', 'observationday', 'observationoffset'], ascending=True)[['patientunitstayid', 'observationday', 'value']].groupby(['patientunitstayid', 'observationday']).first()\n",
    "\n",
    "vitalsLastDf = vitalsDf.sort_values(['patientunitstayid', 'observationday', 'observationoffset'], ascending=False)[['patientunitstayid', 'observationday', 'value']].groupby(['patientunitstayid', 'observationday']).first()\n",
    "\n",
    "vitalsAggDf.columns = vitalsAggDf.columns.droplevel()\n",
    "\n",
    "vitalsAggDf = vitalsAggDf.reset_index()\n",
    "\n",
    "vitalsFirstDf = vitalsFirstDf.reset_index()\n",
    "vitalsFirstDf.columns = ['patientunitstayid', 'observationday', 'first']\n",
    "\n",
    "vitalsLastDf = vitalsLastDf.reset_index()\n",
    "vitalsLastDf.columns = ['patientunitstayid', 'observationday', 'last']\n",
    "\n",
    "vitalsFinalDf = vitalsAggDf.merge(vitalsFirstDf, on=['patientunitstayid', 'observationday']).merge(vitalsLastDf, on=['patientunitstayid', 'observationday'])\n",
    "\n",
    "vitalsFinalDf.to_csv(os.environ['EICU_EHR_PIPELINE_BASE'] + '''/data/eICU/vitals_systemic_systolic_agg.csv''', index=False)"
   ]
  },
  {
   "cell_type": "markdown",
   "metadata": {},
   "source": [
    "### SystemicDiastolic"
   ]
  },
  {
   "cell_type": "code",
   "execution_count": null,
   "metadata": {},
   "outputs": [],
   "source": [
    "import os\n",
    "import numpy as np\n",
    "import pandas as pd\n",
    "\n",
    "\n",
    "os.system(\n",
    "    'cd ' + os.environ['EICU_EHR_PIPELINE_BASE'] + '''/data/eICU;'''\n",
    "    +\n",
    "    '''echo \"vitalperiodicid,patientunitstayid,observationoffset,vitalname,value\" > vitals_systemic_diastolic.csv;'''\n",
    "    +\n",
    "    '''awk -F, 'NR>1 {print $1 \",\" $2 \",\" $3 \",sa02,\" $11}' vitalPeriodic.csv >> vitals_systemic_diastolic.csv;'''\n",
    "    )\n",
    "\n",
    "vitalsDf = pd.read_csv(os.environ['EICU_EHR_PIPELINE_BASE'] + '''/data/eICU/vitals_systemic_diastolic.csv''')\n",
    "\n",
    "vitalsDf['observationday'] = np.floor(vitalsDf.observationoffset/(60*24))\n",
    "\n",
    "vitalsAggDf = vitalsDf[['patientunitstayid', 'observationday', 'value']].groupby(['patientunitstayid', 'observationday'], as_index=False).agg(['mean', 'min', 'max', 'std'])\n",
    "\n",
    "vitalsFirstDf = vitalsDf.sort_values(['patientunitstayid', 'observationday', 'observationoffset'], ascending=True)[['patientunitstayid', 'observationday', 'value']].groupby(['patientunitstayid', 'observationday']).first()\n",
    "\n",
    "vitalsLastDf = vitalsDf.sort_values(['patientunitstayid', 'observationday', 'observationoffset'], ascending=False)[['patientunitstayid', 'observationday', 'value']].groupby(['patientunitstayid', 'observationday']).first()\n",
    "\n",
    "vitalsAggDf.columns = vitalsAggDf.columns.droplevel()\n",
    "\n",
    "vitalsAggDf = vitalsAggDf.reset_index()\n",
    "\n",
    "vitalsFirstDf = vitalsFirstDf.reset_index()\n",
    "vitalsFirstDf.columns = ['patientunitstayid', 'observationday', 'first']\n",
    "\n",
    "vitalsLastDf = vitalsLastDf.reset_index()\n",
    "vitalsLastDf.columns = ['patientunitstayid', 'observationday', 'last']\n",
    "\n",
    "vitalsFinalDf = vitalsAggDf.merge(vitalsFirstDf, on=['patientunitstayid', 'observationday']).merge(vitalsLastDf, on=['patientunitstayid', 'observationday'])\n",
    "\n",
    "vitalsFinalDf.to_csv(os.environ['EICU_EHR_PIPELINE_BASE'] + '''/data/eICU/vitals_systemic_diastolic_agg.csv''', index=False)"
   ]
  },
  {
   "cell_type": "markdown",
   "metadata": {},
   "source": [
    "### SystemicMean"
   ]
  },
  {
   "cell_type": "code",
   "execution_count": null,
   "metadata": {},
   "outputs": [],
   "source": [
    "import os\n",
    "import numpy as np\n",
    "import pandas as pd\n",
    "\n",
    "\n",
    "os.system(\n",
    "    'cd ' + os.environ['EICU_EHR_PIPELINE_BASE'] + '''/data/eICU;'''\n",
    "    +\n",
    "    '''echo \"vitalperiodicid,patientunitstayid,observationoffset,vitalname,value\" > vitals_systemic_mean.csv;'''\n",
    "    +\n",
    "    '''awk -F, 'NR>1 {print $1 \",\" $2 \",\" $3 \",sa02,\" $12}' vitalPeriodic.csv >> vitals_systemic_mean.csv;'''\n",
    "    )\n",
    "\n",
    "vitalsDf = pd.read_csv(os.environ['EICU_EHR_PIPELINE_BASE'] + '''/data/eICU/vitals_systemic_mean.csv''')\n",
    "\n",
    "vitalsDf['observationday'] = np.floor(vitalsDf.observationoffset/(60*24))\n",
    "\n",
    "vitalsAggDf = vitalsDf[['patientunitstayid', 'observationday', 'value']].groupby(['patientunitstayid', 'observationday'], as_index=False).agg(['mean', 'min', 'max', 'std'])\n",
    "\n",
    "vitalsFirstDf = vitalsDf.sort_values(['patientunitstayid', 'observationday', 'observationoffset'], ascending=True)[['patientunitstayid', 'observationday', 'value']].groupby(['patientunitstayid', 'observationday']).first()\n",
    "\n",
    "vitalsLastDf = vitalsDf.sort_values(['patientunitstayid', 'observationday', 'observationoffset'], ascending=False)[['patientunitstayid', 'observationday', 'value']].groupby(['patientunitstayid', 'observationday']).first()\n",
    "\n",
    "vitalsAggDf.columns = vitalsAggDf.columns.droplevel()\n",
    "\n",
    "vitalsAggDf = vitalsAggDf.reset_index()\n",
    "\n",
    "vitalsFirstDf = vitalsFirstDf.reset_index()\n",
    "vitalsFirstDf.columns = ['patientunitstayid', 'observationday', 'first']\n",
    "\n",
    "vitalsLastDf = vitalsLastDf.reset_index()\n",
    "vitalsLastDf.columns = ['patientunitstayid', 'observationday', 'last']\n",
    "\n",
    "vitalsFinalDf = vitalsAggDf.merge(vitalsFirstDf, on=['patientunitstayid', 'observationday']).merge(vitalsLastDf, on=['patientunitstayid', 'observationday'])\n",
    "\n",
    "vitalsFinalDf.to_csv(os.environ['EICU_EHR_PIPELINE_BASE'] + '''/data/eICU/vitals_systemic_mean_agg.csv''', index=False)"
   ]
  },
  {
   "cell_type": "markdown",
   "metadata": {},
   "source": [
    "## Read aggregated files"
   ]
  },
  {
   "cell_type": "markdown",
   "metadata": {},
   "source": [
    "### Read files"
   ]
  },
  {
   "cell_type": "code",
   "execution_count": 12,
   "metadata": {},
   "outputs": [],
   "source": [
    "import os\n",
    "import pandas as pd\n",
    "\n",
    "\n",
    "vitalsTemperature = pd.read_csv(os.environ['EICU_EHR_PIPELINE_BASE'] + '''/data/eICU/vitals_temperature_agg.csv''')\n",
    "vitalsTemperature.columns = [\"patientunitstayid\", \"observationday\", \"mean_temperature\", \"min_temperature\", \"max_temperature\", \"std_temperature\", \"first_temperature\", \"last_temperature\"]\n",
    "vitalsSao2 = pd.read_csv(os.environ['EICU_EHR_PIPELINE_BASE'] + '''/data/eICU/vitals_sao2_agg.csv''')\n",
    "vitalsSao2.columns = [\"patientunitstayid\", \"observationday\", \"mean_sao2\", \"min_sao2\", \"max_sao2\", \"std_sao2\", \"first_sao2\", \"last_sao2\"]\n",
    "vitalsHeartrate = pd.read_csv(os.environ['EICU_EHR_PIPELINE_BASE'] + '''/data/eICU/vitals_heartrate_agg.csv''')\n",
    "vitalsHeartrate.columns = [\"patientunitstayid\", \"observationday\", \"mean_heartrate\", \"min_heartrate\", \"max_heartrate\", \"std_heartrate\", \"first_heartrate\", \"last_heartrate\"]\n",
    "vitalsRespiration = pd.read_csv(os.environ['EICU_EHR_PIPELINE_BASE'] + '''/data/eICU/vitals_respiration_agg.csv''')\n",
    "vitalsRespiration.columns = [\"patientunitstayid\", \"observationday\", \"mean_respiration\", \"min_respiration\", \"max_respiration\", \"std_respiration\", \"first_respiration\", \"last_respiration\"]\n",
    "vitalsSystemicSystolic = pd.read_csv(os.environ['EICU_EHR_PIPELINE_BASE'] + '''/data/eICU/vitals_systemic_systolic_agg.csv''')\n",
    "vitalsSystemicSystolic.columns = [\"patientunitstayid\", \"observationday\", \"mean_systemic_systolic\", \"min_systemic_systolic\", \"max_systemic_systolic\", \"std_systemic_systolic\", \"first_systemic_systolic\", \"last_systemic_systolic\"]\n",
    "vitalsSystemicDiastolic = pd.read_csv(os.environ['EICU_EHR_PIPELINE_BASE'] + '''/data/eICU/vitals_systemic_diastolic_agg.csv''')\n",
    "vitalsSystemicDiastolic.columns = [\"patientunitstayid\", \"observationday\", \"mean_systemic_diastolic\", \"min_systemic_diastolic\", \"max_systemic_diastolic\", \"std_systemic_diastolic\", \"first_systemic_diastolic\", \"last_systemic_diastolic\"]\n",
    "vitalsSystemicMean = pd.read_csv(os.environ['EICU_EHR_PIPELINE_BASE'] + '''/data/eICU/vitals_systemic_mean_agg.csv''')\n",
    "vitalsSystemicMean.columns = [\"patientunitstayid\", \"observationday\", \"mean_systemic_mean\", \"min_systemic_mean\", \"max_systemic_mean\", \"std_systemic_mean\", \"first_systemic_mean\", \"last_systemic_mean\"]"
   ]
  },
  {
   "cell_type": "markdown",
   "metadata": {},
   "source": [
    "### Merge data"
   ]
  },
  {
   "cell_type": "code",
   "execution_count": 13,
   "metadata": {},
   "outputs": [
    {
     "data": {
      "text/html": [
       "<div>\n",
       "<style scoped>\n",
       "    .dataframe tbody tr th:only-of-type {\n",
       "        vertical-align: middle;\n",
       "    }\n",
       "\n",
       "    .dataframe tbody tr th {\n",
       "        vertical-align: top;\n",
       "    }\n",
       "\n",
       "    .dataframe thead th {\n",
       "        text-align: right;\n",
       "    }\n",
       "</style>\n",
       "<table border=\"1\" class=\"dataframe\">\n",
       "  <thead>\n",
       "    <tr style=\"text-align: right;\">\n",
       "      <th></th>\n",
       "      <th>patientunitstayid</th>\n",
       "      <th>observationday</th>\n",
       "      <th>mean_systemic_mean</th>\n",
       "      <th>min_systemic_mean</th>\n",
       "      <th>max_systemic_mean</th>\n",
       "      <th>std_systemic_mean</th>\n",
       "      <th>first_systemic_mean</th>\n",
       "      <th>last_systemic_mean</th>\n",
       "      <th>mean_systemic_diastolic</th>\n",
       "      <th>min_systemic_diastolic</th>\n",
       "      <th>...</th>\n",
       "      <th>max_sao2</th>\n",
       "      <th>std_sao2</th>\n",
       "      <th>first_sao2</th>\n",
       "      <th>last_sao2</th>\n",
       "      <th>mean_temperature</th>\n",
       "      <th>min_temperature</th>\n",
       "      <th>max_temperature</th>\n",
       "      <th>std_temperature</th>\n",
       "      <th>first_temperature</th>\n",
       "      <th>last_temperature</th>\n",
       "    </tr>\n",
       "  </thead>\n",
       "  <tbody>\n",
       "    <tr>\n",
       "      <th>0</th>\n",
       "      <td>141168</td>\n",
       "      <td>0.0</td>\n",
       "      <td>NaN</td>\n",
       "      <td>NaN</td>\n",
       "      <td>NaN</td>\n",
       "      <td>NaN</td>\n",
       "      <td>NaN</td>\n",
       "      <td>NaN</td>\n",
       "      <td>NaN</td>\n",
       "      <td>NaN</td>\n",
       "      <td>...</td>\n",
       "      <td>99.0</td>\n",
       "      <td>10.388993</td>\n",
       "      <td>93.0</td>\n",
       "      <td>93.0</td>\n",
       "      <td>NaN</td>\n",
       "      <td>NaN</td>\n",
       "      <td>NaN</td>\n",
       "      <td>NaN</td>\n",
       "      <td>NaN</td>\n",
       "      <td>NaN</td>\n",
       "    </tr>\n",
       "    <tr>\n",
       "      <th>1</th>\n",
       "      <td>141168</td>\n",
       "      <td>1.0</td>\n",
       "      <td>70.585366</td>\n",
       "      <td>28.0</td>\n",
       "      <td>159.0</td>\n",
       "      <td>23.523367</td>\n",
       "      <td>28.0</td>\n",
       "      <td>70.0</td>\n",
       "      <td>51.0</td>\n",
       "      <td>17.0</td>\n",
       "      <td>...</td>\n",
       "      <td>100.0</td>\n",
       "      <td>14.387726</td>\n",
       "      <td>94.0</td>\n",
       "      <td>97.0</td>\n",
       "      <td>NaN</td>\n",
       "      <td>NaN</td>\n",
       "      <td>NaN</td>\n",
       "      <td>NaN</td>\n",
       "      <td>NaN</td>\n",
       "      <td>NaN</td>\n",
       "    </tr>\n",
       "    <tr>\n",
       "      <th>2</th>\n",
       "      <td>141178</td>\n",
       "      <td>0.0</td>\n",
       "      <td>NaN</td>\n",
       "      <td>NaN</td>\n",
       "      <td>NaN</td>\n",
       "      <td>NaN</td>\n",
       "      <td>NaN</td>\n",
       "      <td>NaN</td>\n",
       "      <td>NaN</td>\n",
       "      <td>NaN</td>\n",
       "      <td>...</td>\n",
       "      <td>92.0</td>\n",
       "      <td>NaN</td>\n",
       "      <td>92.0</td>\n",
       "      <td>92.0</td>\n",
       "      <td>NaN</td>\n",
       "      <td>NaN</td>\n",
       "      <td>NaN</td>\n",
       "      <td>NaN</td>\n",
       "      <td>NaN</td>\n",
       "      <td>NaN</td>\n",
       "    </tr>\n",
       "    <tr>\n",
       "      <th>3</th>\n",
       "      <td>141179</td>\n",
       "      <td>0.0</td>\n",
       "      <td>NaN</td>\n",
       "      <td>NaN</td>\n",
       "      <td>NaN</td>\n",
       "      <td>NaN</td>\n",
       "      <td>NaN</td>\n",
       "      <td>NaN</td>\n",
       "      <td>NaN</td>\n",
       "      <td>NaN</td>\n",
       "      <td>...</td>\n",
       "      <td>100.0</td>\n",
       "      <td>1.539072</td>\n",
       "      <td>93.0</td>\n",
       "      <td>96.0</td>\n",
       "      <td>NaN</td>\n",
       "      <td>NaN</td>\n",
       "      <td>NaN</td>\n",
       "      <td>NaN</td>\n",
       "      <td>NaN</td>\n",
       "      <td>NaN</td>\n",
       "    </tr>\n",
       "    <tr>\n",
       "      <th>4</th>\n",
       "      <td>141179</td>\n",
       "      <td>1.0</td>\n",
       "      <td>NaN</td>\n",
       "      <td>NaN</td>\n",
       "      <td>NaN</td>\n",
       "      <td>NaN</td>\n",
       "      <td>NaN</td>\n",
       "      <td>NaN</td>\n",
       "      <td>NaN</td>\n",
       "      <td>NaN</td>\n",
       "      <td>...</td>\n",
       "      <td>96.0</td>\n",
       "      <td>NaN</td>\n",
       "      <td>96.0</td>\n",
       "      <td>96.0</td>\n",
       "      <td>NaN</td>\n",
       "      <td>NaN</td>\n",
       "      <td>NaN</td>\n",
       "      <td>NaN</td>\n",
       "      <td>NaN</td>\n",
       "      <td>NaN</td>\n",
       "    </tr>\n",
       "    <tr>\n",
       "      <th>...</th>\n",
       "      <td>...</td>\n",
       "      <td>...</td>\n",
       "      <td>...</td>\n",
       "      <td>...</td>\n",
       "      <td>...</td>\n",
       "      <td>...</td>\n",
       "      <td>...</td>\n",
       "      <td>...</td>\n",
       "      <td>...</td>\n",
       "      <td>...</td>\n",
       "      <td>...</td>\n",
       "      <td>...</td>\n",
       "      <td>...</td>\n",
       "      <td>...</td>\n",
       "      <td>...</td>\n",
       "      <td>...</td>\n",
       "      <td>...</td>\n",
       "      <td>...</td>\n",
       "      <td>...</td>\n",
       "      <td>...</td>\n",
       "      <td>...</td>\n",
       "    </tr>\n",
       "    <tr>\n",
       "      <th>623490</th>\n",
       "      <td>3353251</td>\n",
       "      <td>9.0</td>\n",
       "      <td>NaN</td>\n",
       "      <td>NaN</td>\n",
       "      <td>NaN</td>\n",
       "      <td>NaN</td>\n",
       "      <td>NaN</td>\n",
       "      <td>NaN</td>\n",
       "      <td>NaN</td>\n",
       "      <td>NaN</td>\n",
       "      <td>...</td>\n",
       "      <td>99.0</td>\n",
       "      <td>1.159588</td>\n",
       "      <td>97.0</td>\n",
       "      <td>92.0</td>\n",
       "      <td>NaN</td>\n",
       "      <td>NaN</td>\n",
       "      <td>NaN</td>\n",
       "      <td>NaN</td>\n",
       "      <td>NaN</td>\n",
       "      <td>NaN</td>\n",
       "    </tr>\n",
       "    <tr>\n",
       "      <th>623491</th>\n",
       "      <td>3353251</td>\n",
       "      <td>10.0</td>\n",
       "      <td>NaN</td>\n",
       "      <td>NaN</td>\n",
       "      <td>NaN</td>\n",
       "      <td>NaN</td>\n",
       "      <td>NaN</td>\n",
       "      <td>NaN</td>\n",
       "      <td>NaN</td>\n",
       "      <td>NaN</td>\n",
       "      <td>...</td>\n",
       "      <td>99.0</td>\n",
       "      <td>2.589867</td>\n",
       "      <td>97.0</td>\n",
       "      <td>98.0</td>\n",
       "      <td>NaN</td>\n",
       "      <td>NaN</td>\n",
       "      <td>NaN</td>\n",
       "      <td>NaN</td>\n",
       "      <td>NaN</td>\n",
       "      <td>NaN</td>\n",
       "    </tr>\n",
       "    <tr>\n",
       "      <th>623492</th>\n",
       "      <td>3353251</td>\n",
       "      <td>11.0</td>\n",
       "      <td>NaN</td>\n",
       "      <td>NaN</td>\n",
       "      <td>NaN</td>\n",
       "      <td>NaN</td>\n",
       "      <td>NaN</td>\n",
       "      <td>NaN</td>\n",
       "      <td>NaN</td>\n",
       "      <td>NaN</td>\n",
       "      <td>...</td>\n",
       "      <td>100.0</td>\n",
       "      <td>9.032632</td>\n",
       "      <td>99.0</td>\n",
       "      <td>96.0</td>\n",
       "      <td>NaN</td>\n",
       "      <td>NaN</td>\n",
       "      <td>NaN</td>\n",
       "      <td>NaN</td>\n",
       "      <td>NaN</td>\n",
       "      <td>NaN</td>\n",
       "    </tr>\n",
       "    <tr>\n",
       "      <th>623493</th>\n",
       "      <td>3353254</td>\n",
       "      <td>0.0</td>\n",
       "      <td>NaN</td>\n",
       "      <td>NaN</td>\n",
       "      <td>NaN</td>\n",
       "      <td>NaN</td>\n",
       "      <td>NaN</td>\n",
       "      <td>NaN</td>\n",
       "      <td>NaN</td>\n",
       "      <td>NaN</td>\n",
       "      <td>...</td>\n",
       "      <td>100.0</td>\n",
       "      <td>1.994938</td>\n",
       "      <td>95.0</td>\n",
       "      <td>98.0</td>\n",
       "      <td>NaN</td>\n",
       "      <td>NaN</td>\n",
       "      <td>NaN</td>\n",
       "      <td>NaN</td>\n",
       "      <td>NaN</td>\n",
       "      <td>NaN</td>\n",
       "    </tr>\n",
       "    <tr>\n",
       "      <th>623494</th>\n",
       "      <td>3353263</td>\n",
       "      <td>0.0</td>\n",
       "      <td>NaN</td>\n",
       "      <td>NaN</td>\n",
       "      <td>NaN</td>\n",
       "      <td>NaN</td>\n",
       "      <td>NaN</td>\n",
       "      <td>NaN</td>\n",
       "      <td>NaN</td>\n",
       "      <td>NaN</td>\n",
       "      <td>...</td>\n",
       "      <td>100.0</td>\n",
       "      <td>2.397129</td>\n",
       "      <td>100.0</td>\n",
       "      <td>96.0</td>\n",
       "      <td>NaN</td>\n",
       "      <td>NaN</td>\n",
       "      <td>NaN</td>\n",
       "      <td>NaN</td>\n",
       "      <td>NaN</td>\n",
       "      <td>NaN</td>\n",
       "    </tr>\n",
       "  </tbody>\n",
       "</table>\n",
       "<p>623495 rows × 44 columns</p>\n",
       "</div>"
      ],
      "text/plain": [
       "        patientunitstayid  observationday  mean_systemic_mean  \\\n",
       "0                  141168             0.0                 NaN   \n",
       "1                  141168             1.0           70.585366   \n",
       "2                  141178             0.0                 NaN   \n",
       "3                  141179             0.0                 NaN   \n",
       "4                  141179             1.0                 NaN   \n",
       "...                   ...             ...                 ...   \n",
       "623490            3353251             9.0                 NaN   \n",
       "623491            3353251            10.0                 NaN   \n",
       "623492            3353251            11.0                 NaN   \n",
       "623493            3353254             0.0                 NaN   \n",
       "623494            3353263             0.0                 NaN   \n",
       "\n",
       "        min_systemic_mean  max_systemic_mean  std_systemic_mean  \\\n",
       "0                     NaN                NaN                NaN   \n",
       "1                    28.0              159.0          23.523367   \n",
       "2                     NaN                NaN                NaN   \n",
       "3                     NaN                NaN                NaN   \n",
       "4                     NaN                NaN                NaN   \n",
       "...                   ...                ...                ...   \n",
       "623490                NaN                NaN                NaN   \n",
       "623491                NaN                NaN                NaN   \n",
       "623492                NaN                NaN                NaN   \n",
       "623493                NaN                NaN                NaN   \n",
       "623494                NaN                NaN                NaN   \n",
       "\n",
       "        first_systemic_mean  last_systemic_mean  mean_systemic_diastolic  \\\n",
       "0                       NaN                 NaN                      NaN   \n",
       "1                      28.0                70.0                     51.0   \n",
       "2                       NaN                 NaN                      NaN   \n",
       "3                       NaN                 NaN                      NaN   \n",
       "4                       NaN                 NaN                      NaN   \n",
       "...                     ...                 ...                      ...   \n",
       "623490                  NaN                 NaN                      NaN   \n",
       "623491                  NaN                 NaN                      NaN   \n",
       "623492                  NaN                 NaN                      NaN   \n",
       "623493                  NaN                 NaN                      NaN   \n",
       "623494                  NaN                 NaN                      NaN   \n",
       "\n",
       "        min_systemic_diastolic  ...  max_sao2   std_sao2  first_sao2  \\\n",
       "0                          NaN  ...      99.0  10.388993        93.0   \n",
       "1                         17.0  ...     100.0  14.387726        94.0   \n",
       "2                          NaN  ...      92.0        NaN        92.0   \n",
       "3                          NaN  ...     100.0   1.539072        93.0   \n",
       "4                          NaN  ...      96.0        NaN        96.0   \n",
       "...                        ...  ...       ...        ...         ...   \n",
       "623490                     NaN  ...      99.0   1.159588        97.0   \n",
       "623491                     NaN  ...      99.0   2.589867        97.0   \n",
       "623492                     NaN  ...     100.0   9.032632        99.0   \n",
       "623493                     NaN  ...     100.0   1.994938        95.0   \n",
       "623494                     NaN  ...     100.0   2.397129       100.0   \n",
       "\n",
       "        last_sao2  mean_temperature  min_temperature  max_temperature  \\\n",
       "0            93.0               NaN              NaN              NaN   \n",
       "1            97.0               NaN              NaN              NaN   \n",
       "2            92.0               NaN              NaN              NaN   \n",
       "3            96.0               NaN              NaN              NaN   \n",
       "4            96.0               NaN              NaN              NaN   \n",
       "...           ...               ...              ...              ...   \n",
       "623490       92.0               NaN              NaN              NaN   \n",
       "623491       98.0               NaN              NaN              NaN   \n",
       "623492       96.0               NaN              NaN              NaN   \n",
       "623493       98.0               NaN              NaN              NaN   \n",
       "623494       96.0               NaN              NaN              NaN   \n",
       "\n",
       "        std_temperature  first_temperature  last_temperature  \n",
       "0                   NaN                NaN               NaN  \n",
       "1                   NaN                NaN               NaN  \n",
       "2                   NaN                NaN               NaN  \n",
       "3                   NaN                NaN               NaN  \n",
       "4                   NaN                NaN               NaN  \n",
       "...                 ...                ...               ...  \n",
       "623490              NaN                NaN               NaN  \n",
       "623491              NaN                NaN               NaN  \n",
       "623492              NaN                NaN               NaN  \n",
       "623493              NaN                NaN               NaN  \n",
       "623494              NaN                NaN               NaN  \n",
       "\n",
       "[623495 rows x 44 columns]"
      ]
     },
     "execution_count": 13,
     "metadata": {},
     "output_type": "execute_result"
    }
   ],
   "source": [
    "vitalsDf = vitalsSystemicMean\\\n",
    "    .merge(vitalsSystemicDiastolic, on=['patientunitstayid', 'observationday'])\\\n",
    "    .merge(vitalsSystemicSystolic, on=['patientunitstayid', 'observationday'])\\\n",
    "    .merge(vitalsRespiration, on=['patientunitstayid', 'observationday'])\\\n",
    "    .merge(vitalsHeartrate, on=['patientunitstayid', 'observationday'])\\\n",
    "    .merge(vitalsSao2, on=['patientunitstayid', 'observationday'])\\\n",
    "    .merge(vitalsTemperature, on=['patientunitstayid', 'observationday'])\n",
    "vitalsDf"
   ]
  },
  {
   "cell_type": "markdown",
   "metadata": {},
   "source": [
    "### Save formatted files"
   ]
  },
  {
   "cell_type": "code",
   "execution_count": 14,
   "metadata": {},
   "outputs": [
    {
     "data": {
      "text/plain": [
       "Index(['patientunitstayid', 'observationday', 'mean_systemic_mean',\n",
       "       'min_systemic_mean', 'max_systemic_mean', 'std_systemic_mean',\n",
       "       'first_systemic_mean', 'last_systemic_mean', 'mean_systemic_diastolic',\n",
       "       'min_systemic_diastolic', 'max_systemic_diastolic',\n",
       "       'std_systemic_diastolic', 'first_systemic_diastolic',\n",
       "       'last_systemic_diastolic', 'mean_systemic_systolic',\n",
       "       'min_systemic_systolic', 'max_systemic_systolic',\n",
       "       'std_systemic_systolic', 'first_systemic_systolic',\n",
       "       'last_systemic_systolic', 'mean_respiration', 'min_respiration',\n",
       "       'max_respiration', 'std_respiration', 'first_respiration',\n",
       "       'last_respiration', 'mean_heartrate', 'min_heartrate', 'max_heartrate',\n",
       "       'std_heartrate', 'first_heartrate', 'last_heartrate', 'mean_sao2',\n",
       "       'min_sao2', 'max_sao2', 'std_sao2', 'first_sao2', 'last_sao2',\n",
       "       'mean_temperature', 'min_temperature', 'max_temperature',\n",
       "       'std_temperature', 'first_temperature', 'last_temperature'],\n",
       "      dtype='object')"
      ]
     },
     "execution_count": 14,
     "metadata": {},
     "output_type": "execute_result"
    }
   ],
   "source": [
    "vitalsDf.columns"
   ]
  },
  {
   "cell_type": "markdown",
   "metadata": {},
   "source": [
    "#### Mean per episode and date"
   ]
  },
  {
   "cell_type": "code",
   "execution_count": 23,
   "metadata": {},
   "outputs": [],
   "source": [
    "import os\n",
    "\n",
    "\n",
    "vitalsMeanDf = vitalsDf[['patientunitstayid', 'observationday', 'mean_systemic_mean', 'mean_systemic_diastolic', 'mean_systemic_systolic', 'mean_respiration', 'mean_heartrate', 'mean_sao2', 'mean_temperature']]\n",
    "vitalsMeanDf.columns = ['patientunitstayid', 'observationday', 'systemic_mean', 'systemic_diastolic', 'systemic_systolic', 'respiration', 'heartrate', 'sao2', 'temperature']\n",
    "vitalsMeanDf.to_csv(os.environ['EICU_EHR_PIPELINE_BASE'] + '''/data/extracts/vitals_avg_episode_date.csv''', index=False)"
   ]
  },
  {
   "cell_type": "markdown",
   "metadata": {},
   "source": [
    "#### Min per episode and date"
   ]
  },
  {
   "cell_type": "code",
   "execution_count": 18,
   "metadata": {},
   "outputs": [],
   "source": [
    "import os\n",
    "\n",
    "\n",
    "vitalsMinDf = vitalsDf[['patientunitstayid', 'observationday', 'min_systemic_mean', 'min_systemic_diastolic', 'min_systemic_systolic', 'min_respiration', 'min_heartrate', 'min_sao2', 'min_temperature']]\n",
    "vitalsMinDf.columns = ['patientunitstayid', 'observationday', 'systemic_mean', 'systemic_diastolic', 'systemic_systolic', 'respiration', 'heartrate', 'sao2', 'temperature']\n",
    "vitalsMinDf.to_csv(os.environ['EICU_EHR_PIPELINE_BASE'] + '''/data/extracts/vitals_min_episode_date.csv''', index=False)"
   ]
  },
  {
   "cell_type": "markdown",
   "metadata": {},
   "source": [
    "#### Max per episode and date"
   ]
  },
  {
   "cell_type": "code",
   "execution_count": 19,
   "metadata": {},
   "outputs": [],
   "source": [
    "import os\n",
    "\n",
    "\n",
    "vitalsMaxDf = vitalsDf[['patientunitstayid', 'observationday', 'max_systemic_mean', 'max_systemic_diastolic', 'max_systemic_systolic', 'max_respiration', 'max_heartrate', 'max_sao2', 'max_temperature']]\n",
    "vitalsMaxDf.columns = ['patientunitstayid', 'observationday', 'systemic_mean', 'systemic_diastolic', 'systemic_systolic', 'respiration', 'heartrate', 'sao2', 'temperature']\n",
    "vitalsMaxDf.to_csv(os.environ['EICU_EHR_PIPELINE_BASE'] + '''/data/extracts/vitals_max_episode_date.csv''', index=False)"
   ]
  },
  {
   "cell_type": "markdown",
   "metadata": {},
   "source": [
    "#### Stddev per episode and date"
   ]
  },
  {
   "cell_type": "code",
   "execution_count": 24,
   "metadata": {},
   "outputs": [],
   "source": [
    "import os\n",
    "\n",
    "\n",
    "vitalsStdDf = vitalsDf[['patientunitstayid', 'observationday', 'std_systemic_mean', 'std_systemic_diastolic', 'std_systemic_systolic', 'std_respiration', 'std_heartrate', 'std_sao2', 'std_temperature']]\n",
    "vitalsStdDf.columns = ['patientunitstayid', 'observationday', 'systemic_mean', 'systemic_diastolic', 'systemic_systolic', 'respiration', 'heartrate', 'sao2', 'temperature']\n",
    "vitalsStdDf.to_csv(os.environ['EICU_EHR_PIPELINE_BASE'] + '''/data/extracts/vitals_stddev_episode_date.csv''', index=False)"
   ]
  },
  {
   "cell_type": "markdown",
   "metadata": {},
   "source": [
    "#### First per episode and date"
   ]
  },
  {
   "cell_type": "code",
   "execution_count": 21,
   "metadata": {},
   "outputs": [],
   "source": [
    "import os\n",
    "\n",
    "\n",
    "vitalsFirstDf = vitalsDf[['patientunitstayid', 'observationday', 'first_systemic_mean', 'first_systemic_diastolic', 'first_systemic_systolic', 'first_respiration', 'first_heartrate', 'first_sao2', 'first_temperature']]\n",
    "vitalsFirstDf.columns = ['patientunitstayid', 'observationday', 'systemic_mean', 'systemic_diastolic', 'systemic_systolic', 'respiration', 'heartrate', 'sao2', 'temperature']\n",
    "vitalsFirstDf.to_csv(os.environ['EICU_EHR_PIPELINE_BASE'] + '''/data/extracts/vitals_first_episode_date.csv''', index=False)"
   ]
  },
  {
   "cell_type": "markdown",
   "metadata": {},
   "source": [
    "#### Last per episode and date"
   ]
  },
  {
   "cell_type": "code",
   "execution_count": 22,
   "metadata": {},
   "outputs": [],
   "source": [
    "import os\n",
    "\n",
    "\n",
    "vitalsLastDf = vitalsDf[['patientunitstayid', 'observationday', 'last_systemic_mean', 'last_systemic_diastolic', 'last_systemic_systolic', 'last_respiration', 'last_heartrate', 'last_sao2', 'last_temperature']]\n",
    "vitalsLastDf.columns = ['patientunitstayid', 'observationday', 'systemic_mean', 'systemic_diastolic', 'systemic_systolic', 'respiration', 'heartrate', 'sao2', 'temperature']\n",
    "vitalsLastDf.to_csv(os.environ['EICU_EHR_PIPELINE_BASE'] + '''/data/extracts/vitals_last_episode_date.csv''', index=False)"
   ]
  }
 ],
 "metadata": {
  "kernelspec": {
   "display_name": ".venv",
   "language": "python",
   "name": "python3"
  },
  "language_info": {
   "codemirror_mode": {
    "name": "ipython",
    "version": 3
   },
   "file_extension": ".py",
   "mimetype": "text/x-python",
   "name": "python",
   "nbconvert_exporter": "python",
   "pygments_lexer": "ipython3",
   "version": "3.8.10"
  }
 },
 "nbformat": 4,
 "nbformat_minor": 2
}
