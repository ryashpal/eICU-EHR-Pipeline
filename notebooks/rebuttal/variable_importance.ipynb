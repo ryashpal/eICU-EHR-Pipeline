{
 "cells": [
  {
   "cell_type": "markdown",
   "metadata": {},
   "source": [
    "# Variable Importance"
   ]
  },
  {
   "cell_type": "markdown",
   "metadata": {},
   "source": [
    "## Table"
   ]
  },
  {
   "cell_type": "code",
   "execution_count": 4,
   "metadata": {},
   "outputs": [
    {
     "name": "stdout",
     "output_type": "stream",
     "text": [
      "2024-06-17 21:17:58,843 - EHR-ML - INFO - Parsing command line arguments\n",
      "2024-06-17 21:17:58,844 - EHR-ML - INFO - args.model_file: /home/yram0006/phd/chapter_2/workspace/eICU-EHR-Pipeline/data/experiments/testing/test.pkl\n",
      "2024-06-17 21:17:58,844 - EHR-ML - INFO - args.intermediate: True\n",
      "2024-06-17 21:17:58,844 - EHR-ML - INFO - args.plot: False\n"
     ]
    },
    {
     "name": "stderr",
     "output_type": "stream",
     "text": [
      "Traceback (most recent call last):\n",
      "  File \"/usr/lib/python3.8/runpy.py\", line 194, in _run_module_as_main\n",
      "    return _run_code(code, main_globals, None,\n",
      "  File \"/usr/lib/python3.8/runpy.py\", line 87, in _run_code\n",
      "    exec(code, run_globals)\n",
      "  File \"/superbugai-data/yash/chapter_2/workspace/EHR-ML/ehrml/ensemble/FeatureImportance.py\", line 116, in <module>\n",
      "    log.info('args.features: ' + str(args.features[0]))\n",
      "TypeError: 'int' object is not subscriptable\n"
     ]
    },
    {
     "data": {
      "text/plain": [
       "256"
      ]
     },
     "execution_count": 4,
     "metadata": {},
     "output_type": "execute_result"
    }
   ],
   "source": [
    "import os\n",
    "from pathlib import Path\n",
    "\n",
    "\n",
    "Path(os.environ['EICU_EHR_PIPELINE_BASE'] + '/data/experiments/rebuttal').mkdir(parents=True, exist_ok=True)\n",
    "\n",
    "os.system(\n",
    "    'cd ' + os.environ['EHR_ML_BASE'] + ';'\n",
    "    +\n",
    "    '''.venv/bin/python -m ehrml.ensemble.FeatureImportance ''' + os.environ['EICU_EHR_PIPELINE_BASE'] + '''/data/experiments/testing/test.pkl -i -sp ''' + os.environ['EICU_EHR_PIPELINE_BASE'] + '''/data/experiments/rebuttal'''\n",
    ")\n"
   ]
  },
  {
   "cell_type": "markdown",
   "metadata": {},
   "source": [
    "## Top 20 plot"
   ]
  },
  {
   "cell_type": "code",
   "execution_count": 13,
   "metadata": {},
   "outputs": [
    {
     "name": "stdout",
     "output_type": "stream",
     "text": [
      "2024-06-17 21:30:15,268 - EHR-ML - INFO - Parsing command line arguments\n",
      "2024-06-17 21:30:15,269 - EHR-ML - INFO - args.model_file: /home/yram0006/phd/chapter_2/workspace/eICU-EHR-Pipeline/data/experiments/testing/test.pkl\n",
      "2024-06-17 21:30:15,269 - EHR-ML - INFO - args.intermediate: False\n",
      "2024-06-17 21:30:15,269 - EHR-ML - INFO - args.plot: True\n",
      "2024-06-17 21:30:15,269 - EHR-ML - INFO - args.features: 15\n",
      "2024-06-17 21:30:15,269 - EHR-ML - INFO - args.save_path: /home/yram0006/phd/chapter_2/workspace/eICU-EHR-Pipeline/data/experiments/rebuttal\n",
      "2024-06-17 21:30:16,067 - EHR-ML - INFO - Saving to path: /home/yram0006/phd/chapter_2/workspace/eICU-EHR-Pipeline/data/experiments/rebuttal\n",
      "2024-06-17 21:30:16,067 - EHR-ML - INFO - Saving feature importance scores\n",
      "2024-06-17 21:30:16,071 - EHR-ML - INFO - Plotting feature importance scores\n"
     ]
    },
    {
     "name": "stderr",
     "output_type": "stream",
     "text": [
      "Traceback (most recent call last):\n",
      "  File \"/usr/lib/python3.8/runpy.py\", line 194, in _run_module_as_main\n",
      "    return _run_code(code, main_globals, None,\n",
      "  File \"/usr/lib/python3.8/runpy.py\", line 87, in _run_code\n",
      "    exec(code, run_globals)\n",
      "  File \"/superbugai-data/yash/chapter_2/workspace/EHR-ML/ehrml/ensemble/FeatureImportance.py\", line 119, in <module>\n",
      "    run(\n",
      "  File \"/superbugai-data/yash/chapter_2/workspace/EHR-ML/ehrml/ensemble/FeatureImportance.py\", line 74, in run\n",
      "    plt.barh(y=plotDf.Feature_Name, width=plotDf.Feature_Importance)\n",
      "  File \"/superbugai-data/yash/chapter_2/workspace/EHR-ML/.venv/lib/python3.8/site-packages/matplotlib/pyplot.py\", line 2457, in barh\n",
      "    return gca().barh(\n",
      "  File \"/superbugai-data/yash/chapter_2/workspace/EHR-ML/.venv/lib/python3.8/site-packages/matplotlib/pyplot.py\", line 2309, in gca\n",
      "    return gcf().gca()\n",
      "  File \"/superbugai-data/yash/chapter_2/workspace/EHR-ML/.venv/lib/python3.8/site-packages/matplotlib/pyplot.py\", line 906, in gcf\n",
      "    return figure()\n",
      "  File \"/superbugai-data/yash/chapter_2/workspace/EHR-ML/.venv/lib/python3.8/site-packages/matplotlib/_api/deprecation.py\", line 454, in wrapper\n",
      "    return func(*args, **kwargs)\n",
      "  File \"/superbugai-data/yash/chapter_2/workspace/EHR-ML/.venv/lib/python3.8/site-packages/matplotlib/pyplot.py\", line 840, in figure\n",
      "    manager = new_figure_manager(\n",
      "  File \"/superbugai-data/yash/chapter_2/workspace/EHR-ML/.venv/lib/python3.8/site-packages/matplotlib/pyplot.py\", line 383, in new_figure_manager\n",
      "    _warn_if_gui_out_of_main_thread()\n",
      "  File \"/superbugai-data/yash/chapter_2/workspace/EHR-ML/.venv/lib/python3.8/site-packages/matplotlib/pyplot.py\", line 361, in _warn_if_gui_out_of_main_thread\n",
      "    if _get_required_interactive_framework(_get_backend_mod()):\n",
      "  File \"/superbugai-data/yash/chapter_2/workspace/EHR-ML/.venv/lib/python3.8/site-packages/matplotlib/pyplot.py\", line 208, in _get_backend_mod\n",
      "    switch_backend(rcParams._get(\"backend\"))\n",
      "  File \"/superbugai-data/yash/chapter_2/workspace/EHR-ML/.venv/lib/python3.8/site-packages/matplotlib/pyplot.py\", line 271, in switch_backend\n",
      "    backend_mod = importlib.import_module(\n",
      "  File \"/usr/lib/python3.8/importlib/__init__.py\", line 127, in import_module\n",
      "    return _bootstrap._gcd_import(name[level:], package, level)\n",
      "  File \"<frozen importlib._bootstrap>\", line 1014, in _gcd_import\n",
      "  File \"<frozen importlib._bootstrap>\", line 991, in _find_and_load\n",
      "  File \"<frozen importlib._bootstrap>\", line 961, in _find_and_load_unlocked\n",
      "  File \"<frozen importlib._bootstrap>\", line 219, in _call_with_frames_removed\n",
      "  File \"<frozen importlib._bootstrap>\", line 1014, in _gcd_import\n",
      "  File \"<frozen importlib._bootstrap>\", line 991, in _find_and_load\n",
      "  File \"<frozen importlib._bootstrap>\", line 973, in _find_and_load_unlocked\n",
      "ModuleNotFoundError: No module named 'matplotlib_inline'\n"
     ]
    },
    {
     "data": {
      "text/plain": [
       "256"
      ]
     },
     "execution_count": 13,
     "metadata": {},
     "output_type": "execute_result"
    }
   ],
   "source": [
    "import os\n",
    "from pathlib import Path\n",
    "\n",
    "\n",
    "Path(os.environ['EICU_EHR_PIPELINE_BASE'] + '/data/experiments/rebuttal').mkdir(parents=True, exist_ok=True)\n",
    "\n",
    "os.system(\n",
    "    'cd ' + os.environ['EHR_ML_BASE'] + ';'\n",
    "    +\n",
    "    '''.venv/bin/python -m ehrml.ensemble.FeatureImportance ''' + os.environ['EICU_EHR_PIPELINE_BASE'] + '''/data/experiments/testing/test.pkl -p -f 15 -sp ''' + os.environ['EICU_EHR_PIPELINE_BASE'] + '''/data/experiments/rebuttal'''\n",
    ")\n"
   ]
  }
 ],
 "metadata": {
  "kernelspec": {
   "display_name": ".venv",
   "language": "python",
   "name": "python3"
  },
  "language_info": {
   "codemirror_mode": {
    "name": "ipython",
    "version": 3
   },
   "file_extension": ".py",
   "mimetype": "text/x-python",
   "name": "python",
   "nbconvert_exporter": "python",
   "pygments_lexer": "ipython3",
   "version": "3.8.10"
  }
 },
 "nbformat": 4,
 "nbformat_minor": 2
}
