{
 "cells": [
  {
   "cell_type": "markdown",
   "metadata": {},
   "source": [
    "# Data Exploration Plots after extracting the data"
   ]
  },
  {
   "cell_type": "markdown",
   "metadata": {},
   "source": [
    "## Vitals"
   ]
  },
  {
   "cell_type": "markdown",
   "metadata": {},
   "source": [
    "### avg"
   ]
  },
  {
   "cell_type": "code",
   "execution_count": 8,
   "metadata": {},
   "outputs": [
    {
     "name": "stdout",
     "output_type": "stream",
     "text": [
      "2023-11-09 12:05:45,086 - EHR-QC - INFO - Parsing command line arguments\n",
      "2023-11-09 12:05:45,087 - EHR-QC - INFO - args.source_path: /home/yram0006/phd/chapter_2/workspace/eICU-EHR-Pipeline/data/extracts/vitals_avg_episode_date.csv\n",
      "2023-11-09 12:05:45,087 - EHR-QC - INFO - args.save_path: /home/yram0006/phd/chapter_2/workspace/eICU-EHR-Pipeline/data/plots/explore/vitals_avg.html\n",
      "2023-11-09 12:05:45,087 - EHR-QC - INFO - args.columns_list: ['systemic_mean', 'systemic_diastolic', 'systemic_systolic', 'respiration', 'heartrate', 'sao2', 'temperature']\n",
      "2023-11-09 12:05:45,543 - EHR-QC - INFO - Generating the exploration report\n",
      "2023-11-09 12:05:45,544 - EHR-QC - INFO - Columns: systemic_mean\n",
      "2023-11-09 12:05:46,954 - EHR-QC - INFO - Columns: systemic_diastolic\n",
      "2023-11-09 12:05:48,055 - EHR-QC - INFO - Columns: systemic_systolic\n",
      "2023-11-09 12:05:49,153 - EHR-QC - INFO - Columns: respiration\n",
      "2023-11-09 12:05:51,337 - EHR-QC - INFO - Columns: heartrate\n",
      "2023-11-09 12:05:53,850 - EHR-QC - INFO - Columns: sao2\n",
      "2023-11-09 12:05:56,201 - EHR-QC - INFO - Columns: temperature\n",
      "2023-11-09 12:05:57,205 - EHR-QC - INFO - Saving the exploration report!!\n",
      "2023-11-09 12:05:57,206 - EHR-QC - INFO - Done!!\n"
     ]
    },
    {
     "data": {
      "text/plain": [
       "0"
      ]
     },
     "execution_count": 8,
     "metadata": {},
     "output_type": "execute_result"
    }
   ],
   "source": [
    "import os\n",
    "\n",
    "\n",
    "os.system(\n",
    "    'cd ' + os.environ['EHR_QC_PREPROCESS_BASE'] + ';'\n",
    "    +\n",
    "    '''.venv/bin/python -m ehrqc.plot.ExplorationGraphs ''' + os.environ['EICU_EHR_PIPELINE_BASE'] + '''/data/extracts/vitals_avg_episode_date.csv ''' + os.environ['EICU_EHR_PIPELINE_BASE'] + '''/data/plots/explore/vitals_avg.html -c \"systemic_mean\" \"systemic_diastolic\" \"systemic_systolic\" \"respiration\" \"heartrate\" \"sao2\" \"temperature\"'''\n",
    "    )\n"
   ]
  },
  {
   "cell_type": "markdown",
   "metadata": {},
   "source": [
    "### min"
   ]
  },
  {
   "cell_type": "code",
   "execution_count": 9,
   "metadata": {},
   "outputs": [
    {
     "name": "stdout",
     "output_type": "stream",
     "text": [
      "2023-11-09 12:07:02,399 - EHR-QC - INFO - Parsing command line arguments\n",
      "2023-11-09 12:07:02,400 - EHR-QC - INFO - args.source_path: /home/yram0006/phd/chapter_2/workspace/eICU-EHR-Pipeline/data/extracts/vitals_min_episode_date.csv\n",
      "2023-11-09 12:07:02,400 - EHR-QC - INFO - args.save_path: /home/yram0006/phd/chapter_2/workspace/eICU-EHR-Pipeline/data/plots/explore/vitals_min.html\n",
      "2023-11-09 12:07:02,400 - EHR-QC - INFO - args.columns_list: ['systemic_mean', 'systemic_diastolic', 'systemic_systolic', 'respiration', 'heartrate', 'sao2', 'temperature']\n",
      "2023-11-09 12:07:02,643 - EHR-QC - INFO - Generating the exploration report\n",
      "2023-11-09 12:07:02,644 - EHR-QC - INFO - Columns: systemic_mean\n",
      "2023-11-09 12:07:03,961 - EHR-QC - INFO - Columns: systemic_diastolic\n",
      "2023-11-09 12:07:05,061 - EHR-QC - INFO - Columns: systemic_systolic\n",
      "2023-11-09 12:07:06,162 - EHR-QC - INFO - Columns: respiration\n",
      "2023-11-09 12:07:08,314 - EHR-QC - INFO - Columns: heartrate\n",
      "2023-11-09 12:07:10,674 - EHR-QC - INFO - Columns: sao2\n",
      "2023-11-09 12:07:13,114 - EHR-QC - INFO - Columns: temperature\n",
      "2023-11-09 12:07:14,147 - EHR-QC - INFO - Saving the exploration report!!\n",
      "2023-11-09 12:07:14,149 - EHR-QC - INFO - Done!!\n"
     ]
    },
    {
     "data": {
      "text/plain": [
       "0"
      ]
     },
     "execution_count": 9,
     "metadata": {},
     "output_type": "execute_result"
    }
   ],
   "source": [
    "import os\n",
    "\n",
    "\n",
    "os.system(\n",
    "    'cd ' + os.environ['EHR_QC_PREPROCESS_BASE'] + ';'\n",
    "    +\n",
    "    '''.venv/bin/python -m ehrqc.plot.ExplorationGraphs ''' + os.environ['EICU_EHR_PIPELINE_BASE'] + '''/data/extracts/vitals_min_episode_date.csv ''' + os.environ['EICU_EHR_PIPELINE_BASE'] + '''/data/plots/explore/vitals_min.html -c \"systemic_mean\" \"systemic_diastolic\" \"systemic_systolic\" \"respiration\" \"heartrate\" \"sao2\" \"temperature\"'''\n",
    "    )\n"
   ]
  },
  {
   "cell_type": "markdown",
   "metadata": {},
   "source": [
    "### max"
   ]
  },
  {
   "cell_type": "code",
   "execution_count": 10,
   "metadata": {},
   "outputs": [
    {
     "name": "stdout",
     "output_type": "stream",
     "text": [
      "2023-11-09 12:08:01,487 - EHR-QC - INFO - Parsing command line arguments\n",
      "2023-11-09 12:08:01,488 - EHR-QC - INFO - args.source_path: /home/yram0006/phd/chapter_2/workspace/eICU-EHR-Pipeline/data/extracts/vitals_max_episode_date.csv\n",
      "2023-11-09 12:08:01,488 - EHR-QC - INFO - args.save_path: /home/yram0006/phd/chapter_2/workspace/eICU-EHR-Pipeline/data/plots/explore/vitals_max.html\n",
      "2023-11-09 12:08:01,488 - EHR-QC - INFO - args.columns_list: ['systemic_mean', 'systemic_diastolic', 'systemic_systolic', 'respiration', 'heartrate', 'sao2', 'temperature']\n",
      "2023-11-09 12:08:01,760 - EHR-QC - INFO - Generating the exploration report\n",
      "2023-11-09 12:08:01,760 - EHR-QC - INFO - Columns: systemic_mean\n",
      "2023-11-09 12:08:03,110 - EHR-QC - INFO - Columns: systemic_diastolic\n",
      "2023-11-09 12:08:04,251 - EHR-QC - INFO - Columns: systemic_systolic\n",
      "2023-11-09 12:08:05,337 - EHR-QC - INFO - Columns: respiration\n",
      "2023-11-09 12:08:07,508 - EHR-QC - INFO - Columns: heartrate\n",
      "2023-11-09 12:08:09,890 - EHR-QC - INFO - Columns: sao2\n",
      "2023-11-09 12:08:12,266 - EHR-QC - INFO - Columns: temperature\n",
      "2023-11-09 12:08:13,223 - EHR-QC - INFO - Saving the exploration report!!\n",
      "2023-11-09 12:08:13,225 - EHR-QC - INFO - Done!!\n"
     ]
    },
    {
     "data": {
      "text/plain": [
       "0"
      ]
     },
     "execution_count": 10,
     "metadata": {},
     "output_type": "execute_result"
    }
   ],
   "source": [
    "import os\n",
    "\n",
    "\n",
    "os.system(\n",
    "    'cd ' + os.environ['EHR_QC_PREPROCESS_BASE'] + ';'\n",
    "    +\n",
    "    '''.venv/bin/python -m ehrqc.plot.ExplorationGraphs ''' + os.environ['EICU_EHR_PIPELINE_BASE'] + '''/data/extracts/vitals_max_episode_date.csv ''' + os.environ['EICU_EHR_PIPELINE_BASE'] + '''/data/plots/explore/vitals_max.html -c \"systemic_mean\" \"systemic_diastolic\" \"systemic_systolic\" \"respiration\" \"heartrate\" \"sao2\" \"temperature\"'''\n",
    "    )\n"
   ]
  },
  {
   "cell_type": "markdown",
   "metadata": {},
   "source": [
    "### std"
   ]
  },
  {
   "cell_type": "code",
   "execution_count": 12,
   "metadata": {},
   "outputs": [
    {
     "name": "stdout",
     "output_type": "stream",
     "text": [
      "2023-11-09 12:10:27,520 - EHR-QC - INFO - Parsing command line arguments\n",
      "2023-11-09 12:10:27,521 - EHR-QC - INFO - args.source_path: /home/yram0006/phd/chapter_2/workspace/eICU-EHR-Pipeline/data/extracts/vitals_std_episode_date.csv\n",
      "2023-11-09 12:10:27,521 - EHR-QC - INFO - args.save_path: /home/yram0006/phd/chapter_2/workspace/eICU-EHR-Pipeline/data/plots/explore/vitals_std.html\n",
      "2023-11-09 12:10:27,521 - EHR-QC - INFO - args.columns_list: ['systemic_mean', 'systemic_diastolic', 'systemic_systolic', 'respiration', 'heartrate', 'sao2', 'temperature']\n",
      "2023-11-09 12:10:27,950 - EHR-QC - INFO - Generating the exploration report\n",
      "2023-11-09 12:10:27,950 - EHR-QC - INFO - Columns: systemic_mean\n",
      "2023-11-09 12:10:29,297 - EHR-QC - INFO - Columns: systemic_diastolic\n",
      "2023-11-09 12:10:30,444 - EHR-QC - INFO - Columns: systemic_systolic\n",
      "2023-11-09 12:10:31,569 - EHR-QC - INFO - Columns: respiration\n",
      "2023-11-09 12:10:33,833 - EHR-QC - INFO - Columns: heartrate\n",
      "2023-11-09 12:10:36,241 - EHR-QC - INFO - Columns: sao2\n",
      "2023-11-09 12:10:38,671 - EHR-QC - INFO - Columns: temperature\n",
      "2023-11-09 12:10:39,602 - EHR-QC - INFO - Saving the exploration report!!\n",
      "2023-11-09 12:10:39,604 - EHR-QC - INFO - Done!!\n"
     ]
    },
    {
     "data": {
      "text/plain": [
       "0"
      ]
     },
     "execution_count": 12,
     "metadata": {},
     "output_type": "execute_result"
    }
   ],
   "source": [
    "import os\n",
    "\n",
    "\n",
    "os.system(\n",
    "    'cd ' + os.environ['EHR_QC_PREPROCESS_BASE'] + ';'\n",
    "    +\n",
    "    '''.venv/bin/python -m ehrqc.plot.ExplorationGraphs ''' + os.environ['EICU_EHR_PIPELINE_BASE'] + '''/data/extracts/vitals_std_episode_date.csv ''' + os.environ['EICU_EHR_PIPELINE_BASE'] + '''/data/plots/explore/vitals_std.html -c \"systemic_mean\" \"systemic_diastolic\" \"systemic_systolic\" \"respiration\" \"heartrate\" \"sao2\" \"temperature\"'''\n",
    "    )\n"
   ]
  },
  {
   "cell_type": "markdown",
   "metadata": {},
   "source": [
    "### first"
   ]
  },
  {
   "cell_type": "code",
   "execution_count": 13,
   "metadata": {},
   "outputs": [
    {
     "name": "stdout",
     "output_type": "stream",
     "text": [
      "2023-11-09 12:11:18,079 - EHR-QC - INFO - Parsing command line arguments\n",
      "2023-11-09 12:11:18,080 - EHR-QC - INFO - args.source_path: /home/yram0006/phd/chapter_2/workspace/eICU-EHR-Pipeline/data/extracts/vitals_first_episode_date.csv\n",
      "2023-11-09 12:11:18,080 - EHR-QC - INFO - args.save_path: /home/yram0006/phd/chapter_2/workspace/eICU-EHR-Pipeline/data/plots/explore/vitals_first.html\n",
      "2023-11-09 12:11:18,080 - EHR-QC - INFO - args.columns_list: ['systemic_mean', 'systemic_diastolic', 'systemic_systolic', 'respiration', 'heartrate', 'sao2', 'temperature']\n",
      "2023-11-09 12:11:18,347 - EHR-QC - INFO - Generating the exploration report\n",
      "2023-11-09 12:11:18,348 - EHR-QC - INFO - Columns: systemic_mean\n",
      "2023-11-09 12:11:19,728 - EHR-QC - INFO - Columns: systemic_diastolic\n",
      "2023-11-09 12:11:20,882 - EHR-QC - INFO - Columns: systemic_systolic\n",
      "2023-11-09 12:11:22,035 - EHR-QC - INFO - Columns: respiration\n",
      "2023-11-09 12:11:24,322 - EHR-QC - INFO - Columns: heartrate\n",
      "2023-11-09 12:11:26,861 - EHR-QC - INFO - Columns: sao2\n",
      "2023-11-09 12:11:29,265 - EHR-QC - INFO - Columns: temperature\n",
      "2023-11-09 12:11:30,288 - EHR-QC - INFO - Saving the exploration report!!\n",
      "2023-11-09 12:11:30,290 - EHR-QC - INFO - Done!!\n"
     ]
    },
    {
     "data": {
      "text/plain": [
       "0"
      ]
     },
     "execution_count": 13,
     "metadata": {},
     "output_type": "execute_result"
    }
   ],
   "source": [
    "import os\n",
    "\n",
    "\n",
    "os.system(\n",
    "    'cd ' + os.environ['EHR_QC_PREPROCESS_BASE'] + ';'\n",
    "    +\n",
    "    '''.venv/bin/python -m ehrqc.plot.ExplorationGraphs ''' + os.environ['EICU_EHR_PIPELINE_BASE'] + '''/data/extracts/vitals_first_episode_date.csv ''' + os.environ['EICU_EHR_PIPELINE_BASE'] + '''/data/plots/explore/vitals_first.html -c \"systemic_mean\" \"systemic_diastolic\" \"systemic_systolic\" \"respiration\" \"heartrate\" \"sao2\" \"temperature\"'''\n",
    "    )\n"
   ]
  },
  {
   "cell_type": "markdown",
   "metadata": {},
   "source": [
    "### last"
   ]
  },
  {
   "cell_type": "code",
   "execution_count": 14,
   "metadata": {},
   "outputs": [
    {
     "name": "stdout",
     "output_type": "stream",
     "text": [
      "2023-11-09 12:11:53,005 - EHR-QC - INFO - Parsing command line arguments\n",
      "2023-11-09 12:11:53,006 - EHR-QC - INFO - args.source_path: /home/yram0006/phd/chapter_2/workspace/eICU-EHR-Pipeline/data/extracts/vitals_last_episode_date.csv\n",
      "2023-11-09 12:11:53,006 - EHR-QC - INFO - args.save_path: /home/yram0006/phd/chapter_2/workspace/eICU-EHR-Pipeline/data/plots/explore/vitals_last.html\n",
      "2023-11-09 12:11:53,006 - EHR-QC - INFO - args.columns_list: ['systemic_mean', 'systemic_diastolic', 'systemic_systolic', 'respiration', 'heartrate', 'sao2', 'temperature']\n",
      "2023-11-09 12:11:53,259 - EHR-QC - INFO - Generating the exploration report\n",
      "2023-11-09 12:11:53,259 - EHR-QC - INFO - Columns: systemic_mean\n",
      "2023-11-09 12:11:54,603 - EHR-QC - INFO - Columns: systemic_diastolic\n",
      "2023-11-09 12:11:55,767 - EHR-QC - INFO - Columns: systemic_systolic\n",
      "2023-11-09 12:11:56,879 - EHR-QC - INFO - Columns: respiration\n",
      "2023-11-09 12:11:59,063 - EHR-QC - INFO - Columns: heartrate\n",
      "2023-11-09 12:12:01,458 - EHR-QC - INFO - Columns: sao2\n",
      "2023-11-09 12:12:03,730 - EHR-QC - INFO - Columns: temperature\n",
      "2023-11-09 12:12:04,729 - EHR-QC - INFO - Saving the exploration report!!\n",
      "2023-11-09 12:12:04,731 - EHR-QC - INFO - Done!!\n"
     ]
    },
    {
     "data": {
      "text/plain": [
       "0"
      ]
     },
     "execution_count": 14,
     "metadata": {},
     "output_type": "execute_result"
    }
   ],
   "source": [
    "import os\n",
    "\n",
    "\n",
    "os.system(\n",
    "    'cd ' + os.environ['EHR_QC_PREPROCESS_BASE'] + ';'\n",
    "    +\n",
    "    '''.venv/bin/python -m ehrqc.plot.ExplorationGraphs ''' + os.environ['EICU_EHR_PIPELINE_BASE'] + '''/data/extracts/vitals_last_episode_date.csv ''' + os.environ['EICU_EHR_PIPELINE_BASE'] + '''/data/plots/explore/vitals_last.html -c \"systemic_mean\" \"systemic_diastolic\" \"systemic_systolic\" \"respiration\" \"heartrate\" \"sao2\" \"temperature\"'''\n",
    "    )\n"
   ]
  },
  {
   "cell_type": "markdown",
   "metadata": {},
   "source": [
    "## Labs"
   ]
  },
  {
   "cell_type": "markdown",
   "metadata": {},
   "source": [
    "### avg"
   ]
  },
  {
   "cell_type": "code",
   "execution_count": 15,
   "metadata": {},
   "outputs": [
    {
     "name": "stdout",
     "output_type": "stream",
     "text": [
      "2023-11-09 12:16:24,309 - EHR-QC - INFO - Parsing command line arguments\n",
      "2023-11-09 12:16:24,310 - EHR-QC - INFO - args.source_path: /home/yram0006/phd/chapter_2/workspace/eICU-EHR-Pipeline/data/extracts/labs_avg_episode_date.csv\n",
      "2023-11-09 12:16:24,310 - EHR-QC - INFO - args.save_path: /home/yram0006/phd/chapter_2/workspace/eICU-EHR-Pipeline/data/plots/explore/labs_avg.html\n",
      "2023-11-09 12:16:24,310 - EHR-QC - INFO - args.columns_list: ['Sodium level', 'Blood urea nitrogen', 'Creatinine level', 'Potassium level', 'Chloride', 'Hematocrit', 'Haemoglobin estimation', 'Platelet count', 'Red blood cell count', 'Calcium level', 'MCV - Mean corpuscular volume', 'MCHC - Mean corpuscular haemoglobin concentration', 'Albumin', 'MCH - Mean corpuscular haemoglobin', 'Serum alkaline phosphatase level', 'Aspartate aminotransferase measurement', 'Alanine aminotransferase', 'Total bilirubin level', 'White blood cell count', 'Red blood cell distribution width', 'Total protein measurement', 'Glucose level', 'Bicarbonate level', 'Anion gap', 'Lactate', 'Lymph', 'Infectious mononucleosis test']\n",
      "2023-11-09 12:16:24,510 - EHR-QC - INFO - Generating the exploration report\n",
      "2023-11-09 12:16:24,510 - EHR-QC - INFO - Columns: Sodium level\n",
      "2023-11-09 12:16:25,212 - EHR-QC - INFO - Columns: Blood urea nitrogen\n",
      "2023-11-09 12:16:25,687 - EHR-QC - INFO - Columns: Creatinine level\n",
      "2023-11-09 12:16:26,160 - EHR-QC - INFO - Columns: Potassium level\n",
      "2023-11-09 12:16:26,643 - EHR-QC - INFO - Columns: Chloride\n",
      "2023-11-09 12:16:27,146 - EHR-QC - INFO - Columns: Hematocrit\n",
      "2023-11-09 12:16:27,637 - EHR-QC - INFO - Columns: Haemoglobin estimation\n",
      "2023-11-09 12:16:28,184 - EHR-QC - INFO - Columns: Platelet count\n",
      "2023-11-09 12:16:28,655 - EHR-QC - INFO - Columns: Red blood cell count\n",
      "2023-11-09 12:16:29,123 - EHR-QC - INFO - Columns: Calcium level\n",
      "2023-11-09 12:16:29,637 - EHR-QC - INFO - Columns: MCV - Mean corpuscular volume\n",
      "2023-11-09 12:16:30,104 - EHR-QC - INFO - Columns: MCHC - Mean corpuscular haemoglobin concentration\n",
      "2023-11-09 12:16:30,600 - EHR-QC - INFO - Columns: Albumin\n",
      "2023-11-09 12:16:30,991 - EHR-QC - INFO - Columns: MCH - Mean corpuscular haemoglobin\n",
      "2023-11-09 12:16:31,458 - EHR-QC - INFO - Columns: Serum alkaline phosphatase level\n",
      "2023-11-09 12:16:31,813 - EHR-QC - INFO - Columns: Aspartate aminotransferase measurement\n",
      "2023-11-09 12:16:32,173 - EHR-QC - INFO - Columns: Alanine aminotransferase\n",
      "2023-11-09 12:16:32,537 - EHR-QC - INFO - Columns: Total bilirubin level\n",
      "2023-11-09 12:16:32,899 - EHR-QC - INFO - Columns: White blood cell count\n",
      "2023-11-09 12:16:33,351 - EHR-QC - INFO - Columns: Red blood cell distribution width\n",
      "2023-11-09 12:16:33,805 - EHR-QC - INFO - Columns: Total protein measurement\n"
     ]
    },
    {
     "name": "stderr",
     "output_type": "stream",
     "text": [
      "/superbugai-data/yash/chapter_2/workspace/EHR-QC-Preprocess/ehrqc/plot/ExplorationGraphs.py:60: RuntimeWarning: More than 20 figures have been opened. Figures created through the pyplot interface (`matplotlib.pyplot.figure`) are retained until explicitly closed and may consume too much memory. (To control this warning, see the rcParam `figure.max_open_warning`). Consider using `matplotlib.pyplot.close()`.\n",
      "  fig, ax = plt.subplots()\n"
     ]
    },
    {
     "name": "stdout",
     "output_type": "stream",
     "text": [
      "2023-11-09 12:16:34,190 - EHR-QC - INFO - Columns: Glucose level\n",
      "2023-11-09 12:16:34,664 - EHR-QC - INFO - Columns: Bicarbonate level\n",
      "2023-11-09 12:16:35,146 - EHR-QC - INFO - Columns: Anion gap\n",
      "2023-11-09 12:16:35,603 - EHR-QC - INFO - Columns: Lactate\n",
      "2023-11-09 12:16:35,911 - EHR-QC - INFO - Columns: Lymph\n",
      "2023-11-09 12:16:36,296 - EHR-QC - INFO - Columns: Infectious mononucleosis test\n",
      "2023-11-09 12:16:36,686 - EHR-QC - INFO - Saving the exploration report!!\n",
      "2023-11-09 12:16:36,690 - EHR-QC - INFO - Done!!\n"
     ]
    },
    {
     "data": {
      "text/plain": [
       "0"
      ]
     },
     "execution_count": 15,
     "metadata": {},
     "output_type": "execute_result"
    }
   ],
   "source": [
    "import os\n",
    "\n",
    "\n",
    "os.system(\n",
    "    'cd ' + os.environ['EHR_QC_PREPROCESS_BASE'] + ';'\n",
    "    +\n",
    "    '''.venv/bin/python -m ehrqc.plot.ExplorationGraphs ''' + os.environ['EICU_EHR_PIPELINE_BASE'] + '''/data/extracts/labs_avg_episode_date.csv ''' + os.environ['EICU_EHR_PIPELINE_BASE'] + '''/data/plots/explore/labs_avg.html -c \"Sodium level\" \"Blood urea nitrogen\" \"Creatinine level\" \"Potassium level\" \"Chloride\" \"Hematocrit\" \"Haemoglobin estimation\" \"Platelet count\" \"Red blood cell count\" \"Calcium level\" \"MCV - Mean corpuscular volume\" \"MCHC - Mean corpuscular haemoglobin concentration\" \"Albumin\" \"MCH - Mean corpuscular haemoglobin\" \"Serum alkaline phosphatase level\" \"Aspartate aminotransferase measurement\" \"Alanine aminotransferase\" \"Total bilirubin level\" \"White blood cell count\" \"Red blood cell distribution width\" \"Total protein measurement\" \"Glucose level\" \"Bicarbonate level\" \"Anion gap\" \"Lactate\" \"Lymph\" \"Infectious mononucleosis test\"'''\n",
    "    )\n"
   ]
  },
  {
   "cell_type": "markdown",
   "metadata": {},
   "source": [
    "### min"
   ]
  },
  {
   "cell_type": "code",
   "execution_count": 16,
   "metadata": {},
   "outputs": [
    {
     "name": "stdout",
     "output_type": "stream",
     "text": [
      "2023-11-09 12:18:36,578 - EHR-QC - INFO - Parsing command line arguments\n",
      "2023-11-09 12:18:36,579 - EHR-QC - INFO - args.source_path: /home/yram0006/phd/chapter_2/workspace/eICU-EHR-Pipeline/data/extracts/labs_min_episode_date.csv\n",
      "2023-11-09 12:18:36,579 - EHR-QC - INFO - args.save_path: /home/yram0006/phd/chapter_2/workspace/eICU-EHR-Pipeline/data/plots/explore/labs_min.html\n",
      "2023-11-09 12:18:36,579 - EHR-QC - INFO - args.columns_list: ['Sodium level', 'Blood urea nitrogen', 'Creatinine level', 'Potassium level', 'Chloride', 'Hematocrit', 'Haemoglobin estimation', 'Platelet count', 'Red blood cell count', 'Calcium level', 'MCV - Mean corpuscular volume', 'MCHC - Mean corpuscular haemoglobin concentration', 'Albumin', 'MCH - Mean corpuscular haemoglobin', 'Serum alkaline phosphatase level', 'Aspartate aminotransferase measurement', 'Alanine aminotransferase', 'Total bilirubin level', 'White blood cell count', 'Red blood cell distribution width', 'Total protein measurement', 'Glucose level', 'Bicarbonate level', 'Anion gap', 'Lactate', 'Lymph', 'Infectious mononucleosis test']\n",
      "2023-11-09 12:18:36,784 - EHR-QC - INFO - Generating the exploration report\n",
      "2023-11-09 12:18:36,785 - EHR-QC - INFO - Columns: Sodium level\n",
      "2023-11-09 12:18:37,507 - EHR-QC - INFO - Columns: Blood urea nitrogen\n",
      "2023-11-09 12:18:37,994 - EHR-QC - INFO - Columns: Creatinine level\n",
      "2023-11-09 12:18:38,477 - EHR-QC - INFO - Columns: Potassium level\n",
      "2023-11-09 12:18:38,975 - EHR-QC - INFO - Columns: Chloride\n",
      "2023-11-09 12:18:39,467 - EHR-QC - INFO - Columns: Hematocrit\n",
      "2023-11-09 12:18:39,957 - EHR-QC - INFO - Columns: Haemoglobin estimation\n",
      "2023-11-09 12:18:40,513 - EHR-QC - INFO - Columns: Platelet count\n",
      "2023-11-09 12:18:40,987 - EHR-QC - INFO - Columns: Red blood cell count\n",
      "2023-11-09 12:18:41,472 - EHR-QC - INFO - Columns: Calcium level\n",
      "2023-11-09 12:18:41,970 - EHR-QC - INFO - Columns: MCV - Mean corpuscular volume\n",
      "2023-11-09 12:18:42,459 - EHR-QC - INFO - Columns: MCHC - Mean corpuscular haemoglobin concentration\n",
      "2023-11-09 12:18:42,946 - EHR-QC - INFO - Columns: Albumin\n",
      "2023-11-09 12:18:43,327 - EHR-QC - INFO - Columns: MCH - Mean corpuscular haemoglobin\n",
      "2023-11-09 12:18:43,794 - EHR-QC - INFO - Columns: Serum alkaline phosphatase level\n",
      "2023-11-09 12:18:44,150 - EHR-QC - INFO - Columns: Aspartate aminotransferase measurement\n",
      "2023-11-09 12:18:44,508 - EHR-QC - INFO - Columns: Alanine aminotransferase\n",
      "2023-11-09 12:18:44,872 - EHR-QC - INFO - Columns: Total bilirubin level\n",
      "2023-11-09 12:18:45,233 - EHR-QC - INFO - Columns: White blood cell count\n",
      "2023-11-09 12:18:45,688 - EHR-QC - INFO - Columns: Red blood cell distribution width\n",
      "2023-11-09 12:18:46,131 - EHR-QC - INFO - Columns: Total protein measurement\n"
     ]
    },
    {
     "name": "stderr",
     "output_type": "stream",
     "text": [
      "/superbugai-data/yash/chapter_2/workspace/EHR-QC-Preprocess/ehrqc/plot/ExplorationGraphs.py:60: RuntimeWarning: More than 20 figures have been opened. Figures created through the pyplot interface (`matplotlib.pyplot.figure`) are retained until explicitly closed and may consume too much memory. (To control this warning, see the rcParam `figure.max_open_warning`). Consider using `matplotlib.pyplot.close()`.\n",
      "  fig, ax = plt.subplots()\n"
     ]
    },
    {
     "name": "stdout",
     "output_type": "stream",
     "text": [
      "2023-11-09 12:18:46,498 - EHR-QC - INFO - Columns: Glucose level\n",
      "2023-11-09 12:18:46,953 - EHR-QC - INFO - Columns: Bicarbonate level\n",
      "2023-11-09 12:18:47,410 - EHR-QC - INFO - Columns: Anion gap\n",
      "2023-11-09 12:18:47,849 - EHR-QC - INFO - Columns: Lactate\n",
      "2023-11-09 12:18:48,149 - EHR-QC - INFO - Columns: Lymph\n",
      "2023-11-09 12:18:48,524 - EHR-QC - INFO - Columns: Infectious mononucleosis test\n",
      "2023-11-09 12:18:48,900 - EHR-QC - INFO - Saving the exploration report!!\n",
      "2023-11-09 12:18:48,904 - EHR-QC - INFO - Done!!\n"
     ]
    },
    {
     "data": {
      "text/plain": [
       "0"
      ]
     },
     "execution_count": 16,
     "metadata": {},
     "output_type": "execute_result"
    }
   ],
   "source": [
    "import os\n",
    "\n",
    "\n",
    "os.system(\n",
    "    'cd ' + os.environ['EHR_QC_PREPROCESS_BASE'] + ';'\n",
    "    +\n",
    "    '''.venv/bin/python -m ehrqc.plot.ExplorationGraphs ''' + os.environ['EICU_EHR_PIPELINE_BASE'] + '''/data/extracts/labs_min_episode_date.csv ''' + os.environ['EICU_EHR_PIPELINE_BASE'] + '''/data/plots/explore/labs_min.html -c \"Sodium level\" \"Blood urea nitrogen\" \"Creatinine level\" \"Potassium level\" \"Chloride\" \"Hematocrit\" \"Haemoglobin estimation\" \"Platelet count\" \"Red blood cell count\" \"Calcium level\" \"MCV - Mean corpuscular volume\" \"MCHC - Mean corpuscular haemoglobin concentration\" \"Albumin\" \"MCH - Mean corpuscular haemoglobin\" \"Serum alkaline phosphatase level\" \"Aspartate aminotransferase measurement\" \"Alanine aminotransferase\" \"Total bilirubin level\" \"White blood cell count\" \"Red blood cell distribution width\" \"Total protein measurement\" \"Glucose level\" \"Bicarbonate level\" \"Anion gap\" \"Lactate\" \"Lymph\" \"Infectious mononucleosis test\"'''\n",
    "    )\n"
   ]
  },
  {
   "cell_type": "markdown",
   "metadata": {},
   "source": [
    "### max"
   ]
  },
  {
   "cell_type": "code",
   "execution_count": 17,
   "metadata": {},
   "outputs": [
    {
     "name": "stdout",
     "output_type": "stream",
     "text": [
      "2023-11-09 12:18:49,923 - EHR-QC - INFO - Parsing command line arguments\n",
      "2023-11-09 12:18:49,924 - EHR-QC - INFO - args.source_path: /home/yram0006/phd/chapter_2/workspace/eICU-EHR-Pipeline/data/extracts/labs_max_episode_date.csv\n",
      "2023-11-09 12:18:49,924 - EHR-QC - INFO - args.save_path: /home/yram0006/phd/chapter_2/workspace/eICU-EHR-Pipeline/data/plots/explore/labs_max.html\n",
      "2023-11-09 12:18:49,924 - EHR-QC - INFO - args.columns_list: ['Sodium level', 'Blood urea nitrogen', 'Creatinine level', 'Potassium level', 'Chloride', 'Hematocrit', 'Haemoglobin estimation', 'Platelet count', 'Red blood cell count', 'Calcium level', 'MCV - Mean corpuscular volume', 'MCHC - Mean corpuscular haemoglobin concentration', 'Albumin', 'MCH - Mean corpuscular haemoglobin', 'Serum alkaline phosphatase level', 'Aspartate aminotransferase measurement', 'Alanine aminotransferase', 'Total bilirubin level', 'White blood cell count', 'Red blood cell distribution width', 'Total protein measurement', 'Glucose level', 'Bicarbonate level', 'Anion gap', 'Lactate', 'Lymph', 'Infectious mononucleosis test']\n",
      "2023-11-09 12:18:50,128 - EHR-QC - INFO - Generating the exploration report\n",
      "2023-11-09 12:18:50,128 - EHR-QC - INFO - Columns: Sodium level\n",
      "2023-11-09 12:18:50,868 - EHR-QC - INFO - Columns: Blood urea nitrogen\n",
      "2023-11-09 12:18:51,353 - EHR-QC - INFO - Columns: Creatinine level\n",
      "2023-11-09 12:18:51,853 - EHR-QC - INFO - Columns: Potassium level\n",
      "2023-11-09 12:18:52,357 - EHR-QC - INFO - Columns: Chloride\n",
      "2023-11-09 12:18:52,865 - EHR-QC - INFO - Columns: Hematocrit\n",
      "2023-11-09 12:18:53,465 - EHR-QC - INFO - Columns: Haemoglobin estimation\n",
      "2023-11-09 12:18:53,942 - EHR-QC - INFO - Columns: Platelet count\n",
      "2023-11-09 12:18:54,434 - EHR-QC - INFO - Columns: Red blood cell count\n",
      "2023-11-09 12:18:54,911 - EHR-QC - INFO - Columns: Calcium level\n",
      "2023-11-09 12:18:55,407 - EHR-QC - INFO - Columns: MCV - Mean corpuscular volume\n",
      "2023-11-09 12:18:55,870 - EHR-QC - INFO - Columns: MCHC - Mean corpuscular haemoglobin concentration\n",
      "2023-11-09 12:18:56,355 - EHR-QC - INFO - Columns: Albumin\n",
      "2023-11-09 12:18:56,736 - EHR-QC - INFO - Columns: MCH - Mean corpuscular haemoglobin\n",
      "2023-11-09 12:18:57,204 - EHR-QC - INFO - Columns: Serum alkaline phosphatase level\n",
      "2023-11-09 12:18:57,560 - EHR-QC - INFO - Columns: Aspartate aminotransferase measurement\n",
      "2023-11-09 12:18:57,925 - EHR-QC - INFO - Columns: Alanine aminotransferase\n",
      "2023-11-09 12:18:58,293 - EHR-QC - INFO - Columns: Total bilirubin level\n",
      "2023-11-09 12:18:58,661 - EHR-QC - INFO - Columns: White blood cell count\n",
      "2023-11-09 12:18:59,128 - EHR-QC - INFO - Columns: Red blood cell distribution width\n",
      "2023-11-09 12:18:59,585 - EHR-QC - INFO - Columns: Total protein measurement\n"
     ]
    },
    {
     "name": "stderr",
     "output_type": "stream",
     "text": [
      "/superbugai-data/yash/chapter_2/workspace/EHR-QC-Preprocess/ehrqc/plot/ExplorationGraphs.py:60: RuntimeWarning: More than 20 figures have been opened. Figures created through the pyplot interface (`matplotlib.pyplot.figure`) are retained until explicitly closed and may consume too much memory. (To control this warning, see the rcParam `figure.max_open_warning`). Consider using `matplotlib.pyplot.close()`.\n",
      "  fig, ax = plt.subplots()\n"
     ]
    },
    {
     "name": "stdout",
     "output_type": "stream",
     "text": [
      "2023-11-09 12:18:59,956 - EHR-QC - INFO - Columns: Glucose level\n",
      "2023-11-09 12:19:00,413 - EHR-QC - INFO - Columns: Bicarbonate level\n",
      "2023-11-09 12:19:00,880 - EHR-QC - INFO - Columns: Anion gap\n",
      "2023-11-09 12:19:01,323 - EHR-QC - INFO - Columns: Lactate\n",
      "2023-11-09 12:19:01,621 - EHR-QC - INFO - Columns: Lymph\n",
      "2023-11-09 12:19:02,000 - EHR-QC - INFO - Columns: Infectious mononucleosis test\n",
      "2023-11-09 12:19:02,384 - EHR-QC - INFO - Saving the exploration report!!\n",
      "2023-11-09 12:19:02,387 - EHR-QC - INFO - Done!!\n"
     ]
    },
    {
     "data": {
      "text/plain": [
       "0"
      ]
     },
     "execution_count": 17,
     "metadata": {},
     "output_type": "execute_result"
    }
   ],
   "source": [
    "import os\n",
    "\n",
    "\n",
    "os.system(\n",
    "    'cd ' + os.environ['EHR_QC_PREPROCESS_BASE'] + ';'\n",
    "    +\n",
    "    '''.venv/bin/python -m ehrqc.plot.ExplorationGraphs ''' + os.environ['EICU_EHR_PIPELINE_BASE'] + '''/data/extracts/labs_max_episode_date.csv ''' + os.environ['EICU_EHR_PIPELINE_BASE'] + '''/data/plots/explore/labs_max.html -c \"Sodium level\" \"Blood urea nitrogen\" \"Creatinine level\" \"Potassium level\" \"Chloride\" \"Hematocrit\" \"Haemoglobin estimation\" \"Platelet count\" \"Red blood cell count\" \"Calcium level\" \"MCV - Mean corpuscular volume\" \"MCHC - Mean corpuscular haemoglobin concentration\" \"Albumin\" \"MCH - Mean corpuscular haemoglobin\" \"Serum alkaline phosphatase level\" \"Aspartate aminotransferase measurement\" \"Alanine aminotransferase\" \"Total bilirubin level\" \"White blood cell count\" \"Red blood cell distribution width\" \"Total protein measurement\" \"Glucose level\" \"Bicarbonate level\" \"Anion gap\" \"Lactate\" \"Lymph\" \"Infectious mononucleosis test\"'''\n",
    "    )\n"
   ]
  },
  {
   "cell_type": "markdown",
   "metadata": {},
   "source": [
    "### stddev"
   ]
  },
  {
   "cell_type": "code",
   "execution_count": 21,
   "metadata": {},
   "outputs": [
    {
     "name": "stdout",
     "output_type": "stream",
     "text": [
      "2023-11-09 12:21:36,870 - EHR-QC - INFO - Parsing command line arguments\n",
      "2023-11-09 12:21:36,871 - EHR-QC - INFO - args.source_path: /home/yram0006/phd/chapter_2/workspace/eICU-EHR-Pipeline/data/extracts/labs_std_episode_date.csv\n",
      "2023-11-09 12:21:36,871 - EHR-QC - INFO - args.save_path: /home/yram0006/phd/chapter_2/workspace/eICU-EHR-Pipeline/data/plots/explore/labs_std.html\n",
      "2023-11-09 12:21:36,871 - EHR-QC - INFO - args.columns_list: ['Sodium level', 'Blood urea nitrogen', 'Creatinine level', 'Potassium level', 'Chloride', 'Hematocrit', 'Haemoglobin estimation', 'Platelet count', 'Red blood cell count', 'Calcium level', 'MCV - Mean corpuscular volume', 'MCHC - Mean corpuscular haemoglobin concentration', 'Albumin', 'MCH - Mean corpuscular haemoglobin', 'Serum alkaline phosphatase level', 'Aspartate aminotransferase measurement', 'Alanine aminotransferase', 'Total bilirubin level', 'White blood cell count', 'Red blood cell distribution width', 'Total protein measurement', 'Glucose level', 'Bicarbonate level', 'Anion gap', 'Lactate', 'Lymph', 'Infectious mononucleosis test']\n",
      "2023-11-09 12:21:37,013 - EHR-QC - INFO - Generating the exploration report\n",
      "2023-11-09 12:21:37,013 - EHR-QC - INFO - Columns: Sodium level\n",
      "2023-11-09 12:21:37,534 - EHR-QC - INFO - Columns: Blood urea nitrogen\n",
      "2023-11-09 12:21:37,831 - EHR-QC - INFO - Columns: Creatinine level\n",
      "2023-11-09 12:21:38,111 - EHR-QC - INFO - Columns: Potassium level\n",
      "2023-11-09 12:21:38,428 - EHR-QC - INFO - Columns: Chloride\n",
      "2023-11-09 12:21:38,713 - EHR-QC - INFO - Columns: Hematocrit\n",
      "2023-11-09 12:21:38,993 - EHR-QC - INFO - Columns: Haemoglobin estimation\n",
      "2023-11-09 12:21:39,331 - EHR-QC - INFO - Columns: Platelet count\n",
      "2023-11-09 12:21:39,605 - EHR-QC - INFO - Columns: Red blood cell count\n",
      "2023-11-09 12:21:39,877 - EHR-QC - INFO - Columns: Calcium level\n",
      "2023-11-09 12:21:40,176 - EHR-QC - INFO - Columns: MCV - Mean corpuscular volume\n",
      "2023-11-09 12:21:40,454 - EHR-QC - INFO - Columns: MCHC - Mean corpuscular haemoglobin concentration\n",
      "2023-11-09 12:21:40,762 - EHR-QC - INFO - Columns: Albumin\n",
      "2023-11-09 12:21:41,005 - EHR-QC - INFO - Columns: MCH - Mean corpuscular haemoglobin\n",
      "2023-11-09 12:21:41,275 - EHR-QC - INFO - Columns: Serum alkaline phosphatase level\n",
      "2023-11-09 12:21:41,527 - EHR-QC - INFO - Columns: Aspartate aminotransferase measurement\n",
      "2023-11-09 12:21:41,772 - EHR-QC - INFO - Columns: Alanine aminotransferase\n",
      "2023-11-09 12:21:42,013 - EHR-QC - INFO - Columns: Total bilirubin level\n",
      "2023-11-09 12:21:42,253 - EHR-QC - INFO - Columns: White blood cell count\n",
      "2023-11-09 12:21:42,522 - EHR-QC - INFO - Columns: Red blood cell distribution width\n",
      "2023-11-09 12:21:42,793 - EHR-QC - INFO - Columns: Total protein measurement\n"
     ]
    },
    {
     "name": "stderr",
     "output_type": "stream",
     "text": [
      "/superbugai-data/yash/chapter_2/workspace/EHR-QC-Preprocess/ehrqc/plot/ExplorationGraphs.py:60: RuntimeWarning: More than 20 figures have been opened. Figures created through the pyplot interface (`matplotlib.pyplot.figure`) are retained until explicitly closed and may consume too much memory. (To control this warning, see the rcParam `figure.max_open_warning`). Consider using `matplotlib.pyplot.close()`.\n",
      "  fig, ax = plt.subplots()\n"
     ]
    },
    {
     "name": "stdout",
     "output_type": "stream",
     "text": [
      "2023-11-09 12:21:43,041 - EHR-QC - INFO - Columns: Glucose level\n",
      "2023-11-09 12:21:43,330 - EHR-QC - INFO - Columns: Bicarbonate level\n",
      "2023-11-09 12:21:43,605 - EHR-QC - INFO - Columns: Anion gap\n",
      "2023-11-09 12:21:43,872 - EHR-QC - INFO - Columns: Lactate\n",
      "2023-11-09 12:21:44,128 - EHR-QC - INFO - Columns: Lymph\n",
      "2023-11-09 12:21:44,377 - EHR-QC - INFO - Columns: Infectious mononucleosis test\n",
      "2023-11-09 12:21:44,628 - EHR-QC - INFO - Saving the exploration report!!\n",
      "2023-11-09 12:21:44,631 - EHR-QC - INFO - Done!!\n"
     ]
    },
    {
     "data": {
      "text/plain": [
       "0"
      ]
     },
     "execution_count": 21,
     "metadata": {},
     "output_type": "execute_result"
    }
   ],
   "source": [
    "import os\n",
    "\n",
    "\n",
    "os.system(\n",
    "    'cd ' + os.environ['EHR_QC_PREPROCESS_BASE'] + ';'\n",
    "    +\n",
    "    '''.venv/bin/python -m ehrqc.plot.ExplorationGraphs ''' + os.environ['EICU_EHR_PIPELINE_BASE'] + '''/data/extracts/labs_std_episode_date.csv ''' + os.environ['EICU_EHR_PIPELINE_BASE'] + '''/data/plots/explore/labs_std.html -c \"Sodium level\" \"Blood urea nitrogen\" \"Creatinine level\" \"Potassium level\" \"Chloride\" \"Hematocrit\" \"Haemoglobin estimation\" \"Platelet count\" \"Red blood cell count\" \"Calcium level\" \"MCV - Mean corpuscular volume\" \"MCHC - Mean corpuscular haemoglobin concentration\" \"Albumin\" \"MCH - Mean corpuscular haemoglobin\" \"Serum alkaline phosphatase level\" \"Aspartate aminotransferase measurement\" \"Alanine aminotransferase\" \"Total bilirubin level\" \"White blood cell count\" \"Red blood cell distribution width\" \"Total protein measurement\" \"Glucose level\" \"Bicarbonate level\" \"Anion gap\" \"Lactate\" \"Lymph\" \"Infectious mononucleosis test\"'''\n",
    "    )\n"
   ]
  },
  {
   "cell_type": "markdown",
   "metadata": {},
   "source": [
    "### first"
   ]
  },
  {
   "cell_type": "code",
   "execution_count": 22,
   "metadata": {},
   "outputs": [
    {
     "name": "stdout",
     "output_type": "stream",
     "text": [
      "2023-11-09 12:21:45,610 - EHR-QC - INFO - Parsing command line arguments\n",
      "2023-11-09 12:21:45,611 - EHR-QC - INFO - args.source_path: /home/yram0006/phd/chapter_2/workspace/eICU-EHR-Pipeline/data/extracts/labs_first_episode_date.csv\n",
      "2023-11-09 12:21:45,611 - EHR-QC - INFO - args.save_path: /home/yram0006/phd/chapter_2/workspace/eICU-EHR-Pipeline/data/plots/explore/labs_first.html\n",
      "2023-11-09 12:21:45,611 - EHR-QC - INFO - args.columns_list: ['Sodium level', 'Blood urea nitrogen', 'Creatinine level', 'Potassium level', 'Chloride', 'Hematocrit', 'Haemoglobin estimation', 'Platelet count', 'Red blood cell count', 'Calcium level', 'MCV - Mean corpuscular volume', 'MCHC - Mean corpuscular haemoglobin concentration', 'Albumin', 'MCH - Mean corpuscular haemoglobin', 'Serum alkaline phosphatase level', 'Aspartate aminotransferase measurement', 'Alanine aminotransferase', 'Total bilirubin level', 'White blood cell count', 'Red blood cell distribution width', 'Total protein measurement', 'Glucose level', 'Bicarbonate level', 'Anion gap', 'Lactate', 'Lymph', 'Infectious mononucleosis test']\n",
      "2023-11-09 12:21:45,802 - EHR-QC - INFO - Generating the exploration report\n",
      "2023-11-09 12:21:45,802 - EHR-QC - INFO - Columns: Sodium level\n",
      "2023-11-09 12:21:46,493 - EHR-QC - INFO - Columns: Blood urea nitrogen\n",
      "2023-11-09 12:21:46,992 - EHR-QC - INFO - Columns: Creatinine level\n",
      "2023-11-09 12:21:47,488 - EHR-QC - INFO - Columns: Potassium level\n",
      "2023-11-09 12:21:47,999 - EHR-QC - INFO - Columns: Chloride\n",
      "2023-11-09 12:21:48,499 - EHR-QC - INFO - Columns: Hematocrit\n",
      "2023-11-09 12:21:49,089 - EHR-QC - INFO - Columns: Haemoglobin estimation\n",
      "2023-11-09 12:21:49,567 - EHR-QC - INFO - Columns: Platelet count\n",
      "2023-11-09 12:21:50,050 - EHR-QC - INFO - Columns: Red blood cell count\n",
      "2023-11-09 12:21:50,530 - EHR-QC - INFO - Columns: Calcium level\n",
      "2023-11-09 12:21:51,033 - EHR-QC - INFO - Columns: MCV - Mean corpuscular volume\n",
      "2023-11-09 12:21:51,504 - EHR-QC - INFO - Columns: MCHC - Mean corpuscular haemoglobin concentration\n",
      "2023-11-09 12:21:52,010 - EHR-QC - INFO - Columns: Albumin\n",
      "2023-11-09 12:21:52,399 - EHR-QC - INFO - Columns: MCH - Mean corpuscular haemoglobin\n",
      "2023-11-09 12:21:52,894 - EHR-QC - INFO - Columns: Serum alkaline phosphatase level\n",
      "2023-11-09 12:21:53,267 - EHR-QC - INFO - Columns: Aspartate aminotransferase measurement\n",
      "2023-11-09 12:21:53,632 - EHR-QC - INFO - Columns: Alanine aminotransferase\n",
      "2023-11-09 12:21:54,037 - EHR-QC - INFO - Columns: Total bilirubin level\n",
      "2023-11-09 12:21:54,413 - EHR-QC - INFO - Columns: White blood cell count\n",
      "2023-11-09 12:21:54,865 - EHR-QC - INFO - Columns: Red blood cell distribution width\n",
      "2023-11-09 12:21:55,311 - EHR-QC - INFO - Columns: Total protein measurement\n"
     ]
    },
    {
     "name": "stderr",
     "output_type": "stream",
     "text": [
      "/superbugai-data/yash/chapter_2/workspace/EHR-QC-Preprocess/ehrqc/plot/ExplorationGraphs.py:60: RuntimeWarning: More than 20 figures have been opened. Figures created through the pyplot interface (`matplotlib.pyplot.figure`) are retained until explicitly closed and may consume too much memory. (To control this warning, see the rcParam `figure.max_open_warning`). Consider using `matplotlib.pyplot.close()`.\n",
      "  fig, ax = plt.subplots()\n"
     ]
    },
    {
     "name": "stdout",
     "output_type": "stream",
     "text": [
      "2023-11-09 12:21:55,689 - EHR-QC - INFO - Columns: Glucose level\n",
      "2023-11-09 12:21:56,141 - EHR-QC - INFO - Columns: Bicarbonate level\n",
      "2023-11-09 12:21:56,607 - EHR-QC - INFO - Columns: Anion gap\n",
      "2023-11-09 12:21:57,046 - EHR-QC - INFO - Columns: Lactate\n",
      "2023-11-09 12:21:57,344 - EHR-QC - INFO - Columns: Lymph\n",
      "2023-11-09 12:21:57,724 - EHR-QC - INFO - Columns: Infectious mononucleosis test\n",
      "2023-11-09 12:21:58,098 - EHR-QC - INFO - Saving the exploration report!!\n",
      "2023-11-09 12:21:58,102 - EHR-QC - INFO - Done!!\n"
     ]
    },
    {
     "data": {
      "text/plain": [
       "0"
      ]
     },
     "execution_count": 22,
     "metadata": {},
     "output_type": "execute_result"
    }
   ],
   "source": [
    "import os\n",
    "\n",
    "\n",
    "os.system(\n",
    "    'cd ' + os.environ['EHR_QC_PREPROCESS_BASE'] + ';'\n",
    "    +\n",
    "    '''.venv/bin/python -m ehrqc.plot.ExplorationGraphs ''' + os.environ['EICU_EHR_PIPELINE_BASE'] + '''/data/extracts/labs_first_episode_date.csv ''' + os.environ['EICU_EHR_PIPELINE_BASE'] + '''/data/plots/explore/labs_first.html -c \"Sodium level\" \"Blood urea nitrogen\" \"Creatinine level\" \"Potassium level\" \"Chloride\" \"Hematocrit\" \"Haemoglobin estimation\" \"Platelet count\" \"Red blood cell count\" \"Calcium level\" \"MCV - Mean corpuscular volume\" \"MCHC - Mean corpuscular haemoglobin concentration\" \"Albumin\" \"MCH - Mean corpuscular haemoglobin\" \"Serum alkaline phosphatase level\" \"Aspartate aminotransferase measurement\" \"Alanine aminotransferase\" \"Total bilirubin level\" \"White blood cell count\" \"Red blood cell distribution width\" \"Total protein measurement\" \"Glucose level\" \"Bicarbonate level\" \"Anion gap\" \"Lactate\" \"Lymph\" \"Infectious mononucleosis test\"'''\n",
    "    )\n"
   ]
  },
  {
   "cell_type": "markdown",
   "metadata": {},
   "source": [
    "### last"
   ]
  },
  {
   "cell_type": "code",
   "execution_count": 23,
   "metadata": {},
   "outputs": [
    {
     "name": "stdout",
     "output_type": "stream",
     "text": [
      "2023-11-09 12:21:58,978 - EHR-QC - INFO - Parsing command line arguments\n",
      "2023-11-09 12:21:58,979 - EHR-QC - INFO - args.source_path: /home/yram0006/phd/chapter_2/workspace/eICU-EHR-Pipeline/data/extracts/labs_last_episode_date.csv\n",
      "2023-11-09 12:21:58,979 - EHR-QC - INFO - args.save_path: /home/yram0006/phd/chapter_2/workspace/eICU-EHR-Pipeline/data/plots/explore/labs_last.html\n",
      "2023-11-09 12:21:58,979 - EHR-QC - INFO - args.columns_list: ['Sodium level', 'Blood urea nitrogen', 'Creatinine level', 'Potassium level', 'Chloride', 'Hematocrit', 'Haemoglobin estimation', 'Platelet count', 'Red blood cell count', 'Calcium level', 'MCV - Mean corpuscular volume', 'MCHC - Mean corpuscular haemoglobin concentration', 'Albumin', 'MCH - Mean corpuscular haemoglobin', 'Serum alkaline phosphatase level', 'Aspartate aminotransferase measurement', 'Alanine aminotransferase', 'Total bilirubin level', 'White blood cell count', 'Red blood cell distribution width', 'Total protein measurement', 'Glucose level', 'Bicarbonate level', 'Anion gap', 'Lactate', 'Lymph', 'Infectious mononucleosis test']\n",
      "2023-11-09 12:21:59,190 - EHR-QC - INFO - Generating the exploration report\n",
      "2023-11-09 12:21:59,190 - EHR-QC - INFO - Columns: Sodium level\n",
      "2023-11-09 12:21:59,910 - EHR-QC - INFO - Columns: Blood urea nitrogen\n",
      "2023-11-09 12:22:00,395 - EHR-QC - INFO - Columns: Creatinine level\n",
      "2023-11-09 12:22:00,873 - EHR-QC - INFO - Columns: Potassium level\n",
      "2023-11-09 12:22:01,372 - EHR-QC - INFO - Columns: Chloride\n",
      "2023-11-09 12:22:01,866 - EHR-QC - INFO - Columns: Hematocrit\n",
      "2023-11-09 12:22:02,351 - EHR-QC - INFO - Columns: Haemoglobin estimation\n",
      "2023-11-09 12:22:02,925 - EHR-QC - INFO - Columns: Platelet count\n",
      "2023-11-09 12:22:03,400 - EHR-QC - INFO - Columns: Red blood cell count\n",
      "2023-11-09 12:22:03,878 - EHR-QC - INFO - Columns: Calcium level\n",
      "2023-11-09 12:22:04,369 - EHR-QC - INFO - Columns: MCV - Mean corpuscular volume\n",
      "2023-11-09 12:22:04,834 - EHR-QC - INFO - Columns: MCHC - Mean corpuscular haemoglobin concentration\n",
      "2023-11-09 12:22:05,319 - EHR-QC - INFO - Columns: Albumin\n",
      "2023-11-09 12:22:05,709 - EHR-QC - INFO - Columns: MCH - Mean corpuscular haemoglobin\n",
      "2023-11-09 12:22:06,182 - EHR-QC - INFO - Columns: Serum alkaline phosphatase level\n",
      "2023-11-09 12:22:06,542 - EHR-QC - INFO - Columns: Aspartate aminotransferase measurement\n",
      "2023-11-09 12:22:06,907 - EHR-QC - INFO - Columns: Alanine aminotransferase\n",
      "2023-11-09 12:22:07,288 - EHR-QC - INFO - Columns: Total bilirubin level\n",
      "2023-11-09 12:22:07,679 - EHR-QC - INFO - Columns: White blood cell count\n",
      "2023-11-09 12:22:08,135 - EHR-QC - INFO - Columns: Red blood cell distribution width\n",
      "2023-11-09 12:22:08,580 - EHR-QC - INFO - Columns: Total protein measurement\n"
     ]
    },
    {
     "name": "stderr",
     "output_type": "stream",
     "text": [
      "/superbugai-data/yash/chapter_2/workspace/EHR-QC-Preprocess/ehrqc/plot/ExplorationGraphs.py:60: RuntimeWarning: More than 20 figures have been opened. Figures created through the pyplot interface (`matplotlib.pyplot.figure`) are retained until explicitly closed and may consume too much memory. (To control this warning, see the rcParam `figure.max_open_warning`). Consider using `matplotlib.pyplot.close()`.\n",
      "  fig, ax = plt.subplots()\n"
     ]
    },
    {
     "name": "stdout",
     "output_type": "stream",
     "text": [
      "2023-11-09 12:22:08,954 - EHR-QC - INFO - Columns: Glucose level\n",
      "2023-11-09 12:22:09,409 - EHR-QC - INFO - Columns: Bicarbonate level\n",
      "2023-11-09 12:22:09,869 - EHR-QC - INFO - Columns: Anion gap\n",
      "2023-11-09 12:22:10,305 - EHR-QC - INFO - Columns: Lactate\n",
      "2023-11-09 12:22:10,599 - EHR-QC - INFO - Columns: Lymph\n",
      "2023-11-09 12:22:10,977 - EHR-QC - INFO - Columns: Infectious mononucleosis test\n",
      "2023-11-09 12:22:11,351 - EHR-QC - INFO - Saving the exploration report!!\n",
      "2023-11-09 12:22:11,353 - EHR-QC - INFO - Done!!\n"
     ]
    },
    {
     "data": {
      "text/plain": [
       "0"
      ]
     },
     "execution_count": 23,
     "metadata": {},
     "output_type": "execute_result"
    }
   ],
   "source": [
    "import os\n",
    "\n",
    "\n",
    "os.system(\n",
    "    'cd ' + os.environ['EHR_QC_PREPROCESS_BASE'] + ';'\n",
    "    +\n",
    "    '''.venv/bin/python -m ehrqc.plot.ExplorationGraphs ''' + os.environ['EICU_EHR_PIPELINE_BASE'] + '''/data/extracts/labs_last_episode_date.csv ''' + os.environ['EICU_EHR_PIPELINE_BASE'] + '''/data/plots/explore/labs_last.html -c \"Sodium level\" \"Blood urea nitrogen\" \"Creatinine level\" \"Potassium level\" \"Chloride\" \"Hematocrit\" \"Haemoglobin estimation\" \"Platelet count\" \"Red blood cell count\" \"Calcium level\" \"MCV - Mean corpuscular volume\" \"MCHC - Mean corpuscular haemoglobin concentration\" \"Albumin\" \"MCH - Mean corpuscular haemoglobin\" \"Serum alkaline phosphatase level\" \"Aspartate aminotransferase measurement\" \"Alanine aminotransferase\" \"Total bilirubin level\" \"White blood cell count\" \"Red blood cell distribution width\" \"Total protein measurement\" \"Glucose level\" \"Bicarbonate level\" \"Anion gap\" \"Lactate\" \"Lymph\" \"Infectious mononucleosis test\"'''\n",
    "    )\n"
   ]
  }
 ],
 "metadata": {
  "kernelspec": {
   "display_name": ".venv",
   "language": "python",
   "name": "python3"
  },
  "language_info": {
   "codemirror_mode": {
    "name": "ipython",
    "version": 3
   },
   "file_extension": ".py",
   "mimetype": "text/x-python",
   "name": "python",
   "nbconvert_exporter": "python",
   "pygments_lexer": "ipython3",
   "version": "3.8.10"
  }
 },
 "nbformat": 4,
 "nbformat_minor": 2
}
